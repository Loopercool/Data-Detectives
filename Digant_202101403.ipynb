{
  "cells": [
    {
      "cell_type": "markdown",
      "metadata": {
        "id": "view-in-github",
        "colab_type": "text"
      },
      "source": [
        "<a href=\"https://colab.research.google.com/github/Loopercool/Data-Detectives/blob/main/Digant_202101403.ipynb\" target=\"_parent\"><img src=\"https://colab.research.google.com/assets/colab-badge.svg\" alt=\"Open In Colab\"/></a>"
      ]
    },
    {
      "cell_type": "code",
      "execution_count": null,
      "metadata": {
        "id": "2v1OblZTDcT6"
      },
      "outputs": [],
      "source": [
        "import numpy as np\n",
        "import pandas as pd\n",
        "import seaborn as sns\n",
        "import matplotlib.pyplot as plt\n",
        "\n",
        "import datetime\n",
        "import math\n",
        "from sklearn import preprocessing\n",
        "import random\n",
        "import string\n",
        "\n",
        "import pytz\n",
        "from datetime import datetime\n",
        "from sklearn.impute import KNNImputer"
      ]
    },
    {
      "cell_type": "code",
      "execution_count": null,
      "metadata": {
        "colab": {
          "base_uri": "https://localhost:8080/"
        },
        "id": "BIz5wy3AeeQ0",
        "outputId": "286ad6b9-1a80-4a31-e0e7-36645bbedb01"
      },
      "outputs": [
        {
          "output_type": "stream",
          "name": "stdout",
          "text": [
            "Mounted at /content/drive\n"
          ]
        }
      ],
      "source": [
        "from google.colab import drive\n",
        "drive.mount('/content/drive')"
      ]
    },
    {
      "cell_type": "code",
      "execution_count": null,
      "metadata": {
        "colab": {
          "base_uri": "https://localhost:8080/",
          "height": 193
        },
        "id": "rm9dY5zsf1VG",
        "outputId": "e11a4d49-0430-44eb-8237-77ad985fe8e9"
      },
      "outputs": [
        {
          "output_type": "error",
          "ename": "NameError",
          "evalue": "ignored",
          "traceback": [
            "\u001b[0;31m---------------------------------------------------------------------------\u001b[0m",
            "\u001b[0;31mNameError\u001b[0m                                 Traceback (most recent call last)",
            "\u001b[0;32m<ipython-input-2-1be922dcfe4c>\u001b[0m in \u001b[0;36m<cell line: 1>\u001b[0;34m()\u001b[0m\n\u001b[0;32m----> 1\u001b[0;31m \u001b[0mdf\u001b[0m \u001b[0;34m=\u001b[0m \u001b[0mpd\u001b[0m\u001b[0;34m.\u001b[0m\u001b[0mread_csv\u001b[0m\u001b[0;34m(\u001b[0m\u001b[0;34m'/content/drive/MyDrive/data_mining/Project/dataset/EVChargingStationUsage.csv'\u001b[0m\u001b[0;34m)\u001b[0m\u001b[0;34m\u001b[0m\u001b[0;34m\u001b[0m\u001b[0m\n\u001b[0m\u001b[1;32m      2\u001b[0m \u001b[0mdf\u001b[0m\u001b[0;34m.\u001b[0m\u001b[0mhead\u001b[0m\u001b[0;34m(\u001b[0m\u001b[0;34m)\u001b[0m\u001b[0;34m\u001b[0m\u001b[0;34m\u001b[0m\u001b[0m\n",
            "\u001b[0;31mNameError\u001b[0m: name 'pd' is not defined"
          ]
        }
      ],
      "source": [
        "df = pd.read_csv('/content/drive/MyDrive/data_mining/Project/dataset/EVChargingStationUsage.csv')\n",
        "df.head()"
      ]
    },
    {
      "cell_type": "code",
      "source": [
        "df = df.dropna(subset=['Ended By'])"
      ],
      "metadata": {
        "id": "-BWvqQG_qm5E"
      },
      "execution_count": null,
      "outputs": []
    },
    {
      "cell_type": "code",
      "execution_count": null,
      "metadata": {
        "colab": {
          "base_uri": "https://localhost:8080/"
        },
        "id": "cYARLVbHgC-9",
        "outputId": "f5224dff-ccd9-4e87-aea8-05ef0648035e"
      },
      "outputs": [
        {
          "output_type": "stream",
          "name": "stdout",
          "text": [
            "Index(['Station Name', 'MAC Address', 'Org Name', 'Start Date',\n",
            "       'Start Time Zone', 'End Date', 'End Time Zone',\n",
            "       'Transaction Date (Pacific Time)', 'Total Duration (hh:mm:ss)',\n",
            "       'Charging Time (hh:mm:ss)', 'Energy (kWh)', 'GHG Savings (kg)',\n",
            "       'Gasoline Savings (gallons)', 'Port Type', 'Port Number', 'Plug Type',\n",
            "       'EVSE ID', 'Address 1', 'City', 'State/Province', 'Postal Code',\n",
            "       'Country', 'Latitude', 'Longitude', 'Currency', 'Fee', 'Ended By',\n",
            "       'Plug In Event Id', 'Driver Postal Code', 'User ID', 'County',\n",
            "       'System S/N', 'Model Number'],\n",
            "      dtype='object')\n"
          ]
        }
      ],
      "source": [
        "print(df.columns)"
      ]
    },
    {
      "cell_type": "code",
      "execution_count": null,
      "metadata": {
        "colab": {
          "base_uri": "https://localhost:8080/",
          "height": 354
        },
        "id": "DuFkVSGhg2OM",
        "outputId": "09c56229-daec-44fc-9710-0666251dc9d8"
      },
      "outputs": [
        {
          "output_type": "execute_result",
          "data": {
            "text/plain": [
              "        Energy (kWh)  GHG Savings (kg)  Gasoline Savings (gallons)  \\\n",
              "count  259415.000000     259415.000000               259415.000000   \n",
              "mean        8.544277          3.588596                    1.072306   \n",
              "std         7.185462          3.017894                    0.901776   \n",
              "min         0.010000          0.004000                    0.001000   \n",
              "25%         3.784000          1.589000                    0.475000   \n",
              "50%         6.868634          2.885000                    0.862000   \n",
              "75%        11.458340          4.813000                    1.438000   \n",
              "max        97.360000         40.891000                   12.219000   \n",
              "\n",
              "         Port Number       EVSE ID    Postal Code       Latitude  \\\n",
              "count  259415.000000  1.804670e+05  259415.000000  259415.000000   \n",
              "mean        1.591627  1.462973e+05   94302.315768      37.439565   \n",
              "std         0.491534  2.429677e+05       1.941657       0.009621   \n",
              "min         1.000000  3.792000e+03   94301.000000      37.422104   \n",
              "25%         1.000000  4.358300e+04   94301.000000      37.428318   \n",
              "50%         2.000000  1.074270e+05   94301.000000      37.444489   \n",
              "75%         2.000000  1.745590e+05   94303.000000      37.446613   \n",
              "max         2.000000  5.535441e+06   94306.000000      37.449375   \n",
              "\n",
              "           Longitude            Fee  Plug In Event Id  Driver Postal Code  \\\n",
              "count  259415.000000  259415.000000      2.594150e+05       251013.000000   \n",
              "mean     -122.151264       1.097481      1.188685e+08        94170.308255   \n",
              "std         0.015382       1.934408      4.057750e+08         4249.837126   \n",
              "min      -122.163239       0.000000      1.000000e+00         1013.000000   \n",
              "25%      -122.162170       0.000000      1.573000e+03        94087.000000   \n",
              "50%      -122.158272       0.000000      3.573000e+03        94304.000000   \n",
              "75%      -122.145699       1.640000      6.340000e+03        94804.000000   \n",
              "max      -122.112480      84.560000      1.609436e+09        99354.000000   \n",
              "\n",
              "         System S/N  \n",
              "count  1.804670e+05  \n",
              "mean   1.443790e+11  \n",
              "std    2.483280e+10  \n",
              "min    1.023100e+11  \n",
              "25%    1.231100e+11  \n",
              "50%    1.427410e+11  \n",
              "75%    1.705410e+11  \n",
              "max    2.002410e+11  "
            ],
            "text/html": [
              "\n",
              "  <div id=\"df-8c4b00d9-b18e-4268-a444-e4234ad299c0\" class=\"colab-df-container\">\n",
              "    <div>\n",
              "<style scoped>\n",
              "    .dataframe tbody tr th:only-of-type {\n",
              "        vertical-align: middle;\n",
              "    }\n",
              "\n",
              "    .dataframe tbody tr th {\n",
              "        vertical-align: top;\n",
              "    }\n",
              "\n",
              "    .dataframe thead th {\n",
              "        text-align: right;\n",
              "    }\n",
              "</style>\n",
              "<table border=\"1\" class=\"dataframe\">\n",
              "  <thead>\n",
              "    <tr style=\"text-align: right;\">\n",
              "      <th></th>\n",
              "      <th>Energy (kWh)</th>\n",
              "      <th>GHG Savings (kg)</th>\n",
              "      <th>Gasoline Savings (gallons)</th>\n",
              "      <th>Port Number</th>\n",
              "      <th>EVSE ID</th>\n",
              "      <th>Postal Code</th>\n",
              "      <th>Latitude</th>\n",
              "      <th>Longitude</th>\n",
              "      <th>Fee</th>\n",
              "      <th>Plug In Event Id</th>\n",
              "      <th>Driver Postal Code</th>\n",
              "      <th>System S/N</th>\n",
              "    </tr>\n",
              "  </thead>\n",
              "  <tbody>\n",
              "    <tr>\n",
              "      <th>count</th>\n",
              "      <td>259415.000000</td>\n",
              "      <td>259415.000000</td>\n",
              "      <td>259415.000000</td>\n",
              "      <td>259415.000000</td>\n",
              "      <td>1.804670e+05</td>\n",
              "      <td>259415.000000</td>\n",
              "      <td>259415.000000</td>\n",
              "      <td>259415.000000</td>\n",
              "      <td>259415.000000</td>\n",
              "      <td>2.594150e+05</td>\n",
              "      <td>251013.000000</td>\n",
              "      <td>1.804670e+05</td>\n",
              "    </tr>\n",
              "    <tr>\n",
              "      <th>mean</th>\n",
              "      <td>8.544277</td>\n",
              "      <td>3.588596</td>\n",
              "      <td>1.072306</td>\n",
              "      <td>1.591627</td>\n",
              "      <td>1.462973e+05</td>\n",
              "      <td>94302.315768</td>\n",
              "      <td>37.439565</td>\n",
              "      <td>-122.151264</td>\n",
              "      <td>1.097481</td>\n",
              "      <td>1.188685e+08</td>\n",
              "      <td>94170.308255</td>\n",
              "      <td>1.443790e+11</td>\n",
              "    </tr>\n",
              "    <tr>\n",
              "      <th>std</th>\n",
              "      <td>7.185462</td>\n",
              "      <td>3.017894</td>\n",
              "      <td>0.901776</td>\n",
              "      <td>0.491534</td>\n",
              "      <td>2.429677e+05</td>\n",
              "      <td>1.941657</td>\n",
              "      <td>0.009621</td>\n",
              "      <td>0.015382</td>\n",
              "      <td>1.934408</td>\n",
              "      <td>4.057750e+08</td>\n",
              "      <td>4249.837126</td>\n",
              "      <td>2.483280e+10</td>\n",
              "    </tr>\n",
              "    <tr>\n",
              "      <th>min</th>\n",
              "      <td>0.010000</td>\n",
              "      <td>0.004000</td>\n",
              "      <td>0.001000</td>\n",
              "      <td>1.000000</td>\n",
              "      <td>3.792000e+03</td>\n",
              "      <td>94301.000000</td>\n",
              "      <td>37.422104</td>\n",
              "      <td>-122.163239</td>\n",
              "      <td>0.000000</td>\n",
              "      <td>1.000000e+00</td>\n",
              "      <td>1013.000000</td>\n",
              "      <td>1.023100e+11</td>\n",
              "    </tr>\n",
              "    <tr>\n",
              "      <th>25%</th>\n",
              "      <td>3.784000</td>\n",
              "      <td>1.589000</td>\n",
              "      <td>0.475000</td>\n",
              "      <td>1.000000</td>\n",
              "      <td>4.358300e+04</td>\n",
              "      <td>94301.000000</td>\n",
              "      <td>37.428318</td>\n",
              "      <td>-122.162170</td>\n",
              "      <td>0.000000</td>\n",
              "      <td>1.573000e+03</td>\n",
              "      <td>94087.000000</td>\n",
              "      <td>1.231100e+11</td>\n",
              "    </tr>\n",
              "    <tr>\n",
              "      <th>50%</th>\n",
              "      <td>6.868634</td>\n",
              "      <td>2.885000</td>\n",
              "      <td>0.862000</td>\n",
              "      <td>2.000000</td>\n",
              "      <td>1.074270e+05</td>\n",
              "      <td>94301.000000</td>\n",
              "      <td>37.444489</td>\n",
              "      <td>-122.158272</td>\n",
              "      <td>0.000000</td>\n",
              "      <td>3.573000e+03</td>\n",
              "      <td>94304.000000</td>\n",
              "      <td>1.427410e+11</td>\n",
              "    </tr>\n",
              "    <tr>\n",
              "      <th>75%</th>\n",
              "      <td>11.458340</td>\n",
              "      <td>4.813000</td>\n",
              "      <td>1.438000</td>\n",
              "      <td>2.000000</td>\n",
              "      <td>1.745590e+05</td>\n",
              "      <td>94303.000000</td>\n",
              "      <td>37.446613</td>\n",
              "      <td>-122.145699</td>\n",
              "      <td>1.640000</td>\n",
              "      <td>6.340000e+03</td>\n",
              "      <td>94804.000000</td>\n",
              "      <td>1.705410e+11</td>\n",
              "    </tr>\n",
              "    <tr>\n",
              "      <th>max</th>\n",
              "      <td>97.360000</td>\n",
              "      <td>40.891000</td>\n",
              "      <td>12.219000</td>\n",
              "      <td>2.000000</td>\n",
              "      <td>5.535441e+06</td>\n",
              "      <td>94306.000000</td>\n",
              "      <td>37.449375</td>\n",
              "      <td>-122.112480</td>\n",
              "      <td>84.560000</td>\n",
              "      <td>1.609436e+09</td>\n",
              "      <td>99354.000000</td>\n",
              "      <td>2.002410e+11</td>\n",
              "    </tr>\n",
              "  </tbody>\n",
              "</table>\n",
              "</div>\n",
              "    <div class=\"colab-df-buttons\">\n",
              "\n",
              "  <div class=\"colab-df-container\">\n",
              "    <button class=\"colab-df-convert\" onclick=\"convertToInteractive('df-8c4b00d9-b18e-4268-a444-e4234ad299c0')\"\n",
              "            title=\"Convert this dataframe to an interactive table.\"\n",
              "            style=\"display:none;\">\n",
              "\n",
              "  <svg xmlns=\"http://www.w3.org/2000/svg\" height=\"24px\" viewBox=\"0 -960 960 960\">\n",
              "    <path d=\"M120-120v-720h720v720H120Zm60-500h600v-160H180v160Zm220 220h160v-160H400v160Zm0 220h160v-160H400v160ZM180-400h160v-160H180v160Zm440 0h160v-160H620v160ZM180-180h160v-160H180v160Zm440 0h160v-160H620v160Z\"/>\n",
              "  </svg>\n",
              "    </button>\n",
              "\n",
              "  <style>\n",
              "    .colab-df-container {\n",
              "      display:flex;\n",
              "      gap: 12px;\n",
              "    }\n",
              "\n",
              "    .colab-df-convert {\n",
              "      background-color: #E8F0FE;\n",
              "      border: none;\n",
              "      border-radius: 50%;\n",
              "      cursor: pointer;\n",
              "      display: none;\n",
              "      fill: #1967D2;\n",
              "      height: 32px;\n",
              "      padding: 0 0 0 0;\n",
              "      width: 32px;\n",
              "    }\n",
              "\n",
              "    .colab-df-convert:hover {\n",
              "      background-color: #E2EBFA;\n",
              "      box-shadow: 0px 1px 2px rgba(60, 64, 67, 0.3), 0px 1px 3px 1px rgba(60, 64, 67, 0.15);\n",
              "      fill: #174EA6;\n",
              "    }\n",
              "\n",
              "    .colab-df-buttons div {\n",
              "      margin-bottom: 4px;\n",
              "    }\n",
              "\n",
              "    [theme=dark] .colab-df-convert {\n",
              "      background-color: #3B4455;\n",
              "      fill: #D2E3FC;\n",
              "    }\n",
              "\n",
              "    [theme=dark] .colab-df-convert:hover {\n",
              "      background-color: #434B5C;\n",
              "      box-shadow: 0px 1px 3px 1px rgba(0, 0, 0, 0.15);\n",
              "      filter: drop-shadow(0px 1px 2px rgba(0, 0, 0, 0.3));\n",
              "      fill: #FFFFFF;\n",
              "    }\n",
              "  </style>\n",
              "\n",
              "    <script>\n",
              "      const buttonEl =\n",
              "        document.querySelector('#df-8c4b00d9-b18e-4268-a444-e4234ad299c0 button.colab-df-convert');\n",
              "      buttonEl.style.display =\n",
              "        google.colab.kernel.accessAllowed ? 'block' : 'none';\n",
              "\n",
              "      async function convertToInteractive(key) {\n",
              "        const element = document.querySelector('#df-8c4b00d9-b18e-4268-a444-e4234ad299c0');\n",
              "        const dataTable =\n",
              "          await google.colab.kernel.invokeFunction('convertToInteractive',\n",
              "                                                    [key], {});\n",
              "        if (!dataTable) return;\n",
              "\n",
              "        const docLinkHtml = 'Like what you see? Visit the ' +\n",
              "          '<a target=\"_blank\" href=https://colab.research.google.com/notebooks/data_table.ipynb>data table notebook</a>'\n",
              "          + ' to learn more about interactive tables.';\n",
              "        element.innerHTML = '';\n",
              "        dataTable['output_type'] = 'display_data';\n",
              "        await google.colab.output.renderOutput(dataTable, element);\n",
              "        const docLink = document.createElement('div');\n",
              "        docLink.innerHTML = docLinkHtml;\n",
              "        element.appendChild(docLink);\n",
              "      }\n",
              "    </script>\n",
              "  </div>\n",
              "\n",
              "\n",
              "<div id=\"df-5e420e19-cc69-41be-bd87-9bf6aca7ecc3\">\n",
              "  <button class=\"colab-df-quickchart\" onclick=\"quickchart('df-5e420e19-cc69-41be-bd87-9bf6aca7ecc3')\"\n",
              "            title=\"Suggest charts.\"\n",
              "            style=\"display:none;\">\n",
              "\n",
              "<svg xmlns=\"http://www.w3.org/2000/svg\" height=\"24px\"viewBox=\"0 0 24 24\"\n",
              "     width=\"24px\">\n",
              "    <g>\n",
              "        <path d=\"M19 3H5c-1.1 0-2 .9-2 2v14c0 1.1.9 2 2 2h14c1.1 0 2-.9 2-2V5c0-1.1-.9-2-2-2zM9 17H7v-7h2v7zm4 0h-2V7h2v10zm4 0h-2v-4h2v4z\"/>\n",
              "    </g>\n",
              "</svg>\n",
              "  </button>\n",
              "\n",
              "<style>\n",
              "  .colab-df-quickchart {\n",
              "    background-color: #E8F0FE;\n",
              "    border: none;\n",
              "    border-radius: 50%;\n",
              "    cursor: pointer;\n",
              "    display: none;\n",
              "    fill: #1967D2;\n",
              "    height: 32px;\n",
              "    padding: 0 0 0 0;\n",
              "    width: 32px;\n",
              "  }\n",
              "\n",
              "  .colab-df-quickchart:hover {\n",
              "    background-color: #E2EBFA;\n",
              "    box-shadow: 0px 1px 2px rgba(60, 64, 67, 0.3), 0px 1px 3px 1px rgba(60, 64, 67, 0.15);\n",
              "    fill: #174EA6;\n",
              "  }\n",
              "\n",
              "  [theme=dark] .colab-df-quickchart {\n",
              "    background-color: #3B4455;\n",
              "    fill: #D2E3FC;\n",
              "  }\n",
              "\n",
              "  [theme=dark] .colab-df-quickchart:hover {\n",
              "    background-color: #434B5C;\n",
              "    box-shadow: 0px 1px 3px 1px rgba(0, 0, 0, 0.15);\n",
              "    filter: drop-shadow(0px 1px 2px rgba(0, 0, 0, 0.3));\n",
              "    fill: #FFFFFF;\n",
              "  }\n",
              "</style>\n",
              "\n",
              "  <script>\n",
              "    async function quickchart(key) {\n",
              "      const charts = await google.colab.kernel.invokeFunction(\n",
              "          'suggestCharts', [key], {});\n",
              "    }\n",
              "    (() => {\n",
              "      let quickchartButtonEl =\n",
              "        document.querySelector('#df-5e420e19-cc69-41be-bd87-9bf6aca7ecc3 button');\n",
              "      quickchartButtonEl.style.display =\n",
              "        google.colab.kernel.accessAllowed ? 'block' : 'none';\n",
              "    })();\n",
              "  </script>\n",
              "</div>\n",
              "    </div>\n",
              "  </div>\n"
            ]
          },
          "metadata": {},
          "execution_count": 8
        }
      ],
      "source": [
        "df.describe()"
      ]
    },
    {
      "cell_type": "code",
      "execution_count": null,
      "metadata": {
        "colab": {
          "base_uri": "https://localhost:8080/"
        },
        "id": "q_lTj64zg4BU",
        "outputId": "c007e43a-9ac6-40be-fd93-0eddbb609b99"
      },
      "outputs": [
        {
          "output_type": "stream",
          "name": "stdout",
          "text": [
            "<class 'pandas.core.frame.DataFrame'>\n",
            "RangeIndex: 259415 entries, 0 to 259414\n",
            "Data columns (total 33 columns):\n",
            " #   Column                           Non-Null Count   Dtype  \n",
            "---  ------                           --------------   -----  \n",
            " 0   Station Name                     259415 non-null  object \n",
            " 1   MAC Address                      259415 non-null  object \n",
            " 2   Org Name                         259415 non-null  object \n",
            " 3   Start Date                       259415 non-null  object \n",
            " 4   Start Time Zone                  259415 non-null  object \n",
            " 5   End Date                         259415 non-null  object \n",
            " 6   End Time Zone                    259415 non-null  object \n",
            " 7   Transaction Date (Pacific Time)  259206 non-null  object \n",
            " 8   Total Duration (hh:mm:ss)        259415 non-null  object \n",
            " 9   Charging Time (hh:mm:ss)         259415 non-null  object \n",
            " 10  Energy (kWh)                     259415 non-null  float64\n",
            " 11  GHG Savings (kg)                 259415 non-null  float64\n",
            " 12  Gasoline Savings (gallons)       259415 non-null  float64\n",
            " 13  Port Type                        259406 non-null  object \n",
            " 14  Port Number                      259415 non-null  int64  \n",
            " 15  Plug Type                        259415 non-null  object \n",
            " 16  EVSE ID                          180467 non-null  float64\n",
            " 17  Address 1                        259415 non-null  object \n",
            " 18  City                             259415 non-null  object \n",
            " 19  State/Province                   259415 non-null  object \n",
            " 20  Postal Code                      259415 non-null  int64  \n",
            " 21  Country                          259415 non-null  object \n",
            " 22  Latitude                         259415 non-null  float64\n",
            " 23  Longitude                        259415 non-null  float64\n",
            " 24  Currency                         257627 non-null  object \n",
            " 25  Fee                              259415 non-null  float64\n",
            " 26  Ended By                         259167 non-null  object \n",
            " 27  Plug In Event Id                 259415 non-null  int64  \n",
            " 28  Driver Postal Code               251013 non-null  float64\n",
            " 29  User ID                          251738 non-null  object \n",
            " 30  County                           174750 non-null  object \n",
            " 31  System S/N                       180467 non-null  float64\n",
            " 32  Model Number                     180467 non-null  object \n",
            "dtypes: float64(9), int64(3), object(21)\n",
            "memory usage: 65.3+ MB\n"
          ]
        }
      ],
      "source": [
        "df.info()"
      ]
    },
    {
      "cell_type": "code",
      "execution_count": null,
      "metadata": {
        "id": "gtCInLwUg6kf"
      },
      "outputs": [],
      "source": [
        "columns_to_drop=['Energy (kWh)','GHG Savings (kg)','Gasoline Savings (gallons)','Currency','Country','Org Name','Plug Type','Port Type','Port Number']\n",
        "df.drop(columns=columns_to_drop, inplace=True)"
      ]
    },
    {
      "cell_type": "code",
      "execution_count": null,
      "metadata": {
        "colab": {
          "base_uri": "https://localhost:8080/"
        },
        "id": "hscPVGgaEifT",
        "outputId": "46c8a441-146c-4c48-e43c-d5aeba20877f"
      },
      "outputs": [
        {
          "output_type": "stream",
          "name": "stdout",
          "text": [
            "Index(['Station Name', 'MAC Address', 'Start Date', 'Start Time Zone',\n",
            "       'End Date', 'End Time Zone', 'Transaction Date (Pacific Time)',\n",
            "       'Total Duration (hh:mm:ss)', 'Charging Time (hh:mm:ss)', 'EVSE ID',\n",
            "       'Address 1', 'City', 'State/Province', 'Postal Code', 'Latitude',\n",
            "       'Longitude', 'Fee', 'Ended By', 'Plug In Event Id',\n",
            "       'Driver Postal Code', 'User ID', 'County', 'System S/N',\n",
            "       'Model Number'],\n",
            "      dtype='object')\n"
          ]
        }
      ],
      "source": [
        "print(df.columns)"
      ]
    },
    {
      "cell_type": "code",
      "execution_count": null,
      "metadata": {
        "colab": {
          "base_uri": "https://localhost:8080/"
        },
        "id": "PBeFCJSBEkSE",
        "outputId": "da475e6f-8c7e-4240-aaac-28da8563907b"
      },
      "outputs": [
        {
          "output_type": "execute_result",
          "data": {
            "text/plain": [
              "(259415, 24)"
            ]
          },
          "metadata": {},
          "execution_count": 12
        }
      ],
      "source": [
        "df.shape"
      ]
    },
    {
      "cell_type": "code",
      "execution_count": null,
      "metadata": {
        "id": "HvdtOLcDTCjb"
      },
      "outputs": [],
      "source": [
        "column_to_clean = \"EVSE ID\"  # Replace with the actual column name\n",
        "\n",
        "# Convert non-numeric values to NaN in the specified column\n",
        "df[column_to_clean] = pd.to_numeric(df[column_to_clean], errors=\"coerce\")"
      ]
    },
    {
      "cell_type": "code",
      "source": [
        "# List of patterns for which synthesized values will be generated\n",
        "patterns = ['CTxxxx-HD', 'CTHCR', 'CT2100-HD', 'CT4020']\n",
        "\n",
        "# Function to generate a new value based on existing patterns\n",
        "def generate_synthesized_value(pattern):\n",
        "    if pattern == 'Other':\n",
        "        return pattern\n",
        "    new_value = pattern.replace('xxxx', ''.join(random.choices(string.digits, k=4)))\n",
        "    new_value += '-' + ''.join(random.choices(string.ascii_uppercase, k=2))\n",
        "    return new_value\n",
        "\n",
        "# Iterate through the DataFrame and replace NaN values with synthesized data\n",
        "for index, row in df.iterrows():\n",
        "    value = row['Model Number']\n",
        "    if pd.isnull(value):\n",
        "        synthesized_value = generate_synthesized_value(random.choice(patterns))\n",
        "        df.at[index, 'Model Number'] = synthesized_value\n",
        "\n",
        "print(df)"
      ],
      "metadata": {
        "colab": {
          "base_uri": "https://localhost:8080/"
        },
        "id": "PNE-mBdPv98M",
        "outputId": "a5edd911-58bb-4bb7-c8e1-1de96922753f"
      },
      "execution_count": null,
      "outputs": [
        {
          "output_type": "stream",
          "name": "stdout",
          "text": [
            "                          Station Name          MAC Address        Start Date  \\\n",
            "0           PALO ALTO CA / HAMILTON #1  000D:6F00:015A:9D76   7/29/2011 20:17   \n",
            "1           PALO ALTO CA / HAMILTON #1  000D:6F00:015A:9D76    7/30/2011 0:00   \n",
            "2           PALO ALTO CA / HAMILTON #1  000D:6F00:015A:9D76    7/30/2011 8:16   \n",
            "3           PALO ALTO CA / HAMILTON #1  000D:6F00:015A:9D76   7/30/2011 14:51   \n",
            "4           PALO ALTO CA / HAMILTON #1  000D:6F00:015A:9D76   7/30/2011 18:51   \n",
            "...                                ...                  ...               ...   \n",
            "259410  PALO ALTO CA / TED THOMPSON #3  0024:B100:0002:9F81  12/31/2020 16:39   \n",
            "259411       PALO ALTO CA / WEBSTER #1  0024:B100:0002:4233  12/31/2020 16:48   \n",
            "259412           PALO ALTO CA / MPL #4  0024:B100:0003:CD37  12/31/2020 17:28   \n",
            "259413       PALO ALTO CA / WEBSTER #1  0024:B100:0002:4233  12/31/2020 17:49   \n",
            "259414     PALO ALTO CA / CAMBRIDGE #4  0024:B100:0003:3A0A  12/31/2020 18:19   \n",
            "\n",
            "       Start Time Zone          End Date End Time Zone  \\\n",
            "0                  PDT   7/29/2011 23:20           PDT   \n",
            "1                  PDT    7/30/2011 0:02           PDT   \n",
            "2                  PDT   7/30/2011 12:34           PDT   \n",
            "3                  PDT   7/30/2011 16:55           PDT   \n",
            "4                  PDT   7/30/2011 20:03           PDT   \n",
            "...                ...               ...           ...   \n",
            "259410             PST  12/31/2020 17:14           PST   \n",
            "259411             PST  12/31/2020 20:31           PST   \n",
            "259412             PST    1/1/2021 10:56           PST   \n",
            "259413             PST  12/31/2020 21:55           PST   \n",
            "259414             PST  12/31/2020 19:01           PST   \n",
            "\n",
            "       Transaction Date (Pacific Time) Total Duration (hh:mm:ss)  \\\n",
            "0                      7/29/2011 23:20                   3:03:32   \n",
            "1                       7/30/2011 0:02                   0:02:06   \n",
            "2                      7/30/2011 12:34                   4:17:32   \n",
            "3                      7/30/2011 16:55                   2:03:24   \n",
            "4                      7/30/2011 20:03                   1:11:24   \n",
            "...                                ...                       ...   \n",
            "259410                12/31/2020 17:16                   0:35:44   \n",
            "259411                12/31/2020 20:32                   3:43:01   \n",
            "259412                  1/1/2021 10:57                  17:28:14   \n",
            "259413                12/31/2020 21:56                   4:05:34   \n",
            "259414                12/31/2020 19:02                   0:42:07   \n",
            "\n",
            "       Charging Time (hh:mm:ss)    EVSE ID  ...   Latitude   Longitude   Fee  \\\n",
            "0                       1:54:03        NaN  ...  37.444572 -122.160309  0.00   \n",
            "1                       0:01:54        NaN  ...  37.444572 -122.160309  0.00   \n",
            "2                       4:17:28        NaN  ...  37.444572 -122.160309  0.00   \n",
            "3                       2:02:58        NaN  ...  37.444572 -122.160309  0.00   \n",
            "4                       0:43:54        NaN  ...  37.444572 -122.160309  0.00   \n",
            "...                         ...        ...  ...        ...         ...   ...   \n",
            "259410                  0:35:18   344261.0  ...  37.428623 -122.144043  0.42   \n",
            "259411                  2:14:04   104427.0  ...  37.448284 -122.158272  4.69   \n",
            "259412                  5:08:12  2884001.0  ...  37.422104 -122.113510  6.82   \n",
            "259413                  3:53:42   104427.0  ...  37.448284 -122.158272  2.75   \n",
            "259414                  0:41:44   337571.0  ...  37.426178 -122.146034  0.36   \n",
            "\n",
            "                   Ended By  Plug In Event Id  Driver Postal Code  User ID  \\\n",
            "0       Plug Out at Vehicle                 3             95124.0   3284.0   \n",
            "1                  Customer                 4             94301.0   4169.0   \n",
            "2       Plug Out at Vehicle                 5             94301.0   4169.0   \n",
            "3                  Customer                 6             94302.0   2545.0   \n",
            "4       Plug Out at Vehicle                 7             94043.0   3765.0   \n",
            "...                     ...               ...                 ...      ...   \n",
            "259410  Plug Out at Vehicle              2369             94301.0  2024201   \n",
            "259411  Plug Out at Vehicle              7255             94541.0   242661   \n",
            "259412  Plug Out at Vehicle               455             94306.0   449995   \n",
            "259413  Plug Out at Vehicle              7256             94552.0   804075   \n",
            "259414  Plug Out at Vehicle              2302             94305.0  2022651   \n",
            "\n",
            "                    County    System S/N  Model Number  \n",
            "0                      NaN           NaN  CT2100-HD-BW  \n",
            "1                      NaN           NaN     CT4020-TR  \n",
            "2                      NaN           NaN      CTHCR-TU  \n",
            "3                      NaN           NaN      CTHCR-DY  \n",
            "4                      NaN           NaN  CT2100-HD-VT  \n",
            "...                    ...           ...           ...  \n",
            "259410                 NaN  1.745410e+11  CT4020-HD-GW  \n",
            "259411  Santa Clara County  1.336410e+11  CT4020-HD-GW  \n",
            "259412  Santa Clara County  2.002410e+11  CT4010-HD-GW  \n",
            "259413  Santa Clara County  1.336410e+11  CT4020-HD-GW  \n",
            "259414  Santa Clara County  1.852410e+11  CT4020-HD-GW  \n",
            "\n",
            "[259415 rows x 24 columns]\n"
          ]
        }
      ]
    },
    {
      "cell_type": "code",
      "source": [
        "column_to_check = \"Model Number\"  # Replace with the actual column name\n",
        "\n",
        "# Find and count null values in the specified column\n",
        "null_values = df[column_to_check].isnull()\n",
        "count_null = null_values.sum()\n",
        "\n",
        "print(\"Null values in column '{}': {}\".format(column_to_check, count_null))"
      ],
      "metadata": {
        "colab": {
          "base_uri": "https://localhost:8080/"
        },
        "id": "MK8wGXmNEwW2",
        "outputId": "4bba52b4-1500-48de-fd8b-3aff474e969f"
      },
      "execution_count": null,
      "outputs": [
        {
          "output_type": "stream",
          "name": "stdout",
          "text": [
            "Null values in column 'Model Number': 0\n"
          ]
        }
      ]
    },
    {
      "cell_type": "code",
      "source": [
        "df.head()"
      ],
      "metadata": {
        "colab": {
          "base_uri": "https://localhost:8080/",
          "height": 567
        },
        "id": "TQlASvVi7XMr",
        "outputId": "0c8cce0f-5acb-48de-8e4e-339d5a9428d3"
      },
      "execution_count": null,
      "outputs": [
        {
          "output_type": "execute_result",
          "data": {
            "text/plain": [
              "                 Station Name          MAC Address       Start Date  \\\n",
              "0  PALO ALTO CA / HAMILTON #1  000D:6F00:015A:9D76  7/29/2011 20:17   \n",
              "1  PALO ALTO CA / HAMILTON #1  000D:6F00:015A:9D76   7/30/2011 0:00   \n",
              "2  PALO ALTO CA / HAMILTON #1  000D:6F00:015A:9D76   7/30/2011 8:16   \n",
              "3  PALO ALTO CA / HAMILTON #1  000D:6F00:015A:9D76  7/30/2011 14:51   \n",
              "4  PALO ALTO CA / HAMILTON #1  000D:6F00:015A:9D76  7/30/2011 18:51   \n",
              "\n",
              "  Start Time Zone         End Date End Time Zone  \\\n",
              "0             PDT  7/29/2011 23:20           PDT   \n",
              "1             PDT   7/30/2011 0:02           PDT   \n",
              "2             PDT  7/30/2011 12:34           PDT   \n",
              "3             PDT  7/30/2011 16:55           PDT   \n",
              "4             PDT  7/30/2011 20:03           PDT   \n",
              "\n",
              "  Transaction Date (Pacific Time) Total Duration (hh:mm:ss)  \\\n",
              "0                 7/29/2011 23:20                   3:03:32   \n",
              "1                  7/30/2011 0:02                   0:02:06   \n",
              "2                 7/30/2011 12:34                   4:17:32   \n",
              "3                 7/30/2011 16:55                   2:03:24   \n",
              "4                 7/30/2011 20:03                   1:11:24   \n",
              "\n",
              "  Charging Time (hh:mm:ss)  EVSE ID  ...   Latitude   Longitude  Fee  \\\n",
              "0                  1:54:03      NaN  ...  37.444572 -122.160309  0.0   \n",
              "1                  0:01:54      NaN  ...  37.444572 -122.160309  0.0   \n",
              "2                  4:17:28      NaN  ...  37.444572 -122.160309  0.0   \n",
              "3                  2:02:58      NaN  ...  37.444572 -122.160309  0.0   \n",
              "4                  0:43:54      NaN  ...  37.444572 -122.160309  0.0   \n",
              "\n",
              "              Ended By  Plug In Event Id  Driver Postal Code  User ID County  \\\n",
              "0  Plug Out at Vehicle                 3             95124.0   3284.0    NaN   \n",
              "1             Customer                 4             94301.0   4169.0    NaN   \n",
              "2  Plug Out at Vehicle                 5             94301.0   4169.0    NaN   \n",
              "3             Customer                 6             94302.0   2545.0    NaN   \n",
              "4  Plug Out at Vehicle                 7             94043.0   3765.0    NaN   \n",
              "\n",
              "   System S/N  Model Number  \n",
              "0         NaN  CT2100-HD-BW  \n",
              "1         NaN     CT4020-TR  \n",
              "2         NaN      CTHCR-TU  \n",
              "3         NaN      CTHCR-DY  \n",
              "4         NaN  CT2100-HD-VT  \n",
              "\n",
              "[5 rows x 24 columns]"
            ],
            "text/html": [
              "\n",
              "  <div id=\"df-418c5c45-9acd-4f5c-99f6-e465c5a606a6\" class=\"colab-df-container\">\n",
              "    <div>\n",
              "<style scoped>\n",
              "    .dataframe tbody tr th:only-of-type {\n",
              "        vertical-align: middle;\n",
              "    }\n",
              "\n",
              "    .dataframe tbody tr th {\n",
              "        vertical-align: top;\n",
              "    }\n",
              "\n",
              "    .dataframe thead th {\n",
              "        text-align: right;\n",
              "    }\n",
              "</style>\n",
              "<table border=\"1\" class=\"dataframe\">\n",
              "  <thead>\n",
              "    <tr style=\"text-align: right;\">\n",
              "      <th></th>\n",
              "      <th>Station Name</th>\n",
              "      <th>MAC Address</th>\n",
              "      <th>Start Date</th>\n",
              "      <th>Start Time Zone</th>\n",
              "      <th>End Date</th>\n",
              "      <th>End Time Zone</th>\n",
              "      <th>Transaction Date (Pacific Time)</th>\n",
              "      <th>Total Duration (hh:mm:ss)</th>\n",
              "      <th>Charging Time (hh:mm:ss)</th>\n",
              "      <th>EVSE ID</th>\n",
              "      <th>...</th>\n",
              "      <th>Latitude</th>\n",
              "      <th>Longitude</th>\n",
              "      <th>Fee</th>\n",
              "      <th>Ended By</th>\n",
              "      <th>Plug In Event Id</th>\n",
              "      <th>Driver Postal Code</th>\n",
              "      <th>User ID</th>\n",
              "      <th>County</th>\n",
              "      <th>System S/N</th>\n",
              "      <th>Model Number</th>\n",
              "    </tr>\n",
              "  </thead>\n",
              "  <tbody>\n",
              "    <tr>\n",
              "      <th>0</th>\n",
              "      <td>PALO ALTO CA / HAMILTON #1</td>\n",
              "      <td>000D:6F00:015A:9D76</td>\n",
              "      <td>7/29/2011 20:17</td>\n",
              "      <td>PDT</td>\n",
              "      <td>7/29/2011 23:20</td>\n",
              "      <td>PDT</td>\n",
              "      <td>7/29/2011 23:20</td>\n",
              "      <td>3:03:32</td>\n",
              "      <td>1:54:03</td>\n",
              "      <td>NaN</td>\n",
              "      <td>...</td>\n",
              "      <td>37.444572</td>\n",
              "      <td>-122.160309</td>\n",
              "      <td>0.0</td>\n",
              "      <td>Plug Out at Vehicle</td>\n",
              "      <td>3</td>\n",
              "      <td>95124.0</td>\n",
              "      <td>3284.0</td>\n",
              "      <td>NaN</td>\n",
              "      <td>NaN</td>\n",
              "      <td>CT2100-HD-BW</td>\n",
              "    </tr>\n",
              "    <tr>\n",
              "      <th>1</th>\n",
              "      <td>PALO ALTO CA / HAMILTON #1</td>\n",
              "      <td>000D:6F00:015A:9D76</td>\n",
              "      <td>7/30/2011 0:00</td>\n",
              "      <td>PDT</td>\n",
              "      <td>7/30/2011 0:02</td>\n",
              "      <td>PDT</td>\n",
              "      <td>7/30/2011 0:02</td>\n",
              "      <td>0:02:06</td>\n",
              "      <td>0:01:54</td>\n",
              "      <td>NaN</td>\n",
              "      <td>...</td>\n",
              "      <td>37.444572</td>\n",
              "      <td>-122.160309</td>\n",
              "      <td>0.0</td>\n",
              "      <td>Customer</td>\n",
              "      <td>4</td>\n",
              "      <td>94301.0</td>\n",
              "      <td>4169.0</td>\n",
              "      <td>NaN</td>\n",
              "      <td>NaN</td>\n",
              "      <td>CT4020-TR</td>\n",
              "    </tr>\n",
              "    <tr>\n",
              "      <th>2</th>\n",
              "      <td>PALO ALTO CA / HAMILTON #1</td>\n",
              "      <td>000D:6F00:015A:9D76</td>\n",
              "      <td>7/30/2011 8:16</td>\n",
              "      <td>PDT</td>\n",
              "      <td>7/30/2011 12:34</td>\n",
              "      <td>PDT</td>\n",
              "      <td>7/30/2011 12:34</td>\n",
              "      <td>4:17:32</td>\n",
              "      <td>4:17:28</td>\n",
              "      <td>NaN</td>\n",
              "      <td>...</td>\n",
              "      <td>37.444572</td>\n",
              "      <td>-122.160309</td>\n",
              "      <td>0.0</td>\n",
              "      <td>Plug Out at Vehicle</td>\n",
              "      <td>5</td>\n",
              "      <td>94301.0</td>\n",
              "      <td>4169.0</td>\n",
              "      <td>NaN</td>\n",
              "      <td>NaN</td>\n",
              "      <td>CTHCR-TU</td>\n",
              "    </tr>\n",
              "    <tr>\n",
              "      <th>3</th>\n",
              "      <td>PALO ALTO CA / HAMILTON #1</td>\n",
              "      <td>000D:6F00:015A:9D76</td>\n",
              "      <td>7/30/2011 14:51</td>\n",
              "      <td>PDT</td>\n",
              "      <td>7/30/2011 16:55</td>\n",
              "      <td>PDT</td>\n",
              "      <td>7/30/2011 16:55</td>\n",
              "      <td>2:03:24</td>\n",
              "      <td>2:02:58</td>\n",
              "      <td>NaN</td>\n",
              "      <td>...</td>\n",
              "      <td>37.444572</td>\n",
              "      <td>-122.160309</td>\n",
              "      <td>0.0</td>\n",
              "      <td>Customer</td>\n",
              "      <td>6</td>\n",
              "      <td>94302.0</td>\n",
              "      <td>2545.0</td>\n",
              "      <td>NaN</td>\n",
              "      <td>NaN</td>\n",
              "      <td>CTHCR-DY</td>\n",
              "    </tr>\n",
              "    <tr>\n",
              "      <th>4</th>\n",
              "      <td>PALO ALTO CA / HAMILTON #1</td>\n",
              "      <td>000D:6F00:015A:9D76</td>\n",
              "      <td>7/30/2011 18:51</td>\n",
              "      <td>PDT</td>\n",
              "      <td>7/30/2011 20:03</td>\n",
              "      <td>PDT</td>\n",
              "      <td>7/30/2011 20:03</td>\n",
              "      <td>1:11:24</td>\n",
              "      <td>0:43:54</td>\n",
              "      <td>NaN</td>\n",
              "      <td>...</td>\n",
              "      <td>37.444572</td>\n",
              "      <td>-122.160309</td>\n",
              "      <td>0.0</td>\n",
              "      <td>Plug Out at Vehicle</td>\n",
              "      <td>7</td>\n",
              "      <td>94043.0</td>\n",
              "      <td>3765.0</td>\n",
              "      <td>NaN</td>\n",
              "      <td>NaN</td>\n",
              "      <td>CT2100-HD-VT</td>\n",
              "    </tr>\n",
              "  </tbody>\n",
              "</table>\n",
              "<p>5 rows × 24 columns</p>\n",
              "</div>\n",
              "    <div class=\"colab-df-buttons\">\n",
              "\n",
              "  <div class=\"colab-df-container\">\n",
              "    <button class=\"colab-df-convert\" onclick=\"convertToInteractive('df-418c5c45-9acd-4f5c-99f6-e465c5a606a6')\"\n",
              "            title=\"Convert this dataframe to an interactive table.\"\n",
              "            style=\"display:none;\">\n",
              "\n",
              "  <svg xmlns=\"http://www.w3.org/2000/svg\" height=\"24px\" viewBox=\"0 -960 960 960\">\n",
              "    <path d=\"M120-120v-720h720v720H120Zm60-500h600v-160H180v160Zm220 220h160v-160H400v160Zm0 220h160v-160H400v160ZM180-400h160v-160H180v160Zm440 0h160v-160H620v160ZM180-180h160v-160H180v160Zm440 0h160v-160H620v160Z\"/>\n",
              "  </svg>\n",
              "    </button>\n",
              "\n",
              "  <style>\n",
              "    .colab-df-container {\n",
              "      display:flex;\n",
              "      gap: 12px;\n",
              "    }\n",
              "\n",
              "    .colab-df-convert {\n",
              "      background-color: #E8F0FE;\n",
              "      border: none;\n",
              "      border-radius: 50%;\n",
              "      cursor: pointer;\n",
              "      display: none;\n",
              "      fill: #1967D2;\n",
              "      height: 32px;\n",
              "      padding: 0 0 0 0;\n",
              "      width: 32px;\n",
              "    }\n",
              "\n",
              "    .colab-df-convert:hover {\n",
              "      background-color: #E2EBFA;\n",
              "      box-shadow: 0px 1px 2px rgba(60, 64, 67, 0.3), 0px 1px 3px 1px rgba(60, 64, 67, 0.15);\n",
              "      fill: #174EA6;\n",
              "    }\n",
              "\n",
              "    .colab-df-buttons div {\n",
              "      margin-bottom: 4px;\n",
              "    }\n",
              "\n",
              "    [theme=dark] .colab-df-convert {\n",
              "      background-color: #3B4455;\n",
              "      fill: #D2E3FC;\n",
              "    }\n",
              "\n",
              "    [theme=dark] .colab-df-convert:hover {\n",
              "      background-color: #434B5C;\n",
              "      box-shadow: 0px 1px 3px 1px rgba(0, 0, 0, 0.15);\n",
              "      filter: drop-shadow(0px 1px 2px rgba(0, 0, 0, 0.3));\n",
              "      fill: #FFFFFF;\n",
              "    }\n",
              "  </style>\n",
              "\n",
              "    <script>\n",
              "      const buttonEl =\n",
              "        document.querySelector('#df-418c5c45-9acd-4f5c-99f6-e465c5a606a6 button.colab-df-convert');\n",
              "      buttonEl.style.display =\n",
              "        google.colab.kernel.accessAllowed ? 'block' : 'none';\n",
              "\n",
              "      async function convertToInteractive(key) {\n",
              "        const element = document.querySelector('#df-418c5c45-9acd-4f5c-99f6-e465c5a606a6');\n",
              "        const dataTable =\n",
              "          await google.colab.kernel.invokeFunction('convertToInteractive',\n",
              "                                                    [key], {});\n",
              "        if (!dataTable) return;\n",
              "\n",
              "        const docLinkHtml = 'Like what you see? Visit the ' +\n",
              "          '<a target=\"_blank\" href=https://colab.research.google.com/notebooks/data_table.ipynb>data table notebook</a>'\n",
              "          + ' to learn more about interactive tables.';\n",
              "        element.innerHTML = '';\n",
              "        dataTable['output_type'] = 'display_data';\n",
              "        await google.colab.output.renderOutput(dataTable, element);\n",
              "        const docLink = document.createElement('div');\n",
              "        docLink.innerHTML = docLinkHtml;\n",
              "        element.appendChild(docLink);\n",
              "      }\n",
              "    </script>\n",
              "  </div>\n",
              "\n",
              "\n",
              "<div id=\"df-1082aa9e-f39b-475e-a5fc-2a46e73b45cc\">\n",
              "  <button class=\"colab-df-quickchart\" onclick=\"quickchart('df-1082aa9e-f39b-475e-a5fc-2a46e73b45cc')\"\n",
              "            title=\"Suggest charts.\"\n",
              "            style=\"display:none;\">\n",
              "\n",
              "<svg xmlns=\"http://www.w3.org/2000/svg\" height=\"24px\"viewBox=\"0 0 24 24\"\n",
              "     width=\"24px\">\n",
              "    <g>\n",
              "        <path d=\"M19 3H5c-1.1 0-2 .9-2 2v14c0 1.1.9 2 2 2h14c1.1 0 2-.9 2-2V5c0-1.1-.9-2-2-2zM9 17H7v-7h2v7zm4 0h-2V7h2v10zm4 0h-2v-4h2v4z\"/>\n",
              "    </g>\n",
              "</svg>\n",
              "  </button>\n",
              "\n",
              "<style>\n",
              "  .colab-df-quickchart {\n",
              "    background-color: #E8F0FE;\n",
              "    border: none;\n",
              "    border-radius: 50%;\n",
              "    cursor: pointer;\n",
              "    display: none;\n",
              "    fill: #1967D2;\n",
              "    height: 32px;\n",
              "    padding: 0 0 0 0;\n",
              "    width: 32px;\n",
              "  }\n",
              "\n",
              "  .colab-df-quickchart:hover {\n",
              "    background-color: #E2EBFA;\n",
              "    box-shadow: 0px 1px 2px rgba(60, 64, 67, 0.3), 0px 1px 3px 1px rgba(60, 64, 67, 0.15);\n",
              "    fill: #174EA6;\n",
              "  }\n",
              "\n",
              "  [theme=dark] .colab-df-quickchart {\n",
              "    background-color: #3B4455;\n",
              "    fill: #D2E3FC;\n",
              "  }\n",
              "\n",
              "  [theme=dark] .colab-df-quickchart:hover {\n",
              "    background-color: #434B5C;\n",
              "    box-shadow: 0px 1px 3px 1px rgba(0, 0, 0, 0.15);\n",
              "    filter: drop-shadow(0px 1px 2px rgba(0, 0, 0, 0.3));\n",
              "    fill: #FFFFFF;\n",
              "  }\n",
              "</style>\n",
              "\n",
              "  <script>\n",
              "    async function quickchart(key) {\n",
              "      const charts = await google.colab.kernel.invokeFunction(\n",
              "          'suggestCharts', [key], {});\n",
              "    }\n",
              "    (() => {\n",
              "      let quickchartButtonEl =\n",
              "        document.querySelector('#df-1082aa9e-f39b-475e-a5fc-2a46e73b45cc button');\n",
              "      quickchartButtonEl.style.display =\n",
              "        google.colab.kernel.accessAllowed ? 'block' : 'none';\n",
              "    })();\n",
              "  </script>\n",
              "</div>\n",
              "    </div>\n",
              "  </div>\n"
            ]
          },
          "metadata": {},
          "execution_count": 16
        }
      ]
    },
    {
      "cell_type": "code",
      "execution_count": null,
      "metadata": {
        "id": "TzTLYCVITU4k"
      },
      "outputs": [],
      "source": [
        "feature_to_impute = \"EVSE ID\"  # Replace with the actual feature name\n",
        "missing_indices = df[df[feature_to_impute].isnull()].index\n",
        "\n",
        "# Create a KNNImputer instance\n",
        "imputer = KNNImputer(n_neighbors=5)  # You can adjust the number of neighbors\n",
        "\n",
        "# Extract the feature to impute and perform KNN imputation\n",
        "feature_data = df[[feature_to_impute]]\n",
        "imputed_feature = imputer.fit_transform(feature_data)\n",
        "\n",
        "# Replace the missing values in the original data with imputed values\n",
        "df.loc[missing_indices, feature_to_impute] = imputed_feature[missing_indices]"
      ]
    },
    {
      "cell_type": "code",
      "execution_count": null,
      "metadata": {
        "id": "bJMeVtwNXz0V",
        "colab": {
          "base_uri": "https://localhost:8080/"
        },
        "outputId": "e4d4b300-daaf-49ad-c57e-5c143a8db43f"
      },
      "outputs": [
        {
          "output_type": "stream",
          "name": "stdout",
          "text": [
            "Null values in column 'EVSE ID': 0\n"
          ]
        }
      ],
      "source": [
        "column_to_check = \"EVSE ID\"  # Replace with the actual column name\n",
        "\n",
        "# Find and count null values in the specified column\n",
        "null_values = df[column_to_check].isnull()\n",
        "count_null = null_values.sum()\n",
        "\n",
        "print(\"Null values in column '{}': {}\".format(column_to_check, count_null))"
      ]
    },
    {
      "cell_type": "code",
      "execution_count": null,
      "metadata": {
        "id": "eeH-Nnx9YA0y"
      },
      "outputs": [],
      "source": [
        "# Specify the column to clean\n",
        "column_to_clean = \"Driver Postal Code\"  # Replace with the actual column name\n",
        "\n",
        "# Convert non-numeric values to NaN in the specified column\n",
        "df[column_to_clean] = pd.to_numeric(df[column_to_clean], errors=\"coerce\")\n",
        "\n",
        "# Drop rows with NaN values in the specified column\n",
        "# data.dropna(subset=[column_to_clean], inplace=True)"
      ]
    },
    {
      "cell_type": "code",
      "execution_count": null,
      "metadata": {
        "id": "WHv7R3UuYJEZ"
      },
      "outputs": [],
      "source": [
        "feature_to_impute = \"Driver Postal Code\"  # Replace with the actual feature name\n",
        "missing_indices = df[df[feature_to_impute].isnull()].index\n",
        "\n",
        "# Create a KNNImputer instance\n",
        "imputer = KNNImputer(n_neighbors=5)  # You can adjust the number of neighbors\n",
        "\n",
        "# Extract the feature to impute and perform KNN imputation\n",
        "feature_data = df[[feature_to_impute]]\n",
        "imputed_feature = imputer.fit_transform(feature_data)\n",
        "\n",
        "# Replace the missing values in the original data with imputed values\n",
        "df.loc[missing_indices, feature_to_impute] = imputed_feature[missing_indices]"
      ]
    },
    {
      "cell_type": "code",
      "execution_count": null,
      "metadata": {
        "id": "Yuo4Mgh0YS9Q",
        "colab": {
          "base_uri": "https://localhost:8080/"
        },
        "outputId": "03450371-a35d-4a39-a887-4e20ebe1c002"
      },
      "outputs": [
        {
          "output_type": "stream",
          "name": "stdout",
          "text": [
            "Null values in column 'Driver Postal Code': 0\n"
          ]
        }
      ],
      "source": [
        "# Specify the column to check for null values\n",
        "column_to_check = \"Driver Postal Code\"  # Replace with the actual column name\n",
        "\n",
        "# Find and count null values in the specified column\n",
        "null_values = df[column_to_check].isnull()\n",
        "count_null = null_values.sum()\n",
        "\n",
        "print(\"Null values in column '{}': {}\".format(column_to_check, count_null))"
      ]
    },
    {
      "cell_type": "code",
      "execution_count": null,
      "metadata": {
        "id": "KCY4q9ItYnAz"
      },
      "outputs": [],
      "source": [
        "feature_to_impute = \"System S/N\"  # Replace with the actual feature name\n",
        "missing_indices = df[df[feature_to_impute].isnull()].index\n",
        "\n",
        "# Create a KNNImputer instance\n",
        "imputer = KNNImputer(n_neighbors=5)  # You can adjust the number of neighbors\n",
        "\n",
        "# Extract the feature to impute and perform KNN imputation\n",
        "feature_data = df[[feature_to_impute]]\n",
        "imputed_feature = imputer.fit_transform(feature_data)\n",
        "\n",
        "# Replace the missing values in the original data with imputed values\n",
        "df.loc[missing_indices, feature_to_impute] = imputed_feature[missing_indices]"
      ]
    },
    {
      "cell_type": "code",
      "execution_count": null,
      "metadata": {
        "id": "4BR2FprOE4IL"
      },
      "outputs": [],
      "source": [
        "selected_columns = [\"Start Date\", \"Start Time Zone\"]\n",
        "\n",
        "# Create a new DataFrame with the selected columns\n",
        "dfa = df[selected_columns]"
      ]
    },
    {
      "cell_type": "code",
      "execution_count": null,
      "metadata": {
        "colab": {
          "base_uri": "https://localhost:8080/"
        },
        "id": "v3XjCzJnFi21",
        "outputId": "aa9a33e1-142c-45cc-ba9b-b79f05485d23"
      },
      "outputs": [
        {
          "output_type": "stream",
          "name": "stdout",
          "text": [
            "              Start Date Start Time Zone          ConvertedDateTime  \\\n",
            "0        7/29/2011 20:17             PDT        2011-07-29 20:17:00   \n",
            "1         7/30/2011 0:00             PDT        2011-07-30 00:00:00   \n",
            "2         7/30/2011 8:16             PDT        2011-07-30 08:16:00   \n",
            "3        7/30/2011 14:51             PDT        2011-07-30 14:51:00   \n",
            "4        7/30/2011 18:51             PDT        2011-07-30 18:51:00   \n",
            "...                  ...             ...                        ...   \n",
            "259410  12/31/2020 16:39             PST  2020-12-31 16:39:00-08:00   \n",
            "259411  12/31/2020 16:48             PST  2020-12-31 16:48:00-08:00   \n",
            "259412  12/31/2020 17:28             PST  2020-12-31 17:28:00-08:00   \n",
            "259413  12/31/2020 17:49             PST  2020-12-31 17:49:00-08:00   \n",
            "259414  12/31/2020 18:19             PST  2020-12-31 18:19:00-08:00   \n",
            "\n",
            "        NumericValue  \n",
            "0       1.311971e+09  \n",
            "1       1.311984e+09  \n",
            "2       1.312014e+09  \n",
            "3       1.312037e+09  \n",
            "4       1.312052e+09  \n",
            "...              ...  \n",
            "259410  1.609433e+09  \n",
            "259411  1.609433e+09  \n",
            "259412  1.609436e+09  \n",
            "259413  1.609437e+09  \n",
            "259414  1.609439e+09  \n",
            "\n",
            "[259415 rows x 4 columns]\n"
          ]
        },
        {
          "output_type": "stream",
          "name": "stderr",
          "text": [
            "<ipython-input-24-af567324c9d4>:34: SettingWithCopyWarning: \n",
            "A value is trying to be set on a copy of a slice from a DataFrame.\n",
            "Try using .loc[row_indexer,col_indexer] = value instead\n",
            "\n",
            "See the caveats in the documentation: https://pandas.pydata.org/pandas-docs/stable/user_guide/indexing.html#returning-a-view-versus-a-copy\n",
            "  dfa[\"ConvertedDateTime\"] = converted_date_times\n",
            "<ipython-input-24-af567324c9d4>:35: SettingWithCopyWarning: \n",
            "A value is trying to be set on a copy of a slice from a DataFrame.\n",
            "Try using .loc[row_indexer,col_indexer] = value instead\n",
            "\n",
            "See the caveats in the documentation: https://pandas.pydata.org/pandas-docs/stable/user_guide/indexing.html#returning-a-view-versus-a-copy\n",
            "  dfa[\"NumericValue\"] = numeric_values\n"
          ]
        }
      ],
      "source": [
        "# Define time zones\n",
        "pst = pytz.timezone('US/Pacific')\n",
        "pdt = pytz.timezone('US/Pacific')\n",
        "\n",
        "# Function to convert PST to PDT\n",
        "def convert_pst_to_pdt(date_str):\n",
        "    dt_object = datetime.strptime(date_str, \"%m/%d/%Y %H:%M\")\n",
        "    dt_object = pst.localize(dt_object)\n",
        "    dt_object_pdt = dt_object.astimezone(pdt)\n",
        "\n",
        "    return dt_object_pdt\n",
        "\n",
        "# Function to convert date and time to numeric value\n",
        "def convert_to_numeric(date_str):\n",
        "    dt_object = datetime.strptime(date_str, \"%m/%d/%Y %H:%M\")\n",
        "    numeric_value = dt_object.timestamp()\n",
        "\n",
        "    return numeric_value\n",
        "\n",
        "# Convert PST to PDT and apply numeric conversion\n",
        "converted_date_times = []\n",
        "numeric_values = []\n",
        "\n",
        "for index, row in dfa.iterrows():\n",
        "    if row[\"Start Time Zone\"] == \"PST\":\n",
        "        converted_dt = convert_pst_to_pdt(row[\"Start Date\"])\n",
        "    else:\n",
        "        converted_dt = datetime.strptime(row[\"Start Date\"], \"%m/%d/%Y %H:%M\")\n",
        "\n",
        "    converted_date_times.append(converted_dt)\n",
        "    numeric_value = convert_to_numeric(row[\"Start Date\"])\n",
        "    numeric_values.append(numeric_value)\n",
        "\n",
        "dfa[\"ConvertedDateTime\"] = converted_date_times\n",
        "dfa[\"NumericValue\"] = numeric_values\n",
        "\n",
        "print(dfa)\n"
      ]
    },
    {
      "cell_type": "code",
      "execution_count": null,
      "metadata": {
        "colab": {
          "base_uri": "https://localhost:8080/",
          "height": 206
        },
        "id": "uBjOkyzgFpZs",
        "outputId": "0b4307f9-15da-4000-b5e5-61899bc7141e"
      },
      "outputs": [
        {
          "output_type": "execute_result",
          "data": {
            "text/plain": [
              "        Start Date Start Time Zone    ConvertedDateTime  NumericValue\n",
              "0  7/29/2011 20:17             PDT  2011-07-29 20:17:00  1.311971e+09\n",
              "1   7/30/2011 0:00             PDT  2011-07-30 00:00:00  1.311984e+09\n",
              "2   7/30/2011 8:16             PDT  2011-07-30 08:16:00  1.312014e+09\n",
              "3  7/30/2011 14:51             PDT  2011-07-30 14:51:00  1.312037e+09\n",
              "4  7/30/2011 18:51             PDT  2011-07-30 18:51:00  1.312052e+09"
            ],
            "text/html": [
              "\n",
              "  <div id=\"df-e8546bd6-84c4-4a52-ae13-db07e09b4066\" class=\"colab-df-container\">\n",
              "    <div>\n",
              "<style scoped>\n",
              "    .dataframe tbody tr th:only-of-type {\n",
              "        vertical-align: middle;\n",
              "    }\n",
              "\n",
              "    .dataframe tbody tr th {\n",
              "        vertical-align: top;\n",
              "    }\n",
              "\n",
              "    .dataframe thead th {\n",
              "        text-align: right;\n",
              "    }\n",
              "</style>\n",
              "<table border=\"1\" class=\"dataframe\">\n",
              "  <thead>\n",
              "    <tr style=\"text-align: right;\">\n",
              "      <th></th>\n",
              "      <th>Start Date</th>\n",
              "      <th>Start Time Zone</th>\n",
              "      <th>ConvertedDateTime</th>\n",
              "      <th>NumericValue</th>\n",
              "    </tr>\n",
              "  </thead>\n",
              "  <tbody>\n",
              "    <tr>\n",
              "      <th>0</th>\n",
              "      <td>7/29/2011 20:17</td>\n",
              "      <td>PDT</td>\n",
              "      <td>2011-07-29 20:17:00</td>\n",
              "      <td>1.311971e+09</td>\n",
              "    </tr>\n",
              "    <tr>\n",
              "      <th>1</th>\n",
              "      <td>7/30/2011 0:00</td>\n",
              "      <td>PDT</td>\n",
              "      <td>2011-07-30 00:00:00</td>\n",
              "      <td>1.311984e+09</td>\n",
              "    </tr>\n",
              "    <tr>\n",
              "      <th>2</th>\n",
              "      <td>7/30/2011 8:16</td>\n",
              "      <td>PDT</td>\n",
              "      <td>2011-07-30 08:16:00</td>\n",
              "      <td>1.312014e+09</td>\n",
              "    </tr>\n",
              "    <tr>\n",
              "      <th>3</th>\n",
              "      <td>7/30/2011 14:51</td>\n",
              "      <td>PDT</td>\n",
              "      <td>2011-07-30 14:51:00</td>\n",
              "      <td>1.312037e+09</td>\n",
              "    </tr>\n",
              "    <tr>\n",
              "      <th>4</th>\n",
              "      <td>7/30/2011 18:51</td>\n",
              "      <td>PDT</td>\n",
              "      <td>2011-07-30 18:51:00</td>\n",
              "      <td>1.312052e+09</td>\n",
              "    </tr>\n",
              "  </tbody>\n",
              "</table>\n",
              "</div>\n",
              "    <div class=\"colab-df-buttons\">\n",
              "\n",
              "  <div class=\"colab-df-container\">\n",
              "    <button class=\"colab-df-convert\" onclick=\"convertToInteractive('df-e8546bd6-84c4-4a52-ae13-db07e09b4066')\"\n",
              "            title=\"Convert this dataframe to an interactive table.\"\n",
              "            style=\"display:none;\">\n",
              "\n",
              "  <svg xmlns=\"http://www.w3.org/2000/svg\" height=\"24px\" viewBox=\"0 -960 960 960\">\n",
              "    <path d=\"M120-120v-720h720v720H120Zm60-500h600v-160H180v160Zm220 220h160v-160H400v160Zm0 220h160v-160H400v160ZM180-400h160v-160H180v160Zm440 0h160v-160H620v160ZM180-180h160v-160H180v160Zm440 0h160v-160H620v160Z\"/>\n",
              "  </svg>\n",
              "    </button>\n",
              "\n",
              "  <style>\n",
              "    .colab-df-container {\n",
              "      display:flex;\n",
              "      gap: 12px;\n",
              "    }\n",
              "\n",
              "    .colab-df-convert {\n",
              "      background-color: #E8F0FE;\n",
              "      border: none;\n",
              "      border-radius: 50%;\n",
              "      cursor: pointer;\n",
              "      display: none;\n",
              "      fill: #1967D2;\n",
              "      height: 32px;\n",
              "      padding: 0 0 0 0;\n",
              "      width: 32px;\n",
              "    }\n",
              "\n",
              "    .colab-df-convert:hover {\n",
              "      background-color: #E2EBFA;\n",
              "      box-shadow: 0px 1px 2px rgba(60, 64, 67, 0.3), 0px 1px 3px 1px rgba(60, 64, 67, 0.15);\n",
              "      fill: #174EA6;\n",
              "    }\n",
              "\n",
              "    .colab-df-buttons div {\n",
              "      margin-bottom: 4px;\n",
              "    }\n",
              "\n",
              "    [theme=dark] .colab-df-convert {\n",
              "      background-color: #3B4455;\n",
              "      fill: #D2E3FC;\n",
              "    }\n",
              "\n",
              "    [theme=dark] .colab-df-convert:hover {\n",
              "      background-color: #434B5C;\n",
              "      box-shadow: 0px 1px 3px 1px rgba(0, 0, 0, 0.15);\n",
              "      filter: drop-shadow(0px 1px 2px rgba(0, 0, 0, 0.3));\n",
              "      fill: #FFFFFF;\n",
              "    }\n",
              "  </style>\n",
              "\n",
              "    <script>\n",
              "      const buttonEl =\n",
              "        document.querySelector('#df-e8546bd6-84c4-4a52-ae13-db07e09b4066 button.colab-df-convert');\n",
              "      buttonEl.style.display =\n",
              "        google.colab.kernel.accessAllowed ? 'block' : 'none';\n",
              "\n",
              "      async function convertToInteractive(key) {\n",
              "        const element = document.querySelector('#df-e8546bd6-84c4-4a52-ae13-db07e09b4066');\n",
              "        const dataTable =\n",
              "          await google.colab.kernel.invokeFunction('convertToInteractive',\n",
              "                                                    [key], {});\n",
              "        if (!dataTable) return;\n",
              "\n",
              "        const docLinkHtml = 'Like what you see? Visit the ' +\n",
              "          '<a target=\"_blank\" href=https://colab.research.google.com/notebooks/data_table.ipynb>data table notebook</a>'\n",
              "          + ' to learn more about interactive tables.';\n",
              "        element.innerHTML = '';\n",
              "        dataTable['output_type'] = 'display_data';\n",
              "        await google.colab.output.renderOutput(dataTable, element);\n",
              "        const docLink = document.createElement('div');\n",
              "        docLink.innerHTML = docLinkHtml;\n",
              "        element.appendChild(docLink);\n",
              "      }\n",
              "    </script>\n",
              "  </div>\n",
              "\n",
              "\n",
              "<div id=\"df-5e054fb9-fc7e-41d5-b448-9388d69ec566\">\n",
              "  <button class=\"colab-df-quickchart\" onclick=\"quickchart('df-5e054fb9-fc7e-41d5-b448-9388d69ec566')\"\n",
              "            title=\"Suggest charts.\"\n",
              "            style=\"display:none;\">\n",
              "\n",
              "<svg xmlns=\"http://www.w3.org/2000/svg\" height=\"24px\"viewBox=\"0 0 24 24\"\n",
              "     width=\"24px\">\n",
              "    <g>\n",
              "        <path d=\"M19 3H5c-1.1 0-2 .9-2 2v14c0 1.1.9 2 2 2h14c1.1 0 2-.9 2-2V5c0-1.1-.9-2-2-2zM9 17H7v-7h2v7zm4 0h-2V7h2v10zm4 0h-2v-4h2v4z\"/>\n",
              "    </g>\n",
              "</svg>\n",
              "  </button>\n",
              "\n",
              "<style>\n",
              "  .colab-df-quickchart {\n",
              "    background-color: #E8F0FE;\n",
              "    border: none;\n",
              "    border-radius: 50%;\n",
              "    cursor: pointer;\n",
              "    display: none;\n",
              "    fill: #1967D2;\n",
              "    height: 32px;\n",
              "    padding: 0 0 0 0;\n",
              "    width: 32px;\n",
              "  }\n",
              "\n",
              "  .colab-df-quickchart:hover {\n",
              "    background-color: #E2EBFA;\n",
              "    box-shadow: 0px 1px 2px rgba(60, 64, 67, 0.3), 0px 1px 3px 1px rgba(60, 64, 67, 0.15);\n",
              "    fill: #174EA6;\n",
              "  }\n",
              "\n",
              "  [theme=dark] .colab-df-quickchart {\n",
              "    background-color: #3B4455;\n",
              "    fill: #D2E3FC;\n",
              "  }\n",
              "\n",
              "  [theme=dark] .colab-df-quickchart:hover {\n",
              "    background-color: #434B5C;\n",
              "    box-shadow: 0px 1px 3px 1px rgba(0, 0, 0, 0.15);\n",
              "    filter: drop-shadow(0px 1px 2px rgba(0, 0, 0, 0.3));\n",
              "    fill: #FFFFFF;\n",
              "  }\n",
              "</style>\n",
              "\n",
              "  <script>\n",
              "    async function quickchart(key) {\n",
              "      const charts = await google.colab.kernel.invokeFunction(\n",
              "          'suggestCharts', [key], {});\n",
              "    }\n",
              "    (() => {\n",
              "      let quickchartButtonEl =\n",
              "        document.querySelector('#df-5e054fb9-fc7e-41d5-b448-9388d69ec566 button');\n",
              "      quickchartButtonEl.style.display =\n",
              "        google.colab.kernel.accessAllowed ? 'block' : 'none';\n",
              "    })();\n",
              "  </script>\n",
              "</div>\n",
              "    </div>\n",
              "  </div>\n"
            ]
          },
          "metadata": {},
          "execution_count": 25
        }
      ],
      "source": [
        "dfa.head()"
      ]
    },
    {
      "cell_type": "code",
      "execution_count": null,
      "metadata": {
        "id": "-OvSb9H5F6ex"
      },
      "outputs": [],
      "source": [
        "df[\"Start Date\"] = dfa[\"NumericValue\"]"
      ]
    },
    {
      "cell_type": "code",
      "execution_count": null,
      "metadata": {
        "colab": {
          "base_uri": "https://localhost:8080/",
          "height": 567
        },
        "id": "PDU9HEZiGHkn",
        "outputId": "e9239f95-cf6f-4835-97ba-e3132005427b"
      },
      "outputs": [
        {
          "output_type": "execute_result",
          "data": {
            "text/plain": [
              "                 Station Name          MAC Address    Start Date  \\\n",
              "0  PALO ALTO CA / HAMILTON #1  000D:6F00:015A:9D76  1.311971e+09   \n",
              "1  PALO ALTO CA / HAMILTON #1  000D:6F00:015A:9D76  1.311984e+09   \n",
              "2  PALO ALTO CA / HAMILTON #1  000D:6F00:015A:9D76  1.312014e+09   \n",
              "3  PALO ALTO CA / HAMILTON #1  000D:6F00:015A:9D76  1.312037e+09   \n",
              "4  PALO ALTO CA / HAMILTON #1  000D:6F00:015A:9D76  1.312052e+09   \n",
              "\n",
              "  Start Time Zone         End Date End Time Zone  \\\n",
              "0             PDT  7/29/2011 23:20           PDT   \n",
              "1             PDT   7/30/2011 0:02           PDT   \n",
              "2             PDT  7/30/2011 12:34           PDT   \n",
              "3             PDT  7/30/2011 16:55           PDT   \n",
              "4             PDT  7/30/2011 20:03           PDT   \n",
              "\n",
              "  Transaction Date (Pacific Time) Total Duration (hh:mm:ss)  \\\n",
              "0                 7/29/2011 23:20                   3:03:32   \n",
              "1                  7/30/2011 0:02                   0:02:06   \n",
              "2                 7/30/2011 12:34                   4:17:32   \n",
              "3                 7/30/2011 16:55                   2:03:24   \n",
              "4                 7/30/2011 20:03                   1:11:24   \n",
              "\n",
              "  Charging Time (hh:mm:ss)       EVSE ID  ...   Latitude   Longitude  Fee  \\\n",
              "0                  1:54:03  146297.26074  ...  37.444572 -122.160309  0.0   \n",
              "1                  0:01:54  146297.26074  ...  37.444572 -122.160309  0.0   \n",
              "2                  4:17:28  146297.26074  ...  37.444572 -122.160309  0.0   \n",
              "3                  2:02:58  146297.26074  ...  37.444572 -122.160309  0.0   \n",
              "4                  0:43:54  146297.26074  ...  37.444572 -122.160309  0.0   \n",
              "\n",
              "              Ended By  Plug In Event Id  Driver Postal Code  User ID County  \\\n",
              "0  Plug Out at Vehicle                 3             95124.0   3284.0    NaN   \n",
              "1             Customer                 4             94301.0   4169.0    NaN   \n",
              "2  Plug Out at Vehicle                 5             94301.0   4169.0    NaN   \n",
              "3             Customer                 6             94302.0   2545.0    NaN   \n",
              "4  Plug Out at Vehicle                 7             94043.0   3765.0    NaN   \n",
              "\n",
              "     System S/N  Model Number  \n",
              "0  1.443790e+11  CT2100-HD-BW  \n",
              "1  1.443790e+11     CT4020-TR  \n",
              "2  1.443790e+11      CTHCR-TU  \n",
              "3  1.443790e+11      CTHCR-DY  \n",
              "4  1.443790e+11  CT2100-HD-VT  \n",
              "\n",
              "[5 rows x 24 columns]"
            ],
            "text/html": [
              "\n",
              "  <div id=\"df-f87f6a37-bf4c-4912-b98e-dfc05c220305\" class=\"colab-df-container\">\n",
              "    <div>\n",
              "<style scoped>\n",
              "    .dataframe tbody tr th:only-of-type {\n",
              "        vertical-align: middle;\n",
              "    }\n",
              "\n",
              "    .dataframe tbody tr th {\n",
              "        vertical-align: top;\n",
              "    }\n",
              "\n",
              "    .dataframe thead th {\n",
              "        text-align: right;\n",
              "    }\n",
              "</style>\n",
              "<table border=\"1\" class=\"dataframe\">\n",
              "  <thead>\n",
              "    <tr style=\"text-align: right;\">\n",
              "      <th></th>\n",
              "      <th>Station Name</th>\n",
              "      <th>MAC Address</th>\n",
              "      <th>Start Date</th>\n",
              "      <th>Start Time Zone</th>\n",
              "      <th>End Date</th>\n",
              "      <th>End Time Zone</th>\n",
              "      <th>Transaction Date (Pacific Time)</th>\n",
              "      <th>Total Duration (hh:mm:ss)</th>\n",
              "      <th>Charging Time (hh:mm:ss)</th>\n",
              "      <th>EVSE ID</th>\n",
              "      <th>...</th>\n",
              "      <th>Latitude</th>\n",
              "      <th>Longitude</th>\n",
              "      <th>Fee</th>\n",
              "      <th>Ended By</th>\n",
              "      <th>Plug In Event Id</th>\n",
              "      <th>Driver Postal Code</th>\n",
              "      <th>User ID</th>\n",
              "      <th>County</th>\n",
              "      <th>System S/N</th>\n",
              "      <th>Model Number</th>\n",
              "    </tr>\n",
              "  </thead>\n",
              "  <tbody>\n",
              "    <tr>\n",
              "      <th>0</th>\n",
              "      <td>PALO ALTO CA / HAMILTON #1</td>\n",
              "      <td>000D:6F00:015A:9D76</td>\n",
              "      <td>1.311971e+09</td>\n",
              "      <td>PDT</td>\n",
              "      <td>7/29/2011 23:20</td>\n",
              "      <td>PDT</td>\n",
              "      <td>7/29/2011 23:20</td>\n",
              "      <td>3:03:32</td>\n",
              "      <td>1:54:03</td>\n",
              "      <td>146297.26074</td>\n",
              "      <td>...</td>\n",
              "      <td>37.444572</td>\n",
              "      <td>-122.160309</td>\n",
              "      <td>0.0</td>\n",
              "      <td>Plug Out at Vehicle</td>\n",
              "      <td>3</td>\n",
              "      <td>95124.0</td>\n",
              "      <td>3284.0</td>\n",
              "      <td>NaN</td>\n",
              "      <td>1.443790e+11</td>\n",
              "      <td>CT2100-HD-BW</td>\n",
              "    </tr>\n",
              "    <tr>\n",
              "      <th>1</th>\n",
              "      <td>PALO ALTO CA / HAMILTON #1</td>\n",
              "      <td>000D:6F00:015A:9D76</td>\n",
              "      <td>1.311984e+09</td>\n",
              "      <td>PDT</td>\n",
              "      <td>7/30/2011 0:02</td>\n",
              "      <td>PDT</td>\n",
              "      <td>7/30/2011 0:02</td>\n",
              "      <td>0:02:06</td>\n",
              "      <td>0:01:54</td>\n",
              "      <td>146297.26074</td>\n",
              "      <td>...</td>\n",
              "      <td>37.444572</td>\n",
              "      <td>-122.160309</td>\n",
              "      <td>0.0</td>\n",
              "      <td>Customer</td>\n",
              "      <td>4</td>\n",
              "      <td>94301.0</td>\n",
              "      <td>4169.0</td>\n",
              "      <td>NaN</td>\n",
              "      <td>1.443790e+11</td>\n",
              "      <td>CT4020-TR</td>\n",
              "    </tr>\n",
              "    <tr>\n",
              "      <th>2</th>\n",
              "      <td>PALO ALTO CA / HAMILTON #1</td>\n",
              "      <td>000D:6F00:015A:9D76</td>\n",
              "      <td>1.312014e+09</td>\n",
              "      <td>PDT</td>\n",
              "      <td>7/30/2011 12:34</td>\n",
              "      <td>PDT</td>\n",
              "      <td>7/30/2011 12:34</td>\n",
              "      <td>4:17:32</td>\n",
              "      <td>4:17:28</td>\n",
              "      <td>146297.26074</td>\n",
              "      <td>...</td>\n",
              "      <td>37.444572</td>\n",
              "      <td>-122.160309</td>\n",
              "      <td>0.0</td>\n",
              "      <td>Plug Out at Vehicle</td>\n",
              "      <td>5</td>\n",
              "      <td>94301.0</td>\n",
              "      <td>4169.0</td>\n",
              "      <td>NaN</td>\n",
              "      <td>1.443790e+11</td>\n",
              "      <td>CTHCR-TU</td>\n",
              "    </tr>\n",
              "    <tr>\n",
              "      <th>3</th>\n",
              "      <td>PALO ALTO CA / HAMILTON #1</td>\n",
              "      <td>000D:6F00:015A:9D76</td>\n",
              "      <td>1.312037e+09</td>\n",
              "      <td>PDT</td>\n",
              "      <td>7/30/2011 16:55</td>\n",
              "      <td>PDT</td>\n",
              "      <td>7/30/2011 16:55</td>\n",
              "      <td>2:03:24</td>\n",
              "      <td>2:02:58</td>\n",
              "      <td>146297.26074</td>\n",
              "      <td>...</td>\n",
              "      <td>37.444572</td>\n",
              "      <td>-122.160309</td>\n",
              "      <td>0.0</td>\n",
              "      <td>Customer</td>\n",
              "      <td>6</td>\n",
              "      <td>94302.0</td>\n",
              "      <td>2545.0</td>\n",
              "      <td>NaN</td>\n",
              "      <td>1.443790e+11</td>\n",
              "      <td>CTHCR-DY</td>\n",
              "    </tr>\n",
              "    <tr>\n",
              "      <th>4</th>\n",
              "      <td>PALO ALTO CA / HAMILTON #1</td>\n",
              "      <td>000D:6F00:015A:9D76</td>\n",
              "      <td>1.312052e+09</td>\n",
              "      <td>PDT</td>\n",
              "      <td>7/30/2011 20:03</td>\n",
              "      <td>PDT</td>\n",
              "      <td>7/30/2011 20:03</td>\n",
              "      <td>1:11:24</td>\n",
              "      <td>0:43:54</td>\n",
              "      <td>146297.26074</td>\n",
              "      <td>...</td>\n",
              "      <td>37.444572</td>\n",
              "      <td>-122.160309</td>\n",
              "      <td>0.0</td>\n",
              "      <td>Plug Out at Vehicle</td>\n",
              "      <td>7</td>\n",
              "      <td>94043.0</td>\n",
              "      <td>3765.0</td>\n",
              "      <td>NaN</td>\n",
              "      <td>1.443790e+11</td>\n",
              "      <td>CT2100-HD-VT</td>\n",
              "    </tr>\n",
              "  </tbody>\n",
              "</table>\n",
              "<p>5 rows × 24 columns</p>\n",
              "</div>\n",
              "    <div class=\"colab-df-buttons\">\n",
              "\n",
              "  <div class=\"colab-df-container\">\n",
              "    <button class=\"colab-df-convert\" onclick=\"convertToInteractive('df-f87f6a37-bf4c-4912-b98e-dfc05c220305')\"\n",
              "            title=\"Convert this dataframe to an interactive table.\"\n",
              "            style=\"display:none;\">\n",
              "\n",
              "  <svg xmlns=\"http://www.w3.org/2000/svg\" height=\"24px\" viewBox=\"0 -960 960 960\">\n",
              "    <path d=\"M120-120v-720h720v720H120Zm60-500h600v-160H180v160Zm220 220h160v-160H400v160Zm0 220h160v-160H400v160ZM180-400h160v-160H180v160Zm440 0h160v-160H620v160ZM180-180h160v-160H180v160Zm440 0h160v-160H620v160Z\"/>\n",
              "  </svg>\n",
              "    </button>\n",
              "\n",
              "  <style>\n",
              "    .colab-df-container {\n",
              "      display:flex;\n",
              "      gap: 12px;\n",
              "    }\n",
              "\n",
              "    .colab-df-convert {\n",
              "      background-color: #E8F0FE;\n",
              "      border: none;\n",
              "      border-radius: 50%;\n",
              "      cursor: pointer;\n",
              "      display: none;\n",
              "      fill: #1967D2;\n",
              "      height: 32px;\n",
              "      padding: 0 0 0 0;\n",
              "      width: 32px;\n",
              "    }\n",
              "\n",
              "    .colab-df-convert:hover {\n",
              "      background-color: #E2EBFA;\n",
              "      box-shadow: 0px 1px 2px rgba(60, 64, 67, 0.3), 0px 1px 3px 1px rgba(60, 64, 67, 0.15);\n",
              "      fill: #174EA6;\n",
              "    }\n",
              "\n",
              "    .colab-df-buttons div {\n",
              "      margin-bottom: 4px;\n",
              "    }\n",
              "\n",
              "    [theme=dark] .colab-df-convert {\n",
              "      background-color: #3B4455;\n",
              "      fill: #D2E3FC;\n",
              "    }\n",
              "\n",
              "    [theme=dark] .colab-df-convert:hover {\n",
              "      background-color: #434B5C;\n",
              "      box-shadow: 0px 1px 3px 1px rgba(0, 0, 0, 0.15);\n",
              "      filter: drop-shadow(0px 1px 2px rgba(0, 0, 0, 0.3));\n",
              "      fill: #FFFFFF;\n",
              "    }\n",
              "  </style>\n",
              "\n",
              "    <script>\n",
              "      const buttonEl =\n",
              "        document.querySelector('#df-f87f6a37-bf4c-4912-b98e-dfc05c220305 button.colab-df-convert');\n",
              "      buttonEl.style.display =\n",
              "        google.colab.kernel.accessAllowed ? 'block' : 'none';\n",
              "\n",
              "      async function convertToInteractive(key) {\n",
              "        const element = document.querySelector('#df-f87f6a37-bf4c-4912-b98e-dfc05c220305');\n",
              "        const dataTable =\n",
              "          await google.colab.kernel.invokeFunction('convertToInteractive',\n",
              "                                                    [key], {});\n",
              "        if (!dataTable) return;\n",
              "\n",
              "        const docLinkHtml = 'Like what you see? Visit the ' +\n",
              "          '<a target=\"_blank\" href=https://colab.research.google.com/notebooks/data_table.ipynb>data table notebook</a>'\n",
              "          + ' to learn more about interactive tables.';\n",
              "        element.innerHTML = '';\n",
              "        dataTable['output_type'] = 'display_data';\n",
              "        await google.colab.output.renderOutput(dataTable, element);\n",
              "        const docLink = document.createElement('div');\n",
              "        docLink.innerHTML = docLinkHtml;\n",
              "        element.appendChild(docLink);\n",
              "      }\n",
              "    </script>\n",
              "  </div>\n",
              "\n",
              "\n",
              "<div id=\"df-3ff4109b-5be5-4bc4-b272-d7627958d80e\">\n",
              "  <button class=\"colab-df-quickchart\" onclick=\"quickchart('df-3ff4109b-5be5-4bc4-b272-d7627958d80e')\"\n",
              "            title=\"Suggest charts.\"\n",
              "            style=\"display:none;\">\n",
              "\n",
              "<svg xmlns=\"http://www.w3.org/2000/svg\" height=\"24px\"viewBox=\"0 0 24 24\"\n",
              "     width=\"24px\">\n",
              "    <g>\n",
              "        <path d=\"M19 3H5c-1.1 0-2 .9-2 2v14c0 1.1.9 2 2 2h14c1.1 0 2-.9 2-2V5c0-1.1-.9-2-2-2zM9 17H7v-7h2v7zm4 0h-2V7h2v10zm4 0h-2v-4h2v4z\"/>\n",
              "    </g>\n",
              "</svg>\n",
              "  </button>\n",
              "\n",
              "<style>\n",
              "  .colab-df-quickchart {\n",
              "    background-color: #E8F0FE;\n",
              "    border: none;\n",
              "    border-radius: 50%;\n",
              "    cursor: pointer;\n",
              "    display: none;\n",
              "    fill: #1967D2;\n",
              "    height: 32px;\n",
              "    padding: 0 0 0 0;\n",
              "    width: 32px;\n",
              "  }\n",
              "\n",
              "  .colab-df-quickchart:hover {\n",
              "    background-color: #E2EBFA;\n",
              "    box-shadow: 0px 1px 2px rgba(60, 64, 67, 0.3), 0px 1px 3px 1px rgba(60, 64, 67, 0.15);\n",
              "    fill: #174EA6;\n",
              "  }\n",
              "\n",
              "  [theme=dark] .colab-df-quickchart {\n",
              "    background-color: #3B4455;\n",
              "    fill: #D2E3FC;\n",
              "  }\n",
              "\n",
              "  [theme=dark] .colab-df-quickchart:hover {\n",
              "    background-color: #434B5C;\n",
              "    box-shadow: 0px 1px 3px 1px rgba(0, 0, 0, 0.15);\n",
              "    filter: drop-shadow(0px 1px 2px rgba(0, 0, 0, 0.3));\n",
              "    fill: #FFFFFF;\n",
              "  }\n",
              "</style>\n",
              "\n",
              "  <script>\n",
              "    async function quickchart(key) {\n",
              "      const charts = await google.colab.kernel.invokeFunction(\n",
              "          'suggestCharts', [key], {});\n",
              "    }\n",
              "    (() => {\n",
              "      let quickchartButtonEl =\n",
              "        document.querySelector('#df-3ff4109b-5be5-4bc4-b272-d7627958d80e button');\n",
              "      quickchartButtonEl.style.display =\n",
              "        google.colab.kernel.accessAllowed ? 'block' : 'none';\n",
              "    })();\n",
              "  </script>\n",
              "</div>\n",
              "    </div>\n",
              "  </div>\n"
            ]
          },
          "metadata": {},
          "execution_count": 27
        }
      ],
      "source": [
        "df.head()"
      ]
    },
    {
      "cell_type": "code",
      "execution_count": null,
      "metadata": {
        "colab": {
          "base_uri": "https://localhost:8080/"
        },
        "id": "w0vEYyhZGKCG",
        "outputId": "46337de3-bbe3-48ff-89d0-cbdfa006be6f"
      },
      "outputs": [
        {
          "output_type": "stream",
          "name": "stdout",
          "text": [
            "Original dataset:\n",
            "                          Station Name          MAC Address    Start Date  \\\n",
            "0           PALO ALTO CA / HAMILTON #1  000D:6F00:015A:9D76  1.311971e+09   \n",
            "1           PALO ALTO CA / HAMILTON #1  000D:6F00:015A:9D76  1.311984e+09   \n",
            "2           PALO ALTO CA / HAMILTON #1  000D:6F00:015A:9D76  1.312014e+09   \n",
            "3           PALO ALTO CA / HAMILTON #1  000D:6F00:015A:9D76  1.312037e+09   \n",
            "4           PALO ALTO CA / HAMILTON #1  000D:6F00:015A:9D76  1.312052e+09   \n",
            "...                                ...                  ...           ...   \n",
            "259410  PALO ALTO CA / TED THOMPSON #3  0024:B100:0002:9F81  1.609433e+09   \n",
            "259411       PALO ALTO CA / WEBSTER #1  0024:B100:0002:4233  1.609433e+09   \n",
            "259412           PALO ALTO CA / MPL #4  0024:B100:0003:CD37  1.609436e+09   \n",
            "259413       PALO ALTO CA / WEBSTER #1  0024:B100:0002:4233  1.609437e+09   \n",
            "259414     PALO ALTO CA / CAMBRIDGE #4  0024:B100:0003:3A0A  1.609439e+09   \n",
            "\n",
            "       Start Time Zone          End Date End Time Zone  \\\n",
            "0                  PDT   7/29/2011 23:20           PDT   \n",
            "1                  PDT    7/30/2011 0:02           PDT   \n",
            "2                  PDT   7/30/2011 12:34           PDT   \n",
            "3                  PDT   7/30/2011 16:55           PDT   \n",
            "4                  PDT   7/30/2011 20:03           PDT   \n",
            "...                ...               ...           ...   \n",
            "259410             PST  12/31/2020 17:14           PST   \n",
            "259411             PST  12/31/2020 20:31           PST   \n",
            "259412             PST    1/1/2021 10:56           PST   \n",
            "259413             PST  12/31/2020 21:55           PST   \n",
            "259414             PST  12/31/2020 19:01           PST   \n",
            "\n",
            "       Transaction Date (Pacific Time) Total Duration (hh:mm:ss)  \\\n",
            "0                      7/29/2011 23:20                   3:03:32   \n",
            "1                       7/30/2011 0:02                   0:02:06   \n",
            "2                      7/30/2011 12:34                   4:17:32   \n",
            "3                      7/30/2011 16:55                   2:03:24   \n",
            "4                      7/30/2011 20:03                   1:11:24   \n",
            "...                                ...                       ...   \n",
            "259410                12/31/2020 17:16                   0:35:44   \n",
            "259411                12/31/2020 20:32                   3:43:01   \n",
            "259412                  1/1/2021 10:57                  17:28:14   \n",
            "259413                12/31/2020 21:56                   4:05:34   \n",
            "259414                12/31/2020 19:02                   0:42:07   \n",
            "\n",
            "       Charging Time (hh:mm:ss)       EVSE ID  ...   Latitude   Longitude  \\\n",
            "0                       1:54:03  1.462973e+05  ...  37.444572 -122.160309   \n",
            "1                       0:01:54  1.462973e+05  ...  37.444572 -122.160309   \n",
            "2                       4:17:28  1.462973e+05  ...  37.444572 -122.160309   \n",
            "3                       2:02:58  1.462973e+05  ...  37.444572 -122.160309   \n",
            "4                       0:43:54  1.462973e+05  ...  37.444572 -122.160309   \n",
            "...                         ...           ...  ...        ...         ...   \n",
            "259410                  0:35:18  3.442610e+05  ...  37.428623 -122.144043   \n",
            "259411                  2:14:04  1.044270e+05  ...  37.448284 -122.158272   \n",
            "259412                  5:08:12  2.884001e+06  ...  37.422104 -122.113510   \n",
            "259413                  3:53:42  1.044270e+05  ...  37.448284 -122.158272   \n",
            "259414                  0:41:44  3.375710e+05  ...  37.426178 -122.146034   \n",
            "\n",
            "         Fee             Ended By  Plug In Event Id  Driver Postal Code  \\\n",
            "0       0.00  Plug Out at Vehicle                 3             95124.0   \n",
            "1       0.00             Customer                 4             94301.0   \n",
            "2       0.00  Plug Out at Vehicle                 5             94301.0   \n",
            "3       0.00             Customer                 6             94302.0   \n",
            "4       0.00  Plug Out at Vehicle                 7             94043.0   \n",
            "...      ...                  ...               ...                 ...   \n",
            "259410  0.42  Plug Out at Vehicle              2369             94301.0   \n",
            "259411  4.69  Plug Out at Vehicle              7255             94541.0   \n",
            "259412  6.82  Plug Out at Vehicle               455             94306.0   \n",
            "259413  2.75  Plug Out at Vehicle              7256             94552.0   \n",
            "259414  0.36  Plug Out at Vehicle              2302             94305.0   \n",
            "\n",
            "        User ID              County    System S/N  Model Number  \n",
            "0        3284.0                 NaN  1.443790e+11  CT2100-HD-BW  \n",
            "1        4169.0                 NaN  1.443790e+11     CT4020-TR  \n",
            "2        4169.0                 NaN  1.443790e+11      CTHCR-TU  \n",
            "3        2545.0                 NaN  1.443790e+11      CTHCR-DY  \n",
            "4        3765.0                 NaN  1.443790e+11  CT2100-HD-VT  \n",
            "...         ...                 ...           ...           ...  \n",
            "259410  2024201                 NaN  1.745410e+11  CT4020-HD-GW  \n",
            "259411   242661  Santa Clara County  1.336410e+11  CT4020-HD-GW  \n",
            "259412   449995  Santa Clara County  2.002410e+11  CT4010-HD-GW  \n",
            "259413   804075  Santa Clara County  1.336410e+11  CT4020-HD-GW  \n",
            "259414  2022651  Santa Clara County  1.852410e+11  CT4020-HD-GW  \n",
            "\n",
            "[259415 rows x 24 columns]\n",
            "\n",
            "Dataset after dropping invalid rows:\n",
            "                          Station Name          MAC Address    Start Date  \\\n",
            "0           PALO ALTO CA / HAMILTON #1  000D:6F00:015A:9D76  1.311971e+09   \n",
            "1           PALO ALTO CA / HAMILTON #1  000D:6F00:015A:9D76  1.311984e+09   \n",
            "2           PALO ALTO CA / HAMILTON #1  000D:6F00:015A:9D76  1.312014e+09   \n",
            "3           PALO ALTO CA / HAMILTON #1  000D:6F00:015A:9D76  1.312037e+09   \n",
            "4           PALO ALTO CA / HAMILTON #1  000D:6F00:015A:9D76  1.312052e+09   \n",
            "...                                ...                  ...           ...   \n",
            "259410  PALO ALTO CA / TED THOMPSON #3  0024:B100:0002:9F81  1.609433e+09   \n",
            "259411       PALO ALTO CA / WEBSTER #1  0024:B100:0002:4233  1.609433e+09   \n",
            "259412           PALO ALTO CA / MPL #4  0024:B100:0003:CD37  1.609436e+09   \n",
            "259413       PALO ALTO CA / WEBSTER #1  0024:B100:0002:4233  1.609437e+09   \n",
            "259414     PALO ALTO CA / CAMBRIDGE #4  0024:B100:0003:3A0A  1.609439e+09   \n",
            "\n",
            "       Start Time Zone          End Date End Time Zone  \\\n",
            "0                  PDT   7/29/2011 23:20           PDT   \n",
            "1                  PDT    7/30/2011 0:02           PDT   \n",
            "2                  PDT   7/30/2011 12:34           PDT   \n",
            "3                  PDT   7/30/2011 16:55           PDT   \n",
            "4                  PDT   7/30/2011 20:03           PDT   \n",
            "...                ...               ...           ...   \n",
            "259410             PST  12/31/2020 17:14           PST   \n",
            "259411             PST  12/31/2020 20:31           PST   \n",
            "259412             PST    1/1/2021 10:56           PST   \n",
            "259413             PST  12/31/2020 21:55           PST   \n",
            "259414             PST  12/31/2020 19:01           PST   \n",
            "\n",
            "       Transaction Date (Pacific Time) Total Duration (hh:mm:ss)  \\\n",
            "0                      7/29/2011 23:20                   3:03:32   \n",
            "1                       7/30/2011 0:02                   0:02:06   \n",
            "2                      7/30/2011 12:34                   4:17:32   \n",
            "3                      7/30/2011 16:55                   2:03:24   \n",
            "4                      7/30/2011 20:03                   1:11:24   \n",
            "...                                ...                       ...   \n",
            "259410                12/31/2020 17:16                   0:35:44   \n",
            "259411                12/31/2020 20:32                   3:43:01   \n",
            "259412                  1/1/2021 10:57                  17:28:14   \n",
            "259413                12/31/2020 21:56                   4:05:34   \n",
            "259414                12/31/2020 19:02                   0:42:07   \n",
            "\n",
            "       Charging Time (hh:mm:ss)       EVSE ID  ...   Latitude   Longitude  \\\n",
            "0                       1:54:03  1.462973e+05  ...  37.444572 -122.160309   \n",
            "1                       0:01:54  1.462973e+05  ...  37.444572 -122.160309   \n",
            "2                       4:17:28  1.462973e+05  ...  37.444572 -122.160309   \n",
            "3                       2:02:58  1.462973e+05  ...  37.444572 -122.160309   \n",
            "4                       0:43:54  1.462973e+05  ...  37.444572 -122.160309   \n",
            "...                         ...           ...  ...        ...         ...   \n",
            "259410                  0:35:18  3.442610e+05  ...  37.428623 -122.144043   \n",
            "259411                  2:14:04  1.044270e+05  ...  37.448284 -122.158272   \n",
            "259412                  5:08:12  2.884001e+06  ...  37.422104 -122.113510   \n",
            "259413                  3:53:42  1.044270e+05  ...  37.448284 -122.158272   \n",
            "259414                  0:41:44  3.375710e+05  ...  37.426178 -122.146034   \n",
            "\n",
            "         Fee             Ended By  Plug In Event Id  Driver Postal Code  \\\n",
            "0       0.00  Plug Out at Vehicle                 3             95124.0   \n",
            "1       0.00             Customer                 4             94301.0   \n",
            "2       0.00  Plug Out at Vehicle                 5             94301.0   \n",
            "3       0.00             Customer                 6             94302.0   \n",
            "4       0.00  Plug Out at Vehicle                 7             94043.0   \n",
            "...      ...                  ...               ...                 ...   \n",
            "259410  0.42  Plug Out at Vehicle              2369             94301.0   \n",
            "259411  4.69  Plug Out at Vehicle              7255             94541.0   \n",
            "259412  6.82  Plug Out at Vehicle               455             94306.0   \n",
            "259413  2.75  Plug Out at Vehicle              7256             94552.0   \n",
            "259414  0.36  Plug Out at Vehicle              2302             94305.0   \n",
            "\n",
            "        User ID              County    System S/N  Model Number  \n",
            "0        3284.0                 NaN  1.443790e+11  CT2100-HD-BW  \n",
            "1        4169.0                 NaN  1.443790e+11     CT4020-TR  \n",
            "2        4169.0                 NaN  1.443790e+11      CTHCR-TU  \n",
            "3        2545.0                 NaN  1.443790e+11      CTHCR-DY  \n",
            "4        3765.0                 NaN  1.443790e+11  CT2100-HD-VT  \n",
            "...         ...                 ...           ...           ...  \n",
            "259410  2024201                 NaN  1.745410e+11  CT4020-HD-GW  \n",
            "259411   242661  Santa Clara County  1.336410e+11  CT4020-HD-GW  \n",
            "259412   449995  Santa Clara County  2.002410e+11  CT4010-HD-GW  \n",
            "259413   804075  Santa Clara County  1.336410e+11  CT4020-HD-GW  \n",
            "259414  2022651  Santa Clara County  1.852410e+11  CT4020-HD-GW  \n",
            "\n",
            "[259375 rows x 24 columns]\n"
          ]
        }
      ],
      "source": [
        "print(\"Original dataset:\")\n",
        "print(df)\n",
        "\n",
        "# Function to check if a value is a valid date and time format\n",
        "def is_valid_datetime(value):\n",
        "    try:\n",
        "        datetime.strptime(value, '%m/%d/%Y %H:%M')\n",
        "        return True\n",
        "    except ValueError:\n",
        "        return False\n",
        "\n",
        "# Filter out rows with invalid date and time values\n",
        "df = df[df['End Date'].apply(is_valid_datetime)]\n",
        "\n",
        "# Print the dataset after dropping invalid rows\n",
        "print(\"\\nDataset after dropping invalid rows:\")\n",
        "print(df)"
      ]
    },
    {
      "cell_type": "code",
      "execution_count": null,
      "metadata": {
        "id": "FF11R3slGUSU"
      },
      "outputs": [],
      "source": [
        "selected_columns = ['End Date', 'End Time Zone']\n",
        "\n",
        "# Create a new DataFrame with the selected columns\n",
        "dfb = df[selected_columns]"
      ]
    },
    {
      "cell_type": "code",
      "execution_count": null,
      "metadata": {
        "colab": {
          "base_uri": "https://localhost:8080/"
        },
        "id": "hpkmNcRSGlJA",
        "outputId": "9cb9af9d-0048-4370-cf20-94d335a3e3bb"
      },
      "outputs": [
        {
          "output_type": "stream",
          "name": "stdout",
          "text": [
            "                End Date End Time Zone          ConvertedDateTime  \\\n",
            "0        7/29/2011 23:20           PDT        2011-07-29 23:20:00   \n",
            "1         7/30/2011 0:02           PDT        2011-07-30 00:02:00   \n",
            "2        7/30/2011 12:34           PDT        2011-07-30 12:34:00   \n",
            "3        7/30/2011 16:55           PDT        2011-07-30 16:55:00   \n",
            "4        7/30/2011 20:03           PDT        2011-07-30 20:03:00   \n",
            "...                  ...           ...                        ...   \n",
            "259410  12/31/2020 17:14           PST  2020-12-31 17:14:00-08:00   \n",
            "259411  12/31/2020 20:31           PST  2020-12-31 20:31:00-08:00   \n",
            "259412    1/1/2021 10:56           PST  2021-01-01 10:56:00-08:00   \n",
            "259413  12/31/2020 21:55           PST  2020-12-31 21:55:00-08:00   \n",
            "259414  12/31/2020 19:01           PST  2020-12-31 19:01:00-08:00   \n",
            "\n",
            "        NumericValue  \n",
            "0       1.311982e+09  \n",
            "1       1.311984e+09  \n",
            "2       1.312029e+09  \n",
            "3       1.312045e+09  \n",
            "4       1.312056e+09  \n",
            "...              ...  \n",
            "259410  1.609435e+09  \n",
            "259411  1.609447e+09  \n",
            "259412  1.609499e+09  \n",
            "259413  1.609452e+09  \n",
            "259414  1.609441e+09  \n",
            "\n",
            "[259375 rows x 4 columns]\n"
          ]
        },
        {
          "output_type": "stream",
          "name": "stderr",
          "text": [
            "<ipython-input-30-33177a2b38be>:38: SettingWithCopyWarning: \n",
            "A value is trying to be set on a copy of a slice from a DataFrame.\n",
            "Try using .loc[row_indexer,col_indexer] = value instead\n",
            "\n",
            "See the caveats in the documentation: https://pandas.pydata.org/pandas-docs/stable/user_guide/indexing.html#returning-a-view-versus-a-copy\n",
            "  dfb[\"ConvertedDateTime\"] = converted_date_times\n",
            "<ipython-input-30-33177a2b38be>:39: SettingWithCopyWarning: \n",
            "A value is trying to be set on a copy of a slice from a DataFrame.\n",
            "Try using .loc[row_indexer,col_indexer] = value instead\n",
            "\n",
            "See the caveats in the documentation: https://pandas.pydata.org/pandas-docs/stable/user_guide/indexing.html#returning-a-view-versus-a-copy\n",
            "  dfb[\"NumericValue\"] = numeric_values\n"
          ]
        }
      ],
      "source": [
        "import pandas as pd\n",
        "import pytz\n",
        "from datetime import datetime\n",
        "\n",
        "# Define time zones\n",
        "pst = pytz.timezone('US/Pacific')\n",
        "pdt = pytz.timezone('US/Pacific')\n",
        "\n",
        "# Function to convert PST to PDT\n",
        "def convert_pst_to_pdt(date_str):\n",
        "    dt_object = datetime.strptime(date_str, \"%m/%d/%Y %H:%M\")\n",
        "    dt_object = pst.localize(dt_object)\n",
        "    dt_object_pdt = dt_object.astimezone(pdt)\n",
        "\n",
        "    return dt_object_pdt\n",
        "\n",
        "# Function to convert date and time to numeric value\n",
        "def convert_to_numeric(date_str):\n",
        "    dt_object = datetime.strptime(date_str, \"%m/%d/%Y %H:%M\")\n",
        "    numeric_value = dt_object.timestamp()\n",
        "\n",
        "    return numeric_value\n",
        "\n",
        "# Convert PST to PDT and apply numeric conversion\n",
        "converted_date_times = []\n",
        "numeric_values = []\n",
        "\n",
        "for index, row in dfb.iterrows():\n",
        "    if row[\"End Time Zone\"] == \"PST\":\n",
        "        converted_dt = convert_pst_to_pdt(row[\"End Date\"])\n",
        "    else:\n",
        "        converted_dt = datetime.strptime(row[\"End Date\"], \"%m/%d/%Y %H:%M\")\n",
        "\n",
        "    converted_date_times.append(converted_dt)\n",
        "    numeric_value = convert_to_numeric(row[\"End Date\"])\n",
        "    numeric_values.append(numeric_value)\n",
        "\n",
        "dfb[\"ConvertedDateTime\"] = converted_date_times\n",
        "dfb[\"NumericValue\"] = numeric_values\n",
        "\n",
        "print(dfb)\n"
      ]
    },
    {
      "cell_type": "code",
      "execution_count": null,
      "metadata": {
        "id": "KYqZIqULGmIu"
      },
      "outputs": [],
      "source": [
        "df[\"End Date\"] = dfa[\"NumericValue\"]"
      ]
    },
    {
      "cell_type": "code",
      "execution_count": null,
      "metadata": {
        "id": "q_7EsRr0GoOQ"
      },
      "outputs": [],
      "source": [
        "columns_to_drop=['Start Time Zone','End Time Zone','Transaction Date (Pacific Time)']\n",
        "df.drop(columns=columns_to_drop, inplace=True)"
      ]
    },
    {
      "cell_type": "code",
      "execution_count": null,
      "metadata": {
        "colab": {
          "base_uri": "https://localhost:8080/"
        },
        "id": "hr3SF34CG0yE",
        "outputId": "02337e3d-34fd-4549-e75d-efc5e9036650"
      },
      "outputs": [
        {
          "output_type": "execute_result",
          "data": {
            "text/plain": [
              "Index(['Station Name', 'MAC Address', 'Start Date', 'End Date',\n",
              "       'Total Duration (hh:mm:ss)', 'Charging Time (hh:mm:ss)', 'EVSE ID',\n",
              "       'Address 1', 'City', 'State/Province', 'Postal Code', 'Latitude',\n",
              "       'Longitude', 'Fee', 'Ended By', 'Plug In Event Id',\n",
              "       'Driver Postal Code', 'User ID', 'County', 'System S/N',\n",
              "       'Model Number'],\n",
              "      dtype='object')"
            ]
          },
          "metadata": {},
          "execution_count": 33
        }
      ],
      "source": [
        "df.columns"
      ]
    },
    {
      "cell_type": "code",
      "execution_count": null,
      "metadata": {
        "id": "9L6v9_xRG-jE"
      },
      "outputs": [],
      "source": [
        "def time_to_numeric(time_str):\n",
        "    hours, minutes, seconds = map(int, time_str.split(':'))\n",
        "    total_hours = hours + minutes / 60 + seconds / 3600\n",
        "    return total_hours\n",
        "\n",
        "df['Total_time_hours'] = df['Total Duration (hh:mm:ss)'].apply(time_to_numeric)\n",
        "\n",
        "df['Charging_time_hours'] = df['Charging Time (hh:mm:ss)'].apply(time_to_numeric)"
      ]
    },
    {
      "cell_type": "code",
      "execution_count": null,
      "metadata": {
        "id": "VHMDwBUGHBA_"
      },
      "outputs": [],
      "source": [
        "columns_to_drop=['Total Duration (hh:mm:ss)','Charging Time (hh:mm:ss)']\n",
        "df.drop(columns=columns_to_drop, inplace=True)"
      ]
    },
    {
      "cell_type": "code",
      "execution_count": null,
      "metadata": {
        "colab": {
          "base_uri": "https://localhost:8080/"
        },
        "id": "K1-JTLM3HCSp",
        "outputId": "3025075b-b75f-4d84-c36a-0c2fd11009d3"
      },
      "outputs": [
        {
          "output_type": "execute_result",
          "data": {
            "text/plain": [
              "Index(['Station Name', 'MAC Address', 'Start Date', 'End Date', 'EVSE ID',\n",
              "       'Address 1', 'City', 'State/Province', 'Postal Code', 'Latitude',\n",
              "       'Longitude', 'Fee', 'Ended By', 'Plug In Event Id',\n",
              "       'Driver Postal Code', 'User ID', 'County', 'System S/N', 'Model Number',\n",
              "       'Total_time_hours', 'Charging_time_hours'],\n",
              "      dtype='object')"
            ]
          },
          "metadata": {},
          "execution_count": 36
        }
      ],
      "source": [
        "df.columns"
      ]
    },
    {
      "cell_type": "code",
      "source": [
        "fig, ax = plt.subplots(1, 5, figsize=(25,4))\n",
        "\n",
        "sns.set_theme(style=\"whitegrid\")\n",
        "for axid, col in enumerate(['Start Date', 'End Date','System S/N',\n",
        "       'Total_time_hours', 'Charging_time_hours' ]):\n",
        "    sns.boxplot(x=df[col], ax=ax[axid])"
      ],
      "metadata": {
        "id": "MmICbixCIq1t",
        "colab": {
          "base_uri": "https://localhost:8080/",
          "height": 243
        },
        "outputId": "ed998a67-7076-43c4-889a-9e57c5ef1e58"
      },
      "execution_count": null,
      "outputs": [
        {
          "output_type": "display_data",
          "data": {
            "text/plain": [
              "<Figure size 2500x400 with 5 Axes>"
            ],
            "image/png": "[encoded data removed]"
          },
          "metadata": {}
        }
      ]
    },
    {
      "cell_type": "code",
      "source": [
        "fig, ax = plt.subplots(1, 6, figsize=(25,3))\n",
        "\n",
        "sns.set_theme(style=\"whitegrid\")\n",
        "for axid, col in enumerate(['Driver Postal Code', 'Plug In Event Id', 'Fee','Postal Code', 'Latitude',\n",
        "       'Longitude'  ]):\n",
        "    sns.boxplot(x=df[col], ax=ax[axid])"
      ],
      "metadata": {
        "id": "nRHo2B1FJLeY",
        "colab": {
          "base_uri": "https://localhost:8080/",
          "height": 200
        },
        "outputId": "1ed7fe74-de6e-42b4-f0da-3436b09c6388"
      },
      "execution_count": null,
      "outputs": [
        {
          "output_type": "display_data",
          "data": {
            "text/plain": [
              "<Figure size 2500x300 with 6 Axes>"
            ],
            "image/png": "[encoded data removed]"
          },
          "metadata": {}
        }
      ]
    },
    {
      "cell_type": "code",
      "source": [
        "per25 = df['Driver Postal Code'].quantile(0.25)\n",
        "per75 = df['Driver Postal Code'].quantile(0.75)"
      ],
      "metadata": {
        "id": "fpYAWQiWJNxc"
      },
      "execution_count": null,
      "outputs": []
    },
    {
      "cell_type": "code",
      "source": [
        "iqr = per75 - per25"
      ],
      "metadata": {
        "id": "GqBUUNTTJPnm"
      },
      "execution_count": null,
      "outputs": []
    },
    {
      "cell_type": "code",
      "source": [
        "iqr"
      ],
      "metadata": {
        "id": "hmkp_tsxJSZh",
        "colab": {
          "base_uri": "https://localhost:8080/"
        },
        "outputId": "044925d5-2d84-409c-e38b-dcefba6bdb72"
      },
      "execution_count": null,
      "outputs": [
        {
          "output_type": "execute_result",
          "data": {
            "text/plain": [
              "531.0"
            ]
          },
          "metadata": {},
          "execution_count": 41
        }
      ]
    },
    {
      "cell_type": "code",
      "source": [
        "\n",
        "columns_to_handle = ['Driver Postal Code', 'Plug In Event Id', 'Fee','Postal Code', 'Latitude',\n",
        "       'Longitude','Start Date', 'End Date','System S/N',\n",
        "       'Total_time_hours', 'Charging_time_hours']\n",
        "\n",
        "# Define a function to handle outliers using IQR\n",
        "def handle_outliers_iqr(df, column):\n",
        "    Q1 = df[column].quantile(0.25)\n",
        "    Q3 = df[column].quantile(0.75)\n",
        "    IQR = Q3 - Q1\n",
        "    lower_bound = Q1 - 1.5 * IQR\n",
        "    upper_bound = Q3 + 1.5 * IQR\n",
        "    df[column] = df[column].apply(lambda x: upper_bound if x > upper_bound else lower_bound if x < lower_bound else x)\n",
        "    return df\n",
        "\n",
        "# Apply the IQR-based outlier handling to each column\n",
        "for col in columns_to_handle:\n",
        "    df = handle_outliers_iqr(df, col)\n",
        "\n",
        "# Print the DataFrame after handling outliers\n",
        "print(df)"
      ],
      "metadata": {
        "id": "MXv2nfHKJUZk",
        "colab": {
          "base_uri": "https://localhost:8080/"
        },
        "outputId": "4c277470-9eac-4d6f-d92e-8e82607fd2a3"
      },
      "execution_count": null,
      "outputs": [
        {
          "output_type": "stream",
          "name": "stdout",
          "text": [
            "                          Station Name          MAC Address    Start Date  \\\n",
            "0           PALO ALTO CA / HAMILTON #1  000D:6F00:015A:9D76  1.328615e+09   \n",
            "1           PALO ALTO CA / HAMILTON #1  000D:6F00:015A:9D76  1.328615e+09   \n",
            "2           PALO ALTO CA / HAMILTON #1  000D:6F00:015A:9D76  1.328615e+09   \n",
            "3           PALO ALTO CA / HAMILTON #1  000D:6F00:015A:9D76  1.328615e+09   \n",
            "4           PALO ALTO CA / HAMILTON #1  000D:6F00:015A:9D76  1.328615e+09   \n",
            "...                                ...                  ...           ...   \n",
            "259410  PALO ALTO CA / TED THOMPSON #3  0024:B100:0002:9F81  1.609433e+09   \n",
            "259411       PALO ALTO CA / WEBSTER #1  0024:B100:0002:4233  1.609433e+09   \n",
            "259412           PALO ALTO CA / MPL #4  0024:B100:0003:CD37  1.609436e+09   \n",
            "259413       PALO ALTO CA / WEBSTER #1  0024:B100:0002:4233  1.609437e+09   \n",
            "259414     PALO ALTO CA / CAMBRIDGE #4  0024:B100:0003:3A0A  1.609439e+09   \n",
            "\n",
            "            End Date       EVSE ID            Address 1       City  \\\n",
            "0       1.328615e+09  1.462973e+05     250 Hamilton Ave  Palo Alto   \n",
            "1       1.328615e+09  1.462973e+05     250 Hamilton Ave  Palo Alto   \n",
            "2       1.328615e+09  1.462973e+05     250 Hamilton Ave  Palo Alto   \n",
            "3       1.328615e+09  1.462973e+05     250 Hamilton Ave  Palo Alto   \n",
            "4       1.328615e+09  1.462973e+05     250 Hamilton Ave  Palo Alto   \n",
            "...              ...           ...                  ...        ...   \n",
            "259410  1.609433e+09  3.442610e+05    275 Cambridge Ave  Palo Alto   \n",
            "259411  1.609433e+09  1.044270e+05       520 Webster St  Palo Alto   \n",
            "259412  1.609436e+09  2.884001e+06  3700 Middlefield Rd  Palo Alto   \n",
            "259413  1.609437e+09  1.044270e+05       520 Webster St  Palo Alto   \n",
            "259414  1.609439e+09  3.375710e+05    475 Cambridge Ave  Palo Alto   \n",
            "\n",
            "       State/Province  Postal Code   Latitude  ...   Fee             Ended By  \\\n",
            "0          California        94301  37.444572  ...  0.00  Plug Out at Vehicle   \n",
            "1          California        94301  37.444572  ...  0.00             Customer   \n",
            "2          California        94301  37.444572  ...  0.00  Plug Out at Vehicle   \n",
            "3          California        94301  37.444572  ...  0.00             Customer   \n",
            "4          California        94301  37.444572  ...  0.00  Plug Out at Vehicle   \n",
            "...               ...          ...        ...  ...   ...                  ...   \n",
            "259410     California        94306  37.428623  ...  0.42  Plug Out at Vehicle   \n",
            "259411     California        94301  37.448284  ...  4.10  Plug Out at Vehicle   \n",
            "259412     California        94303  37.422104  ...  4.10  Plug Out at Vehicle   \n",
            "259413     California        94301  37.448284  ...  2.75  Plug Out at Vehicle   \n",
            "259414     California        94306  37.426178  ...  0.36  Plug Out at Vehicle   \n",
            "\n",
            "       Plug In Event Id  Driver Postal Code  User ID              County  \\\n",
            "0                   3.0             95124.0   3284.0                 NaN   \n",
            "1                   4.0             94301.0   4169.0                 NaN   \n",
            "2                   5.0             94301.0   4169.0                 NaN   \n",
            "3                   6.0             94302.0   2545.0                 NaN   \n",
            "4                   7.0             94043.0   3765.0                 NaN   \n",
            "...                 ...                 ...      ...                 ...   \n",
            "259410           2369.0             94301.0  2024201                 NaN   \n",
            "259411           7255.0             94541.0   242661  Santa Clara County   \n",
            "259412            455.0             94306.0   449995  Santa Clara County   \n",
            "259413           7256.0             94552.0   804075  Santa Clara County   \n",
            "259414           2302.0             94305.0  2022651  Santa Clara County   \n",
            "\n",
            "          System S/N  Model Number Total_time_hours  Charging_time_hours  \n",
            "0       1.443790e+11  CT2100-HD-BW         3.058889             1.900833  \n",
            "1       1.443790e+11     CT4020-TR         0.035000             0.031667  \n",
            "2       1.443790e+11      CTHCR-TU         4.292222             4.291111  \n",
            "3       1.443790e+11      CTHCR-DY         2.056667             2.049444  \n",
            "4       1.443790e+11  CT2100-HD-VT         1.190000             0.731667  \n",
            "...              ...           ...              ...                  ...  \n",
            "259410  1.475861e+11  CT4020-HD-GW         0.595556             0.588333  \n",
            "259411  1.390340e+11  CT4020-HD-GW         3.716944             2.234444  \n",
            "259412  1.475861e+11  CT4010-HD-GW         5.968750             5.136667  \n",
            "259413  1.390340e+11  CT4020-HD-GW         4.092778             3.895000  \n",
            "259414  1.475861e+11  CT4020-HD-GW         0.701944             0.695556  \n",
            "\n",
            "[259375 rows x 21 columns]\n"
          ]
        }
      ]
    },
    {
      "cell_type": "code",
      "source": [
        "df.shape"
      ],
      "metadata": {
        "id": "QW4lBWy_JWn6",
        "colab": {
          "base_uri": "https://localhost:8080/"
        },
        "outputId": "50946599-7748-4d9a-a4b0-e1f3f50a6019"
      },
      "execution_count": null,
      "outputs": [
        {
          "output_type": "execute_result",
          "data": {
            "text/plain": [
              "(259375, 21)"
            ]
          },
          "metadata": {},
          "execution_count": 43
        }
      ]
    },
    {
      "cell_type": "markdown",
      "source": [
        "# **Lable encoding and one hot encoding**"
      ],
      "metadata": {
        "id": "wReDK58P939a"
      }
    },
    {
      "cell_type": "code",
      "source": [
        "from sklearn.preprocessing import LabelEncoder\n",
        "\n",
        "# Create a LabelEncoder object\n",
        "label_encoder = LabelEncoder()\n",
        "\n",
        "# Assuming 'string_column' is the name of the column containing string data\n",
        "df['Label_encode_station_Name'] = label_encoder.fit_transform(df['Station Name'])"
      ],
      "metadata": {
        "id": "VrqlzQglYqrW"
      },
      "execution_count": null,
      "outputs": []
    },
    {
      "cell_type": "code",
      "source": [
        "df.head()"
      ],
      "metadata": {
        "id": "wqPjAe12eHHM",
        "colab": {
          "base_uri": "https://localhost:8080/",
          "height": 567
        },
        "outputId": "aab0c282-96ae-4a99-837a-a831f87f665e"
      },
      "execution_count": null,
      "outputs": [
        {
          "output_type": "execute_result",
          "data": {
            "text/plain": [
              "                 Station Name          MAC Address    Start Date  \\\n",
              "0  PALO ALTO CA / HAMILTON #1  000D:6F00:015A:9D76  1.328615e+09   \n",
              "1  PALO ALTO CA / HAMILTON #1  000D:6F00:015A:9D76  1.328615e+09   \n",
              "2  PALO ALTO CA / HAMILTON #1  000D:6F00:015A:9D76  1.328615e+09   \n",
              "3  PALO ALTO CA / HAMILTON #1  000D:6F00:015A:9D76  1.328615e+09   \n",
              "4  PALO ALTO CA / HAMILTON #1  000D:6F00:015A:9D76  1.328615e+09   \n",
              "\n",
              "       End Date       EVSE ID         Address 1       City State/Province  \\\n",
              "0  1.328615e+09  146297.26074  250 Hamilton Ave  Palo Alto     California   \n",
              "1  1.328615e+09  146297.26074  250 Hamilton Ave  Palo Alto     California   \n",
              "2  1.328615e+09  146297.26074  250 Hamilton Ave  Palo Alto     California   \n",
              "3  1.328615e+09  146297.26074  250 Hamilton Ave  Palo Alto     California   \n",
              "4  1.328615e+09  146297.26074  250 Hamilton Ave  Palo Alto     California   \n",
              "\n",
              "   Postal Code   Latitude  ...             Ended By  Plug In Event Id  \\\n",
              "0        94301  37.444572  ...  Plug Out at Vehicle               3.0   \n",
              "1        94301  37.444572  ...             Customer               4.0   \n",
              "2        94301  37.444572  ...  Plug Out at Vehicle               5.0   \n",
              "3        94301  37.444572  ...             Customer               6.0   \n",
              "4        94301  37.444572  ...  Plug Out at Vehicle               7.0   \n",
              "\n",
              "  Driver Postal Code  User ID  County    System S/N  Model Number  \\\n",
              "0            95124.0   3284.0     NaN  1.443790e+11  CT2100-HD-BW   \n",
              "1            94301.0   4169.0     NaN  1.443790e+11     CT4020-TR   \n",
              "2            94301.0   4169.0     NaN  1.443790e+11      CTHCR-TU   \n",
              "3            94302.0   2545.0     NaN  1.443790e+11      CTHCR-DY   \n",
              "4            94043.0   3765.0     NaN  1.443790e+11  CT2100-HD-VT   \n",
              "\n",
              "   Total_time_hours Charging_time_hours  Label_encode  \n",
              "0          3.058889            1.900833            12  \n",
              "1          0.035000            0.031667            12  \n",
              "2          4.292222            4.291111            12  \n",
              "3          2.056667            2.049444            12  \n",
              "4          1.190000            0.731667            12  \n",
              "\n",
              "[5 rows x 22 columns]"
            ],
            "text/html": [
              "\n",
              "  <div id=\"df-aacdd3e6-151d-4f4e-9431-4f5895642399\" class=\"colab-df-container\">\n",
              "    <div>\n",
              "<style scoped>\n",
              "    .dataframe tbody tr th:only-of-type {\n",
              "        vertical-align: middle;\n",
              "    }\n",
              "\n",
              "    .dataframe tbody tr th {\n",
              "        vertical-align: top;\n",
              "    }\n",
              "\n",
              "    .dataframe thead th {\n",
              "        text-align: right;\n",
              "    }\n",
              "</style>\n",
              "<table border=\"1\" class=\"dataframe\">\n",
              "  <thead>\n",
              "    <tr style=\"text-align: right;\">\n",
              "      <th></th>\n",
              "      <th>Station Name</th>\n",
              "      <th>MAC Address</th>\n",
              "      <th>Start Date</th>\n",
              "      <th>End Date</th>\n",
              "      <th>EVSE ID</th>\n",
              "      <th>Address 1</th>\n",
              "      <th>City</th>\n",
              "      <th>State/Province</th>\n",
              "      <th>Postal Code</th>\n",
              "      <th>Latitude</th>\n",
              "      <th>...</th>\n",
              "      <th>Ended By</th>\n",
              "      <th>Plug In Event Id</th>\n",
              "      <th>Driver Postal Code</th>\n",
              "      <th>User ID</th>\n",
              "      <th>County</th>\n",
              "      <th>System S/N</th>\n",
              "      <th>Model Number</th>\n",
              "      <th>Total_time_hours</th>\n",
              "      <th>Charging_time_hours</th>\n",
              "      <th>Label_encode</th>\n",
              "    </tr>\n",
              "  </thead>\n",
              "  <tbody>\n",
              "    <tr>\n",
              "      <th>0</th>\n",
              "      <td>PALO ALTO CA / HAMILTON #1</td>\n",
              "      <td>000D:6F00:015A:9D76</td>\n",
              "      <td>1.328615e+09</td>\n",
              "      <td>1.328615e+09</td>\n",
              "      <td>146297.26074</td>\n",
              "      <td>250 Hamilton Ave</td>\n",
              "      <td>Palo Alto</td>\n",
              "      <td>California</td>\n",
              "      <td>94301</td>\n",
              "      <td>37.444572</td>\n",
              "      <td>...</td>\n",
              "      <td>Plug Out at Vehicle</td>\n",
              "      <td>3.0</td>\n",
              "      <td>95124.0</td>\n",
              "      <td>3284.0</td>\n",
              "      <td>NaN</td>\n",
              "      <td>1.443790e+11</td>\n",
              "      <td>CT2100-HD-BW</td>\n",
              "      <td>3.058889</td>\n",
              "      <td>1.900833</td>\n",
              "      <td>12</td>\n",
              "    </tr>\n",
              "    <tr>\n",
              "      <th>1</th>\n",
              "      <td>PALO ALTO CA / HAMILTON #1</td>\n",
              "      <td>000D:6F00:015A:9D76</td>\n",
              "      <td>1.328615e+09</td>\n",
              "      <td>1.328615e+09</td>\n",
              "      <td>146297.26074</td>\n",
              "      <td>250 Hamilton Ave</td>\n",
              "      <td>Palo Alto</td>\n",
              "      <td>California</td>\n",
              "      <td>94301</td>\n",
              "      <td>37.444572</td>\n",
              "      <td>...</td>\n",
              "      <td>Customer</td>\n",
              "      <td>4.0</td>\n",
              "      <td>94301.0</td>\n",
              "      <td>4169.0</td>\n",
              "      <td>NaN</td>\n",
              "      <td>1.443790e+11</td>\n",
              "      <td>CT4020-TR</td>\n",
              "      <td>0.035000</td>\n",
              "      <td>0.031667</td>\n",
              "      <td>12</td>\n",
              "    </tr>\n",
              "    <tr>\n",
              "      <th>2</th>\n",
              "      <td>PALO ALTO CA / HAMILTON #1</td>\n",
              "      <td>000D:6F00:015A:9D76</td>\n",
              "      <td>1.328615e+09</td>\n",
              "      <td>1.328615e+09</td>\n",
              "      <td>146297.26074</td>\n",
              "      <td>250 Hamilton Ave</td>\n",
              "      <td>Palo Alto</td>\n",
              "      <td>California</td>\n",
              "      <td>94301</td>\n",
              "      <td>37.444572</td>\n",
              "      <td>...</td>\n",
              "      <td>Plug Out at Vehicle</td>\n",
              "      <td>5.0</td>\n",
              "      <td>94301.0</td>\n",
              "      <td>4169.0</td>\n",
              "      <td>NaN</td>\n",
              "      <td>1.443790e+11</td>\n",
              "      <td>CTHCR-TU</td>\n",
              "      <td>4.292222</td>\n",
              "      <td>4.291111</td>\n",
              "      <td>12</td>\n",
              "    </tr>\n",
              "    <tr>\n",
              "      <th>3</th>\n",
              "      <td>PALO ALTO CA / HAMILTON #1</td>\n",
              "      <td>000D:6F00:015A:9D76</td>\n",
              "      <td>1.328615e+09</td>\n",
              "      <td>1.328615e+09</td>\n",
              "      <td>146297.26074</td>\n",
              "      <td>250 Hamilton Ave</td>\n",
              "      <td>Palo Alto</td>\n",
              "      <td>California</td>\n",
              "      <td>94301</td>\n",
              "      <td>37.444572</td>\n",
              "      <td>...</td>\n",
              "      <td>Customer</td>\n",
              "      <td>6.0</td>\n",
              "      <td>94302.0</td>\n",
              "      <td>2545.0</td>\n",
              "      <td>NaN</td>\n",
              "      <td>1.443790e+11</td>\n",
              "      <td>CTHCR-DY</td>\n",
              "      <td>2.056667</td>\n",
              "      <td>2.049444</td>\n",
              "      <td>12</td>\n",
              "    </tr>\n",
              "    <tr>\n",
              "      <th>4</th>\n",
              "      <td>PALO ALTO CA / HAMILTON #1</td>\n",
              "      <td>000D:6F00:015A:9D76</td>\n",
              "      <td>1.328615e+09</td>\n",
              "      <td>1.328615e+09</td>\n",
              "      <td>146297.26074</td>\n",
              "      <td>250 Hamilton Ave</td>\n",
              "      <td>Palo Alto</td>\n",
              "      <td>California</td>\n",
              "      <td>94301</td>\n",
              "      <td>37.444572</td>\n",
              "      <td>...</td>\n",
              "      <td>Plug Out at Vehicle</td>\n",
              "      <td>7.0</td>\n",
              "      <td>94043.0</td>\n",
              "      <td>3765.0</td>\n",
              "      <td>NaN</td>\n",
              "      <td>1.443790e+11</td>\n",
              "      <td>CT2100-HD-VT</td>\n",
              "      <td>1.190000</td>\n",
              "      <td>0.731667</td>\n",
              "      <td>12</td>\n",
              "    </tr>\n",
              "  </tbody>\n",
              "</table>\n",
              "<p>5 rows × 22 columns</p>\n",
              "</div>\n",
              "    <div class=\"colab-df-buttons\">\n",
              "\n",
              "  <div class=\"colab-df-container\">\n",
              "    <button class=\"colab-df-convert\" onclick=\"convertToInteractive('df-aacdd3e6-151d-4f4e-9431-4f5895642399')\"\n",
              "            title=\"Convert this dataframe to an interactive table.\"\n",
              "            style=\"display:none;\">\n",
              "\n",
              "  <svg xmlns=\"http://www.w3.org/2000/svg\" height=\"24px\" viewBox=\"0 -960 960 960\">\n",
              "    <path d=\"M120-120v-720h720v720H120Zm60-500h600v-160H180v160Zm220 220h160v-160H400v160Zm0 220h160v-160H400v160ZM180-400h160v-160H180v160Zm440 0h160v-160H620v160ZM180-180h160v-160H180v160Zm440 0h160v-160H620v160Z\"/>\n",
              "  </svg>\n",
              "    </button>\n",
              "\n",
              "  <style>\n",
              "    .colab-df-container {\n",
              "      display:flex;\n",
              "      gap: 12px;\n",
              "    }\n",
              "\n",
              "    .colab-df-convert {\n",
              "      background-color: #E8F0FE;\n",
              "      border: none;\n",
              "      border-radius: 50%;\n",
              "      cursor: pointer;\n",
              "      display: none;\n",
              "      fill: #1967D2;\n",
              "      height: 32px;\n",
              "      padding: 0 0 0 0;\n",
              "      width: 32px;\n",
              "    }\n",
              "\n",
              "    .colab-df-convert:hover {\n",
              "      background-color: #E2EBFA;\n",
              "      box-shadow: 0px 1px 2px rgba(60, 64, 67, 0.3), 0px 1px 3px 1px rgba(60, 64, 67, 0.15);\n",
              "      fill: #174EA6;\n",
              "    }\n",
              "\n",
              "    .colab-df-buttons div {\n",
              "      margin-bottom: 4px;\n",
              "    }\n",
              "\n",
              "    [theme=dark] .colab-df-convert {\n",
              "      background-color: #3B4455;\n",
              "      fill: #D2E3FC;\n",
              "    }\n",
              "\n",
              "    [theme=dark] .colab-df-convert:hover {\n",
              "      background-color: #434B5C;\n",
              "      box-shadow: 0px 1px 3px 1px rgba(0, 0, 0, 0.15);\n",
              "      filter: drop-shadow(0px 1px 2px rgba(0, 0, 0, 0.3));\n",
              "      fill: #FFFFFF;\n",
              "    }\n",
              "  </style>\n",
              "\n",
              "    <script>\n",
              "      const buttonEl =\n",
              "        document.querySelector('#df-aacdd3e6-151d-4f4e-9431-4f5895642399 button.colab-df-convert');\n",
              "      buttonEl.style.display =\n",
              "        google.colab.kernel.accessAllowed ? 'block' : 'none';\n",
              "\n",
              "      async function convertToInteractive(key) {\n",
              "        const element = document.querySelector('#df-aacdd3e6-151d-4f4e-9431-4f5895642399');\n",
              "        const dataTable =\n",
              "          await google.colab.kernel.invokeFunction('convertToInteractive',\n",
              "                                                    [key], {});\n",
              "        if (!dataTable) return;\n",
              "\n",
              "        const docLinkHtml = 'Like what you see? Visit the ' +\n",
              "          '<a target=\"_blank\" href=https://colab.research.google.com/notebooks/data_table.ipynb>data table notebook</a>'\n",
              "          + ' to learn more about interactive tables.';\n",
              "        element.innerHTML = '';\n",
              "        dataTable['output_type'] = 'display_data';\n",
              "        await google.colab.output.renderOutput(dataTable, element);\n",
              "        const docLink = document.createElement('div');\n",
              "        docLink.innerHTML = docLinkHtml;\n",
              "        element.appendChild(docLink);\n",
              "      }\n",
              "    </script>\n",
              "  </div>\n",
              "\n",
              "\n",
              "<div id=\"df-aa2d571f-30ff-465c-9b9c-92f60c406875\">\n",
              "  <button class=\"colab-df-quickchart\" onclick=\"quickchart('df-aa2d571f-30ff-465c-9b9c-92f60c406875')\"\n",
              "            title=\"Suggest charts.\"\n",
              "            style=\"display:none;\">\n",
              "\n",
              "<svg xmlns=\"http://www.w3.org/2000/svg\" height=\"24px\"viewBox=\"0 0 24 24\"\n",
              "     width=\"24px\">\n",
              "    <g>\n",
              "        <path d=\"M19 3H5c-1.1 0-2 .9-2 2v14c0 1.1.9 2 2 2h14c1.1 0 2-.9 2-2V5c0-1.1-.9-2-2-2zM9 17H7v-7h2v7zm4 0h-2V7h2v10zm4 0h-2v-4h2v4z\"/>\n",
              "    </g>\n",
              "</svg>\n",
              "  </button>\n",
              "\n",
              "<style>\n",
              "  .colab-df-quickchart {\n",
              "    background-color: #E8F0FE;\n",
              "    border: none;\n",
              "    border-radius: 50%;\n",
              "    cursor: pointer;\n",
              "    display: none;\n",
              "    fill: #1967D2;\n",
              "    height: 32px;\n",
              "    padding: 0 0 0 0;\n",
              "    width: 32px;\n",
              "  }\n",
              "\n",
              "  .colab-df-quickchart:hover {\n",
              "    background-color: #E2EBFA;\n",
              "    box-shadow: 0px 1px 2px rgba(60, 64, 67, 0.3), 0px 1px 3px 1px rgba(60, 64, 67, 0.15);\n",
              "    fill: #174EA6;\n",
              "  }\n",
              "\n",
              "  [theme=dark] .colab-df-quickchart {\n",
              "    background-color: #3B4455;\n",
              "    fill: #D2E3FC;\n",
              "  }\n",
              "\n",
              "  [theme=dark] .colab-df-quickchart:hover {\n",
              "    background-color: #434B5C;\n",
              "    box-shadow: 0px 1px 3px 1px rgba(0, 0, 0, 0.15);\n",
              "    filter: drop-shadow(0px 1px 2px rgba(0, 0, 0, 0.3));\n",
              "    fill: #FFFFFF;\n",
              "  }\n",
              "</style>\n",
              "\n",
              "  <script>\n",
              "    async function quickchart(key) {\n",
              "      const charts = await google.colab.kernel.invokeFunction(\n",
              "          'suggestCharts', [key], {});\n",
              "    }\n",
              "    (() => {\n",
              "      let quickchartButtonEl =\n",
              "        document.querySelector('#df-aa2d571f-30ff-465c-9b9c-92f60c406875 button');\n",
              "      quickchartButtonEl.style.display =\n",
              "        google.colab.kernel.accessAllowed ? 'block' : 'none';\n",
              "    })();\n",
              "  </script>\n",
              "</div>\n",
              "    </div>\n",
              "  </div>\n"
            ]
          },
          "metadata": {},
          "execution_count": 45
        }
      ]
    },
    {
      "cell_type": "markdown",
      "source": [
        "# **One hot encoding Station Name**"
      ],
      "metadata": {
        "id": "IRMaAkCOHrp_"
      }
    },
    {
      "cell_type": "code",
      "source": [
        "# Assuming 'string_column' is the name of the column containing string data\n",
        "encoded_columns = pd.get_dummies(df['Station Name'], prefix='Station Name',drop_first=True)"
      ],
      "metadata": {
        "id": "bOsF-XqJeHsR"
      },
      "execution_count": null,
      "outputs": []
    },
    {
      "cell_type": "code",
      "source": [
        "encoded_columns.columns"
      ],
      "metadata": {
        "id": "nX4lKKYkeIHc",
        "colab": {
          "base_uri": "https://localhost:8080/"
        },
        "outputId": "f645b745-655a-4edc-8328-bb69be992a33"
      },
      "execution_count": null,
      "outputs": [
        {
          "output_type": "execute_result",
          "data": {
            "text/plain": [
              "Index(['Station Name_PALO ALTO CA / BRYANT #1',\n",
              "       'Station Name_PALO ALTO CA / BRYANT #2',\n",
              "       'Station Name_PALO ALTO CA / BRYANT #3',\n",
              "       'Station Name_PALO ALTO CA / BRYANT #4',\n",
              "       'Station Name_PALO ALTO CA / BRYANT #5',\n",
              "       'Station Name_PALO ALTO CA / BRYANT #6',\n",
              "       'Station Name_PALO ALTO CA / CAMBRIDGE #1',\n",
              "       'Station Name_PALO ALTO CA / CAMBRIDGE #2',\n",
              "       'Station Name_PALO ALTO CA / CAMBRIDGE #3',\n",
              "       'Station Name_PALO ALTO CA / CAMBRIDGE #4',\n",
              "       'Station Name_PALO ALTO CA / CAMBRIDGE #5',\n",
              "       'Station Name_PALO ALTO CA / HAMILTON #1',\n",
              "       'Station Name_PALO ALTO CA / HAMILTON #2',\n",
              "       'Station Name_PALO ALTO CA / HIGH #1',\n",
              "       'Station Name_PALO ALTO CA / HIGH #2',\n",
              "       'Station Name_PALO ALTO CA / HIGH #3',\n",
              "       'Station Name_PALO ALTO CA / HIGH #4',\n",
              "       'Station Name_PALO ALTO CA / MPL #1',\n",
              "       'Station Name_PALO ALTO CA / MPL #2',\n",
              "       'Station Name_PALO ALTO CA / MPL #3',\n",
              "       'Station Name_PALO ALTO CA / MPL #4',\n",
              "       'Station Name_PALO ALTO CA / MPL #5',\n",
              "       'Station Name_PALO ALTO CA / MPL #6',\n",
              "       'Station Name_PALO ALTO CA / RINCONADA LIB 1',\n",
              "       'Station Name_PALO ALTO CA / RINCONADA LIB 2',\n",
              "       'Station Name_PALO ALTO CA / RINCONADA LIB 3',\n",
              "       'Station Name_PALO ALTO CA / SHERMAN 1',\n",
              "       'Station Name_PALO ALTO CA / SHERMAN 11',\n",
              "       'Station Name_PALO ALTO CA / SHERMAN 14',\n",
              "       'Station Name_PALO ALTO CA / SHERMAN 15',\n",
              "       'Station Name_PALO ALTO CA / SHERMAN 17',\n",
              "       'Station Name_PALO ALTO CA / SHERMAN 2',\n",
              "       'Station Name_PALO ALTO CA / SHERMAN 3',\n",
              "       'Station Name_PALO ALTO CA / SHERMAN 4',\n",
              "       'Station Name_PALO ALTO CA / SHERMAN 5',\n",
              "       'Station Name_PALO ALTO CA / SHERMAN 6',\n",
              "       'Station Name_PALO ALTO CA / SHERMAN 7',\n",
              "       'Station Name_PALO ALTO CA / SHERMAN 8',\n",
              "       'Station Name_PALO ALTO CA / SHERMAN 9',\n",
              "       'Station Name_PALO ALTO CA / TED THOMPSON #1',\n",
              "       'Station Name_PALO ALTO CA / TED THOMPSON #2',\n",
              "       'Station Name_PALO ALTO CA / TED THOMPSON #3',\n",
              "       'Station Name_PALO ALTO CA / TED THOMPSON #4',\n",
              "       'Station Name_PALO ALTO CA / WEBSTER #1',\n",
              "       'Station Name_PALO ALTO CA / WEBSTER #2',\n",
              "       'Station Name_PALO ALTO CA / WEBSTER #3'],\n",
              "      dtype='object')"
            ]
          },
          "metadata": {},
          "execution_count": 17
        }
      ]
    },
    {
      "cell_type": "code",
      "source": [
        "encoded_columns.shape"
      ],
      "metadata": {
        "id": "2u9fgeu8eIl6",
        "colab": {
          "base_uri": "https://localhost:8080/"
        },
        "outputId": "abc34e88-2664-4631-8ea7-ccea8fab427c"
      },
      "execution_count": null,
      "outputs": [
        {
          "output_type": "execute_result",
          "data": {
            "text/plain": [
              "(259375, 46)"
            ]
          },
          "metadata": {},
          "execution_count": 18
        }
      ]
    },
    {
      "cell_type": "code",
      "source": [
        "data = pd.Series(df['Station Name'])\n",
        "\n",
        "# Using value_counts to count unique values\n",
        "value_counts = data.value_counts()\n",
        "\n",
        "print(value_counts)"
      ],
      "metadata": {
        "colab": {
          "base_uri": "https://localhost:8080/"
        },
        "id": "iy6ka1kWT9Pu",
        "outputId": "4bd15905-4cf6-4dd3-d1c1-5adc3b43d655"
      },
      "execution_count": null,
      "outputs": [
        {
          "output_type": "stream",
          "name": "stdout",
          "text": [
            "PALO ALTO CA / HAMILTON #2        23718\n",
            "PALO ALTO CA / HAMILTON #1        14886\n",
            "PALO ALTO CA / WEBSTER #1         14430\n",
            "PALO ALTO CA / BRYANT #2          14388\n",
            "PALO ALTO CA / HIGH #4            13898\n",
            "PALO ALTO CA / BRYANT #1          13435\n",
            "PALO ALTO CA / WEBSTER #2         12667\n",
            "PALO ALTO CA / CAMBRIDGE #1       11162\n",
            "PALO ALTO CA / HIGH #1            10752\n",
            "PALO ALTO CA / WEBSTER #3         10482\n",
            "PALO ALTO CA / TED THOMPSON #1     9812\n",
            "PALO ALTO CA / CAMBRIDGE #2        9253\n",
            "PALO ALTO CA / MPL #6              8993\n",
            "PALO ALTO CA / HIGH #3             8313\n",
            "PALO ALTO CA / MPL #4              7787\n",
            "PALO ALTO CA / MPL #5              7541\n",
            "PALO ALTO CA / HIGH #2             6928\n",
            "PALO ALTO CA / RINCONADA LIB 3     6499\n",
            "PALO ALTO CA / RINCONADA LIB 1     6212\n",
            "PALO ALTO CA / BRYANT #6           5857\n",
            "PALO ALTO CA / RINCONADA LIB 2     5552\n",
            "PALO ALTO CA / BRYANT #5           5331\n",
            "PALO ALTO CA / CAMBRIDGE #5        4556\n",
            "PALO ALTO CA / CAMBRIDGE #3        4476\n",
            "PALO ALTO CA / BRYANT #3           4473\n",
            "PALO ALTO CA / BRYANT #4           3598\n",
            "PALO ALTO CA / CAMBRIDGE #4        3428\n",
            "PALO ALTO CA / TED THOMPSON #3     2455\n",
            "PALO ALTO CA / TED THOMPSON #4     2226\n",
            "PALO ALTO CA / TED THOMPSON #2     2217\n",
            "PALO ALTO CA / MPL #2              1535\n",
            "PALO ALTO CA / MPL #3              1420\n",
            "PALO ALTO CA / MPL #1              1043\n",
            "PALO ALTO CA / BRYANT # 1            13\n",
            "PALO ALTO CA / SHERMAN 3              8\n",
            "PALO ALTO CA / SHERMAN 1              7\n",
            "PALO ALTO CA / SHERMAN 2              4\n",
            "PALO ALTO CA / SHERMAN 4              4\n",
            "PALO ALTO CA / SHERMAN 7              4\n",
            "PALO ALTO CA / SHERMAN 6              3\n",
            "PALO ALTO CA / SHERMAN 8              2\n",
            "PALO ALTO CA / SHERMAN 14             2\n",
            "PALO ALTO CA / SHERMAN 9              1\n",
            "PALO ALTO CA / SHERMAN 5              1\n",
            "PALO ALTO CA / SHERMAN 15             1\n",
            "PALO ALTO CA / SHERMAN 11             1\n",
            "PALO ALTO CA / SHERMAN 17             1\n",
            "Name: Station Name, dtype: int64\n"
          ]
        }
      ]
    },
    {
      "cell_type": "code",
      "source": [
        "df['Station Name'].nunique()\n",
        "threshold=5000"
      ],
      "metadata": {
        "id": "uFRkwrpWUHlX"
      },
      "execution_count": null,
      "outputs": []
    },
    {
      "cell_type": "code",
      "source": [
        "repl = value_counts[value_counts<=threshold].index"
      ],
      "metadata": {
        "id": "vi5O9ml9U_6u"
      },
      "execution_count": null,
      "outputs": []
    },
    {
      "cell_type": "code",
      "source": [
        "one_hot_col_stat = pd.get_dummies(df['Station Name'].replace(repl,'uncommon'))"
      ],
      "metadata": {
        "id": "EWJ9SmloVQN0"
      },
      "execution_count": null,
      "outputs": []
    },
    {
      "cell_type": "code",
      "source": [
        "one_hot_col_stat.columns"
      ],
      "metadata": {
        "colab": {
          "base_uri": "https://localhost:8080/"
        },
        "id": "F90R0cys_4TS",
        "outputId": "3bfc6a02-7cee-4a3c-e61e-363ccb13fd92"
      },
      "execution_count": null,
      "outputs": [
        {
          "output_type": "execute_result",
          "data": {
            "text/plain": [
              "Index(['PALO ALTO CA / BRYANT #1', 'PALO ALTO CA / BRYANT #2',\n",
              "       'PALO ALTO CA / BRYANT #5', 'PALO ALTO CA / BRYANT #6',\n",
              "       'PALO ALTO CA / CAMBRIDGE #1', 'PALO ALTO CA / CAMBRIDGE #2',\n",
              "       'PALO ALTO CA / HAMILTON #1', 'PALO ALTO CA / HAMILTON #2',\n",
              "       'PALO ALTO CA / HIGH #1', 'PALO ALTO CA / HIGH #2',\n",
              "       'PALO ALTO CA / HIGH #3', 'PALO ALTO CA / HIGH #4',\n",
              "       'PALO ALTO CA / MPL #4', 'PALO ALTO CA / MPL #5',\n",
              "       'PALO ALTO CA / MPL #6', 'PALO ALTO CA / RINCONADA LIB 1',\n",
              "       'PALO ALTO CA / RINCONADA LIB 2', 'PALO ALTO CA / RINCONADA LIB 3',\n",
              "       'PALO ALTO CA / TED THOMPSON #1', 'PALO ALTO CA / WEBSTER #1',\n",
              "       'PALO ALTO CA / WEBSTER #2', 'PALO ALTO CA / WEBSTER #3', 'uncommon'],\n",
              "      dtype='object')"
            ]
          },
          "metadata": {},
          "execution_count": 24
        }
      ]
    },
    {
      "cell_type": "markdown",
      "source": [
        "# **Dropping City and State**\n",
        "# **Reason:- Contain single value**"
      ],
      "metadata": {
        "id": "BkGsTMo0HyJB"
      }
    },
    {
      "cell_type": "code",
      "source": [
        "df = df.drop(['City', 'State/Province'],axis=1)"
      ],
      "metadata": {
        "id": "4SGDolyhDTlM"
      },
      "execution_count": null,
      "outputs": []
    },
    {
      "cell_type": "code",
      "source": [
        "df.columns"
      ],
      "metadata": {
        "colab": {
          "base_uri": "https://localhost:8080/"
        },
        "id": "pDMaGWx9F1pF",
        "outputId": "569cac75-8de9-4c58-80f9-b060ebadc017"
      },
      "execution_count": null,
      "outputs": [
        {
          "output_type": "execute_result",
          "data": {
            "text/plain": [
              "Index(['Station Name', 'MAC Address', 'Start Date', 'End Date', 'EVSE ID',\n",
              "       'Address 1', 'Postal Code', 'Latitude', 'Longitude', 'Fee', 'Ended By',\n",
              "       'Plug In Event Id', 'Driver Postal Code', 'User ID', 'County',\n",
              "       'System S/N', 'Model Number', 'Total_time_hours', 'Charging_time_hours',\n",
              "       'Label_encode'],\n",
              "      dtype='object')"
            ]
          },
          "metadata": {},
          "execution_count": 69
        }
      ]
    },
    {
      "cell_type": "code",
      "source": [
        "df = pd.read_csv('/content/drive/MyDrive/data_mining/Project/dataset/df_processed.csv')"
      ],
      "metadata": {
        "id": "uR84D904ZXh6",
        "colab": {
          "base_uri": "https://localhost:8080/"
        },
        "outputId": "46683932-cca4-4f3f-9ff6-b43bb7c4fc17"
      },
      "execution_count": null,
      "outputs": [
        {
          "output_type": "stream",
          "name": "stderr",
          "text": [
            "<ipython-input-3-2b2a156bf99e>:1: DtypeWarning: Columns (13) have mixed types. Specify dtype option on import or set low_memory=False.\n",
            "  df = pd.read_csv('/content/drive/MyDrive/data_mining/Project/dataset/df_processed.csv')\n"
          ]
        }
      ]
    },
    {
      "cell_type": "markdown",
      "source": [
        "# **Label encoding County**"
      ],
      "metadata": {
        "id": "x5Rkdr8xHdp8"
      }
    },
    {
      "cell_type": "code",
      "source": [
        "label_encoder = LabelEncoder()\n",
        "\n",
        "# Assuming 'string_column' is the name of the column containing string data\n",
        "df['Label_encode_County'] = label_encoder.fit_transform(df['County'])"
      ],
      "metadata": {
        "id": "ZSw0KXVsGcND"
      },
      "execution_count": null,
      "outputs": []
    },
    {
      "cell_type": "code",
      "source": [
        "df = df.drop([\"Label_encode\"],axis=1)"
      ],
      "metadata": {
        "id": "DcUIJH65GxYf"
      },
      "execution_count": null,
      "outputs": []
    },
    {
      "cell_type": "code",
      "source": [
        "df.columns"
      ],
      "metadata": {
        "colab": {
          "base_uri": "https://localhost:8080/"
        },
        "id": "a3ypbHorG_Yt",
        "outputId": "7d5a57ac-88ec-4ed5-964d-4704d935de6f"
      },
      "execution_count": null,
      "outputs": [
        {
          "output_type": "execute_result",
          "data": {
            "text/plain": [
              "Index(['Station Name', 'MAC Address', 'Start Date', 'End Date', 'EVSE ID',\n",
              "       'Address 1', 'Postal Code', 'Latitude', 'Longitude', 'Fee', 'Ended By',\n",
              "       'Plug In Event Id', 'Driver Postal Code', 'User ID', 'System S/N',\n",
              "       'Model Number', 'Total_time_hours', 'Charging_time_hours',\n",
              "       'Label_encode_station_Name', 'Label_encode_County'],\n",
              "      dtype='object')"
            ]
          },
          "metadata": {},
          "execution_count": 80
        }
      ]
    },
    {
      "cell_type": "markdown",
      "source": [
        "# **One hot encoding Address 1**"
      ],
      "metadata": {
        "id": "Lu3grtJ6HifY"
      }
    },
    {
      "cell_type": "code",
      "source": [
        "# Assuming 'string_column' is the name of the column containing string data\n",
        "encoding_col = 'Address 1'\n",
        "\n",
        "encoded_columns_add = pd.get_dummies(df[encoding_col], prefix=encoding_col,drop_first=True)\n",
        "\n",
        "print(f'columns of encoded address 1 are {encoded_columns_add.columns}')\n",
        "\n",
        "print(f'shape of encoded coumns are {encoded_columns_add.shape}')\n",
        "\n",
        "data = pd.Series(df[encoding_col])\n",
        "\n",
        "value_counts = data.value_counts()\n",
        "\n",
        "print(value_counts)\n",
        "\n",
        "df[encoding_col].nunique()\n",
        "threshold=3000\n",
        "\n",
        "repl = value_counts[value_counts<=threshold].index\n",
        "\n",
        "one_hot_cols_add = pd.get_dummies(df[encoding_col].replace(repl,'uncommon_add_1'))\n",
        "\n",
        "one_hot_cols_add.columns"
      ],
      "metadata": {
        "colab": {
          "base_uri": "https://localhost:8080/"
        },
        "id": "yfuTv1pmIG_x",
        "outputId": "932f713d-0c4c-4765-b043-4ee13e020318"
      },
      "execution_count": null,
      "outputs": [
        {
          "output_type": "stream",
          "name": "stdout",
          "text": [
            "columns of encoded address 1 are Index(['Address 1_1514 Walnut Dr', 'Address 1_1520 Walnut Dr',\n",
            "       'Address 1_250 Hamilton Ave', 'Address 1_275 Cambridge Ave',\n",
            "       'Address 1_350 Sherman Ave', 'Address 1_358 Sherman Ave',\n",
            "       'Address 1_3700 Middlefield Rd', 'Address 1_400 Cambridge Ave',\n",
            "       'Address 1_445 Bryant St', 'Address 1_475 Cambridge Ave',\n",
            "       'Address 1_500-532 Webster St', 'Address 1_520 Cowper St',\n",
            "       'Address 1_520 Webster St', 'Address 1_528 High St',\n",
            "       'Address 1_528 High St.', 'Address 1_528 high st',\n",
            "       'Address 1_532 Webster St', 'Address 1_533 Cowper St',\n",
            "       'Address 1_Bryant St'],\n",
            "      dtype='object')\n",
            "shape of encoded coumns are (259375, 19)\n",
            "250 Hamilton Ave       38604\n",
            "528 High St            37828\n",
            "3700 Middlefield Rd    28319\n",
            "520 Webster St         25169\n",
            "445 Bryant St          24319\n",
            "Bryant St              22776\n",
            "475 Cambridge Ave      20230\n",
            "275 Cambridge Ave      16710\n",
            "400 Cambridge Ave      12645\n",
            "1213 Newell Rd         12248\n",
            "532 Webster St         12013\n",
            "1520 Walnut Dr          3845\n",
            "1514 Walnut Dr          2170\n",
            "528 high st             1191\n",
            "528 High St.             872\n",
            "500-532 Webster St       367\n",
            "350 Sherman Ave           34\n",
            "520 Cowper St             19\n",
            "533 Cowper St             11\n",
            "358 Sherman Ave            5\n",
            "Name: Address 1, dtype: int64\n"
          ]
        },
        {
          "output_type": "execute_result",
          "data": {
            "text/plain": [
              "Index(['1213 Newell Rd', '1520 Walnut Dr', '250 Hamilton Ave',\n",
              "       '275 Cambridge Ave', '3700 Middlefield Rd', '400 Cambridge Ave',\n",
              "       '445 Bryant St', '475 Cambridge Ave', '520 Webster St', '528 High St',\n",
              "       '532 Webster St', 'Bryant St', 'uncommon_add_1'],\n",
              "      dtype='object')"
            ]
          },
          "metadata": {},
          "execution_count": 4
        }
      ]
    },
    {
      "cell_type": "markdown",
      "source": [
        "# **One hot encoding Model number**"
      ],
      "metadata": {
        "id": "176QLUz7J8uQ"
      }
    },
    {
      "cell_type": "code",
      "source": [
        "# Assuming 'string_column' is the name of the column containing string data\n",
        "encoding_col = 'Model Number'\n",
        "\n",
        "encoded_columns_model_num = pd.get_dummies(df[encoding_col], prefix=\"encoding_col_model_num\",drop_first=True)\n",
        "\n",
        "print(f'columns of encoded model number are {encoded_columns_add.columns}')\n",
        "\n",
        "print(f'shape of encoded coumns are {encoded_columns_add.shape}')\n",
        "\n",
        "data = pd.Series(df[encoding_col])\n",
        "\n",
        "value_counts = data.value_counts()\n",
        "\n",
        "print(value_counts)\n",
        "\n",
        "df[encoding_col].nunique()\n",
        "threshold=2000\n",
        "\n",
        "repl = value_counts[value_counts<=threshold].index\n",
        "\n",
        "one_hot_cols_model_num = pd.get_dummies(df[encoding_col].replace(repl,'uncommon_model_num'))\n",
        "\n",
        "one_hot_cols_model_num.columns"
      ],
      "metadata": {
        "colab": {
          "base_uri": "https://localhost:8080/"
        },
        "outputId": "79f6eaea-9f63-415d-eeff-a17e68d7a646",
        "id": "GURNwFo0J8ub"
      },
      "execution_count": null,
      "outputs": [
        {
          "output_type": "stream",
          "name": "stdout",
          "text": [
            "columns of encoded model number are Index(['Address 1_1514 Walnut Dr', 'Address 1_1520 Walnut Dr',\n",
            "       'Address 1_250 Hamilton Ave', 'Address 1_275 Cambridge Ave',\n",
            "       'Address 1_350 Sherman Ave', 'Address 1_358 Sherman Ave',\n",
            "       'Address 1_3700 Middlefield Rd', 'Address 1_400 Cambridge Ave',\n",
            "       'Address 1_445 Bryant St', 'Address 1_475 Cambridge Ave',\n",
            "       'Address 1_500-532 Webster St', 'Address 1_520 Cowper St',\n",
            "       'Address 1_520 Webster St', 'Address 1_528 High St',\n",
            "       'Address 1_528 High St.', 'Address 1_528 high st',\n",
            "       'Address 1_532 Webster St', 'Address 1_533 Cowper St',\n",
            "       'Address 1_Bryant St'],\n",
            "      dtype='object')\n",
            "shape of encoded coumns are (259375, 19)\n",
            "CT4020-HD-GW          84869\n",
            "CT4020-HD             45153\n",
            "CT2100-HD-CDMA-CCR    11374\n",
            "CT2000-HD-CCR         10046\n",
            "CT2100-HD-CCR          8009\n",
            "                      ...  \n",
            "CT0244-HD-GV              1\n",
            "CT3453-HD-YJ              1\n",
            "CT0942-HD-EJ              1\n",
            "CT6044-HD-PG              1\n",
            "CT4038-HD-OE              1\n",
            "Name: Model Number, Length: 21861, dtype: int64\n"
          ]
        },
        {
          "output_type": "execute_result",
          "data": {
            "text/plain": [
              "Index(['CT2000-HD-CCR', 'CT2000-HD-GW1-CCR', 'CT2100-HD-CCR',\n",
              "       'CT2100-HD-CDMA-CCR', 'CT4010-HD-GW', 'CT4020-HD', 'CT4020-HD-GW',\n",
              "       'CTHCR-S', 'CTHDR', 'CTHDR-S', 'uncommon_model_num'],\n",
              "      dtype='object')"
            ]
          },
          "metadata": {},
          "execution_count": 5
        }
      ]
    },
    {
      "cell_type": "markdown",
      "source": [
        "# **One hot encoding Ended by**"
      ],
      "metadata": {
        "id": "y7rExaNynZYj"
      }
    },
    {
      "cell_type": "code",
      "source": [
        "# Assuming 'string_column' is the name of the column containing string data\n",
        "encoding_col = 'Ended By'\n",
        "\n",
        "encoded_columns_ended_by = pd.get_dummies(df[encoding_col], prefix=\"encoding_col_ended_by\",drop_first=True)\n",
        "\n",
        "print(f'columns of encoded model number are {encoded_columns_add.columns}')\n",
        "\n",
        "print(f'shape of encoded coumns are {encoded_columns_add.shape}')\n",
        "\n",
        "data = pd.Series(df[encoding_col])\n",
        "\n",
        "value_counts = data.value_counts()\n",
        "\n",
        "print(value_counts)\n",
        "\n",
        "df[encoding_col].nunique()\n",
        "threshold=25\n",
        "\n",
        "repl = value_counts[value_counts<=threshold].index\n",
        "\n",
        "one_hot_cols_ended_by = pd.get_dummies(df[encoding_col].replace(repl,'uncommon_ended_by'))\n",
        "\n",
        "one_hot_cols_ended_by.columns"
      ],
      "metadata": {
        "colab": {
          "base_uri": "https://localhost:8080/"
        },
        "id": "5YebFqNdnY1m",
        "outputId": "a9f5930a-0023-494c-d171-90071ed380a8"
      },
      "execution_count": null,
      "outputs": [
        {
          "output_type": "stream",
          "name": "stdout",
          "text": [
            "columns of encoded model number are Index(['Address 1_1514 Walnut Dr', 'Address 1_1520 Walnut Dr',\n",
            "       'Address 1_250 Hamilton Ave', 'Address 1_275 Cambridge Ave',\n",
            "       'Address 1_350 Sherman Ave', 'Address 1_358 Sherman Ave',\n",
            "       'Address 1_3700 Middlefield Rd', 'Address 1_400 Cambridge Ave',\n",
            "       'Address 1_445 Bryant St', 'Address 1_475 Cambridge Ave',\n",
            "       'Address 1_500-532 Webster St', 'Address 1_520 Cowper St',\n",
            "       'Address 1_520 Webster St', 'Address 1_528 High St',\n",
            "       'Address 1_528 High St.', 'Address 1_528 high st',\n",
            "       'Address 1_532 Webster St', 'Address 1_533 Cowper St',\n",
            "       'Address 1_Bryant St'],\n",
            "      dtype='object')\n",
            "shape of encoded coumns are (259375, 19)\n",
            "Plug Out at Vehicle             210687\n",
            "Customer                         41084\n",
            "CPS Server                        7065\n",
            "Outlet Unreachable                  64\n",
            "Door Open                           57\n",
            "Plug Removed While Rebooting        50\n",
            "Unknown                             32\n",
            "Final GFCI Tripped                  28\n",
            "Door                                24\n",
            "Final 4-strikes GFCI trip           15\n",
            "Plug Out at Station                  7\n",
            "Holster Plugin                       7\n",
            "Station Offline                      3\n",
            "OCD                                  2\n",
            "Door Closed                          1\n",
            "Relay Stuck Closed                   1\n",
            "Name: Ended By, dtype: int64\n"
          ]
        },
        {
          "output_type": "execute_result",
          "data": {
            "text/plain": [
              "Index(['CPS Server', 'Customer', 'Door Open', 'Final GFCI Tripped',\n",
              "       'Outlet Unreachable', 'Plug Out at Vehicle',\n",
              "       'Plug Removed While Rebooting', 'Unknown', 'uncommon_ended_by'],\n",
              "      dtype='object')"
            ]
          },
          "metadata": {},
          "execution_count": 46
        }
      ]
    },
    {
      "cell_type": "code",
      "source": [
        "csv_file_path = '/content/drive/MyDrive/data_mining/Project/dataset/df_processed.csv'\n",
        "df.to_csv(csv_file_path, index=False)"
      ],
      "metadata": {
        "id": "j7JP9PpLQB2P"
      },
      "execution_count": null,
      "outputs": []
    },
    {
      "cell_type": "code",
      "source": [
        "df.shape"
      ],
      "metadata": {
        "colab": {
          "base_uri": "https://localhost:8080/"
        },
        "id": "lF4xOqWnQc4e",
        "outputId": "945d4786-5548-450e-98cc-238d07499c1d"
      },
      "execution_count": null,
      "outputs": [
        {
          "output_type": "execute_result",
          "data": {
            "text/plain": [
              "(259375, 20)"
            ]
          },
          "metadata": {},
          "execution_count": 95
        }
      ]
    },
    {
      "cell_type": "markdown",
      "source": [
        "# **Printing values which has Categorical data**"
      ],
      "metadata": {
        "id": "2b_MyW8hIgxY"
      }
    },
    {
      "cell_type": "code",
      "source": [
        "df_without_encoding = df.drop([\"Label_encode\"], axis=1)"
      ],
      "metadata": {
        "id": "-zwro0dGAUTn"
      },
      "execution_count": null,
      "outputs": []
    },
    {
      "cell_type": "code",
      "source": [
        "list_ = ['Address 1','City','State/Province','County','Model Number']\n",
        "\n",
        "for l in list_:\n",
        "  data = pd.Series(df[l])\n",
        "\n",
        "  value_counts = data.value_counts()\n",
        "\n",
        "  print(f'value_counts of {l}:')\n",
        "\n",
        "  print(value_counts)\n",
        "  print('\\n')"
      ],
      "metadata": {
        "colab": {
          "base_uri": "https://localhost:8080/"
        },
        "id": "vIXCcWsIBilI",
        "outputId": "8508ff2e-afae-459f-9639-1fc15d229151"
      },
      "execution_count": null,
      "outputs": [
        {
          "output_type": "stream",
          "name": "stdout",
          "text": [
            "value_counts of Address 1:\n",
            "250 Hamilton Ave       38604\n",
            "528 High St            37828\n",
            "3700 Middlefield Rd    28319\n",
            "520 Webster St         25169\n",
            "445 Bryant St          24319\n",
            "Bryant St              22776\n",
            "475 Cambridge Ave      20230\n",
            "275 Cambridge Ave      16710\n",
            "400 Cambridge Ave      12645\n",
            "1213 Newell Rd         12248\n",
            "532 Webster St         12013\n",
            "1520 Walnut Dr          3845\n",
            "1514 Walnut Dr          2170\n",
            "528 high st             1191\n",
            "528 High St.             872\n",
            "500-532 Webster St       367\n",
            "350 Sherman Ave           34\n",
            "520 Cowper St             19\n",
            "533 Cowper St             11\n",
            "358 Sherman Ave            5\n",
            "Name: Address 1, dtype: int64\n",
            "\n",
            "\n",
            "value_counts of City:\n",
            "Palo Alto    259375\n",
            "Name: City, dtype: int64\n",
            "\n",
            "\n",
            "value_counts of State/Province:\n",
            "California    259375\n",
            "Name: State/Province, dtype: int64\n",
            "\n",
            "\n",
            "value_counts of County:\n",
            "Santa Clara County    147231\n",
            "San Mateo County       27479\n",
            "Name: County, dtype: int64\n",
            "\n",
            "\n",
            "value_counts of Model Number:\n",
            "CT4020-HD-GW          84869\n",
            "CT4020-HD             45153\n",
            "CT2100-HD-CDMA-CCR    11374\n",
            "CT2000-HD-CCR         10046\n",
            "CT2100-HD-CCR          8009\n",
            "                      ...  \n",
            "CT0244-HD-GV              1\n",
            "CT3453-HD-YJ              1\n",
            "CT0942-HD-EJ              1\n",
            "CT6044-HD-PG              1\n",
            "CT4038-HD-OE              1\n",
            "Name: Model Number, Length: 21861, dtype: int64\n",
            "\n",
            "\n"
          ]
        }
      ]
    },
    {
      "cell_type": "code",
      "source": [
        "data = pd.Series(df['MAC Address'])\n",
        "\n",
        "value_counts = data.value_counts()\n",
        "\n",
        "print(f'value_counts of :')\n",
        "\n",
        "print(value_counts)"
      ],
      "metadata": {
        "colab": {
          "base_uri": "https://localhost:8080/"
        },
        "id": "Gv7qeoD5giDh",
        "outputId": "a1a1c4ce-01b6-4863-de48-50684abdda4e"
      },
      "execution_count": null,
      "outputs": [
        {
          "output_type": "stream",
          "name": "stdout",
          "text": [
            "value_counts of:\n",
            "000D:6F00:015A:9D76    14886\n",
            "000D:6F00:009E:D39E    12270\n",
            "0024:B100:0002:1329    11162\n",
            "0024:B100:0002:1323     9812\n",
            "0024:B100:0002:13B7     9253\n",
            "                       ...  \n",
            "0024:B100:0003:75EE        1\n",
            "0024:B100:0003:74DD        1\n",
            "0024:B100:0003:7682        1\n",
            "0024:B100:0003:7652        1\n",
            "0024:B100:0003:766E        1\n",
            "Name: MAC Address, Length: 83, dtype: int64\n"
          ]
        }
      ]
    },
    {
      "cell_type": "code",
      "source": [
        "# Function to convert MAC address to a numeric value\n",
        "def mac_to_numeric(mac):\n",
        "    components = mac.split(':')\n",
        "    numeric_value = int(''.join(components), 16)  # Convert hexadecimal to decimal\n",
        "    return numeric_value\n",
        "\n",
        "# Apply the function to the MAC_Address column\n",
        "df['Numeric_MAC'] = df['MAC Address'].apply(mac_to_numeric)\n",
        "\n",
        "print(df)"
      ],
      "metadata": {
        "colab": {
          "base_uri": "https://localhost:8080/"
        },
        "id": "WSEIO9nRhH1I",
        "outputId": "a74f2d99-6f02-47d0-d7dc-d3c89afa5fa7"
      },
      "execution_count": null,
      "outputs": [
        {
          "output_type": "stream",
          "name": "stdout",
          "text": [
            "                          Station Name          MAC Address    Start Date  \\\n",
            "0           PALO ALTO CA / HAMILTON #1  000D:6F00:015A:9D76  1.328615e+09   \n",
            "1           PALO ALTO CA / HAMILTON #1  000D:6F00:015A:9D76  1.328615e+09   \n",
            "2           PALO ALTO CA / HAMILTON #1  000D:6F00:015A:9D76  1.328615e+09   \n",
            "3           PALO ALTO CA / HAMILTON #1  000D:6F00:015A:9D76  1.328615e+09   \n",
            "4           PALO ALTO CA / HAMILTON #1  000D:6F00:015A:9D76  1.328615e+09   \n",
            "...                                ...                  ...           ...   \n",
            "259370  PALO ALTO CA / TED THOMPSON #3  0024:B100:0002:9F81  1.609433e+09   \n",
            "259371       PALO ALTO CA / WEBSTER #1  0024:B100:0002:4233  1.609433e+09   \n",
            "259372           PALO ALTO CA / MPL #4  0024:B100:0003:CD37  1.609436e+09   \n",
            "259373       PALO ALTO CA / WEBSTER #1  0024:B100:0002:4233  1.609437e+09   \n",
            "259374     PALO ALTO CA / CAMBRIDGE #4  0024:B100:0003:3A0A  1.609439e+09   \n",
            "\n",
            "            End Date       EVSE ID            Address 1  Postal Code  \\\n",
            "0       1.328615e+09  1.462973e+05     250 Hamilton Ave        94301   \n",
            "1       1.328615e+09  1.462973e+05     250 Hamilton Ave        94301   \n",
            "2       1.328615e+09  1.462973e+05     250 Hamilton Ave        94301   \n",
            "3       1.328615e+09  1.462973e+05     250 Hamilton Ave        94301   \n",
            "4       1.328615e+09  1.462973e+05     250 Hamilton Ave        94301   \n",
            "...              ...           ...                  ...          ...   \n",
            "259370  1.609433e+09  3.442610e+05    275 Cambridge Ave        94306   \n",
            "259371  1.609433e+09  1.044270e+05       520 Webster St        94301   \n",
            "259372  1.609436e+09  2.884001e+06  3700 Middlefield Rd        94303   \n",
            "259373  1.609437e+09  1.044270e+05       520 Webster St        94301   \n",
            "259374  1.609439e+09  3.375710e+05    475 Cambridge Ave        94306   \n",
            "\n",
            "         Latitude   Longitude   Fee  ... Plug In Event Id  Driver Postal Code  \\\n",
            "0       37.444572 -122.160309  0.00  ...              3.0             95124.0   \n",
            "1       37.444572 -122.160309  0.00  ...              4.0             94301.0   \n",
            "2       37.444572 -122.160309  0.00  ...              5.0             94301.0   \n",
            "3       37.444572 -122.160309  0.00  ...              6.0             94302.0   \n",
            "4       37.444572 -122.160309  0.00  ...              7.0             94043.0   \n",
            "...           ...         ...   ...  ...              ...                 ...   \n",
            "259370  37.428623 -122.144043  0.42  ...           2369.0             94301.0   \n",
            "259371  37.448284 -122.158272  4.10  ...           7255.0             94541.0   \n",
            "259372  37.422104 -122.120992  4.10  ...            455.0             94306.0   \n",
            "259373  37.448284 -122.158272  2.75  ...           7256.0             94552.0   \n",
            "259374  37.426178 -122.146034  0.36  ...           2302.0             94305.0   \n",
            "\n",
            "        User ID    System S/N  Model Number Total_time_hours  \\\n",
            "0        3284.0  1.443790e+11  CT2100-HD-BW         3.058889   \n",
            "1        4169.0  1.443790e+11     CT4020-TR         0.035000   \n",
            "2        4169.0  1.443790e+11      CTHCR-TU         4.292222   \n",
            "3        2545.0  1.443790e+11      CTHCR-DY         2.056667   \n",
            "4        3765.0  1.443790e+11  CT2100-HD-VT         1.190000   \n",
            "...         ...           ...           ...              ...   \n",
            "259370  2024201  1.475861e+11  CT4020-HD-GW         0.595556   \n",
            "259371   242661  1.390340e+11  CT4020-HD-GW         3.716944   \n",
            "259372   449995  1.475861e+11  CT4010-HD-GW         5.968750   \n",
            "259373   804075  1.390340e+11  CT4020-HD-GW         4.092778   \n",
            "259374  2022651  1.475861e+11  CT4020-HD-GW         0.701944   \n",
            "\n",
            "        Charging_time_hours  Label_encode_station_Name  Label_encode_County  \\\n",
            "0                  1.900833                         12                    2   \n",
            "1                  0.031667                         12                    2   \n",
            "2                  4.291111                         12                    2   \n",
            "3                  2.049444                         12                    2   \n",
            "4                  0.731667                         12                    2   \n",
            "...                     ...                        ...                  ...   \n",
            "259370             0.588333                         42                    2   \n",
            "259371             2.234444                         44                    1   \n",
            "259372             5.136667                         21                    1   \n",
            "259373             3.895000                         44                    1   \n",
            "259374             0.695556                         10                    1   \n",
            "\n",
            "              Numeric_MAC  \n",
            "0        3781220510637430  \n",
            "1        3781220510637430  \n",
            "2        3781220510637430  \n",
            "3        3781220510637430  \n",
            "4        3781220510637430  \n",
            "...                   ...  \n",
            "259370  10327712719871873  \n",
            "259371  10327712719847987  \n",
            "259372  10327712719949111  \n",
            "259373  10327712719847987  \n",
            "259374  10327712719911434  \n",
            "\n",
            "[259375 rows x 21 columns]\n"
          ]
        }
      ]
    },
    {
      "cell_type": "code",
      "source": [
        "df.columns"
      ],
      "metadata": {
        "colab": {
          "base_uri": "https://localhost:8080/"
        },
        "id": "BTNv-OSdh7h6",
        "outputId": "8b246e7e-b1ad-4957-e640-1fedeb72ae8c"
      },
      "execution_count": null,
      "outputs": [
        {
          "output_type": "execute_result",
          "data": {
            "text/plain": [
              "Index(['Station Name', 'Start Date', 'End Date', 'EVSE ID', 'Address 1',\n",
              "       'Postal Code', 'Latitude', 'Longitude', 'Fee', 'Ended By',\n",
              "       'Plug In Event Id', 'Driver Postal Code', 'User ID', 'System S/N',\n",
              "       'Model Number', 'Total_time_hours', 'Charging_time_hours',\n",
              "       'Label_encode_station_Name', 'Label_encode_County', 'Numeric_MAC'],\n",
              "      dtype='object')"
            ]
          },
          "metadata": {},
          "execution_count": 14
        }
      ]
    },
    {
      "cell_type": "markdown",
      "source": [
        "# **Base dataset**"
      ],
      "metadata": {
        "id": "N00eqKhpjJLY"
      }
    },
    {
      "cell_type": "code",
      "source": [
        "df_base = df.drop(['Label_encode_station_Name'], axis=1)"
      ],
      "metadata": {
        "id": "fVNeYdVxiFCZ"
      },
      "execution_count": null,
      "outputs": []
    },
    {
      "cell_type": "markdown",
      "source": [
        "# **Label encoding of add 1**"
      ],
      "metadata": {
        "id": "lUH9QyFkjMAS"
      }
    },
    {
      "cell_type": "code",
      "source": [
        "from sklearn.preprocessing import LabelEncoder\n",
        "\n",
        "label_encoder = LabelEncoder()\n",
        "\n",
        "label_encode_add = label_encoder.fit_transform(df['Address 1'])"
      ],
      "metadata": {
        "id": "bxvcnLqKjHWA"
      },
      "execution_count": null,
      "outputs": []
    },
    {
      "cell_type": "markdown",
      "source": [
        "# **Label encoding of model Number**"
      ],
      "metadata": {
        "id": "I2chUQEHjpO0"
      }
    },
    {
      "cell_type": "code",
      "source": [
        "from sklearn.preprocessing import LabelEncoder\n",
        "\n",
        "label_encoder = LabelEncoder()\n",
        "\n",
        "label_encode_model_num = label_encoder.fit_transform(df['Model Number'])"
      ],
      "metadata": {
        "id": "UreTrznGjpO2"
      },
      "execution_count": null,
      "outputs": []
    },
    {
      "cell_type": "code",
      "source": [
        "df = df.drop(['Label_encode_add_1'],axis=1)"
      ],
      "metadata": {
        "id": "VC0Yytzbj-rG"
      },
      "execution_count": null,
      "outputs": []
    },
    {
      "cell_type": "code",
      "source": [
        "df_base.columns"
      ],
      "metadata": {
        "colab": {
          "base_uri": "https://localhost:8080/"
        },
        "id": "dODLhBn6kI7R",
        "outputId": "813f7d85-5438-470e-b235-be24811d1531"
      },
      "execution_count": null,
      "outputs": [
        {
          "output_type": "execute_result",
          "data": {
            "text/plain": [
              "Index(['Station Name', 'Start Date', 'End Date', 'EVSE ID', 'Address 1',\n",
              "       'Postal Code', 'Latitude', 'Longitude', 'Fee', 'Ended By',\n",
              "       'Plug In Event Id', 'Driver Postal Code', 'User ID', 'System S/N',\n",
              "       'Model Number', 'Total_time_hours', 'Charging_time_hours',\n",
              "       'Label_encode_County', 'Numeric_MAC'],\n",
              "      dtype='object')"
            ]
          },
          "metadata": {},
          "execution_count": 33
        }
      ]
    },
    {
      "cell_type": "markdown",
      "source": [
        "# **Merging encoded columns**"
      ],
      "metadata": {
        "id": "klIajz8Th8Ux"
      }
    },
    {
      "cell_type": "code",
      "source": [
        "df_encode_one_hot = pd.concat([df_base, one_hot_cols_model_num,one_hot_cols_add,one_hot_col_stat], axis=1)"
      ],
      "metadata": {
        "id": "b_TLgxSZiKt-"
      },
      "execution_count": null,
      "outputs": []
    },
    {
      "cell_type": "code",
      "source": [
        "df_encode_one_hot = pd.concat([df_encode_one_hot,one_hot_cols_ended_by], axis=1)"
      ],
      "metadata": {
        "id": "2mJN_Q5zoaai"
      },
      "execution_count": null,
      "outputs": []
    },
    {
      "cell_type": "code",
      "source": [
        "# label_encode_model_num = pd.Series(label_encode_model_num)\n",
        "# label_encode_add = pd.Series(label_encode_add)\n",
        "\n",
        "# df_encode_label_encode = pd.concat([df_base,label_encode_model_num,label_encode_add],axis=1)\n",
        "\n",
        "df_encode_label = df_base.copy()\n",
        "\n",
        "df_encode_label['label_encode_model_num']  = label_encoder.fit_transform(df['Model Number'])\n",
        "df_encode_label['label_encode_add']  = label_encoder.fit_transform(df['Address 1'])\n",
        "df_encode_label['label_encode_station_name']  = label_encoder.fit_transform(df['Station Name'])\n",
        "\n",
        "print(df_encode_label.columns)"
      ],
      "metadata": {
        "colab": {
          "base_uri": "https://localhost:8080/"
        },
        "id": "etfpXAN-i_9S",
        "outputId": "2b74b3e5-70f0-44dc-9f08-242e5a84b219"
      },
      "execution_count": null,
      "outputs": [
        {
          "output_type": "stream",
          "name": "stdout",
          "text": [
            "Index(['Station Name', 'Start Date', 'End Date', 'EVSE ID', 'Address 1',\n",
            "       'Postal Code', 'Latitude', 'Longitude', 'Fee', 'Ended By',\n",
            "       'Plug In Event Id', 'Driver Postal Code', 'User ID', 'System S/N',\n",
            "       'Model Number', 'Total_time_hours', 'Charging_time_hours',\n",
            "       'Label_encode_County', 'Numeric_MAC', 'label_encode_model_num',\n",
            "       'label_encode_add', 'label_encode_station_name'],\n",
            "      dtype='object')\n"
          ]
        }
      ]
    },
    {
      "cell_type": "code",
      "source": [
        "df_encode_label['label_encode_ended_by']  = label_encoder.fit_transform(df_encode_label['Ended By'])\n",
        "print(df_encode_label.columns)"
      ],
      "metadata": {
        "colab": {
          "base_uri": "https://localhost:8080/"
        },
        "id": "HCH-lHQ2oIkR",
        "outputId": "3aa60667-e95f-497e-8ae0-6a56bc50ea55"
      },
      "execution_count": null,
      "outputs": [
        {
          "output_type": "stream",
          "name": "stdout",
          "text": [
            "Index(['Station Name', 'Start Date', 'End Date', 'EVSE ID', 'Address 1',\n",
            "       'Postal Code', 'Latitude', 'Longitude', 'Fee', 'Ended By',\n",
            "       'Plug In Event Id', 'Driver Postal Code', 'System S/N', 'Model Number',\n",
            "       'Total_time_hours', 'Charging_time_hours', 'Label_encode_County',\n",
            "       'Numeric_MAC', 'label_encode_model_num', 'label_encode_add',\n",
            "       'label_encode_station_name', 'label_encode_ended_by'],\n",
            "      dtype='object')\n"
          ]
        }
      ]
    },
    {
      "cell_type": "code",
      "source": [
        "print(df_encode_one_hot.columns)\n",
        "print(df_encode_label.columns)"
      ],
      "metadata": {
        "colab": {
          "base_uri": "https://localhost:8080/"
        },
        "id": "Ar7OBBJ1kj_z",
        "outputId": "b005ac92-51a0-46ac-876f-bc44c3d5ad31"
      },
      "execution_count": null,
      "outputs": [
        {
          "output_type": "stream",
          "name": "stdout",
          "text": [
            "Index(['Station Name', 'Start Date', 'End Date', 'EVSE ID', 'Address 1',\n",
            "       'Postal Code', 'Latitude', 'Longitude', 'Fee', 'Ended By',\n",
            "       'Plug In Event Id', 'Driver Postal Code', 'System S/N', 'Model Number',\n",
            "       'Total_time_hours', 'Charging_time_hours', 'Label_encode_County',\n",
            "       'Numeric_MAC', 'CT2000-HD-CCR', 'CT2000-HD-GW1-CCR', 'CT2100-HD-CCR',\n",
            "       'CT2100-HD-CDMA-CCR', 'CT4010-HD-GW', 'CT4020-HD', 'CT4020-HD-GW',\n",
            "       'CTHCR-S', 'CTHDR', 'CTHDR-S', 'uncommon_model_num', '1213 Newell Rd',\n",
            "       '1520 Walnut Dr', '250 Hamilton Ave', '275 Cambridge Ave',\n",
            "       '3700 Middlefield Rd', '400 Cambridge Ave', '445 Bryant St',\n",
            "       '475 Cambridge Ave', '520 Webster St', '528 High St', '532 Webster St',\n",
            "       'Bryant St', 'uncommon_add_1', 'PALO ALTO CA / BRYANT #1',\n",
            "       'PALO ALTO CA / BRYANT #2', 'PALO ALTO CA / BRYANT #5',\n",
            "       'PALO ALTO CA / BRYANT #6', 'PALO ALTO CA / CAMBRIDGE #1',\n",
            "       'PALO ALTO CA / CAMBRIDGE #2', 'PALO ALTO CA / HAMILTON #1',\n",
            "       'PALO ALTO CA / HAMILTON #2', 'PALO ALTO CA / HIGH #1',\n",
            "       'PALO ALTO CA / HIGH #2', 'PALO ALTO CA / HIGH #3',\n",
            "       'PALO ALTO CA / HIGH #4', 'PALO ALTO CA / MPL #4',\n",
            "       'PALO ALTO CA / MPL #5', 'PALO ALTO CA / MPL #6',\n",
            "       'PALO ALTO CA / RINCONADA LIB 1', 'PALO ALTO CA / RINCONADA LIB 2',\n",
            "       'PALO ALTO CA / RINCONADA LIB 3', 'PALO ALTO CA / TED THOMPSON #1',\n",
            "       'PALO ALTO CA / WEBSTER #1', 'PALO ALTO CA / WEBSTER #2',\n",
            "       'PALO ALTO CA / WEBSTER #3', 'uncommon', 'CPS Server', 'Customer',\n",
            "       'Door Open', 'Final GFCI Tripped', 'Outlet Unreachable',\n",
            "       'Plug Out at Vehicle', 'Plug Removed While Rebooting', 'Unknown',\n",
            "       'uncommon_ended_by'],\n",
            "      dtype='object')\n",
            "Index(['Station Name', 'Start Date', 'End Date', 'EVSE ID', 'Address 1',\n",
            "       'Postal Code', 'Latitude', 'Longitude', 'Fee', 'Ended By',\n",
            "       'Plug In Event Id', 'Driver Postal Code', 'System S/N', 'Model Number',\n",
            "       'Total_time_hours', 'Charging_time_hours', 'Label_encode_County',\n",
            "       'Numeric_MAC', 'label_encode_model_num', 'label_encode_add',\n",
            "       'label_encode_station_name', 'label_encode_ended_by'],\n",
            "      dtype='object')\n"
          ]
        }
      ]
    },
    {
      "cell_type": "code",
      "source": [
        "df_encode_one_hot = df_encode_one_hot.dropna(subset = ['Ended By'])\n",
        "df_encode_label = df_encode_label.dropna(subset = [\"Ended By\"])\n",
        "\n",
        "print(df_encode_one_hot.isnull().sum())\n",
        "print('\\n')\n",
        "print(df_encode_label.isnull().sum())"
      ],
      "metadata": {
        "colab": {
          "base_uri": "https://localhost:8080/"
        },
        "id": "24ydV9pxlwpl",
        "outputId": "7d52379e-f740-483d-89f3-04936feea67e"
      },
      "execution_count": null,
      "outputs": [
        {
          "output_type": "stream",
          "name": "stdout",
          "text": [
            "Station Name                      0\n",
            "Start Date                        0\n",
            "End Date                          0\n",
            "EVSE ID                           0\n",
            "Address 1                         0\n",
            "                                 ..\n",
            "PALO ALTO CA / TED THOMPSON #1    0\n",
            "PALO ALTO CA / WEBSTER #1         0\n",
            "PALO ALTO CA / WEBSTER #2         0\n",
            "PALO ALTO CA / WEBSTER #3         0\n",
            "uncommon                          0\n",
            "Length: 66, dtype: int64\n",
            "\n",
            "\n",
            "Station Name                    0\n",
            "Start Date                      0\n",
            "End Date                        0\n",
            "EVSE ID                         0\n",
            "Address 1                       0\n",
            "Postal Code                     0\n",
            "Latitude                        0\n",
            "Longitude                       0\n",
            "Fee                             0\n",
            "Ended By                        0\n",
            "Plug In Event Id                0\n",
            "Driver Postal Code              0\n",
            "User ID                      7658\n",
            "System S/N                      0\n",
            "Model Number                    0\n",
            "Total_time_hours                0\n",
            "Charging_time_hours             0\n",
            "Label_encode_County             0\n",
            "Numeric_MAC                     0\n",
            "label_encode_model_num          0\n",
            "label_encode_add                0\n",
            "label_encode_station_name       0\n",
            "dtype: int64\n"
          ]
        }
      ]
    },
    {
      "cell_type": "code",
      "source": [
        "df_encode_one_hot = df_encode_one_hot.drop(['User ID'],axis=1)\n",
        "df_encode_label = df_encode_label.drop(['User ID'],axis=1)\n",
        "\n",
        "print(df_encode_one_hot.columns)\n",
        "print('\\n')\n",
        "print(df_encode_label.columns)"
      ],
      "metadata": {
        "colab": {
          "base_uri": "https://localhost:8080/"
        },
        "id": "XbsLkp3XmZLo",
        "outputId": "ccc00d0b-99ae-4844-ab4d-3434b6dee8db"
      },
      "execution_count": null,
      "outputs": [
        {
          "output_type": "stream",
          "name": "stdout",
          "text": [
            "Index(['Station Name', 'Start Date', 'End Date', 'EVSE ID', 'Address 1',\n",
            "       'Postal Code', 'Latitude', 'Longitude', 'Fee', 'Ended By',\n",
            "       'Plug In Event Id', 'Driver Postal Code', 'System S/N', 'Model Number',\n",
            "       'Total_time_hours', 'Charging_time_hours', 'Label_encode_County',\n",
            "       'Numeric_MAC', 'CT2000-HD-CCR', 'CT2000-HD-GW1-CCR', 'CT2100-HD-CCR',\n",
            "       'CT2100-HD-CDMA-CCR', 'CT4010-HD-GW', 'CT4020-HD', 'CT4020-HD-GW',\n",
            "       'CTHCR-S', 'CTHDR', 'CTHDR-S', 'uncommon_model_num', '1213 Newell Rd',\n",
            "       '1520 Walnut Dr', '250 Hamilton Ave', '275 Cambridge Ave',\n",
            "       '3700 Middlefield Rd', '400 Cambridge Ave', '445 Bryant St',\n",
            "       '475 Cambridge Ave', '520 Webster St', '528 High St', '532 Webster St',\n",
            "       'Bryant St', 'uncommon_add_1', 'PALO ALTO CA / BRYANT #1',\n",
            "       'PALO ALTO CA / BRYANT #2', 'PALO ALTO CA / BRYANT #5',\n",
            "       'PALO ALTO CA / BRYANT #6', 'PALO ALTO CA / CAMBRIDGE #1',\n",
            "       'PALO ALTO CA / CAMBRIDGE #2', 'PALO ALTO CA / HAMILTON #1',\n",
            "       'PALO ALTO CA / HAMILTON #2', 'PALO ALTO CA / HIGH #1',\n",
            "       'PALO ALTO CA / HIGH #2', 'PALO ALTO CA / HIGH #3',\n",
            "       'PALO ALTO CA / HIGH #4', 'PALO ALTO CA / MPL #4',\n",
            "       'PALO ALTO CA / MPL #5', 'PALO ALTO CA / MPL #6',\n",
            "       'PALO ALTO CA / RINCONADA LIB 1', 'PALO ALTO CA / RINCONADA LIB 2',\n",
            "       'PALO ALTO CA / RINCONADA LIB 3', 'PALO ALTO CA / TED THOMPSON #1',\n",
            "       'PALO ALTO CA / WEBSTER #1', 'PALO ALTO CA / WEBSTER #2',\n",
            "       'PALO ALTO CA / WEBSTER #3', 'uncommon'],\n",
            "      dtype='object')\n",
            "\n",
            "\n",
            "Index(['Station Name', 'Start Date', 'End Date', 'EVSE ID', 'Address 1',\n",
            "       'Postal Code', 'Latitude', 'Longitude', 'Fee', 'Ended By',\n",
            "       'Plug In Event Id', 'Driver Postal Code', 'System S/N', 'Model Number',\n",
            "       'Total_time_hours', 'Charging_time_hours', 'Label_encode_County',\n",
            "       'Numeric_MAC', 'label_encode_model_num', 'label_encode_add',\n",
            "       'label_encode_station_name'],\n",
            "      dtype='object')\n"
          ]
        }
      ]
    },
    {
      "cell_type": "code",
      "source": [
        "df_encode_one_hot.head()"
      ],
      "metadata": {
        "colab": {
          "base_uri": "https://localhost:8080/",
          "height": 307
        },
        "id": "_hjxRqakmupr",
        "outputId": "c6ad1fdd-c8b3-481b-fc78-497a065196b1"
      },
      "execution_count": null,
      "outputs": [
        {
          "output_type": "execute_result",
          "data": {
            "text/plain": [
              "     Start Date      End Date       EVSE ID  Postal Code   Latitude  \\\n",
              "0  1.328615e+09  1.328615e+09  146297.26074      94301.0  37.444572   \n",
              "1  1.328615e+09  1.328615e+09  146297.26074      94301.0  37.444572   \n",
              "2  1.328615e+09  1.328615e+09  146297.26074      94301.0  37.444572   \n",
              "3  1.328615e+09  1.328615e+09  146297.26074      94301.0  37.444572   \n",
              "4  1.328615e+09  1.328615e+09  146297.26074      94301.0  37.444572   \n",
              "\n",
              "    Longitude  Fee  Plug In Event Id  Driver Postal Code    System S/N  ...  \\\n",
              "0 -122.160309  0.0               3.0             95124.0  1.443790e+11  ...   \n",
              "1 -122.160309  0.0               4.0             94301.0  1.443790e+11  ...   \n",
              "2 -122.160309  0.0               5.0             94301.0  1.443790e+11  ...   \n",
              "3 -122.160309  0.0               6.0             94302.0  1.443790e+11  ...   \n",
              "4 -122.160309  0.0               7.0             94043.0  1.443790e+11  ...   \n",
              "\n",
              "   uncommon  CPS Server  Customer  Door Open  Final GFCI Tripped  \\\n",
              "0       0.0           0         0          0                   0   \n",
              "1       0.0           0         1          0                   0   \n",
              "2       0.0           0         0          0                   0   \n",
              "3       0.0           0         1          0                   0   \n",
              "4       0.0           0         0          0                   0   \n",
              "\n",
              "   Outlet Unreachable  Plug Out at Vehicle  Plug Removed While Rebooting  \\\n",
              "0                   0                    1                             0   \n",
              "1                   0                    0                             0   \n",
              "2                   0                    1                             0   \n",
              "3                   0                    0                             0   \n",
              "4                   0                    1                             0   \n",
              "\n",
              "   Unknown  uncommon_ended_by  \n",
              "0        0                  0  \n",
              "1        0                  0  \n",
              "2        0                  0  \n",
              "3        0                  0  \n",
              "4        0                  0  \n",
              "\n",
              "[5 rows x 70 columns]"
            ],
            "text/html": [
              "\n",
              "  <div id=\"df-7082ad1c-378e-4756-8535-7e5e646d5f94\" class=\"colab-df-container\">\n",
              "    <div>\n",
              "<style scoped>\n",
              "    .dataframe tbody tr th:only-of-type {\n",
              "        vertical-align: middle;\n",
              "    }\n",
              "\n",
              "    .dataframe tbody tr th {\n",
              "        vertical-align: top;\n",
              "    }\n",
              "\n",
              "    .dataframe thead th {\n",
              "        text-align: right;\n",
              "    }\n",
              "</style>\n",
              "<table border=\"1\" class=\"dataframe\">\n",
              "  <thead>\n",
              "    <tr style=\"text-align: right;\">\n",
              "      <th></th>\n",
              "      <th>Start Date</th>\n",
              "      <th>End Date</th>\n",
              "      <th>EVSE ID</th>\n",
              "      <th>Postal Code</th>\n",
              "      <th>Latitude</th>\n",
              "      <th>Longitude</th>\n",
              "      <th>Fee</th>\n",
              "      <th>Plug In Event Id</th>\n",
              "      <th>Driver Postal Code</th>\n",
              "      <th>System S/N</th>\n",
              "      <th>...</th>\n",
              "      <th>uncommon</th>\n",
              "      <th>CPS Server</th>\n",
              "      <th>Customer</th>\n",
              "      <th>Door Open</th>\n",
              "      <th>Final GFCI Tripped</th>\n",
              "      <th>Outlet Unreachable</th>\n",
              "      <th>Plug Out at Vehicle</th>\n",
              "      <th>Plug Removed While Rebooting</th>\n",
              "      <th>Unknown</th>\n",
              "      <th>uncommon_ended_by</th>\n",
              "    </tr>\n",
              "  </thead>\n",
              "  <tbody>\n",
              "    <tr>\n",
              "      <th>0</th>\n",
              "      <td>1.328615e+09</td>\n",
              "      <td>1.328615e+09</td>\n",
              "      <td>146297.26074</td>\n",
              "      <td>94301.0</td>\n",
              "      <td>37.444572</td>\n",
              "      <td>-122.160309</td>\n",
              "      <td>0.0</td>\n",
              "      <td>3.0</td>\n",
              "      <td>95124.0</td>\n",
              "      <td>1.443790e+11</td>\n",
              "      <td>...</td>\n",
              "      <td>0.0</td>\n",
              "      <td>0</td>\n",
              "      <td>0</td>\n",
              "      <td>0</td>\n",
              "      <td>0</td>\n",
              "      <td>0</td>\n",
              "      <td>1</td>\n",
              "      <td>0</td>\n",
              "      <td>0</td>\n",
              "      <td>0</td>\n",
              "    </tr>\n",
              "    <tr>\n",
              "      <th>1</th>\n",
              "      <td>1.328615e+09</td>\n",
              "      <td>1.328615e+09</td>\n",
              "      <td>146297.26074</td>\n",
              "      <td>94301.0</td>\n",
              "      <td>37.444572</td>\n",
              "      <td>-122.160309</td>\n",
              "      <td>0.0</td>\n",
              "      <td>4.0</td>\n",
              "      <td>94301.0</td>\n",
              "      <td>1.443790e+11</td>\n",
              "      <td>...</td>\n",
              "      <td>0.0</td>\n",
              "      <td>0</td>\n",
              "      <td>1</td>\n",
              "      <td>0</td>\n",
              "      <td>0</td>\n",
              "      <td>0</td>\n",
              "      <td>0</td>\n",
              "      <td>0</td>\n",
              "      <td>0</td>\n",
              "      <td>0</td>\n",
              "    </tr>\n",
              "    <tr>\n",
              "      <th>2</th>\n",
              "      <td>1.328615e+09</td>\n",
              "      <td>1.328615e+09</td>\n",
              "      <td>146297.26074</td>\n",
              "      <td>94301.0</td>\n",
              "      <td>37.444572</td>\n",
              "      <td>-122.160309</td>\n",
              "      <td>0.0</td>\n",
              "      <td>5.0</td>\n",
              "      <td>94301.0</td>\n",
              "      <td>1.443790e+11</td>\n",
              "      <td>...</td>\n",
              "      <td>0.0</td>\n",
              "      <td>0</td>\n",
              "      <td>0</td>\n",
              "      <td>0</td>\n",
              "      <td>0</td>\n",
              "      <td>0</td>\n",
              "      <td>1</td>\n",
              "      <td>0</td>\n",
              "      <td>0</td>\n",
              "      <td>0</td>\n",
              "    </tr>\n",
              "    <tr>\n",
              "      <th>3</th>\n",
              "      <td>1.328615e+09</td>\n",
              "      <td>1.328615e+09</td>\n",
              "      <td>146297.26074</td>\n",
              "      <td>94301.0</td>\n",
              "      <td>37.444572</td>\n",
              "      <td>-122.160309</td>\n",
              "      <td>0.0</td>\n",
              "      <td>6.0</td>\n",
              "      <td>94302.0</td>\n",
              "      <td>1.443790e+11</td>\n",
              "      <td>...</td>\n",
              "      <td>0.0</td>\n",
              "      <td>0</td>\n",
              "      <td>1</td>\n",
              "      <td>0</td>\n",
              "      <td>0</td>\n",
              "      <td>0</td>\n",
              "      <td>0</td>\n",
              "      <td>0</td>\n",
              "      <td>0</td>\n",
              "      <td>0</td>\n",
              "    </tr>\n",
              "    <tr>\n",
              "      <th>4</th>\n",
              "      <td>1.328615e+09</td>\n",
              "      <td>1.328615e+09</td>\n",
              "      <td>146297.26074</td>\n",
              "      <td>94301.0</td>\n",
              "      <td>37.444572</td>\n",
              "      <td>-122.160309</td>\n",
              "      <td>0.0</td>\n",
              "      <td>7.0</td>\n",
              "      <td>94043.0</td>\n",
              "      <td>1.443790e+11</td>\n",
              "      <td>...</td>\n",
              "      <td>0.0</td>\n",
              "      <td>0</td>\n",
              "      <td>0</td>\n",
              "      <td>0</td>\n",
              "      <td>0</td>\n",
              "      <td>0</td>\n",
              "      <td>1</td>\n",
              "      <td>0</td>\n",
              "      <td>0</td>\n",
              "      <td>0</td>\n",
              "    </tr>\n",
              "  </tbody>\n",
              "</table>\n",
              "<p>5 rows × 70 columns</p>\n",
              "</div>\n",
              "    <div class=\"colab-df-buttons\">\n",
              "\n",
              "  <div class=\"colab-df-container\">\n",
              "    <button class=\"colab-df-convert\" onclick=\"convertToInteractive('df-7082ad1c-378e-4756-8535-7e5e646d5f94')\"\n",
              "            title=\"Convert this dataframe to an interactive table.\"\n",
              "            style=\"display:none;\">\n",
              "\n",
              "  <svg xmlns=\"http://www.w3.org/2000/svg\" height=\"24px\" viewBox=\"0 -960 960 960\">\n",
              "    <path d=\"M120-120v-720h720v720H120Zm60-500h600v-160H180v160Zm220 220h160v-160H400v160Zm0 220h160v-160H400v160ZM180-400h160v-160H180v160Zm440 0h160v-160H620v160ZM180-180h160v-160H180v160Zm440 0h160v-160H620v160Z\"/>\n",
              "  </svg>\n",
              "    </button>\n",
              "\n",
              "  <style>\n",
              "    .colab-df-container {\n",
              "      display:flex;\n",
              "      gap: 12px;\n",
              "    }\n",
              "\n",
              "    .colab-df-convert {\n",
              "      background-color: #E8F0FE;\n",
              "      border: none;\n",
              "      border-radius: 50%;\n",
              "      cursor: pointer;\n",
              "      display: none;\n",
              "      fill: #1967D2;\n",
              "      height: 32px;\n",
              "      padding: 0 0 0 0;\n",
              "      width: 32px;\n",
              "    }\n",
              "\n",
              "    .colab-df-convert:hover {\n",
              "      background-color: #E2EBFA;\n",
              "      box-shadow: 0px 1px 2px rgba(60, 64, 67, 0.3), 0px 1px 3px 1px rgba(60, 64, 67, 0.15);\n",
              "      fill: #174EA6;\n",
              "    }\n",
              "\n",
              "    .colab-df-buttons div {\n",
              "      margin-bottom: 4px;\n",
              "    }\n",
              "\n",
              "    [theme=dark] .colab-df-convert {\n",
              "      background-color: #3B4455;\n",
              "      fill: #D2E3FC;\n",
              "    }\n",
              "\n",
              "    [theme=dark] .colab-df-convert:hover {\n",
              "      background-color: #434B5C;\n",
              "      box-shadow: 0px 1px 3px 1px rgba(0, 0, 0, 0.15);\n",
              "      filter: drop-shadow(0px 1px 2px rgba(0, 0, 0, 0.3));\n",
              "      fill: #FFFFFF;\n",
              "    }\n",
              "  </style>\n",
              "\n",
              "    <script>\n",
              "      const buttonEl =\n",
              "        document.querySelector('#df-7082ad1c-378e-4756-8535-7e5e646d5f94 button.colab-df-convert');\n",
              "      buttonEl.style.display =\n",
              "        google.colab.kernel.accessAllowed ? 'block' : 'none';\n",
              "\n",
              "      async function convertToInteractive(key) {\n",
              "        const element = document.querySelector('#df-7082ad1c-378e-4756-8535-7e5e646d5f94');\n",
              "        const dataTable =\n",
              "          await google.colab.kernel.invokeFunction('convertToInteractive',\n",
              "                                                    [key], {});\n",
              "        if (!dataTable) return;\n",
              "\n",
              "        const docLinkHtml = 'Like what you see? Visit the ' +\n",
              "          '<a target=\"_blank\" href=https://colab.research.google.com/notebooks/data_table.ipynb>data table notebook</a>'\n",
              "          + ' to learn more about interactive tables.';\n",
              "        element.innerHTML = '';\n",
              "        dataTable['output_type'] = 'display_data';\n",
              "        await google.colab.output.renderOutput(dataTable, element);\n",
              "        const docLink = document.createElement('div');\n",
              "        docLink.innerHTML = docLinkHtml;\n",
              "        element.appendChild(docLink);\n",
              "      }\n",
              "    </script>\n",
              "  </div>\n",
              "\n",
              "\n",
              "<div id=\"df-4da1327b-9794-4264-aeb8-9e91d3a20405\">\n",
              "  <button class=\"colab-df-quickchart\" onclick=\"quickchart('df-4da1327b-9794-4264-aeb8-9e91d3a20405')\"\n",
              "            title=\"Suggest charts.\"\n",
              "            style=\"display:none;\">\n",
              "\n",
              "<svg xmlns=\"http://www.w3.org/2000/svg\" height=\"24px\"viewBox=\"0 0 24 24\"\n",
              "     width=\"24px\">\n",
              "    <g>\n",
              "        <path d=\"M19 3H5c-1.1 0-2 .9-2 2v14c0 1.1.9 2 2 2h14c1.1 0 2-.9 2-2V5c0-1.1-.9-2-2-2zM9 17H7v-7h2v7zm4 0h-2V7h2v10zm4 0h-2v-4h2v4z\"/>\n",
              "    </g>\n",
              "</svg>\n",
              "  </button>\n",
              "\n",
              "<style>\n",
              "  .colab-df-quickchart {\n",
              "    background-color: #E8F0FE;\n",
              "    border: none;\n",
              "    border-radius: 50%;\n",
              "    cursor: pointer;\n",
              "    display: none;\n",
              "    fill: #1967D2;\n",
              "    height: 32px;\n",
              "    padding: 0 0 0 0;\n",
              "    width: 32px;\n",
              "  }\n",
              "\n",
              "  .colab-df-quickchart:hover {\n",
              "    background-color: #E2EBFA;\n",
              "    box-shadow: 0px 1px 2px rgba(60, 64, 67, 0.3), 0px 1px 3px 1px rgba(60, 64, 67, 0.15);\n",
              "    fill: #174EA6;\n",
              "  }\n",
              "\n",
              "  [theme=dark] .colab-df-quickchart {\n",
              "    background-color: #3B4455;\n",
              "    fill: #D2E3FC;\n",
              "  }\n",
              "\n",
              "  [theme=dark] .colab-df-quickchart:hover {\n",
              "    background-color: #434B5C;\n",
              "    box-shadow: 0px 1px 3px 1px rgba(0, 0, 0, 0.15);\n",
              "    filter: drop-shadow(0px 1px 2px rgba(0, 0, 0, 0.3));\n",
              "    fill: #FFFFFF;\n",
              "  }\n",
              "</style>\n",
              "\n",
              "  <script>\n",
              "    async function quickchart(key) {\n",
              "      const charts = await google.colab.kernel.invokeFunction(\n",
              "          'suggestCharts', [key], {});\n",
              "    }\n",
              "    (() => {\n",
              "      let quickchartButtonEl =\n",
              "        document.querySelector('#df-4da1327b-9794-4264-aeb8-9e91d3a20405 button');\n",
              "      quickchartButtonEl.style.display =\n",
              "        google.colab.kernel.accessAllowed ? 'block' : 'none';\n",
              "    })();\n",
              "  </script>\n",
              "</div>\n",
              "    </div>\n",
              "  </div>\n"
            ]
          },
          "metadata": {},
          "execution_count": 57
        }
      ]
    },
    {
      "cell_type": "code",
      "source": [
        "df_encode_label.head()"
      ],
      "metadata": {
        "colab": {
          "base_uri": "https://localhost:8080/",
          "height": 278
        },
        "id": "8quzkC3gmyec",
        "outputId": "c48e33e8-f14e-425e-8e5f-043aef2e6d7e"
      },
      "execution_count": null,
      "outputs": [
        {
          "output_type": "execute_result",
          "data": {
            "text/plain": [
              "     Start Date      End Date       EVSE ID  Postal Code   Latitude  \\\n",
              "0  1.328615e+09  1.328615e+09  146297.26074        94301  37.444572   \n",
              "1  1.328615e+09  1.328615e+09  146297.26074        94301  37.444572   \n",
              "2  1.328615e+09  1.328615e+09  146297.26074        94301  37.444572   \n",
              "3  1.328615e+09  1.328615e+09  146297.26074        94301  37.444572   \n",
              "4  1.328615e+09  1.328615e+09  146297.26074        94301  37.444572   \n",
              "\n",
              "    Longitude  Fee  Plug In Event Id  Driver Postal Code    System S/N  \\\n",
              "0 -122.160309  0.0               3.0             95124.0  1.443790e+11   \n",
              "1 -122.160309  0.0               4.0             94301.0  1.443790e+11   \n",
              "2 -122.160309  0.0               5.0             94301.0  1.443790e+11   \n",
              "3 -122.160309  0.0               6.0             94302.0  1.443790e+11   \n",
              "4 -122.160309  0.0               7.0             94043.0  1.443790e+11   \n",
              "\n",
              "   Total_time_hours  Charging_time_hours  Label_encode_County  \\\n",
              "0          3.058889             1.900833                    2   \n",
              "1          0.035000             0.031667                    2   \n",
              "2          4.292222             4.291111                    2   \n",
              "3          2.056667             2.049444                    2   \n",
              "4          1.190000             0.731667                    2   \n",
              "\n",
              "        Numeric_MAC  label_encode_model_num  label_encode_add  \\\n",
              "0  3781220510637430                    4229                 3   \n",
              "1  3781220510637430                    9114                 3   \n",
              "2  3781220510637430                   21697                 3   \n",
              "3  3781220510637430                   21284                 3   \n",
              "4  3781220510637430                    4748                 3   \n",
              "\n",
              "   label_encode_station_name  label_encode_ended_by  \n",
              "0                         12                     11  \n",
              "1                         12                      1  \n",
              "2                         12                     11  \n",
              "3                         12                      1  \n",
              "4                         12                     11  "
            ],
            "text/html": [
              "\n",
              "  <div id=\"df-ae599d0e-9a07-4226-9e4b-1a9b9f67710d\" class=\"colab-df-container\">\n",
              "    <div>\n",
              "<style scoped>\n",
              "    .dataframe tbody tr th:only-of-type {\n",
              "        vertical-align: middle;\n",
              "    }\n",
              "\n",
              "    .dataframe tbody tr th {\n",
              "        vertical-align: top;\n",
              "    }\n",
              "\n",
              "    .dataframe thead th {\n",
              "        text-align: right;\n",
              "    }\n",
              "</style>\n",
              "<table border=\"1\" class=\"dataframe\">\n",
              "  <thead>\n",
              "    <tr style=\"text-align: right;\">\n",
              "      <th></th>\n",
              "      <th>Start Date</th>\n",
              "      <th>End Date</th>\n",
              "      <th>EVSE ID</th>\n",
              "      <th>Postal Code</th>\n",
              "      <th>Latitude</th>\n",
              "      <th>Longitude</th>\n",
              "      <th>Fee</th>\n",
              "      <th>Plug In Event Id</th>\n",
              "      <th>Driver Postal Code</th>\n",
              "      <th>System S/N</th>\n",
              "      <th>Total_time_hours</th>\n",
              "      <th>Charging_time_hours</th>\n",
              "      <th>Label_encode_County</th>\n",
              "      <th>Numeric_MAC</th>\n",
              "      <th>label_encode_model_num</th>\n",
              "      <th>label_encode_add</th>\n",
              "      <th>label_encode_station_name</th>\n",
              "      <th>label_encode_ended_by</th>\n",
              "    </tr>\n",
              "  </thead>\n",
              "  <tbody>\n",
              "    <tr>\n",
              "      <th>0</th>\n",
              "      <td>1.328615e+09</td>\n",
              "      <td>1.328615e+09</td>\n",
              "      <td>146297.26074</td>\n",
              "      <td>94301</td>\n",
              "      <td>37.444572</td>\n",
              "      <td>-122.160309</td>\n",
              "      <td>0.0</td>\n",
              "      <td>3.0</td>\n",
              "      <td>95124.0</td>\n",
              "      <td>1.443790e+11</td>\n",
              "      <td>3.058889</td>\n",
              "      <td>1.900833</td>\n",
              "      <td>2</td>\n",
              "      <td>3781220510637430</td>\n",
              "      <td>4229</td>\n",
              "      <td>3</td>\n",
              "      <td>12</td>\n",
              "      <td>11</td>\n",
              "    </tr>\n",
              "    <tr>\n",
              "      <th>1</th>\n",
              "      <td>1.328615e+09</td>\n",
              "      <td>1.328615e+09</td>\n",
              "      <td>146297.26074</td>\n",
              "      <td>94301</td>\n",
              "      <td>37.444572</td>\n",
              "      <td>-122.160309</td>\n",
              "      <td>0.0</td>\n",
              "      <td>4.0</td>\n",
              "      <td>94301.0</td>\n",
              "      <td>1.443790e+11</td>\n",
              "      <td>0.035000</td>\n",
              "      <td>0.031667</td>\n",
              "      <td>2</td>\n",
              "      <td>3781220510637430</td>\n",
              "      <td>9114</td>\n",
              "      <td>3</td>\n",
              "      <td>12</td>\n",
              "      <td>1</td>\n",
              "    </tr>\n",
              "    <tr>\n",
              "      <th>2</th>\n",
              "      <td>1.328615e+09</td>\n",
              "      <td>1.328615e+09</td>\n",
              "      <td>146297.26074</td>\n",
              "      <td>94301</td>\n",
              "      <td>37.444572</td>\n",
              "      <td>-122.160309</td>\n",
              "      <td>0.0</td>\n",
              "      <td>5.0</td>\n",
              "      <td>94301.0</td>\n",
              "      <td>1.443790e+11</td>\n",
              "      <td>4.292222</td>\n",
              "      <td>4.291111</td>\n",
              "      <td>2</td>\n",
              "      <td>3781220510637430</td>\n",
              "      <td>21697</td>\n",
              "      <td>3</td>\n",
              "      <td>12</td>\n",
              "      <td>11</td>\n",
              "    </tr>\n",
              "    <tr>\n",
              "      <th>3</th>\n",
              "      <td>1.328615e+09</td>\n",
              "      <td>1.328615e+09</td>\n",
              "      <td>146297.26074</td>\n",
              "      <td>94301</td>\n",
              "      <td>37.444572</td>\n",
              "      <td>-122.160309</td>\n",
              "      <td>0.0</td>\n",
              "      <td>6.0</td>\n",
              "      <td>94302.0</td>\n",
              "      <td>1.443790e+11</td>\n",
              "      <td>2.056667</td>\n",
              "      <td>2.049444</td>\n",
              "      <td>2</td>\n",
              "      <td>3781220510637430</td>\n",
              "      <td>21284</td>\n",
              "      <td>3</td>\n",
              "      <td>12</td>\n",
              "      <td>1</td>\n",
              "    </tr>\n",
              "    <tr>\n",
              "      <th>4</th>\n",
              "      <td>1.328615e+09</td>\n",
              "      <td>1.328615e+09</td>\n",
              "      <td>146297.26074</td>\n",
              "      <td>94301</td>\n",
              "      <td>37.444572</td>\n",
              "      <td>-122.160309</td>\n",
              "      <td>0.0</td>\n",
              "      <td>7.0</td>\n",
              "      <td>94043.0</td>\n",
              "      <td>1.443790e+11</td>\n",
              "      <td>1.190000</td>\n",
              "      <td>0.731667</td>\n",
              "      <td>2</td>\n",
              "      <td>3781220510637430</td>\n",
              "      <td>4748</td>\n",
              "      <td>3</td>\n",
              "      <td>12</td>\n",
              "      <td>11</td>\n",
              "    </tr>\n",
              "  </tbody>\n",
              "</table>\n",
              "</div>\n",
              "    <div class=\"colab-df-buttons\">\n",
              "\n",
              "  <div class=\"colab-df-container\">\n",
              "    <button class=\"colab-df-convert\" onclick=\"convertToInteractive('df-ae599d0e-9a07-4226-9e4b-1a9b9f67710d')\"\n",
              "            title=\"Convert this dataframe to an interactive table.\"\n",
              "            style=\"display:none;\">\n",
              "\n",
              "  <svg xmlns=\"http://www.w3.org/2000/svg\" height=\"24px\" viewBox=\"0 -960 960 960\">\n",
              "    <path d=\"M120-120v-720h720v720H120Zm60-500h600v-160H180v160Zm220 220h160v-160H400v160Zm0 220h160v-160H400v160ZM180-400h160v-160H180v160Zm440 0h160v-160H620v160ZM180-180h160v-160H180v160Zm440 0h160v-160H620v160Z\"/>\n",
              "  </svg>\n",
              "    </button>\n",
              "\n",
              "  <style>\n",
              "    .colab-df-container {\n",
              "      display:flex;\n",
              "      gap: 12px;\n",
              "    }\n",
              "\n",
              "    .colab-df-convert {\n",
              "      background-color: #E8F0FE;\n",
              "      border: none;\n",
              "      border-radius: 50%;\n",
              "      cursor: pointer;\n",
              "      display: none;\n",
              "      fill: #1967D2;\n",
              "      height: 32px;\n",
              "      padding: 0 0 0 0;\n",
              "      width: 32px;\n",
              "    }\n",
              "\n",
              "    .colab-df-convert:hover {\n",
              "      background-color: #E2EBFA;\n",
              "      box-shadow: 0px 1px 2px rgba(60, 64, 67, 0.3), 0px 1px 3px 1px rgba(60, 64, 67, 0.15);\n",
              "      fill: #174EA6;\n",
              "    }\n",
              "\n",
              "    .colab-df-buttons div {\n",
              "      margin-bottom: 4px;\n",
              "    }\n",
              "\n",
              "    [theme=dark] .colab-df-convert {\n",
              "      background-color: #3B4455;\n",
              "      fill: #D2E3FC;\n",
              "    }\n",
              "\n",
              "    [theme=dark] .colab-df-convert:hover {\n",
              "      background-color: #434B5C;\n",
              "      box-shadow: 0px 1px 3px 1px rgba(0, 0, 0, 0.15);\n",
              "      filter: drop-shadow(0px 1px 2px rgba(0, 0, 0, 0.3));\n",
              "      fill: #FFFFFF;\n",
              "    }\n",
              "  </style>\n",
              "\n",
              "    <script>\n",
              "      const buttonEl =\n",
              "        document.querySelector('#df-ae599d0e-9a07-4226-9e4b-1a9b9f67710d button.colab-df-convert');\n",
              "      buttonEl.style.display =\n",
              "        google.colab.kernel.accessAllowed ? 'block' : 'none';\n",
              "\n",
              "      async function convertToInteractive(key) {\n",
              "        const element = document.querySelector('#df-ae599d0e-9a07-4226-9e4b-1a9b9f67710d');\n",
              "        const dataTable =\n",
              "          await google.colab.kernel.invokeFunction('convertToInteractive',\n",
              "                                                    [key], {});\n",
              "        if (!dataTable) return;\n",
              "\n",
              "        const docLinkHtml = 'Like what you see? Visit the ' +\n",
              "          '<a target=\"_blank\" href=https://colab.research.google.com/notebooks/data_table.ipynb>data table notebook</a>'\n",
              "          + ' to learn more about interactive tables.';\n",
              "        element.innerHTML = '';\n",
              "        dataTable['output_type'] = 'display_data';\n",
              "        await google.colab.output.renderOutput(dataTable, element);\n",
              "        const docLink = document.createElement('div');\n",
              "        docLink.innerHTML = docLinkHtml;\n",
              "        element.appendChild(docLink);\n",
              "      }\n",
              "    </script>\n",
              "  </div>\n",
              "\n",
              "\n",
              "<div id=\"df-d71b5377-a9e9-4e86-a21c-95395fac8a2b\">\n",
              "  <button class=\"colab-df-quickchart\" onclick=\"quickchart('df-d71b5377-a9e9-4e86-a21c-95395fac8a2b')\"\n",
              "            title=\"Suggest charts.\"\n",
              "            style=\"display:none;\">\n",
              "\n",
              "<svg xmlns=\"http://www.w3.org/2000/svg\" height=\"24px\"viewBox=\"0 0 24 24\"\n",
              "     width=\"24px\">\n",
              "    <g>\n",
              "        <path d=\"M19 3H5c-1.1 0-2 .9-2 2v14c0 1.1.9 2 2 2h14c1.1 0 2-.9 2-2V5c0-1.1-.9-2-2-2zM9 17H7v-7h2v7zm4 0h-2V7h2v10zm4 0h-2v-4h2v4z\"/>\n",
              "    </g>\n",
              "</svg>\n",
              "  </button>\n",
              "\n",
              "<style>\n",
              "  .colab-df-quickchart {\n",
              "    background-color: #E8F0FE;\n",
              "    border: none;\n",
              "    border-radius: 50%;\n",
              "    cursor: pointer;\n",
              "    display: none;\n",
              "    fill: #1967D2;\n",
              "    height: 32px;\n",
              "    padding: 0 0 0 0;\n",
              "    width: 32px;\n",
              "  }\n",
              "\n",
              "  .colab-df-quickchart:hover {\n",
              "    background-color: #E2EBFA;\n",
              "    box-shadow: 0px 1px 2px rgba(60, 64, 67, 0.3), 0px 1px 3px 1px rgba(60, 64, 67, 0.15);\n",
              "    fill: #174EA6;\n",
              "  }\n",
              "\n",
              "  [theme=dark] .colab-df-quickchart {\n",
              "    background-color: #3B4455;\n",
              "    fill: #D2E3FC;\n",
              "  }\n",
              "\n",
              "  [theme=dark] .colab-df-quickchart:hover {\n",
              "    background-color: #434B5C;\n",
              "    box-shadow: 0px 1px 3px 1px rgba(0, 0, 0, 0.15);\n",
              "    filter: drop-shadow(0px 1px 2px rgba(0, 0, 0, 0.3));\n",
              "    fill: #FFFFFF;\n",
              "  }\n",
              "</style>\n",
              "\n",
              "  <script>\n",
              "    async function quickchart(key) {\n",
              "      const charts = await google.colab.kernel.invokeFunction(\n",
              "          'suggestCharts', [key], {});\n",
              "    }\n",
              "    (() => {\n",
              "      let quickchartButtonEl =\n",
              "        document.querySelector('#df-d71b5377-a9e9-4e86-a21c-95395fac8a2b button');\n",
              "      quickchartButtonEl.style.display =\n",
              "        google.colab.kernel.accessAllowed ? 'block' : 'none';\n",
              "    })();\n",
              "  </script>\n",
              "</div>\n",
              "    </div>\n",
              "  </div>\n"
            ]
          },
          "metadata": {},
          "execution_count": 58
        }
      ]
    },
    {
      "cell_type": "code",
      "source": [
        "columns_to_remove = ['Station Name', 'Address 1','Ended By','Model Number']\n",
        "df_encode_label = df_encode_label.drop(columns=columns_to_remove)\n",
        "df_encode_one_hot = df_encode_one_hot.drop(columns=columns_to_remove)"
      ],
      "metadata": {
        "colab": {
          "base_uri": "https://localhost:8080/",
          "height": 356
        },
        "id": "yfjLbg68pLt6",
        "outputId": "85f67e8c-f4c4-49c8-da02-1417ce9aa932"
      },
      "execution_count": null,
      "outputs": [
        {
          "output_type": "error",
          "ename": "KeyError",
          "evalue": "ignored",
          "traceback": [
            "\u001b[0;31m---------------------------------------------------------------------------\u001b[0m",
            "\u001b[0;31mKeyError\u001b[0m                                  Traceback (most recent call last)",
            "\u001b[0;32m<ipython-input-59-0d5192e33c4b>\u001b[0m in \u001b[0;36m<cell line: 2>\u001b[0;34m()\u001b[0m\n\u001b[1;32m      1\u001b[0m \u001b[0mcolumns_to_remove\u001b[0m \u001b[0;34m=\u001b[0m \u001b[0;34m[\u001b[0m\u001b[0;34m'Station Name'\u001b[0m\u001b[0;34m,\u001b[0m \u001b[0;34m'Address 1'\u001b[0m\u001b[0;34m,\u001b[0m\u001b[0;34m'Ended By'\u001b[0m\u001b[0;34m,\u001b[0m\u001b[0;34m'Model Number'\u001b[0m\u001b[0;34m]\u001b[0m\u001b[0;34m\u001b[0m\u001b[0;34m\u001b[0m\u001b[0m\n\u001b[0;32m----> 2\u001b[0;31m \u001b[0mdf_encode_label\u001b[0m \u001b[0;34m=\u001b[0m \u001b[0mdf_encode_label\u001b[0m\u001b[0;34m.\u001b[0m\u001b[0mdrop\u001b[0m\u001b[0;34m(\u001b[0m\u001b[0mcolumns\u001b[0m\u001b[0;34m=\u001b[0m\u001b[0mcolumns_to_remove\u001b[0m\u001b[0;34m)\u001b[0m\u001b[0;34m\u001b[0m\u001b[0;34m\u001b[0m\u001b[0m\n\u001b[0m\u001b[1;32m      3\u001b[0m \u001b[0mdf_encode_one_hot\u001b[0m \u001b[0;34m=\u001b[0m \u001b[0mdf_encode_one_hot\u001b[0m\u001b[0;34m.\u001b[0m\u001b[0mdrop\u001b[0m\u001b[0;34m(\u001b[0m\u001b[0mcolumns\u001b[0m\u001b[0;34m=\u001b[0m\u001b[0mcolumns_to_remove\u001b[0m\u001b[0;34m)\u001b[0m\u001b[0;34m\u001b[0m\u001b[0;34m\u001b[0m\u001b[0m\n",
            "\u001b[0;32m/usr/local/lib/python3.10/dist-packages/pandas/util/_decorators.py\u001b[0m in \u001b[0;36mwrapper\u001b[0;34m(*args, **kwargs)\u001b[0m\n\u001b[1;32m    329\u001b[0m                     \u001b[0mstacklevel\u001b[0m\u001b[0;34m=\u001b[0m\u001b[0mfind_stack_level\u001b[0m\u001b[0;34m(\u001b[0m\u001b[0;34m)\u001b[0m\u001b[0;34m,\u001b[0m\u001b[0;34m\u001b[0m\u001b[0;34m\u001b[0m\u001b[0m\n\u001b[1;32m    330\u001b[0m                 )\n\u001b[0;32m--> 331\u001b[0;31m             \u001b[0;32mreturn\u001b[0m \u001b[0mfunc\u001b[0m\u001b[0;34m(\u001b[0m\u001b[0;34m*\u001b[0m\u001b[0margs\u001b[0m\u001b[0;34m,\u001b[0m \u001b[0;34m**\u001b[0m\u001b[0mkwargs\u001b[0m\u001b[0;34m)\u001b[0m\u001b[0;34m\u001b[0m\u001b[0;34m\u001b[0m\u001b[0m\n\u001b[0m\u001b[1;32m    332\u001b[0m \u001b[0;34m\u001b[0m\u001b[0m\n\u001b[1;32m    333\u001b[0m         \u001b[0;31m# error: \"Callable[[VarArg(Any), KwArg(Any)], Any]\" has no\u001b[0m\u001b[0;34m\u001b[0m\u001b[0;34m\u001b[0m\u001b[0m\n",
            "\u001b[0;32m/usr/local/lib/python3.10/dist-packages/pandas/core/frame.py\u001b[0m in \u001b[0;36mdrop\u001b[0;34m(self, labels, axis, index, columns, level, inplace, errors)\u001b[0m\n\u001b[1;32m   5397\u001b[0m                 \u001b[0mweight\u001b[0m  \u001b[0;36m1.0\u001b[0m     \u001b[0;36m0.8\u001b[0m\u001b[0;34m\u001b[0m\u001b[0;34m\u001b[0m\u001b[0m\n\u001b[1;32m   5398\u001b[0m         \"\"\"\n\u001b[0;32m-> 5399\u001b[0;31m         return super().drop(\n\u001b[0m\u001b[1;32m   5400\u001b[0m             \u001b[0mlabels\u001b[0m\u001b[0;34m=\u001b[0m\u001b[0mlabels\u001b[0m\u001b[0;34m,\u001b[0m\u001b[0;34m\u001b[0m\u001b[0;34m\u001b[0m\u001b[0m\n\u001b[1;32m   5401\u001b[0m             \u001b[0maxis\u001b[0m\u001b[0;34m=\u001b[0m\u001b[0maxis\u001b[0m\u001b[0;34m,\u001b[0m\u001b[0;34m\u001b[0m\u001b[0;34m\u001b[0m\u001b[0m\n",
            "\u001b[0;32m/usr/local/lib/python3.10/dist-packages/pandas/util/_decorators.py\u001b[0m in \u001b[0;36mwrapper\u001b[0;34m(*args, **kwargs)\u001b[0m\n\u001b[1;32m    329\u001b[0m                     \u001b[0mstacklevel\u001b[0m\u001b[0;34m=\u001b[0m\u001b[0mfind_stack_level\u001b[0m\u001b[0;34m(\u001b[0m\u001b[0;34m)\u001b[0m\u001b[0;34m,\u001b[0m\u001b[0;34m\u001b[0m\u001b[0;34m\u001b[0m\u001b[0m\n\u001b[1;32m    330\u001b[0m                 )\n\u001b[0;32m--> 331\u001b[0;31m             \u001b[0;32mreturn\u001b[0m \u001b[0mfunc\u001b[0m\u001b[0;34m(\u001b[0m\u001b[0;34m*\u001b[0m\u001b[0margs\u001b[0m\u001b[0;34m,\u001b[0m \u001b[0;34m**\u001b[0m\u001b[0mkwargs\u001b[0m\u001b[0;34m)\u001b[0m\u001b[0;34m\u001b[0m\u001b[0;34m\u001b[0m\u001b[0m\n\u001b[0m\u001b[1;32m    332\u001b[0m \u001b[0;34m\u001b[0m\u001b[0m\n\u001b[1;32m    333\u001b[0m         \u001b[0;31m# error: \"Callable[[VarArg(Any), KwArg(Any)], Any]\" has no\u001b[0m\u001b[0;34m\u001b[0m\u001b[0;34m\u001b[0m\u001b[0m\n",
            "\u001b[0;32m/usr/local/lib/python3.10/dist-packages/pandas/core/generic.py\u001b[0m in \u001b[0;36mdrop\u001b[0;34m(self, labels, axis, index, columns, level, inplace, errors)\u001b[0m\n\u001b[1;32m   4503\u001b[0m         \u001b[0;32mfor\u001b[0m \u001b[0maxis\u001b[0m\u001b[0;34m,\u001b[0m \u001b[0mlabels\u001b[0m \u001b[0;32min\u001b[0m \u001b[0maxes\u001b[0m\u001b[0;34m.\u001b[0m\u001b[0mitems\u001b[0m\u001b[0;34m(\u001b[0m\u001b[0;34m)\u001b[0m\u001b[0;34m:\u001b[0m\u001b[0;34m\u001b[0m\u001b[0;34m\u001b[0m\u001b[0m\n\u001b[1;32m   4504\u001b[0m             \u001b[0;32mif\u001b[0m \u001b[0mlabels\u001b[0m \u001b[0;32mis\u001b[0m \u001b[0;32mnot\u001b[0m \u001b[0;32mNone\u001b[0m\u001b[0;34m:\u001b[0m\u001b[0;34m\u001b[0m\u001b[0;34m\u001b[0m\u001b[0m\n\u001b[0;32m-> 4505\u001b[0;31m                 \u001b[0mobj\u001b[0m \u001b[0;34m=\u001b[0m \u001b[0mobj\u001b[0m\u001b[0;34m.\u001b[0m\u001b[0m_drop_axis\u001b[0m\u001b[0;34m(\u001b[0m\u001b[0mlabels\u001b[0m\u001b[0;34m,\u001b[0m \u001b[0maxis\u001b[0m\u001b[0;34m,\u001b[0m \u001b[0mlevel\u001b[0m\u001b[0;34m=\u001b[0m\u001b[0mlevel\u001b[0m\u001b[0;34m,\u001b[0m \u001b[0merrors\u001b[0m\u001b[0;34m=\u001b[0m\u001b[0merrors\u001b[0m\u001b[0;34m)\u001b[0m\u001b[0;34m\u001b[0m\u001b[0;34m\u001b[0m\u001b[0m\n\u001b[0m\u001b[1;32m   4506\u001b[0m \u001b[0;34m\u001b[0m\u001b[0m\n\u001b[1;32m   4507\u001b[0m         \u001b[0;32mif\u001b[0m \u001b[0minplace\u001b[0m\u001b[0;34m:\u001b[0m\u001b[0;34m\u001b[0m\u001b[0;34m\u001b[0m\u001b[0m\n",
            "\u001b[0;32m/usr/local/lib/python3.10/dist-packages/pandas/core/generic.py\u001b[0m in \u001b[0;36m_drop_axis\u001b[0;34m(self, labels, axis, level, errors, only_slice)\u001b[0m\n\u001b[1;32m   4544\u001b[0m                 \u001b[0mnew_axis\u001b[0m \u001b[0;34m=\u001b[0m \u001b[0maxis\u001b[0m\u001b[0;34m.\u001b[0m\u001b[0mdrop\u001b[0m\u001b[0;34m(\u001b[0m\u001b[0mlabels\u001b[0m\u001b[0;34m,\u001b[0m \u001b[0mlevel\u001b[0m\u001b[0;34m=\u001b[0m\u001b[0mlevel\u001b[0m\u001b[0;34m,\u001b[0m \u001b[0merrors\u001b[0m\u001b[0;34m=\u001b[0m\u001b[0merrors\u001b[0m\u001b[0;34m)\u001b[0m\u001b[0;34m\u001b[0m\u001b[0;34m\u001b[0m\u001b[0m\n\u001b[1;32m   4545\u001b[0m             \u001b[0;32melse\u001b[0m\u001b[0;34m:\u001b[0m\u001b[0;34m\u001b[0m\u001b[0;34m\u001b[0m\u001b[0m\n\u001b[0;32m-> 4546\u001b[0;31m                 \u001b[0mnew_axis\u001b[0m \u001b[0;34m=\u001b[0m \u001b[0maxis\u001b[0m\u001b[0;34m.\u001b[0m\u001b[0mdrop\u001b[0m\u001b[0;34m(\u001b[0m\u001b[0mlabels\u001b[0m\u001b[0;34m,\u001b[0m \u001b[0merrors\u001b[0m\u001b[0;34m=\u001b[0m\u001b[0merrors\u001b[0m\u001b[0;34m)\u001b[0m\u001b[0;34m\u001b[0m\u001b[0;34m\u001b[0m\u001b[0m\n\u001b[0m\u001b[1;32m   4547\u001b[0m             \u001b[0mindexer\u001b[0m \u001b[0;34m=\u001b[0m \u001b[0maxis\u001b[0m\u001b[0;34m.\u001b[0m\u001b[0mget_indexer\u001b[0m\u001b[0;34m(\u001b[0m\u001b[0mnew_axis\u001b[0m\u001b[0;34m)\u001b[0m\u001b[0;34m\u001b[0m\u001b[0;34m\u001b[0m\u001b[0m\n\u001b[1;32m   4548\u001b[0m \u001b[0;34m\u001b[0m\u001b[0m\n",
            "\u001b[0;32m/usr/local/lib/python3.10/dist-packages/pandas/core/indexes/base.py\u001b[0m in \u001b[0;36mdrop\u001b[0;34m(self, labels, errors)\u001b[0m\n\u001b[1;32m   6932\u001b[0m         \u001b[0;32mif\u001b[0m \u001b[0mmask\u001b[0m\u001b[0;34m.\u001b[0m\u001b[0many\u001b[0m\u001b[0;34m(\u001b[0m\u001b[0;34m)\u001b[0m\u001b[0;34m:\u001b[0m\u001b[0;34m\u001b[0m\u001b[0;34m\u001b[0m\u001b[0m\n\u001b[1;32m   6933\u001b[0m             \u001b[0;32mif\u001b[0m \u001b[0merrors\u001b[0m \u001b[0;34m!=\u001b[0m \u001b[0;34m\"ignore\"\u001b[0m\u001b[0;34m:\u001b[0m\u001b[0;34m\u001b[0m\u001b[0;34m\u001b[0m\u001b[0m\n\u001b[0;32m-> 6934\u001b[0;31m                 \u001b[0;32mraise\u001b[0m \u001b[0mKeyError\u001b[0m\u001b[0;34m(\u001b[0m\u001b[0;34mf\"{list(labels[mask])} not found in axis\"\u001b[0m\u001b[0;34m)\u001b[0m\u001b[0;34m\u001b[0m\u001b[0;34m\u001b[0m\u001b[0m\n\u001b[0m\u001b[1;32m   6935\u001b[0m             \u001b[0mindexer\u001b[0m \u001b[0;34m=\u001b[0m \u001b[0mindexer\u001b[0m\u001b[0;34m[\u001b[0m\u001b[0;34m~\u001b[0m\u001b[0mmask\u001b[0m\u001b[0;34m]\u001b[0m\u001b[0;34m\u001b[0m\u001b[0;34m\u001b[0m\u001b[0m\n\u001b[1;32m   6936\u001b[0m         \u001b[0;32mreturn\u001b[0m \u001b[0mself\u001b[0m\u001b[0;34m.\u001b[0m\u001b[0mdelete\u001b[0m\u001b[0;34m(\u001b[0m\u001b[0mindexer\u001b[0m\u001b[0;34m)\u001b[0m\u001b[0;34m\u001b[0m\u001b[0;34m\u001b[0m\u001b[0m\n",
            "\u001b[0;31mKeyError\u001b[0m: \"['Station Name', 'Address 1', 'Ended By', 'Model Number'] not found in axis\""
          ]
        }
      ]
    },
    {
      "cell_type": "code",
      "source": [
        "print(df_encode_label.shape)\n",
        "print('/n')\n",
        "print(df_encode_one_hot.shape)"
      ],
      "metadata": {
        "colab": {
          "base_uri": "https://localhost:8080/"
        },
        "id": "Eq1AgbJsp8ag",
        "outputId": "c52043cd-868e-4337-b7f5-54628376673c"
      },
      "execution_count": null,
      "outputs": [
        {
          "output_type": "stream",
          "name": "stdout",
          "text": [
            "(259127, 18)\n",
            "/n\n",
            "(259375, 70)\n"
          ]
        }
      ]
    },
    {
      "cell_type": "code",
      "source": [
        "csv_file_path_1 = '/content/drive/MyDrive/data_mining/Project/dataset/df_encode_label_.csv'\n",
        "csv_file_path_2 = '/content/drive/MyDrive/data_mining/Project/dataset/df_encode_one_hot_.csv'\n",
        "\n",
        "df_encode_label.to_csv(csv_file_path_1, index=False)\n",
        "df_encode_one_hot.to_csv(csv_file_path_2, index=False)"
      ],
      "metadata": {
        "id": "4D17Hj4iqEhu"
      },
      "execution_count": null,
      "outputs": []
    },
    {
      "cell_type": "code",
      "source": [
        "data = pd.Series(df['Ended By'])\n",
        "\n",
        "value_counts = data.value_counts()\n",
        "\n",
        "print(f'value_counts of:')\n",
        "\n",
        "print(value_counts)"
      ],
      "metadata": {
        "colab": {
          "base_uri": "https://localhost:8080/"
        },
        "id": "ZrzjSKNvnGdU",
        "outputId": "dc3a02ef-c642-4750-8fb9-e48746e38f06"
      },
      "execution_count": null,
      "outputs": [
        {
          "output_type": "stream",
          "name": "stdout",
          "text": [
            "value_counts of:\n",
            "Plug Out at Vehicle             210687\n",
            "Customer                         41084\n",
            "CPS Server                        7065\n",
            "Outlet Unreachable                  64\n",
            "Door Open                           57\n",
            "Plug Removed While Rebooting        50\n",
            "Unknown                             32\n",
            "Final GFCI Tripped                  28\n",
            "Door                                24\n",
            "Final 4-strikes GFCI trip           15\n",
            "Plug Out at Station                  7\n",
            "Holster Plugin                       7\n",
            "Station Offline                      3\n",
            "OCD                                  2\n",
            "Door Closed                          1\n",
            "Relay Stuck Closed                   1\n",
            "Name: Ended By, dtype: int64\n"
          ]
        }
      ]
    },
    {
      "cell_type": "code",
      "source": [
        "df = df.drop([\"MAC Address\"], axis=1)"
      ],
      "metadata": {
        "id": "UOoS-wtZhQsb"
      },
      "execution_count": null,
      "outputs": []
    },
    {
      "cell_type": "markdown",
      "source": [
        "# **Linear Regression**"
      ],
      "metadata": {
        "id": "im0fyGnbwdfc"
      }
    },
    {
      "cell_type": "markdown",
      "source": [
        "# **Label encoded dataset**"
      ],
      "metadata": {
        "id": "R6aP7rohwiYu"
      }
    },
    {
      "cell_type": "code",
      "source": [
        "df_encode_label = pd.read_csv('/content/drive/MyDrive/data_mining/Project/dataset/df_encode_label_.csv')\n",
        "\n",
        "df_encode_one_hot = pd.read_csv('/content/drive/MyDrive/data_mining/Project/dataset/df_encode_one_hot_.csv')"
      ],
      "metadata": {
        "id": "eXPMpBlCwgmR"
      },
      "execution_count": null,
      "outputs": []
    },
    {
      "cell_type": "code",
      "source": [
        "df_encode_label.columns"
      ],
      "metadata": {
        "colab": {
          "base_uri": "https://localhost:8080/"
        },
        "id": "yA9vUaIvyPNw",
        "outputId": "139f7e43-a0f2-44c6-aadf-717033368a9f"
      },
      "execution_count": null,
      "outputs": [
        {
          "output_type": "execute_result",
          "data": {
            "text/plain": [
              "Index(['Start Date', 'End Date', 'EVSE ID', 'Postal Code', 'Latitude',\n",
              "       'Longitude', 'Fee', 'Plug In Event Id', 'Driver Postal Code',\n",
              "       'System S/N', 'Total_time_hours', 'Charging_time_hours',\n",
              "       'Label_encode_County', 'Numeric_MAC', 'label_encode_model_num',\n",
              "       'label_encode_add', 'label_encode_station_name',\n",
              "       'label_encode_ended_by'],\n",
              "      dtype='object')"
            ]
          },
          "metadata": {},
          "execution_count": 4
        }
      ]
    },
    {
      "cell_type": "code",
      "source": [
        "data_df_encode_label= df_encode_label.drop(['Total_time_hours'],axis=1)"
      ],
      "metadata": {
        "id": "wEMNwxtYyEeI"
      },
      "execution_count": null,
      "outputs": []
    },
    {
      "cell_type": "markdown",
      "source": [
        "# **Regression**"
      ],
      "metadata": {
        "id": "j4_L2ynCxrvG"
      }
    },
    {
      "cell_type": "code",
      "execution_count": null,
      "metadata": {
        "id": "1QWRLhnw1ZlY"
      },
      "outputs": [],
      "source": [
        "from sklearn.model_selection import train_test_split, cross_validate, cross_val_score, GridSearchCV\n",
        "from sklearn.ensemble import GradientBoostingRegressor\n",
        "from sklearn.metrics import mean_squared_error\n",
        "from sklearn.metrics import mean_absolute_error"
      ]
    },
    {
      "cell_type": "code",
      "execution_count": null,
      "metadata": {
        "id": "p3wlZypUzHIj"
      },
      "outputs": [],
      "source": [
        "X_train, X_test, y_train, y_test = train_test_split(data_df_encode_label, df_encode_label[\"Total_time_hours\"], random_state=42, test_size=0.20)"
      ]
    },
    {
      "cell_type": "code",
      "execution_count": null,
      "metadata": {
        "colab": {
          "base_uri": "https://localhost:8080/"
        },
        "id": "1cuT_F7Ny-aB",
        "outputId": "3116f0c1-5745-4561-c0fe-9f35821c2e3b"
      },
      "outputs": [
        {
          "output_type": "execute_result",
          "data": {
            "text/plain": [
              "((207301, 17), (51826, 17))"
            ]
          },
          "metadata": {},
          "execution_count": 30
        }
      ],
      "source": [
        "size_scaler = preprocessing.StandardScaler().fit(X_train)\n",
        "X_train_scaled = size_scaler.transform(X_train)\n",
        "X_test_scaled = size_scaler.transform(X_test)\n",
        "X_train_scaled.shape, X_test_scaled.shape"
      ]
    },
    {
      "cell_type": "code",
      "execution_count": null,
      "metadata": {
        "id": "ZONdMxAcJTsS"
      },
      "outputs": [],
      "source": [
        "from sklearn.metrics import mean_squared_error, mean_absolute_error\n",
        "\n",
        "# Models-------------------------\n",
        "from sklearn.linear_model import LinearRegression\n",
        "from sklearn.ensemble import RandomForestRegressor\n",
        "from sklearn.ensemble import GradientBoostingRegressor\n",
        "from xgboost import XGBRegressor"
      ]
    },
    {
      "cell_type": "code",
      "execution_count": null,
      "metadata": {
        "id": "JSmy4dSZJZko"
      },
      "outputs": [],
      "source": [
        "model_dict = {\n",
        "    'LinearRegression': {\"model\": LinearRegression(), \"params\": {}}\n",
        "}\n"
      ]
    },
    {
      "cell_type": "code",
      "execution_count": null,
      "metadata": {
        "id": "5IQRqkhjJlDi"
      },
      "outputs": [],
      "source": [
        "def eval_models():\n",
        "    model_results = pd.DataFrame()\n",
        "    model_results['Train_RMSE'] = None\n",
        "    model_results['Test_RMSE'] = None\n",
        "    model_results['Train_MAE'] = None\n",
        "    model_results['Test_MAE'] = None\n",
        "    model_results['best_params'] = None\n",
        "\n",
        "    best_reg_model_ours = None\n",
        "    best_test_score = math.inf\n",
        "\n",
        "    for model_name, reg_model in model_dict.items():\n",
        "        classifier = GridSearchCV(reg_model['model'], reg_model['params'], n_jobs=20, verbose=0)\n",
        "        classifier.fit(X_train_scaled, list(y_train))\n",
        "        best_model = classifier.best_estimator_\n",
        "\n",
        "        y_train_predicted = best_model.predict(X_train_scaled)\n",
        "        train_rmse = np.sqrt(mean_squared_error(list(y_train), y_train_predicted))\n",
        "        train_mae = mean_absolute_error(list(y_train), y_train_predicted)\n",
        "\n",
        "        print(model_name, train_rmse, classifier.best_params_)\n",
        "\n",
        "        y_predicted = best_model.predict(X_test_scaled)\n",
        "        test_rmse = np.sqrt(mean_squared_error(list(y_test), y_predicted))\n",
        "        test_mae = mean_absolute_error(list(y_test), y_predicted)\n",
        "\n",
        "        if test_rmse < best_test_score:\n",
        "            best_test_score = test_rmse\n",
        "            best_reg_model_ours = best_model\n",
        "\n",
        "        model_results.loc[model_name, ['Train_RMSE', 'Test_RMSE', 'Train_MAE', 'Test_MAE', 'best_params']] = [train_rmse, test_rmse, train_mae, test_mae, classifier.best_params_]\n",
        "\n",
        "    print(\"Best model: \", best_model)\n",
        "    # plot the prediction errors using the best model\n",
        "    y_predicted = best_model.predict(X_test_scaled)\n",
        "    plt.plot(list(y_test) - y_predicted, marker='o', linestyle='')\n",
        "\n",
        "    return model_results"
      ]
    },
    {
      "cell_type": "code",
      "source": [
        "model_results = eval_models()"
      ],
      "metadata": {
        "colab": {
          "base_uri": "https://localhost:8080/",
          "height": 465
        },
        "id": "5yhXgxE_qRS3",
        "outputId": "15fa583a-b66d-4d61-8577-6761bbfdc5fb"
      },
      "execution_count": null,
      "outputs": [
        {
          "output_type": "stream",
          "name": "stdout",
          "text": [
            "LinearRegression 0.6876184194051677 {}\n",
            "Best model:  LinearRegression()\n"
          ]
        },
        {
          "output_type": "display_data",
          "data": {
            "text/plain": [
              "<Figure size 640x480 with 1 Axes>"
            ],
            "image/png": "[encoded data removed]"
          },
          "metadata": {}
        }
      ]
    },
    {
      "cell_type": "code",
      "execution_count": null,
      "metadata": {
        "colab": {
          "base_uri": "https://localhost:8080/"
        },
        "id": "9jJQuuS8JlLQ",
        "outputId": "605b957f-848f-42cb-eaac-d598a31592ea"
      },
      "outputs": [
        {
          "metadata": {
            "tags": null
          },
          "name": "stdout",
          "output_type": "stream",
          "text": [
            "LinearRegression 9.03567575779331 {}\n",
            "RandomForestRegressor 0.01385492852843546 {'max_depth': 9, 'n_estimators': 20}\n"
          ]
        }
      ],
      "source": [
        "model_results = eval_models()"
      ]
    },
    {
      "cell_type": "code",
      "execution_count": null,
      "metadata": {
        "id": "r21aT-NcQ4yo",
        "colab": {
          "base_uri": "https://localhost:8080/",
          "height": 80
        },
        "outputId": "fd295985-cdf8-49be-9f94-42f3a36b2048"
      },
      "outputs": [
        {
          "output_type": "execute_result",
          "data": {
            "text/plain": [
              "                 Train_RMSE Test_RMSE Train_MAE  Test_MAE best_params\n",
              "LinearRegression   0.687618  0.678897  0.434675  0.429702          {}"
            ],
            "text/html": [
              "\n",
              "  <div id=\"df-baf4d380-e00c-43e9-bd39-86b86d0f93ce\" class=\"colab-df-container\">\n",
              "    <div>\n",
              "<style scoped>\n",
              "    .dataframe tbody tr th:only-of-type {\n",
              "        vertical-align: middle;\n",
              "    }\n",
              "\n",
              "    .dataframe tbody tr th {\n",
              "        vertical-align: top;\n",
              "    }\n",
              "\n",
              "    .dataframe thead th {\n",
              "        text-align: right;\n",
              "    }\n",
              "</style>\n",
              "<table border=\"1\" class=\"dataframe\">\n",
              "  <thead>\n",
              "    <tr style=\"text-align: right;\">\n",
              "      <th></th>\n",
              "      <th>Train_RMSE</th>\n",
              "      <th>Test_RMSE</th>\n",
              "      <th>Train_MAE</th>\n",
              "      <th>Test_MAE</th>\n",
              "      <th>best_params</th>\n",
              "    </tr>\n",
              "  </thead>\n",
              "  <tbody>\n",
              "    <tr>\n",
              "      <th>LinearRegression</th>\n",
              "      <td>0.687618</td>\n",
              "      <td>0.678897</td>\n",
              "      <td>0.434675</td>\n",
              "      <td>0.429702</td>\n",
              "      <td>{}</td>\n",
              "    </tr>\n",
              "  </tbody>\n",
              "</table>\n",
              "</div>\n",
              "    <div class=\"colab-df-buttons\">\n",
              "\n",
              "  <div class=\"colab-df-container\">\n",
              "    <button class=\"colab-df-convert\" onclick=\"convertToInteractive('df-baf4d380-e00c-43e9-bd39-86b86d0f93ce')\"\n",
              "            title=\"Convert this dataframe to an interactive table.\"\n",
              "            style=\"display:none;\">\n",
              "\n",
              "  <svg xmlns=\"http://www.w3.org/2000/svg\" height=\"24px\" viewBox=\"0 -960 960 960\">\n",
              "    <path d=\"M120-120v-720h720v720H120Zm60-500h600v-160H180v160Zm220 220h160v-160H400v160Zm0 220h160v-160H400v160ZM180-400h160v-160H180v160Zm440 0h160v-160H620v160ZM180-180h160v-160H180v160Zm440 0h160v-160H620v160Z\"/>\n",
              "  </svg>\n",
              "    </button>\n",
              "\n",
              "  <style>\n",
              "    .colab-df-container {\n",
              "      display:flex;\n",
              "      gap: 12px;\n",
              "    }\n",
              "\n",
              "    .colab-df-convert {\n",
              "      background-color: #E8F0FE;\n",
              "      border: none;\n",
              "      border-radius: 50%;\n",
              "      cursor: pointer;\n",
              "      display: none;\n",
              "      fill: #1967D2;\n",
              "      height: 32px;\n",
              "      padding: 0 0 0 0;\n",
              "      width: 32px;\n",
              "    }\n",
              "\n",
              "    .colab-df-convert:hover {\n",
              "      background-color: #E2EBFA;\n",
              "      box-shadow: 0px 1px 2px rgba(60, 64, 67, 0.3), 0px 1px 3px 1px rgba(60, 64, 67, 0.15);\n",
              "      fill: #174EA6;\n",
              "    }\n",
              "\n",
              "    .colab-df-buttons div {\n",
              "      margin-bottom: 4px;\n",
              "    }\n",
              "\n",
              "    [theme=dark] .colab-df-convert {\n",
              "      background-color: #3B4455;\n",
              "      fill: #D2E3FC;\n",
              "    }\n",
              "\n",
              "    [theme=dark] .colab-df-convert:hover {\n",
              "      background-color: #434B5C;\n",
              "      box-shadow: 0px 1px 3px 1px rgba(0, 0, 0, 0.15);\n",
              "      filter: drop-shadow(0px 1px 2px rgba(0, 0, 0, 0.3));\n",
              "      fill: #FFFFFF;\n",
              "    }\n",
              "  </style>\n",
              "\n",
              "    <script>\n",
              "      const buttonEl =\n",
              "        document.querySelector('#df-baf4d380-e00c-43e9-bd39-86b86d0f93ce button.colab-df-convert');\n",
              "      buttonEl.style.display =\n",
              "        google.colab.kernel.accessAllowed ? 'block' : 'none';\n",
              "\n",
              "      async function convertToInteractive(key) {\n",
              "        const element = document.querySelector('#df-baf4d380-e00c-43e9-bd39-86b86d0f93ce');\n",
              "        const dataTable =\n",
              "          await google.colab.kernel.invokeFunction('convertToInteractive',\n",
              "                                                    [key], {});\n",
              "        if (!dataTable) return;\n",
              "\n",
              "        const docLinkHtml = 'Like what you see? Visit the ' +\n",
              "          '<a target=\"_blank\" href=https://colab.research.google.com/notebooks/data_table.ipynb>data table notebook</a>'\n",
              "          + ' to learn more about interactive tables.';\n",
              "        element.innerHTML = '';\n",
              "        dataTable['output_type'] = 'display_data';\n",
              "        await google.colab.output.renderOutput(dataTable, element);\n",
              "        const docLink = document.createElement('div');\n",
              "        docLink.innerHTML = docLinkHtml;\n",
              "        element.appendChild(docLink);\n",
              "      }\n",
              "    </script>\n",
              "  </div>\n",
              "\n",
              "    </div>\n",
              "  </div>\n"
            ]
          },
          "metadata": {},
          "execution_count": 37
        }
      ],
      "source": [
        "model_results"
      ]
    },
    {
      "cell_type": "code",
      "source": [
        "model = GradientBoostingRegressor(n_estimators=100, learning_rate=0.1, random_state=42)\n",
        "model.fit(X_train_scaled, y_train)\n",
        "\n",
        "y_pred = model.predict(X_test_scaled)\n",
        "\n",
        "mse = mean_squared_error(y_test, y_pred)\n",
        "print(\"Mean Squared Error:\", mse)"
      ],
      "metadata": {
        "id": "KZs2k7JW-mMu",
        "colab": {
          "base_uri": "https://localhost:8080/"
        },
        "outputId": "88ad0a51-5ea8-428e-e16d-c2eabfad801b"
      },
      "execution_count": null,
      "outputs": [
        {
          "output_type": "stream",
          "name": "stdout",
          "text": [
            "Mean Squared Error: 0.382634925090409\n"
          ]
        }
      ]
    },
    {
      "cell_type": "code",
      "source": [
        "from sklearn.metrics import r2_score\n",
        "mae = mean_absolute_error(y_test, y_pred)\n",
        "print(\"Mean Absolute Error:\", mae)\n",
        "\n",
        "\n",
        "r2 = r2_score(y_test, y_pred)\n",
        "print(\"R-squared:\", r2)"
      ],
      "metadata": {
        "colab": {
          "base_uri": "https://localhost:8080/"
        },
        "id": "qyuwG0e4xZkk",
        "outputId": "9de9b634-3d55-4a66-db9b-ff4666fff090"
      },
      "execution_count": null,
      "outputs": [
        {
          "output_type": "stream",
          "name": "stdout",
          "text": [
            "Mean Absolute Error: 0.37618221661430146\n",
            "R-squared: 0.8221920092647296\n"
          ]
        }
      ]
    },
    {
      "cell_type": "markdown",
      "source": [
        "# **Regression on one hot encoding:- Pending with NaN error**"
      ],
      "metadata": {
        "id": "8tZ0O7PjzMA_"
      }
    },
    {
      "cell_type": "code",
      "source": [
        "df_encode_one_hot.columns"
      ],
      "metadata": {
        "colab": {
          "base_uri": "https://localhost:8080/"
        },
        "id": "d0FDCbjIzRmX",
        "outputId": "907e3a78-428d-4ac6-e34e-c777234b030e"
      },
      "execution_count": null,
      "outputs": [
        {
          "output_type": "execute_result",
          "data": {
            "text/plain": [
              "Index(['Start Date', 'End Date', 'EVSE ID', 'Postal Code', 'Latitude',\n",
              "       'Longitude', 'Fee', 'Plug In Event Id', 'Driver Postal Code',\n",
              "       'System S/N', 'Total_time_hours', 'Charging_time_hours',\n",
              "       'Label_encode_County', 'Numeric_MAC', 'CT2000-HD-CCR',\n",
              "       'CT2000-HD-GW1-CCR', 'CT2100-HD-CCR', 'CT2100-HD-CDMA-CCR',\n",
              "       'CT4010-HD-GW', 'CT4020-HD', 'CT4020-HD-GW', 'CTHCR-S', 'CTHDR',\n",
              "       'CTHDR-S', 'uncommon_model_num', '1213 Newell Rd', '1520 Walnut Dr',\n",
              "       '250 Hamilton Ave', '275 Cambridge Ave', '3700 Middlefield Rd',\n",
              "       '400 Cambridge Ave', '445 Bryant St', '475 Cambridge Ave',\n",
              "       '520 Webster St', '528 High St', '532 Webster St', 'Bryant St',\n",
              "       'uncommon_add_1', 'PALO ALTO CA / BRYANT #1',\n",
              "       'PALO ALTO CA / BRYANT #2', 'PALO ALTO CA / BRYANT #5',\n",
              "       'PALO ALTO CA / BRYANT #6', 'PALO ALTO CA / CAMBRIDGE #1',\n",
              "       'PALO ALTO CA / CAMBRIDGE #2', 'PALO ALTO CA / HAMILTON #1',\n",
              "       'PALO ALTO CA / HAMILTON #2', 'PALO ALTO CA / HIGH #1',\n",
              "       'PALO ALTO CA / HIGH #2', 'PALO ALTO CA / HIGH #3',\n",
              "       'PALO ALTO CA / HIGH #4', 'PALO ALTO CA / MPL #4',\n",
              "       'PALO ALTO CA / MPL #5', 'PALO ALTO CA / MPL #6',\n",
              "       'PALO ALTO CA / RINCONADA LIB 1', 'PALO ALTO CA / RINCONADA LIB 2',\n",
              "       'PALO ALTO CA / RINCONADA LIB 3', 'PALO ALTO CA / TED THOMPSON #1',\n",
              "       'PALO ALTO CA / WEBSTER #1', 'PALO ALTO CA / WEBSTER #2',\n",
              "       'PALO ALTO CA / WEBSTER #3', 'uncommon', 'CPS Server', 'Customer',\n",
              "       'Door Open', 'Final GFCI Tripped', 'Outlet Unreachable',\n",
              "       'Plug Out at Vehicle', 'Plug Removed While Rebooting', 'Unknown',\n",
              "       'uncommon_ended_by'],\n",
              "      dtype='object')"
            ]
          },
          "metadata": {},
          "execution_count": 41
        }
      ]
    },
    {
      "cell_type": "code",
      "source": [
        "data_df_onehot = df_encode_one_hot.drop([\"Total_time_hours\"],axis=1)"
      ],
      "metadata": {
        "id": "aHZVlcjUzS4x"
      },
      "execution_count": null,
      "outputs": []
    },
    {
      "cell_type": "code",
      "source": [
        "df_encode_one_hot.isnull().sum()"
      ],
      "metadata": {
        "colab": {
          "base_uri": "https://localhost:8080/"
        },
        "id": "7tM8EXdhzvQ8",
        "outputId": "d5976551-c553-458c-c7e1-33a250e939a6"
      },
      "execution_count": null,
      "outputs": [
        {
          "output_type": "execute_result",
          "data": {
            "text/plain": [
              "Start Date                      248\n",
              "End Date                        248\n",
              "EVSE ID                         248\n",
              "Postal Code                     248\n",
              "Latitude                        248\n",
              "                               ... \n",
              "Outlet Unreachable                0\n",
              "Plug Out at Vehicle               0\n",
              "Plug Removed While Rebooting      0\n",
              "Unknown                           0\n",
              "uncommon_ended_by                 0\n",
              "Length: 70, dtype: int64"
            ]
          },
          "metadata": {},
          "execution_count": 50
        }
      ]
    },
    {
      "cell_type": "code",
      "source": [
        "df_encode_label.isnull().sum()"
      ],
      "metadata": {
        "colab": {
          "base_uri": "https://localhost:8080/"
        },
        "id": "_ZCAXy410A8h",
        "outputId": "444f3978-7a68-4f8d-b25a-40e711fbf14c"
      },
      "execution_count": null,
      "outputs": [
        {
          "output_type": "execute_result",
          "data": {
            "text/plain": [
              "Start Date                   0\n",
              "End Date                     0\n",
              "EVSE ID                      0\n",
              "Postal Code                  0\n",
              "Latitude                     0\n",
              "Longitude                    0\n",
              "Fee                          0\n",
              "Plug In Event Id             0\n",
              "Driver Postal Code           0\n",
              "System S/N                   0\n",
              "Total_time_hours             0\n",
              "Charging_time_hours          0\n",
              "Label_encode_County          0\n",
              "Numeric_MAC                  0\n",
              "label_encode_model_num       0\n",
              "label_encode_add             0\n",
              "label_encode_station_name    0\n",
              "label_encode_ended_by        0\n",
              "dtype: int64"
            ]
          },
          "metadata": {},
          "execution_count": 52
        }
      ]
    },
    {
      "cell_type": "code",
      "execution_count": null,
      "metadata": {
        "id": "3KBvqH4BzMBA"
      },
      "outputs": [],
      "source": [
        "X_train, X_test, y_train, y_test = train_test_split(data_df_onehot, df_encode_one_hot[\"Total_time_hours\"], random_state=42, test_size=0.20)"
      ]
    },
    {
      "cell_type": "code",
      "execution_count": null,
      "metadata": {
        "colab": {
          "base_uri": "https://localhost:8080/"
        },
        "outputId": "e4e44540-8d49-4418-f344-136f404e24b1",
        "id": "V-UWLtiqzMBB"
      },
      "outputs": [
        {
          "output_type": "execute_result",
          "data": {
            "text/plain": [
              "((207500, 69), (51875, 69))"
            ]
          },
          "metadata": {},
          "execution_count": 44
        }
      ],
      "source": [
        "size_scaler = preprocessing.StandardScaler().fit(X_train)\n",
        "X_train_scaled = size_scaler.transform(X_train)\n",
        "X_test_scaled = size_scaler.transform(X_test)\n",
        "X_train_scaled.shape, X_test_scaled.shape"
      ]
    },
    {
      "cell_type": "code",
      "execution_count": null,
      "metadata": {
        "id": "OL5IBTsjzMBB"
      },
      "outputs": [],
      "source": [
        "from sklearn.metrics import mean_squared_error, mean_absolute_error\n",
        "\n",
        "# Models-------------------------\n",
        "from sklearn.linear_model import LinearRegression\n",
        "from sklearn.ensemble import RandomForestRegressor\n",
        "from sklearn.ensemble import GradientBoostingRegressor\n",
        "from xgboost import XGBRegressor"
      ]
    },
    {
      "cell_type": "code",
      "execution_count": null,
      "metadata": {
        "id": "Yk0V_PcRzMBB"
      },
      "outputs": [],
      "source": [
        "model_dict = {\n",
        "    'LinearRegression': {\"model\": LinearRegression(), \"params\": {}}\n",
        "}"
      ]
    },
    {
      "cell_type": "code",
      "execution_count": null,
      "metadata": {
        "id": "Qda-macczMBC"
      },
      "outputs": [],
      "source": [
        "def eval_models():\n",
        "    model_results = pd.DataFrame()\n",
        "    model_results['Train_RMSE'] = None\n",
        "    model_results['Test_RMSE'] = None\n",
        "    model_results['Train_MAE'] = None\n",
        "    model_results['Test_MAE'] = None\n",
        "    model_results['best_params'] = None\n",
        "\n",
        "    best_reg_model_ours = None\n",
        "    best_test_score = math.inf\n",
        "\n",
        "    for model_name, reg_model in model_dict.items():\n",
        "        classifier = GridSearchCV(reg_model['model'], reg_model['params'], n_jobs=20, verbose=0)\n",
        "        classifier.fit(X_train_scaled, list(y_train))\n",
        "        best_model = classifier.best_estimator_\n",
        "\n",
        "        y_train_predicted = best_model.predict(X_train_scaled)\n",
        "        train_rmse = np.sqrt(mean_squared_error(list(y_train), y_train_predicted))\n",
        "        train_mae = mean_absolute_error(list(y_train), y_train_predicted)\n",
        "\n",
        "        print(model_name, train_rmse, classifier.best_params_)\n",
        "\n",
        "        y_predicted = best_model.predict(X_test_scaled)\n",
        "        test_rmse = np.sqrt(mean_squared_error(list(y_test), y_predicted))\n",
        "        test_mae = mean_absolute_error(list(y_test), y_predicted)\n",
        "\n",
        "        if test_rmse < best_test_score:\n",
        "            best_test_score = test_rmse\n",
        "            best_reg_model_ours = best_model\n",
        "\n",
        "        model_results.loc[model_name, ['Train_RMSE', 'Test_RMSE', 'Train_MAE', 'Test_MAE', 'best_params']] = [train_rmse, test_rmse, train_mae, test_mae, classifier.best_params_]\n",
        "\n",
        "    print(\"Best model: \", best_model)\n",
        "    # plot the prediction errors using the best model\n",
        "    y_predicted = best_model.predict(X_test_scaled)\n",
        "    plt.plot(list(y_test) - y_predicted, marker='o', linestyle='')\n",
        "\n",
        "    return model_results"
      ]
    },
    {
      "cell_type": "code",
      "source": [
        "model_results = eval_models()"
      ],
      "metadata": {
        "colab": {
          "base_uri": "https://localhost:8080/",
          "height": 808
        },
        "outputId": "719705d5-494b-426f-c5c7-1f0775eaabc2",
        "id": "xYnPQ1F5zMBC"
      },
      "execution_count": null,
      "outputs": [
        {
          "output_type": "error",
          "ename": "ValueError",
          "evalue": "ignored",
          "traceback": [
            "\u001b[0;31m---------------------------------------------------------------------------\u001b[0m",
            "\u001b[0;31mValueError\u001b[0m                                Traceback (most recent call last)",
            "\u001b[0;32m<ipython-input-48-636b1993f057>\u001b[0m in \u001b[0;36m<cell line: 1>\u001b[0;34m()\u001b[0m\n\u001b[0;32m----> 1\u001b[0;31m \u001b[0mmodel_results\u001b[0m \u001b[0;34m=\u001b[0m \u001b[0meval_models\u001b[0m\u001b[0;34m(\u001b[0m\u001b[0;34m)\u001b[0m\u001b[0;34m\u001b[0m\u001b[0;34m\u001b[0m\u001b[0m\n\u001b[0m",
            "\u001b[0;32m<ipython-input-47-ac17e10b5e19>\u001b[0m in \u001b[0;36meval_models\u001b[0;34m()\u001b[0m\n\u001b[1;32m     12\u001b[0m     \u001b[0;32mfor\u001b[0m \u001b[0mmodel_name\u001b[0m\u001b[0;34m,\u001b[0m \u001b[0mreg_model\u001b[0m \u001b[0;32min\u001b[0m \u001b[0mmodel_dict\u001b[0m\u001b[0;34m.\u001b[0m\u001b[0mitems\u001b[0m\u001b[0;34m(\u001b[0m\u001b[0;34m)\u001b[0m\u001b[0;34m:\u001b[0m\u001b[0;34m\u001b[0m\u001b[0;34m\u001b[0m\u001b[0m\n\u001b[1;32m     13\u001b[0m         \u001b[0mclassifier\u001b[0m \u001b[0;34m=\u001b[0m \u001b[0mGridSearchCV\u001b[0m\u001b[0;34m(\u001b[0m\u001b[0mreg_model\u001b[0m\u001b[0;34m[\u001b[0m\u001b[0;34m'model'\u001b[0m\u001b[0;34m]\u001b[0m\u001b[0;34m,\u001b[0m \u001b[0mreg_model\u001b[0m\u001b[0;34m[\u001b[0m\u001b[0;34m'params'\u001b[0m\u001b[0;34m]\u001b[0m\u001b[0;34m,\u001b[0m \u001b[0mn_jobs\u001b[0m\u001b[0;34m=\u001b[0m\u001b[0;36m20\u001b[0m\u001b[0;34m,\u001b[0m \u001b[0mverbose\u001b[0m\u001b[0;34m=\u001b[0m\u001b[0;36m0\u001b[0m\u001b[0;34m)\u001b[0m\u001b[0;34m\u001b[0m\u001b[0;34m\u001b[0m\u001b[0m\n\u001b[0;32m---> 14\u001b[0;31m         \u001b[0mclassifier\u001b[0m\u001b[0;34m.\u001b[0m\u001b[0mfit\u001b[0m\u001b[0;34m(\u001b[0m\u001b[0mX_train_scaled\u001b[0m\u001b[0;34m,\u001b[0m \u001b[0mlist\u001b[0m\u001b[0;34m(\u001b[0m\u001b[0my_train\u001b[0m\u001b[0;34m)\u001b[0m\u001b[0;34m)\u001b[0m\u001b[0;34m\u001b[0m\u001b[0;34m\u001b[0m\u001b[0m\n\u001b[0m\u001b[1;32m     15\u001b[0m         \u001b[0mbest_model\u001b[0m \u001b[0;34m=\u001b[0m \u001b[0mclassifier\u001b[0m\u001b[0;34m.\u001b[0m\u001b[0mbest_estimator_\u001b[0m\u001b[0;34m\u001b[0m\u001b[0;34m\u001b[0m\u001b[0m\n\u001b[1;32m     16\u001b[0m \u001b[0;34m\u001b[0m\u001b[0m\n",
            "\u001b[0;32m/usr/local/lib/python3.10/dist-packages/sklearn/model_selection/_search.py\u001b[0m in \u001b[0;36mfit\u001b[0;34m(self, X, y, groups, **fit_params)\u001b[0m\n\u001b[1;32m    872\u001b[0m                 \u001b[0;32mreturn\u001b[0m \u001b[0mresults\u001b[0m\u001b[0;34m\u001b[0m\u001b[0;34m\u001b[0m\u001b[0m\n\u001b[1;32m    873\u001b[0m \u001b[0;34m\u001b[0m\u001b[0m\n\u001b[0;32m--> 874\u001b[0;31m             \u001b[0mself\u001b[0m\u001b[0;34m.\u001b[0m\u001b[0m_run_search\u001b[0m\u001b[0;34m(\u001b[0m\u001b[0mevaluate_candidates\u001b[0m\u001b[0;34m)\u001b[0m\u001b[0;34m\u001b[0m\u001b[0;34m\u001b[0m\u001b[0m\n\u001b[0m\u001b[1;32m    875\u001b[0m \u001b[0;34m\u001b[0m\u001b[0m\n\u001b[1;32m    876\u001b[0m             \u001b[0;31m# multimetric is determined here because in the case of a callable\u001b[0m\u001b[0;34m\u001b[0m\u001b[0;34m\u001b[0m\u001b[0m\n",
            "\u001b[0;32m/usr/local/lib/python3.10/dist-packages/sklearn/model_selection/_search.py\u001b[0m in \u001b[0;36m_run_search\u001b[0;34m(self, evaluate_candidates)\u001b[0m\n\u001b[1;32m   1386\u001b[0m     \u001b[0;32mdef\u001b[0m \u001b[0m_run_search\u001b[0m\u001b[0;34m(\u001b[0m\u001b[0mself\u001b[0m\u001b[0;34m,\u001b[0m \u001b[0mevaluate_candidates\u001b[0m\u001b[0;34m)\u001b[0m\u001b[0;34m:\u001b[0m\u001b[0;34m\u001b[0m\u001b[0;34m\u001b[0m\u001b[0m\n\u001b[1;32m   1387\u001b[0m         \u001b[0;34m\"\"\"Search all candidates in param_grid\"\"\"\u001b[0m\u001b[0;34m\u001b[0m\u001b[0;34m\u001b[0m\u001b[0m\n\u001b[0;32m-> 1388\u001b[0;31m         \u001b[0mevaluate_candidates\u001b[0m\u001b[0;34m(\u001b[0m\u001b[0mParameterGrid\u001b[0m\u001b[0;34m(\u001b[0m\u001b[0mself\u001b[0m\u001b[0;34m.\u001b[0m\u001b[0mparam_grid\u001b[0m\u001b[0;34m)\u001b[0m\u001b[0;34m)\u001b[0m\u001b[0;34m\u001b[0m\u001b[0;34m\u001b[0m\u001b[0m\n\u001b[0m\u001b[1;32m   1389\u001b[0m \u001b[0;34m\u001b[0m\u001b[0m\n\u001b[1;32m   1390\u001b[0m \u001b[0;34m\u001b[0m\u001b[0m\n",
            "\u001b[0;32m/usr/local/lib/python3.10/dist-packages/sklearn/model_selection/_search.py\u001b[0m in \u001b[0;36mevaluate_candidates\u001b[0;34m(candidate_params, cv, more_results)\u001b[0m\n\u001b[1;32m    849\u001b[0m                     )\n\u001b[1;32m    850\u001b[0m \u001b[0;34m\u001b[0m\u001b[0m\n\u001b[0;32m--> 851\u001b[0;31m                 \u001b[0m_warn_or_raise_about_fit_failures\u001b[0m\u001b[0;34m(\u001b[0m\u001b[0mout\u001b[0m\u001b[0;34m,\u001b[0m \u001b[0mself\u001b[0m\u001b[0;34m.\u001b[0m\u001b[0merror_score\u001b[0m\u001b[0;34m)\u001b[0m\u001b[0;34m\u001b[0m\u001b[0;34m\u001b[0m\u001b[0m\n\u001b[0m\u001b[1;32m    852\u001b[0m \u001b[0;34m\u001b[0m\u001b[0m\n\u001b[1;32m    853\u001b[0m                 \u001b[0;31m# For callable self.scoring, the return type is only know after\u001b[0m\u001b[0;34m\u001b[0m\u001b[0;34m\u001b[0m\u001b[0m\n",
            "\u001b[0;32m/usr/local/lib/python3.10/dist-packages/sklearn/model_selection/_validation.py\u001b[0m in \u001b[0;36m_warn_or_raise_about_fit_failures\u001b[0;34m(results, error_score)\u001b[0m\n\u001b[1;32m    365\u001b[0m                 \u001b[0;34mf\"Below are more details about the failures:\\n{fit_errors_summary}\"\u001b[0m\u001b[0;34m\u001b[0m\u001b[0;34m\u001b[0m\u001b[0m\n\u001b[1;32m    366\u001b[0m             )\n\u001b[0;32m--> 367\u001b[0;31m             \u001b[0;32mraise\u001b[0m \u001b[0mValueError\u001b[0m\u001b[0;34m(\u001b[0m\u001b[0mall_fits_failed_message\u001b[0m\u001b[0;34m)\u001b[0m\u001b[0;34m\u001b[0m\u001b[0;34m\u001b[0m\u001b[0m\n\u001b[0m\u001b[1;32m    368\u001b[0m \u001b[0;34m\u001b[0m\u001b[0m\n\u001b[1;32m    369\u001b[0m         \u001b[0;32melse\u001b[0m\u001b[0;34m:\u001b[0m\u001b[0;34m\u001b[0m\u001b[0;34m\u001b[0m\u001b[0m\n",
            "\u001b[0;31mValueError\u001b[0m: \nAll the 5 fits failed.\nIt is very likely that your model is misconfigured.\nYou can try to debug the error by setting error_score='raise'.\n\nBelow are more details about the failures:\n--------------------------------------------------------------------------------\n5 fits failed with the following error:\nTraceback (most recent call last):\n  File \"/usr/local/lib/python3.10/dist-packages/sklearn/model_selection/_validation.py\", line 686, in _fit_and_score\n    estimator.fit(X_train, y_train, **fit_params)\n  File \"/usr/local/lib/python3.10/dist-packages/sklearn/linear_model/_base.py\", line 648, in fit\n    X, y = self._validate_data(\n  File \"/usr/local/lib/python3.10/dist-packages/sklearn/base.py\", line 584, in _validate_data\n    X, y = check_X_y(X, y, **check_params)\n  File \"/usr/local/lib/python3.10/dist-packages/sklearn/utils/validation.py\", line 1106, in check_X_y\n    X = check_array(\n  File \"/usr/local/lib/python3.10/dist-packages/sklearn/utils/validation.py\", line 921, in check_array\n    _assert_all_finite(\n  File \"/usr/local/lib/python3.10/dist-packages/sklearn/utils/validation.py\", line 161, in _assert_all_finite\n    raise ValueError(msg_err)\nValueError: Input X contains NaN.\nLinearRegression does not accept missing values encoded as NaN natively. For supervised learning, you might want to consider sklearn.ensemble.HistGradientBoostingClassifier and Regressor which accept missing values encoded as NaNs natively. Alternatively, it is possible to preprocess the data, for instance by using an imputer transformer in a pipeline or drop samples with missing values. See https://scikit-learn.org/stable/modules/impute.html You can find a list of all estimators that handle NaN values at the following page: https://scikit-learn.org/stable/modules/impute.html#estimators-that-handle-nan-values\n"
          ]
        }
      ]
    },
    {
      "cell_type": "code",
      "execution_count": null,
      "metadata": {
        "id": "SU3HXoDQzMBC"
      },
      "outputs": [],
      "source": [
        "model_results = eval_models()"
      ]
    },
    {
      "cell_type": "code",
      "execution_count": null,
      "metadata": {
        "id": "NGOufN6XzMBD"
      },
      "outputs": [],
      "source": [
        "model_results"
      ]
    },
    {
      "cell_type": "code",
      "source": [
        "model = GradientBoostingRegressor(n_estimators=100, learning_rate=0.1, random_state=42)\n",
        "model.fit(X_train_scaled, y_train)\n",
        "\n",
        "# Make predictions on the test set\n",
        "y_pred = model.predict(X_test_scaled)\n",
        "\n",
        "# Evaluate the model\n",
        "mse = mean_squared_error(y_test, y_pred)\n",
        "print(\"Mean Squared Error:\", mse)"
      ],
      "metadata": {
        "id": "hpufZaSpzMBD"
      },
      "execution_count": null,
      "outputs": []
    },
    {
      "cell_type": "code",
      "source": [
        "from sklearn.metrics import r2_score\n",
        "mae = mean_absolute_error(y_test, y_pred)\n",
        "print(\"Mean Absolute Error:\", mae)\n",
        "\n",
        "\n",
        "r2 = r2_score(y_test, y_pred)\n",
        "print(\"R-squared:\", r2)"
      ],
      "metadata": {
        "id": "KUqbnqJ9zMBD"
      },
      "execution_count": null,
      "outputs": []
    }
  ],
  "metadata": {
    "colab": {
      "provenance": [],
      "collapsed_sections": [
        "Lu3grtJ6HifY",
        "8tZ0O7PjzMA_"
      ],
      "include_colab_link": true
    },
    "kernelspec": {
      "display_name": "Python 3",
      "name": "python3"
    },
    "language_info": {
      "name": "python"
    }
  },
  "nbformat": 4,
  "nbformat_minor": 0
}