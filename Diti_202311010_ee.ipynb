{
  "nbformat": 4,
  "nbformat_minor": 0,
  "metadata": {
    "colab": {
      "provenance": [],
      "collapsed_sections": [
        "6RDZJekVYeMg"
      ],
      "toc_visible": true,
      "include_colab_link": true
    },
    "kernelspec": {
      "name": "python3",
      "display_name": "Python 3"
    },
    "language_info": {
      "name": "python"
    }
  },
  "cells": [
    {
      "cell_type": "markdown",
      "metadata": {
        "id": "view-in-github",
        "colab_type": "text"
      },
      "source": [
        "<a href=\"https://colab.research.google.com/github/Loopercool/Data-Detectives/blob/main/Diti_202311010_ee.ipynb\" target=\"_parent\"><img src=\"https://colab.research.google.com/assets/colab-badge.svg\" alt=\"Open In Colab\"/></a>"
      ]
    },
    {
      "cell_type": "code",
      "source": [
        "#In this file I(Diti Soni) worked on dataset in which i replaced null values with Mode of thier resp column\n",
        "#Firstly I droped columns according to my domain knowledge and some by experimenting\n",
        "#Then resplayed some data visualizations\n",
        "#For preprocessing Firstly I convert START and END time to numeric value according to thier time zone given\n",
        "#Outlier were removed\n",
        "#Then label encoding was done to convert categorical values to numeric\n",
        "#Then regression was applied and result is as follow:\n",
        "from IPython.display import Image\n",
        "image_path = '/content/drive/MyDrive/Screenshot 2023-09-17 224048.png'\n",
        "Image(filename=image_path)"
      ],
      "metadata": {
        "colab": {
          "base_uri": "https://localhost:8080/",
          "height": 213
        },
        "id": "Vqk0N7OBHeDg",
        "outputId": "877c0dda-e1ad-4c0a-ad1b-bd8d8f879f38"
      },
      "execution_count": null,
      "outputs": [
        {
          "output_type": "execute_result",
          "data": {
            "image/png": "[encoded data removed]",
            "text/plain": [
              "<IPython.core.display.Image object>"
            ]
          },
          "metadata": {},
          "execution_count": 3
        }
      ]
    },
    {
      "cell_type": "markdown",
      "source": [
        "# **Import**"
      ],
      "metadata": {
        "id": "34eiRuYybj8f"
      }
    },
    {
      "cell_type": "code",
      "execution_count": null,
      "metadata": {
        "id": "aMaOeSvBTWUN"
      },
      "outputs": [],
      "source": [
        "import math\n",
        "import numpy as np\n",
        "import pandas as pd\n",
        "import pandas as pd\n",
        "\n",
        "from sklearn.model_selection import train_test_split\n",
        "from sklearn.preprocessing import LabelEncoder\n",
        "from sklearn.linear_model import LinearRegression\n",
        "from sklearn.metrics import mean_squared_error\n",
        "import matplotlib.pyplot as plt\n",
        "import seaborn as sns"
      ]
    },
    {
      "cell_type": "code",
      "source": [
        "from google.colab import drive\n",
        "drive.mount('/content/drive')"
      ],
      "metadata": {
        "colab": {
          "base_uri": "https://localhost:8080/"
        },
        "id": "2p-HnK8cKcOi",
        "outputId": "62b5fd6e-e0da-4d07-cd57-f42b554966d8"
      },
      "execution_count": null,
      "outputs": [
        {
          "output_type": "stream",
          "name": "stdout",
          "text": [
            "Mounted at /content/drive\n"
          ]
        }
      ]
    },
    {
      "cell_type": "code",
      "source": [
        "df_main = pd.read_csv(\"/content/drive/MyDrive/Data_Mining/EVChargingStationUsage.csv\")"
      ],
      "metadata": {
        "colab": {
          "base_uri": "https://localhost:8080/"
        },
        "id": "bjpw66LBURO_",
        "outputId": "aacc9924-d86a-48e8-ddee-0bb9dee16177"
      },
      "execution_count": null,
      "outputs": [
        {
          "output_type": "stream",
          "name": "stderr",
          "text": [
            "<ipython-input-3-041004de04d7>:1: DtypeWarning: Columns (29,30,32) have mixed types. Specify dtype option on import or set low_memory=False.\n",
            "  df_main = pd.read_csv(\"/content/drive/MyDrive/Data_Mining/EVChargingStationUsage.csv\")\n"
          ]
        }
      ]
    },
    {
      "cell_type": "code",
      "source": [
        "df_main.columns"
      ],
      "metadata": {
        "colab": {
          "base_uri": "https://localhost:8080/"
        },
        "id": "eu-4MtYIs7MZ",
        "outputId": "9a76daa7-43b3-4d93-de8a-d85f53a0fbe1"
      },
      "execution_count": null,
      "outputs": [
        {
          "output_type": "execute_result",
          "data": {
            "text/plain": [
              "Index(['Station Name', 'MAC Address', 'Org Name', 'Start Date',\n",
              "       'Start Time Zone', 'End Date', 'End Time Zone',\n",
              "       'Transaction Date (Pacific Time)', 'Total Duration (hh:mm:ss)',\n",
              "       'Charging Time (hh:mm:ss)', 'Energy (kWh)', 'GHG Savings (kg)',\n",
              "       'Gasoline Savings (gallons)', 'Port Type', 'Port Number', 'Plug Type',\n",
              "       'EVSE ID', 'Address 1', 'City', 'State/Province', 'Postal Code',\n",
              "       'Country', 'Latitude', 'Longitude', 'Currency', 'Fee', 'Ended By',\n",
              "       'Plug In Event Id', 'Driver Postal Code', 'User ID', 'County',\n",
              "       'System S/N', 'Model Number'],\n",
              "      dtype='object')"
            ]
          },
          "metadata": {},
          "execution_count": 7
        }
      ]
    },
    {
      "cell_type": "code",
      "source": [
        "df_box = pd.read_csv('/content/drive/MyDrive/Data_Mining/data_cleaned_energy_included.csv')"
      ],
      "metadata": {
        "id": "n_H6HajIK84m"
      },
      "execution_count": null,
      "outputs": []
    },
    {
      "cell_type": "code",
      "source": [
        "df_box.columns"
      ],
      "metadata": {
        "colab": {
          "base_uri": "https://localhost:8080/"
        },
        "id": "I266ehgSMCjM",
        "outputId": "baf16147-446d-48b3-f52f-b5704838f76c"
      },
      "execution_count": null,
      "outputs": [
        {
          "output_type": "execute_result",
          "data": {
            "text/plain": [
              "Index(['Station Name', 'MAC Address', 'Start Date', 'End Date', 'Energy (kWh)',\n",
              "       'EVSE ID', 'Address 1', 'Postal Code', 'Latitude', 'Longitude', 'Fee',\n",
              "       'Ended By', 'Plug In Event Id', 'Driver Postal Code', 'User ID',\n",
              "       'County', 'System S/N', 'Model Number', 'Total_time_hours',\n",
              "       'Charging_time_hours'],\n",
              "      dtype='object')"
            ]
          },
          "metadata": {},
          "execution_count": 11
        }
      ]
    },
    {
      "cell_type": "code",
      "source": [
        "sns.scatterplot(x = df_box['Energy (kWh)'], y = df_box['Charging_time_hours'])"
      ],
      "metadata": {
        "colab": {
          "base_uri": "https://localhost:8080/",
          "height": 475
        },
        "id": "seYrpQdUMN95",
        "outputId": "fa0cba04-c2c3-43e0-9008-941b761b071c"
      },
      "execution_count": null,
      "outputs": [
        {
          "output_type": "execute_result",
          "data": {
            "text/plain": [
              "<Axes: xlabel='Energy (kWh)', ylabel='Charging_time_hours'>"
            ]
          },
          "metadata": {},
          "execution_count": 8
        },
        {
          "output_type": "display_data",
          "data": {
            "text/plain": [
              "<Figure size 640x480 with 1 Axes>"
            ],
            "image/png": "[encoded data removed]"
          },
          "metadata": {}
        }
      ]
    },
    {
      "cell_type": "code",
      "source": [],
      "metadata": {
        "id": "tRVdiEp_HcJC"
      },
      "execution_count": null,
      "outputs": []
    },
    {
      "cell_type": "code",
      "source": [
        "sns.scatterplot(x = df_box['Total_time_hours'], y = df_box['Charging_time_hours'])"
      ],
      "metadata": {
        "colab": {
          "base_uri": "https://localhost:8080/",
          "height": 475
        },
        "id": "X-CSAC5YOZ_S",
        "outputId": "94ab62a7-6490-48b9-c95f-8cd35b841106"
      },
      "execution_count": null,
      "outputs": [
        {
          "output_type": "execute_result",
          "data": {
            "text/plain": [
              "<Axes: xlabel='Total_time_hours', ylabel='Charging_time_hours'>"
            ]
          },
          "metadata": {},
          "execution_count": 14
        },
        {
          "output_type": "display_data",
          "data": {
            "text/plain": [
              "<Figure size 640x480 with 1 Axes>"
            ],
            "image/png": "[encoded data removed]"
          },
          "metadata": {}
        }
      ]
    },
    {
      "cell_type": "code",
      "source": [
        "sns.heatmap(data=df_box.corr(), lw = 1)"
      ],
      "metadata": {
        "colab": {
          "base_uri": "https://localhost:8080/",
          "height": 604
        },
        "id": "7krsAgbxMsXw",
        "outputId": "c0bdb62e-44e6-4437-c920-ae41baed68e5"
      },
      "execution_count": null,
      "outputs": [
        {
          "output_type": "execute_result",
          "data": {
            "text/plain": [
              "<Axes: >"
            ]
          },
          "metadata": {},
          "execution_count": 13
        },
        {
          "output_type": "display_data",
          "data": {
            "text/plain": [
              "<Figure size 640x480 with 2 Axes>"
            ],
            "image/png": "[encoded data removed]"
          },
          "metadata": {}
        }
      ]
    },
    {
      "cell_type": "code",
      "source": [
        "columns_to_drop=['Currency','County','Org Name']\n",
        "df_main.drop(columns=columns_to_drop, inplace=True)"
      ],
      "metadata": {
        "id": "Fm5rWY-DUXex"
      },
      "execution_count": null,
      "outputs": []
    },
    {
      "cell_type": "markdown",
      "source": [
        "# **Remove Entries having nan value**"
      ],
      "metadata": {
        "id": "EyvExzfXbnta"
      }
    },
    {
      "cell_type": "code",
      "source": [
        "for column in df_main.columns:\n",
        "    mode_value = df_main[column].mode().iloc[0]  # Calculate mode for the column\n",
        "    df_main[column].fillna(mode_value, inplace=True)"
      ],
      "metadata": {
        "id": "Tnq7EGW_U4TE"
      },
      "execution_count": null,
      "outputs": []
    },
    {
      "cell_type": "code",
      "source": [
        "data_cleaned = df_main"
      ],
      "metadata": {
        "id": "5YoEPTJjL8AM"
      },
      "execution_count": null,
      "outputs": []
    },
    {
      "cell_type": "code",
      "source": [
        "data_cleaned.isnull().sum()"
      ],
      "metadata": {
        "colab": {
          "base_uri": "https://localhost:8080/"
        },
        "id": "2NqotGjPVIeU",
        "outputId": "ebfe9a79-7f7c-4054-e8c9-fd65647d259d"
      },
      "execution_count": null,
      "outputs": [
        {
          "output_type": "execute_result",
          "data": {
            "text/plain": [
              "Station Name                       0\n",
              "MAC Address                        0\n",
              "Start Date                         0\n",
              "Start Time Zone                    0\n",
              "End Date                           0\n",
              "End Time Zone                      0\n",
              "Transaction Date (Pacific Time)    0\n",
              "Total Duration (hh:mm:ss)          0\n",
              "Charging Time (hh:mm:ss)           0\n",
              "Energy (kWh)                       0\n",
              "GHG Savings (kg)                   0\n",
              "Gasoline Savings (gallons)         0\n",
              "Port Type                          0\n",
              "Port Number                        0\n",
              "Plug Type                          0\n",
              "EVSE ID                            0\n",
              "Address 1                          0\n",
              "City                               0\n",
              "State/Province                     0\n",
              "Postal Code                        0\n",
              "Country                            0\n",
              "Latitude                           0\n",
              "Longitude                          0\n",
              "Fee                                0\n",
              "Ended By                           0\n",
              "Plug In Event Id                   0\n",
              "Driver Postal Code                 0\n",
              "User ID                            0\n",
              "System S/N                         0\n",
              "Model Number                       0\n",
              "dtype: int64"
            ]
          },
          "metadata": {},
          "execution_count": 7
        }
      ]
    },
    {
      "cell_type": "code",
      "source": [
        "data_cleaned.shape"
      ],
      "metadata": {
        "colab": {
          "base_uri": "https://localhost:8080/"
        },
        "id": "b0X-lcPsVSOD",
        "outputId": "21d83584-17ee-4c56-cc16-26efa8b2646b"
      },
      "execution_count": null,
      "outputs": [
        {
          "output_type": "execute_result",
          "data": {
            "text/plain": [
              "(259415, 30)"
            ]
          },
          "metadata": {},
          "execution_count": 8
        }
      ]
    },
    {
      "cell_type": "markdown",
      "source": [
        "# **Converting *START DATE, Start time Zone* to numeric**"
      ],
      "metadata": {
        "id": "Ze8xzWkobtvK"
      }
    },
    {
      "cell_type": "code",
      "source": [
        "selected_columns = [\"Start Date\", \"Start Time Zone\"]\n",
        "\n",
        "# Create a new DataFrame with the selected columns\n",
        "dfa = data_cleaned[selected_columns]"
      ],
      "metadata": {
        "id": "DkmIuQiBVWCB"
      },
      "execution_count": null,
      "outputs": []
    },
    {
      "cell_type": "code",
      "source": [
        "import pandas as pd\n",
        "import pytz\n",
        "from datetime import datetime\n",
        "\n",
        "# Define time zones\n",
        "pst = pytz.timezone('US/Pacific')\n",
        "pdt = pytz.timezone('US/Pacific')\n",
        "\n",
        "# Function to convert PST to PDT\n",
        "def convert_pst_to_pdt(date_str):\n",
        "    dt_object = datetime.strptime(date_str, \"%m/%d/%Y %H:%M\")\n",
        "    dt_object = pst.localize(dt_object)\n",
        "    dt_object_pdt = dt_object.astimezone(pdt)\n",
        "\n",
        "    return dt_object_pdt\n",
        "\n",
        "# Function to convert date and time to numeric value\n",
        "def convert_to_numeric(date_str):\n",
        "    dt_object = datetime.strptime(date_str, \"%m/%d/%Y %H:%M\")\n",
        "    numeric_value = dt_object.timestamp()\n",
        "\n",
        "    return numeric_value\n",
        "\n",
        "# Convert PST to PDT and apply numeric conversion\n",
        "converted_date_times = []\n",
        "numeric_values = []\n",
        "\n",
        "for index, row in dfa.iterrows():\n",
        "    if row[\"Start Time Zone\"] == \"PST\":\n",
        "        converted_dt = convert_pst_to_pdt(row[\"Start Date\"])\n",
        "    else:\n",
        "        converted_dt = datetime.strptime(row[\"Start Date\"], \"%m/%d/%Y %H:%M\")\n",
        "\n",
        "    converted_date_times.append(converted_dt)\n",
        "    numeric_value = convert_to_numeric(row[\"Start Date\"])\n",
        "    numeric_values.append(numeric_value)\n",
        "\n",
        "dfa[\"ConvertedDateTime\"] = converted_date_times\n",
        "dfa[\"NumericValue\"] = numeric_values\n",
        "\n",
        "print(dfa)\n",
        "\n",
        "data_cleaned[\"Start Date\"] = dfa[\"NumericValue\"]"
      ],
      "metadata": {
        "colab": {
          "base_uri": "https://localhost:8080/"
        },
        "id": "7LpaN14qVa3F",
        "outputId": "9a940dd0-c534-4060-ad91-1b55429fb1ea"
      },
      "execution_count": null,
      "outputs": [
        {
          "output_type": "stream",
          "name": "stdout",
          "text": [
            "              Start Date Start Time Zone          ConvertedDateTime  \\\n",
            "0        7/29/2011 20:17             PDT        2011-07-29 20:17:00   \n",
            "1         7/30/2011 0:00             PDT        2011-07-30 00:00:00   \n",
            "2         7/30/2011 8:16             PDT        2011-07-30 08:16:00   \n",
            "3        7/30/2011 14:51             PDT        2011-07-30 14:51:00   \n",
            "4        7/30/2011 18:51             PDT        2011-07-30 18:51:00   \n",
            "...                  ...             ...                        ...   \n",
            "259410  12/31/2020 16:39             PST  2020-12-31 16:39:00-08:00   \n",
            "259411  12/31/2020 16:48             PST  2020-12-31 16:48:00-08:00   \n",
            "259412  12/31/2020 17:28             PST  2020-12-31 17:28:00-08:00   \n",
            "259413  12/31/2020 17:49             PST  2020-12-31 17:49:00-08:00   \n",
            "259414  12/31/2020 18:19             PST  2020-12-31 18:19:00-08:00   \n",
            "\n",
            "        NumericValue  \n",
            "0       1.311971e+09  \n",
            "1       1.311984e+09  \n",
            "2       1.312014e+09  \n",
            "3       1.312037e+09  \n",
            "4       1.312052e+09  \n",
            "...              ...  \n",
            "259410  1.609433e+09  \n",
            "259411  1.609433e+09  \n",
            "259412  1.609436e+09  \n",
            "259413  1.609437e+09  \n",
            "259414  1.609439e+09  \n",
            "\n",
            "[259415 rows x 4 columns]\n"
          ]
        },
        {
          "output_type": "stream",
          "name": "stderr",
          "text": [
            "<ipython-input-10-5fe1e3c85d9c>:38: SettingWithCopyWarning: \n",
            "A value is trying to be set on a copy of a slice from a DataFrame.\n",
            "Try using .loc[row_indexer,col_indexer] = value instead\n",
            "\n",
            "See the caveats in the documentation: https://pandas.pydata.org/pandas-docs/stable/user_guide/indexing.html#returning-a-view-versus-a-copy\n",
            "  dfa[\"ConvertedDateTime\"] = converted_date_times\n",
            "<ipython-input-10-5fe1e3c85d9c>:39: SettingWithCopyWarning: \n",
            "A value is trying to be set on a copy of a slice from a DataFrame.\n",
            "Try using .loc[row_indexer,col_indexer] = value instead\n",
            "\n",
            "See the caveats in the documentation: https://pandas.pydata.org/pandas-docs/stable/user_guide/indexing.html#returning-a-view-versus-a-copy\n",
            "  dfa[\"NumericValue\"] = numeric_values\n"
          ]
        }
      ]
    },
    {
      "cell_type": "code",
      "source": [
        "print(\"Original dataset:\")\n",
        "print(data_cleaned)\n",
        "\n",
        "# Function to check if a value is a valid date and time format\n",
        "def is_valid_datetime(value):\n",
        "    try:\n",
        "        datetime.strptime(value, '%m/%d/%Y %H:%M')\n",
        "        return True\n",
        "    except ValueError:\n",
        "        return False\n",
        "\n",
        "# Filter out rows with invalid date and time values\n",
        "data_cleaned = data_cleaned[df_main['End Date'].apply(is_valid_datetime)]\n",
        "\n",
        "# Print the dataset after dropping invalid rows\n",
        "# print(\"\\nDataset after dropping invalid rows:\")\n",
        "# print(df_main)"
      ],
      "metadata": {
        "colab": {
          "base_uri": "https://localhost:8080/"
        },
        "id": "hjTu45qwVj60",
        "outputId": "8059fb7a-3065-443e-ccac-90f4e2b798cc"
      },
      "execution_count": null,
      "outputs": [
        {
          "output_type": "stream",
          "name": "stdout",
          "text": [
            "Original dataset:\n",
            "                          Station Name          MAC Address    Start Date  \\\n",
            "0           PALO ALTO CA / HAMILTON #1  000D:6F00:015A:9D76  1.311971e+09   \n",
            "1           PALO ALTO CA / HAMILTON #1  000D:6F00:015A:9D76  1.311984e+09   \n",
            "2           PALO ALTO CA / HAMILTON #1  000D:6F00:015A:9D76  1.312014e+09   \n",
            "3           PALO ALTO CA / HAMILTON #1  000D:6F00:015A:9D76  1.312037e+09   \n",
            "4           PALO ALTO CA / HAMILTON #1  000D:6F00:015A:9D76  1.312052e+09   \n",
            "...                                ...                  ...           ...   \n",
            "259410  PALO ALTO CA / TED THOMPSON #3  0024:B100:0002:9F81  1.609433e+09   \n",
            "259411       PALO ALTO CA / WEBSTER #1  0024:B100:0002:4233  1.609433e+09   \n",
            "259412           PALO ALTO CA / MPL #4  0024:B100:0003:CD37  1.609436e+09   \n",
            "259413       PALO ALTO CA / WEBSTER #1  0024:B100:0002:4233  1.609437e+09   \n",
            "259414     PALO ALTO CA / CAMBRIDGE #4  0024:B100:0003:3A0A  1.609439e+09   \n",
            "\n",
            "       Start Time Zone          End Date End Time Zone  \\\n",
            "0                  PDT   7/29/2011 23:20           PDT   \n",
            "1                  PDT    7/30/2011 0:02           PDT   \n",
            "2                  PDT   7/30/2011 12:34           PDT   \n",
            "3                  PDT   7/30/2011 16:55           PDT   \n",
            "4                  PDT   7/30/2011 20:03           PDT   \n",
            "...                ...               ...           ...   \n",
            "259410             PST  12/31/2020 17:14           PST   \n",
            "259411             PST  12/31/2020 20:31           PST   \n",
            "259412             PST    1/1/2021 10:56           PST   \n",
            "259413             PST  12/31/2020 21:55           PST   \n",
            "259414             PST  12/31/2020 19:01           PST   \n",
            "\n",
            "       Transaction Date (Pacific Time) Total Duration (hh:mm:ss)  \\\n",
            "0                      7/29/2011 23:20                   3:03:32   \n",
            "1                       7/30/2011 0:02                   0:02:06   \n",
            "2                      7/30/2011 12:34                   4:17:32   \n",
            "3                      7/30/2011 16:55                   2:03:24   \n",
            "4                      7/30/2011 20:03                   1:11:24   \n",
            "...                                ...                       ...   \n",
            "259410                12/31/2020 17:16                   0:35:44   \n",
            "259411                12/31/2020 20:32                   3:43:01   \n",
            "259412                  1/1/2021 10:57                  17:28:14   \n",
            "259413                12/31/2020 21:56                   4:05:34   \n",
            "259414                12/31/2020 19:02                   0:42:07   \n",
            "\n",
            "       Charging Time (hh:mm:ss)  Energy (kWh)  ...        Country   Latitude  \\\n",
            "0                       1:54:03      6.249457  ...  United States  37.444572   \n",
            "1                       0:01:54      0.106588  ...  United States  37.444572   \n",
            "2                       4:17:28     14.951777  ...  United States  37.444572   \n",
            "3                       2:02:58      7.159643  ...  United States  37.444572   \n",
            "4                       0:43:54      1.957765  ...  United States  37.444572   \n",
            "...                         ...           ...  ...            ...        ...   \n",
            "259410                  0:35:18      1.841000  ...  United States  37.428623   \n",
            "259411                  2:14:04     12.744000  ...  United States  37.448284   \n",
            "259412                  5:08:12     29.665000  ...  United States  37.422104   \n",
            "259413                  3:53:42     11.976000  ...  United States  37.448284   \n",
            "259414                  0:41:44      1.571000  ...  United States  37.426178   \n",
            "\n",
            "         Longitude   Fee             Ended By  Plug In Event Id  \\\n",
            "0      -122.160309  0.00  Plug Out at Vehicle                 3   \n",
            "1      -122.160309  0.00             Customer                 4   \n",
            "2      -122.160309  0.00  Plug Out at Vehicle                 5   \n",
            "3      -122.160309  0.00             Customer                 6   \n",
            "4      -122.160309  0.00  Plug Out at Vehicle                 7   \n",
            "...            ...   ...                  ...               ...   \n",
            "259410 -122.144043  0.42  Plug Out at Vehicle              2369   \n",
            "259411 -122.158272  4.69  Plug Out at Vehicle              7255   \n",
            "259412 -122.113510  6.82  Plug Out at Vehicle               455   \n",
            "259413 -122.158272  2.75  Plug Out at Vehicle              7256   \n",
            "259414 -122.146034  0.36  Plug Out at Vehicle              2302   \n",
            "\n",
            "       Driver Postal Code  User ID    System S/N  Model Number  \n",
            "0                 95124.0   3284.0  1.427410e+11  CT4020-HD-GW  \n",
            "1                 94301.0   4169.0  1.427410e+11  CT4020-HD-GW  \n",
            "2                 94301.0   4169.0  1.427410e+11  CT4020-HD-GW  \n",
            "3                 94302.0   2545.0  1.427410e+11  CT4020-HD-GW  \n",
            "4                 94043.0   3765.0  1.427410e+11  CT4020-HD-GW  \n",
            "...                   ...      ...           ...           ...  \n",
            "259410            94301.0  2024201  1.745410e+11  CT4020-HD-GW  \n",
            "259411            94541.0   242661  1.336410e+11  CT4020-HD-GW  \n",
            "259412            94306.0   449995  2.002410e+11  CT4010-HD-GW  \n",
            "259413            94552.0   804075  1.336410e+11  CT4020-HD-GW  \n",
            "259414            94305.0  2022651  1.852410e+11  CT4020-HD-GW  \n",
            "\n",
            "[259415 rows x 30 columns]\n"
          ]
        }
      ]
    },
    {
      "cell_type": "code",
      "source": [
        "selected_columns = ['End Date', 'End Time Zone']\n",
        "\n",
        "# Create a new DataFrame with the selected columns\n",
        "dfb = data_cleaned[selected_columns]"
      ],
      "metadata": {
        "id": "ZlIHdb1KVhpw"
      },
      "execution_count": null,
      "outputs": []
    },
    {
      "cell_type": "code",
      "source": [
        "import pandas as pd\n",
        "import pytz\n",
        "from datetime import datetime\n",
        "\n",
        "# Define time zones\n",
        "pst = pytz.timezone('US/Pacific')\n",
        "pdt = pytz.timezone('US/Pacific')\n",
        "\n",
        "# Function to convert PST to PDT\n",
        "def convert_pst_to_pdt(date_str):\n",
        "    dt_object = datetime.strptime(date_str, \"%m/%d/%Y %H:%M\")\n",
        "    dt_object = pst.localize(dt_object)\n",
        "    dt_object_pdt = dt_object.astimezone(pdt)\n",
        "\n",
        "    return dt_object_pdt\n",
        "\n",
        "# Function to convert date and time to numeric value\n",
        "def convert_to_numeric(date_str):\n",
        "    dt_object = datetime.strptime(date_str, \"%m/%d/%Y %H:%M\")\n",
        "    numeric_value = dt_object.timestamp()\n",
        "\n",
        "    return numeric_value\n",
        "\n",
        "# Convert PST to PDT and apply numeric conversion\n",
        "converted_date_times = []\n",
        "numeric_values = []\n",
        "\n",
        "for index, row in dfb.iterrows():\n",
        "    if row[\"End Time Zone\"] == \"PST\":\n",
        "        converted_dt = convert_pst_to_pdt(row[\"End Date\"])\n",
        "    else:\n",
        "        converted_dt = datetime.strptime(row[\"End Date\"], \"%m/%d/%Y %H:%M\")\n",
        "\n",
        "    converted_date_times.append(converted_dt)\n",
        "    numeric_value = convert_to_numeric(row[\"End Date\"])\n",
        "    numeric_values.append(numeric_value)\n",
        "\n",
        "dfb[\"ConvertedDateTime\"] = converted_date_times\n",
        "dfb[\"NumericValue\"] = numeric_values\n",
        "\n",
        "print(dfb)\n",
        "\n",
        "data_cleaned[\"End Date\"] = dfa[\"NumericValue\"]"
      ],
      "metadata": {
        "colab": {
          "base_uri": "https://localhost:8080/"
        },
        "id": "4DzoQWt2Vjgd",
        "outputId": "a5ca8b4b-b6dd-42ad-8207-b84c3357b9a7"
      },
      "execution_count": null,
      "outputs": [
        {
          "output_type": "stream",
          "name": "stdout",
          "text": [
            "                End Date End Time Zone          ConvertedDateTime  \\\n",
            "0        7/29/2011 23:20           PDT        2011-07-29 23:20:00   \n",
            "1         7/30/2011 0:02           PDT        2011-07-30 00:02:00   \n",
            "2        7/30/2011 12:34           PDT        2011-07-30 12:34:00   \n",
            "3        7/30/2011 16:55           PDT        2011-07-30 16:55:00   \n",
            "4        7/30/2011 20:03           PDT        2011-07-30 20:03:00   \n",
            "...                  ...           ...                        ...   \n",
            "259410  12/31/2020 17:14           PST  2020-12-31 17:14:00-08:00   \n",
            "259411  12/31/2020 20:31           PST  2020-12-31 20:31:00-08:00   \n",
            "259412    1/1/2021 10:56           PST  2021-01-01 10:56:00-08:00   \n",
            "259413  12/31/2020 21:55           PST  2020-12-31 21:55:00-08:00   \n",
            "259414  12/31/2020 19:01           PST  2020-12-31 19:01:00-08:00   \n",
            "\n",
            "        NumericValue  \n",
            "0       1.311982e+09  \n",
            "1       1.311984e+09  \n",
            "2       1.312029e+09  \n",
            "3       1.312045e+09  \n",
            "4       1.312056e+09  \n",
            "...              ...  \n",
            "259410  1.609435e+09  \n",
            "259411  1.609447e+09  \n",
            "259412  1.609499e+09  \n",
            "259413  1.609452e+09  \n",
            "259414  1.609441e+09  \n",
            "\n",
            "[259375 rows x 4 columns]\n"
          ]
        },
        {
          "output_type": "stream",
          "name": "stderr",
          "text": [
            "<ipython-input-13-89e9d7c67890>:38: SettingWithCopyWarning: \n",
            "A value is trying to be set on a copy of a slice from a DataFrame.\n",
            "Try using .loc[row_indexer,col_indexer] = value instead\n",
            "\n",
            "See the caveats in the documentation: https://pandas.pydata.org/pandas-docs/stable/user_guide/indexing.html#returning-a-view-versus-a-copy\n",
            "  dfb[\"ConvertedDateTime\"] = converted_date_times\n",
            "<ipython-input-13-89e9d7c67890>:39: SettingWithCopyWarning: \n",
            "A value is trying to be set on a copy of a slice from a DataFrame.\n",
            "Try using .loc[row_indexer,col_indexer] = value instead\n",
            "\n",
            "See the caveats in the documentation: https://pandas.pydata.org/pandas-docs/stable/user_guide/indexing.html#returning-a-view-versus-a-copy\n",
            "  dfb[\"NumericValue\"] = numeric_values\n",
            "<ipython-input-13-89e9d7c67890>:43: SettingWithCopyWarning: \n",
            "A value is trying to be set on a copy of a slice from a DataFrame.\n",
            "Try using .loc[row_indexer,col_indexer] = value instead\n",
            "\n",
            "See the caveats in the documentation: https://pandas.pydata.org/pandas-docs/stable/user_guide/indexing.html#returning-a-view-versus-a-copy\n",
            "  data_cleaned[\"End Date\"] = dfa[\"NumericValue\"]\n"
          ]
        }
      ]
    },
    {
      "cell_type": "code",
      "source": [
        "data_cleaned.columns"
      ],
      "metadata": {
        "colab": {
          "base_uri": "https://localhost:8080/"
        },
        "id": "hZY7kGoDdNdC",
        "outputId": "2412f214-9d37-4172-da3f-0ea98239cea8"
      },
      "execution_count": null,
      "outputs": [
        {
          "output_type": "execute_result",
          "data": {
            "text/plain": [
              "Index(['Station Name', 'MAC Address', 'Start Date', 'Start Time Zone',\n",
              "       'End Date', 'End Time Zone', 'Transaction Date (Pacific Time)',\n",
              "       'Total Duration (hh:mm:ss)', 'Charging Time (hh:mm:ss)', 'Energy (kWh)',\n",
              "       'GHG Savings (kg)', 'Gasoline Savings (gallons)', 'Port Type',\n",
              "       'Port Number', 'Plug Type', 'EVSE ID', 'Address 1', 'City',\n",
              "       'State/Province', 'Postal Code', 'Country', 'Latitude', 'Longitude',\n",
              "       'Fee', 'Ended By', 'Plug In Event Id', 'Driver Postal Code', 'User ID',\n",
              "       'System S/N', 'Model Number'],\n",
              "      dtype='object')"
            ]
          },
          "metadata": {},
          "execution_count": 14
        }
      ]
    },
    {
      "cell_type": "code",
      "source": [
        "columns_to_drop=['Start Time Zone','End Time Zone','Transaction Date (Pacific Time)']\n",
        "data_cleaned.drop(columns=columns_to_drop, inplace=True)"
      ],
      "metadata": {
        "id": "5WrHoacoV6CJ",
        "colab": {
          "base_uri": "https://localhost:8080/"
        },
        "outputId": "aa1b098b-596f-4144-a724-6ffe95684035"
      },
      "execution_count": null,
      "outputs": [
        {
          "output_type": "stream",
          "name": "stderr",
          "text": [
            "<ipython-input-15-73ab62866251>:2: SettingWithCopyWarning: \n",
            "A value is trying to be set on a copy of a slice from a DataFrame\n",
            "\n",
            "See the caveats in the documentation: https://pandas.pydata.org/pandas-docs/stable/user_guide/indexing.html#returning-a-view-versus-a-copy\n",
            "  data_cleaned.drop(columns=columns_to_drop, inplace=True)\n"
          ]
        }
      ]
    },
    {
      "cell_type": "code",
      "source": [
        "def time_to_numeric(time_str):\n",
        "    hours, minutes, seconds = map(int, time_str.split(':'))\n",
        "    total_hours = hours + minutes / 60 + seconds / 3600\n",
        "    return total_hours\n",
        "\n",
        "data_cleaned['Total_time_hours'] = data_cleaned['Total Duration (hh:mm:ss)'].apply(time_to_numeric)\n",
        "\n",
        "data_cleaned['Charging_time_hours'] = data_cleaned['Charging Time (hh:mm:ss)'].apply(time_to_numeric)"
      ],
      "metadata": {
        "id": "qsvwR9KfWa-J",
        "colab": {
          "base_uri": "https://localhost:8080/"
        },
        "outputId": "38a7dd90-55ec-4a70-fbaa-3592824151bb"
      },
      "execution_count": null,
      "outputs": [
        {
          "output_type": "stream",
          "name": "stderr",
          "text": [
            "<ipython-input-16-26a9c2ee930d>:6: SettingWithCopyWarning: \n",
            "A value is trying to be set on a copy of a slice from a DataFrame.\n",
            "Try using .loc[row_indexer,col_indexer] = value instead\n",
            "\n",
            "See the caveats in the documentation: https://pandas.pydata.org/pandas-docs/stable/user_guide/indexing.html#returning-a-view-versus-a-copy\n",
            "  data_cleaned['Total_time_hours'] = data_cleaned['Total Duration (hh:mm:ss)'].apply(time_to_numeric)\n",
            "<ipython-input-16-26a9c2ee930d>:8: SettingWithCopyWarning: \n",
            "A value is trying to be set on a copy of a slice from a DataFrame.\n",
            "Try using .loc[row_indexer,col_indexer] = value instead\n",
            "\n",
            "See the caveats in the documentation: https://pandas.pydata.org/pandas-docs/stable/user_guide/indexing.html#returning-a-view-versus-a-copy\n",
            "  data_cleaned['Charging_time_hours'] = data_cleaned['Charging Time (hh:mm:ss)'].apply(time_to_numeric)\n"
          ]
        }
      ]
    },
    {
      "cell_type": "code",
      "source": [
        "columns_to_drop=['Total Duration (hh:mm:ss)','Charging Time (hh:mm:ss)']\n",
        "data_cleaned.drop(columns=columns_to_drop, inplace=True)"
      ],
      "metadata": {
        "id": "r3dRoA61Wb-S",
        "colab": {
          "base_uri": "https://localhost:8080/"
        },
        "outputId": "6082ac33-871a-401f-d53d-39bdb2469639"
      },
      "execution_count": null,
      "outputs": [
        {
          "output_type": "stream",
          "name": "stderr",
          "text": [
            "<ipython-input-17-bbadedf6f900>:2: SettingWithCopyWarning: \n",
            "A value is trying to be set on a copy of a slice from a DataFrame\n",
            "\n",
            "See the caveats in the documentation: https://pandas.pydata.org/pandas-docs/stable/user_guide/indexing.html#returning-a-view-versus-a-copy\n",
            "  data_cleaned.drop(columns=columns_to_drop, inplace=True)\n"
          ]
        }
      ]
    },
    {
      "cell_type": "code",
      "source": [
        "data_cleaned.columns"
      ],
      "metadata": {
        "colab": {
          "base_uri": "https://localhost:8080/"
        },
        "id": "GHd7AdvZFSB8",
        "outputId": "1fcc085d-c7f9-4637-d93b-82d5c57f2508"
      },
      "execution_count": null,
      "outputs": [
        {
          "output_type": "execute_result",
          "data": {
            "text/plain": [
              "Index(['Station Name', 'MAC Address', 'Start Date', 'End Date', 'Energy (kWh)',\n",
              "       'GHG Savings (kg)', 'Gasoline Savings (gallons)', 'Port Type',\n",
              "       'Port Number', 'Plug Type', 'EVSE ID', 'Address 1', 'City',\n",
              "       'State/Province', 'Postal Code', 'Country', 'Latitude', 'Longitude',\n",
              "       'Fee', 'Ended By', 'Plug In Event Id', 'Driver Postal Code', 'User ID',\n",
              "       'System S/N', 'Model Number', 'Total_time_hours',\n",
              "       'Charging_time_hours'],\n",
              "      dtype='object')"
            ]
          },
          "metadata": {},
          "execution_count": 18
        }
      ]
    },
    {
      "cell_type": "code",
      "source": [
        "data_cleaned.head()"
      ],
      "metadata": {
        "colab": {
          "base_uri": "https://localhost:8080/",
          "height": 567
        },
        "id": "aKW_mebpFaH8",
        "outputId": "7e7150e0-dd6e-476c-b0e1-54255de777f6"
      },
      "execution_count": null,
      "outputs": [
        {
          "output_type": "execute_result",
          "data": {
            "text/plain": [
              "                 Station Name          MAC Address    Start Date  \\\n",
              "0  PALO ALTO CA / HAMILTON #1  000D:6F00:015A:9D76  1.311971e+09   \n",
              "1  PALO ALTO CA / HAMILTON #1  000D:6F00:015A:9D76  1.311984e+09   \n",
              "2  PALO ALTO CA / HAMILTON #1  000D:6F00:015A:9D76  1.312014e+09   \n",
              "3  PALO ALTO CA / HAMILTON #1  000D:6F00:015A:9D76  1.312037e+09   \n",
              "4  PALO ALTO CA / HAMILTON #1  000D:6F00:015A:9D76  1.312052e+09   \n",
              "\n",
              "       End Date  Energy (kWh)  GHG Savings (kg)  Gasoline Savings (gallons)  \\\n",
              "0  1.311971e+09      6.249457             2.625                       0.784   \n",
              "1  1.311984e+09      0.106588             0.045                       0.013   \n",
              "2  1.312014e+09     14.951777             6.280                       1.876   \n",
              "3  1.312037e+09      7.159643             3.007                       0.899   \n",
              "4  1.312052e+09      1.957765             0.822                       0.246   \n",
              "\n",
              "  Port Type  Port Number Plug Type  ...   Longitude  Fee             Ended By  \\\n",
              "0   Level 2            2     J1772  ... -122.160309  0.0  Plug Out at Vehicle   \n",
              "1   Level 2            2     J1772  ... -122.160309  0.0             Customer   \n",
              "2   Level 2            2     J1772  ... -122.160309  0.0  Plug Out at Vehicle   \n",
              "3   Level 2            2     J1772  ... -122.160309  0.0             Customer   \n",
              "4   Level 2            2     J1772  ... -122.160309  0.0  Plug Out at Vehicle   \n",
              "\n",
              "  Plug In Event Id  Driver Postal Code User ID    System S/N  Model Number  \\\n",
              "0                3             95124.0  3284.0  1.427410e+11  CT4020-HD-GW   \n",
              "1                4             94301.0  4169.0  1.427410e+11  CT4020-HD-GW   \n",
              "2                5             94301.0  4169.0  1.427410e+11  CT4020-HD-GW   \n",
              "3                6             94302.0  2545.0  1.427410e+11  CT4020-HD-GW   \n",
              "4                7             94043.0  3765.0  1.427410e+11  CT4020-HD-GW   \n",
              "\n",
              "   Total_time_hours Charging_time_hours  \n",
              "0          3.058889            1.900833  \n",
              "1          0.035000            0.031667  \n",
              "2          4.292222            4.291111  \n",
              "3          2.056667            2.049444  \n",
              "4          1.190000            0.731667  \n",
              "\n",
              "[5 rows x 27 columns]"
            ],
            "text/html": [
              "\n",
              "  <div id=\"df-2fb4f1c5-d456-4226-9650-7c50c4534626\" class=\"colab-df-container\">\n",
              "    <div>\n",
              "<style scoped>\n",
              "    .dataframe tbody tr th:only-of-type {\n",
              "        vertical-align: middle;\n",
              "    }\n",
              "\n",
              "    .dataframe tbody tr th {\n",
              "        vertical-align: top;\n",
              "    }\n",
              "\n",
              "    .dataframe thead th {\n",
              "        text-align: right;\n",
              "    }\n",
              "</style>\n",
              "<table border=\"1\" class=\"dataframe\">\n",
              "  <thead>\n",
              "    <tr style=\"text-align: right;\">\n",
              "      <th></th>\n",
              "      <th>Station Name</th>\n",
              "      <th>MAC Address</th>\n",
              "      <th>Start Date</th>\n",
              "      <th>End Date</th>\n",
              "      <th>Energy (kWh)</th>\n",
              "      <th>GHG Savings (kg)</th>\n",
              "      <th>Gasoline Savings (gallons)</th>\n",
              "      <th>Port Type</th>\n",
              "      <th>Port Number</th>\n",
              "      <th>Plug Type</th>\n",
              "      <th>...</th>\n",
              "      <th>Longitude</th>\n",
              "      <th>Fee</th>\n",
              "      <th>Ended By</th>\n",
              "      <th>Plug In Event Id</th>\n",
              "      <th>Driver Postal Code</th>\n",
              "      <th>User ID</th>\n",
              "      <th>System S/N</th>\n",
              "      <th>Model Number</th>\n",
              "      <th>Total_time_hours</th>\n",
              "      <th>Charging_time_hours</th>\n",
              "    </tr>\n",
              "  </thead>\n",
              "  <tbody>\n",
              "    <tr>\n",
              "      <th>0</th>\n",
              "      <td>PALO ALTO CA / HAMILTON #1</td>\n",
              "      <td>000D:6F00:015A:9D76</td>\n",
              "      <td>1.311971e+09</td>\n",
              "      <td>1.311971e+09</td>\n",
              "      <td>6.249457</td>\n",
              "      <td>2.625</td>\n",
              "      <td>0.784</td>\n",
              "      <td>Level 2</td>\n",
              "      <td>2</td>\n",
              "      <td>J1772</td>\n",
              "      <td>...</td>\n",
              "      <td>-122.160309</td>\n",
              "      <td>0.0</td>\n",
              "      <td>Plug Out at Vehicle</td>\n",
              "      <td>3</td>\n",
              "      <td>95124.0</td>\n",
              "      <td>3284.0</td>\n",
              "      <td>1.427410e+11</td>\n",
              "      <td>CT4020-HD-GW</td>\n",
              "      <td>3.058889</td>\n",
              "      <td>1.900833</td>\n",
              "    </tr>\n",
              "    <tr>\n",
              "      <th>1</th>\n",
              "      <td>PALO ALTO CA / HAMILTON #1</td>\n",
              "      <td>000D:6F00:015A:9D76</td>\n",
              "      <td>1.311984e+09</td>\n",
              "      <td>1.311984e+09</td>\n",
              "      <td>0.106588</td>\n",
              "      <td>0.045</td>\n",
              "      <td>0.013</td>\n",
              "      <td>Level 2</td>\n",
              "      <td>2</td>\n",
              "      <td>J1772</td>\n",
              "      <td>...</td>\n",
              "      <td>-122.160309</td>\n",
              "      <td>0.0</td>\n",
              "      <td>Customer</td>\n",
              "      <td>4</td>\n",
              "      <td>94301.0</td>\n",
              "      <td>4169.0</td>\n",
              "      <td>1.427410e+11</td>\n",
              "      <td>CT4020-HD-GW</td>\n",
              "      <td>0.035000</td>\n",
              "      <td>0.031667</td>\n",
              "    </tr>\n",
              "    <tr>\n",
              "      <th>2</th>\n",
              "      <td>PALO ALTO CA / HAMILTON #1</td>\n",
              "      <td>000D:6F00:015A:9D76</td>\n",
              "      <td>1.312014e+09</td>\n",
              "      <td>1.312014e+09</td>\n",
              "      <td>14.951777</td>\n",
              "      <td>6.280</td>\n",
              "      <td>1.876</td>\n",
              "      <td>Level 2</td>\n",
              "      <td>2</td>\n",
              "      <td>J1772</td>\n",
              "      <td>...</td>\n",
              "      <td>-122.160309</td>\n",
              "      <td>0.0</td>\n",
              "      <td>Plug Out at Vehicle</td>\n",
              "      <td>5</td>\n",
              "      <td>94301.0</td>\n",
              "      <td>4169.0</td>\n",
              "      <td>1.427410e+11</td>\n",
              "      <td>CT4020-HD-GW</td>\n",
              "      <td>4.292222</td>\n",
              "      <td>4.291111</td>\n",
              "    </tr>\n",
              "    <tr>\n",
              "      <th>3</th>\n",
              "      <td>PALO ALTO CA / HAMILTON #1</td>\n",
              "      <td>000D:6F00:015A:9D76</td>\n",
              "      <td>1.312037e+09</td>\n",
              "      <td>1.312037e+09</td>\n",
              "      <td>7.159643</td>\n",
              "      <td>3.007</td>\n",
              "      <td>0.899</td>\n",
              "      <td>Level 2</td>\n",
              "      <td>2</td>\n",
              "      <td>J1772</td>\n",
              "      <td>...</td>\n",
              "      <td>-122.160309</td>\n",
              "      <td>0.0</td>\n",
              "      <td>Customer</td>\n",
              "      <td>6</td>\n",
              "      <td>94302.0</td>\n",
              "      <td>2545.0</td>\n",
              "      <td>1.427410e+11</td>\n",
              "      <td>CT4020-HD-GW</td>\n",
              "      <td>2.056667</td>\n",
              "      <td>2.049444</td>\n",
              "    </tr>\n",
              "    <tr>\n",
              "      <th>4</th>\n",
              "      <td>PALO ALTO CA / HAMILTON #1</td>\n",
              "      <td>000D:6F00:015A:9D76</td>\n",
              "      <td>1.312052e+09</td>\n",
              "      <td>1.312052e+09</td>\n",
              "      <td>1.957765</td>\n",
              "      <td>0.822</td>\n",
              "      <td>0.246</td>\n",
              "      <td>Level 2</td>\n",
              "      <td>2</td>\n",
              "      <td>J1772</td>\n",
              "      <td>...</td>\n",
              "      <td>-122.160309</td>\n",
              "      <td>0.0</td>\n",
              "      <td>Plug Out at Vehicle</td>\n",
              "      <td>7</td>\n",
              "      <td>94043.0</td>\n",
              "      <td>3765.0</td>\n",
              "      <td>1.427410e+11</td>\n",
              "      <td>CT4020-HD-GW</td>\n",
              "      <td>1.190000</td>\n",
              "      <td>0.731667</td>\n",
              "    </tr>\n",
              "  </tbody>\n",
              "</table>\n",
              "<p>5 rows × 27 columns</p>\n",
              "</div>\n",
              "    <div class=\"colab-df-buttons\">\n",
              "\n",
              "  <div class=\"colab-df-container\">\n",
              "    <button class=\"colab-df-convert\" onclick=\"convertToInteractive('df-2fb4f1c5-d456-4226-9650-7c50c4534626')\"\n",
              "            title=\"Convert this dataframe to an interactive table.\"\n",
              "            style=\"display:none;\">\n",
              "\n",
              "  <svg xmlns=\"http://www.w3.org/2000/svg\" height=\"24px\" viewBox=\"0 -960 960 960\">\n",
              "    <path d=\"M120-120v-720h720v720H120Zm60-500h600v-160H180v160Zm220 220h160v-160H400v160Zm0 220h160v-160H400v160ZM180-400h160v-160H180v160Zm440 0h160v-160H620v160ZM180-180h160v-160H180v160Zm440 0h160v-160H620v160Z\"/>\n",
              "  </svg>\n",
              "    </button>\n",
              "\n",
              "  <style>\n",
              "    .colab-df-container {\n",
              "      display:flex;\n",
              "      gap: 12px;\n",
              "    }\n",
              "\n",
              "    .colab-df-convert {\n",
              "      background-color: #E8F0FE;\n",
              "      border: none;\n",
              "      border-radius: 50%;\n",
              "      cursor: pointer;\n",
              "      display: none;\n",
              "      fill: #1967D2;\n",
              "      height: 32px;\n",
              "      padding: 0 0 0 0;\n",
              "      width: 32px;\n",
              "    }\n",
              "\n",
              "    .colab-df-convert:hover {\n",
              "      background-color: #E2EBFA;\n",
              "      box-shadow: 0px 1px 2px rgba(60, 64, 67, 0.3), 0px 1px 3px 1px rgba(60, 64, 67, 0.15);\n",
              "      fill: #174EA6;\n",
              "    }\n",
              "\n",
              "    .colab-df-buttons div {\n",
              "      margin-bottom: 4px;\n",
              "    }\n",
              "\n",
              "    [theme=dark] .colab-df-convert {\n",
              "      background-color: #3B4455;\n",
              "      fill: #D2E3FC;\n",
              "    }\n",
              "\n",
              "    [theme=dark] .colab-df-convert:hover {\n",
              "      background-color: #434B5C;\n",
              "      box-shadow: 0px 1px 3px 1px rgba(0, 0, 0, 0.15);\n",
              "      filter: drop-shadow(0px 1px 2px rgba(0, 0, 0, 0.3));\n",
              "      fill: #FFFFFF;\n",
              "    }\n",
              "  </style>\n",
              "\n",
              "    <script>\n",
              "      const buttonEl =\n",
              "        document.querySelector('#df-2fb4f1c5-d456-4226-9650-7c50c4534626 button.colab-df-convert');\n",
              "      buttonEl.style.display =\n",
              "        google.colab.kernel.accessAllowed ? 'block' : 'none';\n",
              "\n",
              "      async function convertToInteractive(key) {\n",
              "        const element = document.querySelector('#df-2fb4f1c5-d456-4226-9650-7c50c4534626');\n",
              "        const dataTable =\n",
              "          await google.colab.kernel.invokeFunction('convertToInteractive',\n",
              "                                                    [key], {});\n",
              "        if (!dataTable) return;\n",
              "\n",
              "        const docLinkHtml = 'Like what you see? Visit the ' +\n",
              "          '<a target=\"_blank\" href=https://colab.research.google.com/notebooks/data_table.ipynb>data table notebook</a>'\n",
              "          + ' to learn more about interactive tables.';\n",
              "        element.innerHTML = '';\n",
              "        dataTable['output_type'] = 'display_data';\n",
              "        await google.colab.output.renderOutput(dataTable, element);\n",
              "        const docLink = document.createElement('div');\n",
              "        docLink.innerHTML = docLinkHtml;\n",
              "        element.appendChild(docLink);\n",
              "      }\n",
              "    </script>\n",
              "  </div>\n",
              "\n",
              "\n",
              "<div id=\"df-91592521-d2cf-4cbe-9c4a-b5bd992bef42\">\n",
              "  <button class=\"colab-df-quickchart\" onclick=\"quickchart('df-91592521-d2cf-4cbe-9c4a-b5bd992bef42')\"\n",
              "            title=\"Suggest charts.\"\n",
              "            style=\"display:none;\">\n",
              "\n",
              "<svg xmlns=\"http://www.w3.org/2000/svg\" height=\"24px\"viewBox=\"0 0 24 24\"\n",
              "     width=\"24px\">\n",
              "    <g>\n",
              "        <path d=\"M19 3H5c-1.1 0-2 .9-2 2v14c0 1.1.9 2 2 2h14c1.1 0 2-.9 2-2V5c0-1.1-.9-2-2-2zM9 17H7v-7h2v7zm4 0h-2V7h2v10zm4 0h-2v-4h2v4z\"/>\n",
              "    </g>\n",
              "</svg>\n",
              "  </button>\n",
              "\n",
              "<style>\n",
              "  .colab-df-quickchart {\n",
              "      --bg-color: #E8F0FE;\n",
              "      --fill-color: #1967D2;\n",
              "      --hover-bg-color: #E2EBFA;\n",
              "      --hover-fill-color: #174EA6;\n",
              "      --disabled-fill-color: #AAA;\n",
              "      --disabled-bg-color: #DDD;\n",
              "  }\n",
              "\n",
              "  [theme=dark] .colab-df-quickchart {\n",
              "      --bg-color: #3B4455;\n",
              "      --fill-color: #D2E3FC;\n",
              "      --hover-bg-color: #434B5C;\n",
              "      --hover-fill-color: #FFFFFF;\n",
              "      --disabled-bg-color: #3B4455;\n",
              "      --disabled-fill-color: #666;\n",
              "  }\n",
              "\n",
              "  .colab-df-quickchart {\n",
              "    background-color: var(--bg-color);\n",
              "    border: none;\n",
              "    border-radius: 50%;\n",
              "    cursor: pointer;\n",
              "    display: none;\n",
              "    fill: var(--fill-color);\n",
              "    height: 32px;\n",
              "    padding: 0;\n",
              "    width: 32px;\n",
              "  }\n",
              "\n",
              "  .colab-df-quickchart:hover {\n",
              "    background-color: var(--hover-bg-color);\n",
              "    box-shadow: 0 1px 2px rgba(60, 64, 67, 0.3), 0 1px 3px 1px rgba(60, 64, 67, 0.15);\n",
              "    fill: var(--button-hover-fill-color);\n",
              "  }\n",
              "\n",
              "  .colab-df-quickchart-complete:disabled,\n",
              "  .colab-df-quickchart-complete:disabled:hover {\n",
              "    background-color: var(--disabled-bg-color);\n",
              "    fill: var(--disabled-fill-color);\n",
              "    box-shadow: none;\n",
              "  }\n",
              "\n",
              "  .colab-df-spinner {\n",
              "    border: 2px solid var(--fill-color);\n",
              "    border-color: transparent;\n",
              "    border-bottom-color: var(--fill-color);\n",
              "    animation:\n",
              "      spin 1s steps(1) infinite;\n",
              "  }\n",
              "\n",
              "  @keyframes spin {\n",
              "    0% {\n",
              "      border-color: transparent;\n",
              "      border-bottom-color: var(--fill-color);\n",
              "      border-left-color: var(--fill-color);\n",
              "    }\n",
              "    20% {\n",
              "      border-color: transparent;\n",
              "      border-left-color: var(--fill-color);\n",
              "      border-top-color: var(--fill-color);\n",
              "    }\n",
              "    30% {\n",
              "      border-color: transparent;\n",
              "      border-left-color: var(--fill-color);\n",
              "      border-top-color: var(--fill-color);\n",
              "      border-right-color: var(--fill-color);\n",
              "    }\n",
              "    40% {\n",
              "      border-color: transparent;\n",
              "      border-right-color: var(--fill-color);\n",
              "      border-top-color: var(--fill-color);\n",
              "    }\n",
              "    60% {\n",
              "      border-color: transparent;\n",
              "      border-right-color: var(--fill-color);\n",
              "    }\n",
              "    80% {\n",
              "      border-color: transparent;\n",
              "      border-right-color: var(--fill-color);\n",
              "      border-bottom-color: var(--fill-color);\n",
              "    }\n",
              "    90% {\n",
              "      border-color: transparent;\n",
              "      border-bottom-color: var(--fill-color);\n",
              "    }\n",
              "  }\n",
              "</style>\n",
              "\n",
              "  <script>\n",
              "    async function quickchart(key) {\n",
              "      const quickchartButtonEl =\n",
              "        document.querySelector('#' + key + ' button');\n",
              "      quickchartButtonEl.disabled = true;  // To prevent multiple clicks.\n",
              "      quickchartButtonEl.classList.add('colab-df-spinner');\n",
              "      try {\n",
              "        const charts = await google.colab.kernel.invokeFunction(\n",
              "            'suggestCharts', [key], {});\n",
              "      } catch (error) {\n",
              "        console.error('Error during call to suggestCharts:', error);\n",
              "      }\n",
              "      quickchartButtonEl.classList.remove('colab-df-spinner');\n",
              "      quickchartButtonEl.classList.add('colab-df-quickchart-complete');\n",
              "    }\n",
              "    (() => {\n",
              "      let quickchartButtonEl =\n",
              "        document.querySelector('#df-91592521-d2cf-4cbe-9c4a-b5bd992bef42 button');\n",
              "      quickchartButtonEl.style.display =\n",
              "        google.colab.kernel.accessAllowed ? 'block' : 'none';\n",
              "    })();\n",
              "  </script>\n",
              "</div>\n",
              "    </div>\n",
              "  </div>\n"
            ]
          },
          "metadata": {},
          "execution_count": 19
        }
      ]
    },
    {
      "cell_type": "markdown",
      "source": [
        "# **Label Encode categorical columns**"
      ],
      "metadata": {
        "id": "kstvF61tb3Z1"
      }
    },
    {
      "cell_type": "code",
      "source": [
        "categorical_columns = data_cleaned.select_dtypes(include=['object', 'category']).columns\n",
        "\n",
        "# Print the list of categorical columns\n",
        "print(\"Categorical columns:\", categorical_columns)"
      ],
      "metadata": {
        "colab": {
          "base_uri": "https://localhost:8080/"
        },
        "id": "M_91n3sjF1gb",
        "outputId": "039731d2-996d-4d67-ddc4-bae590117d87"
      },
      "execution_count": null,
      "outputs": [
        {
          "output_type": "stream",
          "name": "stdout",
          "text": [
            "Categorical columns: Index(['Station Name', 'MAC Address', 'Port Type', 'Plug Type', 'Address 1',\n",
            "       'City', 'State/Province', 'Country', 'Ended By', 'User ID',\n",
            "       'Model Number'],\n",
            "      dtype='object')\n"
          ]
        }
      ]
    },
    {
      "cell_type": "code",
      "source": [
        "categorical_columns = [col for col in categorical_columns if col != 'User ID']"
      ],
      "metadata": {
        "id": "ByNNcsESSVDk"
      },
      "execution_count": null,
      "outputs": []
    },
    {
      "cell_type": "code",
      "source": [
        "print(categorical_columns)"
      ],
      "metadata": {
        "colab": {
          "base_uri": "https://localhost:8080/"
        },
        "id": "ruVnLWmyS1T7",
        "outputId": "8bb7e665-4721-4cec-ecbe-8a969033168e"
      },
      "execution_count": null,
      "outputs": [
        {
          "output_type": "stream",
          "name": "stdout",
          "text": [
            "['Station Name', 'MAC Address', 'Port Type', 'Plug Type', 'Address 1', 'City', 'State/Province', 'Country', 'Ended By', 'Model Number']\n"
          ]
        }
      ]
    },
    {
      "cell_type": "code",
      "source": [
        "categorical_columns_1  = ['County', 'Model Number']"
      ],
      "metadata": {
        "id": "DGIh6PuSI0Qv"
      },
      "execution_count": null,
      "outputs": []
    },
    {
      "cell_type": "code",
      "source": [
        "from sklearn.preprocessing import LabelEncoder\n",
        "\n",
        "label_encoders = {}\n",
        "\n",
        "for column in categorical_columns:\n",
        "  le = LabelEncoder()\n",
        "  data_cleaned[column] = le.fit_transform(data_cleaned[column])\n",
        "  label_encoders[column] = le\n",
        "\n",
        "print(data_cleaned)"
      ],
      "metadata": {
        "colab": {
          "base_uri": "https://localhost:8080/"
        },
        "id": "xIhLJNVyGQug",
        "outputId": "8cb03338-e972-4994-857b-749322faee05"
      },
      "execution_count": null,
      "outputs": [
        {
          "output_type": "stream",
          "name": "stderr",
          "text": [
            "<ipython-input-23-a404cdbf93ab>:7: SettingWithCopyWarning: \n",
            "A value is trying to be set on a copy of a slice from a DataFrame.\n",
            "Try using .loc[row_indexer,col_indexer] = value instead\n",
            "\n",
            "See the caveats in the documentation: https://pandas.pydata.org/pandas-docs/stable/user_guide/indexing.html#returning-a-view-versus-a-copy\n",
            "  data_cleaned[column] = le.fit_transform(data_cleaned[column])\n",
            "<ipython-input-23-a404cdbf93ab>:7: SettingWithCopyWarning: \n",
            "A value is trying to be set on a copy of a slice from a DataFrame.\n",
            "Try using .loc[row_indexer,col_indexer] = value instead\n",
            "\n",
            "See the caveats in the documentation: https://pandas.pydata.org/pandas-docs/stable/user_guide/indexing.html#returning-a-view-versus-a-copy\n",
            "  data_cleaned[column] = le.fit_transform(data_cleaned[column])\n",
            "<ipython-input-23-a404cdbf93ab>:7: SettingWithCopyWarning: \n",
            "A value is trying to be set on a copy of a slice from a DataFrame.\n",
            "Try using .loc[row_indexer,col_indexer] = value instead\n",
            "\n",
            "See the caveats in the documentation: https://pandas.pydata.org/pandas-docs/stable/user_guide/indexing.html#returning-a-view-versus-a-copy\n",
            "  data_cleaned[column] = le.fit_transform(data_cleaned[column])\n",
            "<ipython-input-23-a404cdbf93ab>:7: SettingWithCopyWarning: \n",
            "A value is trying to be set on a copy of a slice from a DataFrame.\n",
            "Try using .loc[row_indexer,col_indexer] = value instead\n",
            "\n",
            "See the caveats in the documentation: https://pandas.pydata.org/pandas-docs/stable/user_guide/indexing.html#returning-a-view-versus-a-copy\n",
            "  data_cleaned[column] = le.fit_transform(data_cleaned[column])\n",
            "<ipython-input-23-a404cdbf93ab>:7: SettingWithCopyWarning: \n",
            "A value is trying to be set on a copy of a slice from a DataFrame.\n",
            "Try using .loc[row_indexer,col_indexer] = value instead\n",
            "\n",
            "See the caveats in the documentation: https://pandas.pydata.org/pandas-docs/stable/user_guide/indexing.html#returning-a-view-versus-a-copy\n",
            "  data_cleaned[column] = le.fit_transform(data_cleaned[column])\n",
            "<ipython-input-23-a404cdbf93ab>:7: SettingWithCopyWarning: \n",
            "A value is trying to be set on a copy of a slice from a DataFrame.\n",
            "Try using .loc[row_indexer,col_indexer] = value instead\n",
            "\n",
            "See the caveats in the documentation: https://pandas.pydata.org/pandas-docs/stable/user_guide/indexing.html#returning-a-view-versus-a-copy\n",
            "  data_cleaned[column] = le.fit_transform(data_cleaned[column])\n",
            "<ipython-input-23-a404cdbf93ab>:7: SettingWithCopyWarning: \n",
            "A value is trying to be set on a copy of a slice from a DataFrame.\n",
            "Try using .loc[row_indexer,col_indexer] = value instead\n",
            "\n",
            "See the caveats in the documentation: https://pandas.pydata.org/pandas-docs/stable/user_guide/indexing.html#returning-a-view-versus-a-copy\n",
            "  data_cleaned[column] = le.fit_transform(data_cleaned[column])\n",
            "<ipython-input-23-a404cdbf93ab>:7: SettingWithCopyWarning: \n",
            "A value is trying to be set on a copy of a slice from a DataFrame.\n",
            "Try using .loc[row_indexer,col_indexer] = value instead\n",
            "\n",
            "See the caveats in the documentation: https://pandas.pydata.org/pandas-docs/stable/user_guide/indexing.html#returning-a-view-versus-a-copy\n",
            "  data_cleaned[column] = le.fit_transform(data_cleaned[column])\n",
            "<ipython-input-23-a404cdbf93ab>:7: SettingWithCopyWarning: \n",
            "A value is trying to be set on a copy of a slice from a DataFrame.\n",
            "Try using .loc[row_indexer,col_indexer] = value instead\n",
            "\n",
            "See the caveats in the documentation: https://pandas.pydata.org/pandas-docs/stable/user_guide/indexing.html#returning-a-view-versus-a-copy\n",
            "  data_cleaned[column] = le.fit_transform(data_cleaned[column])\n",
            "<ipython-input-23-a404cdbf93ab>:7: SettingWithCopyWarning: \n",
            "A value is trying to be set on a copy of a slice from a DataFrame.\n",
            "Try using .loc[row_indexer,col_indexer] = value instead\n",
            "\n",
            "See the caveats in the documentation: https://pandas.pydata.org/pandas-docs/stable/user_guide/indexing.html#returning-a-view-versus-a-copy\n",
            "  data_cleaned[column] = le.fit_transform(data_cleaned[column])\n"
          ]
        },
        {
          "output_type": "stream",
          "name": "stdout",
          "text": [
            "        Station Name  MAC Address    Start Date      End Date  Energy (kWh)  \\\n",
            "0                 12           25  1.311971e+09  1.311971e+09      6.249457   \n",
            "1                 12           25  1.311984e+09  1.311984e+09      0.106588   \n",
            "2                 12           25  1.312014e+09  1.312014e+09     14.951777   \n",
            "3                 12           25  1.312037e+09  1.312037e+09      7.159643   \n",
            "4                 12           25  1.312052e+09  1.312052e+09      1.957765   \n",
            "...              ...          ...           ...           ...           ...   \n",
            "259410            42           58  1.609433e+09  1.609433e+09      1.841000   \n",
            "259411            44           44  1.609433e+09  1.609433e+09     12.744000   \n",
            "259412            21           78  1.609436e+09  1.609436e+09     29.665000   \n",
            "259413            44           44  1.609437e+09  1.609437e+09     11.976000   \n",
            "259414            10           61  1.609439e+09  1.609439e+09      1.571000   \n",
            "\n",
            "        GHG Savings (kg)  Gasoline Savings (gallons)  Port Type  Port Number  \\\n",
            "0                  2.625                       0.784          1            2   \n",
            "1                  0.045                       0.013          1            2   \n",
            "2                  6.280                       1.876          1            2   \n",
            "3                  3.007                       0.899          1            2   \n",
            "4                  0.822                       0.246          1            2   \n",
            "...                  ...                         ...        ...          ...   \n",
            "259410             0.773                       0.231          1            2   \n",
            "259411             5.352                       1.599          1            2   \n",
            "259412            12.459                       3.723          1            1   \n",
            "259413             5.030                       1.503          1            1   \n",
            "259414             0.660                       0.197          1            1   \n",
            "\n",
            "        Plug Type  ...   Longitude   Fee  Ended By  Plug In Event Id  \\\n",
            "0               0  ... -122.160309  0.00        11                 3   \n",
            "1               0  ... -122.160309  0.00         1                 4   \n",
            "2               0  ... -122.160309  0.00        11                 5   \n",
            "3               0  ... -122.160309  0.00         1                 6   \n",
            "4               0  ... -122.160309  0.00        11                 7   \n",
            "...           ...  ...         ...   ...       ...               ...   \n",
            "259410          0  ... -122.144043  0.42        11              2369   \n",
            "259411          0  ... -122.158272  4.69        11              7255   \n",
            "259412          0  ... -122.113510  6.82        11               455   \n",
            "259413          0  ... -122.158272  2.75        11              7256   \n",
            "259414          0  ... -122.146034  0.36        11              2302   \n",
            "\n",
            "        Driver Postal Code  User ID    System S/N  Model Number  \\\n",
            "0                  95124.0   3284.0  1.427410e+11             6   \n",
            "1                  94301.0   4169.0  1.427410e+11             6   \n",
            "2                  94301.0   4169.0  1.427410e+11             6   \n",
            "3                  94302.0   2545.0  1.427410e+11             6   \n",
            "4                  94043.0   3765.0  1.427410e+11             6   \n",
            "...                    ...      ...           ...           ...   \n",
            "259410             94301.0  2024201  1.745410e+11             6   \n",
            "259411             94541.0   242661  1.336410e+11             6   \n",
            "259412             94306.0   449995  2.002410e+11             4   \n",
            "259413             94552.0   804075  1.336410e+11             6   \n",
            "259414             94305.0  2022651  1.852410e+11             6   \n",
            "\n",
            "        Total_time_hours  Charging_time_hours  \n",
            "0               3.058889             1.900833  \n",
            "1               0.035000             0.031667  \n",
            "2               4.292222             4.291111  \n",
            "3               2.056667             2.049444  \n",
            "4               1.190000             0.731667  \n",
            "...                  ...                  ...  \n",
            "259410          0.595556             0.588333  \n",
            "259411          3.716944             2.234444  \n",
            "259412         17.470556             5.136667  \n",
            "259413          4.092778             3.895000  \n",
            "259414          0.701944             0.695556  \n",
            "\n",
            "[259375 rows x 27 columns]\n"
          ]
        }
      ]
    },
    {
      "cell_type": "code",
      "source": [
        "data_cleaned.drop(['City'],axis=1,inplace = True)\n",
        "data_cleaned.drop(['State/Province'],axis=1,inplace=True)"
      ],
      "metadata": {
        "id": "Ey791MXf3x1N",
        "colab": {
          "base_uri": "https://localhost:8080/"
        },
        "outputId": "7ef1b383-1534-4ad2-e6af-7db94d39d16b"
      },
      "execution_count": null,
      "outputs": [
        {
          "output_type": "stream",
          "name": "stderr",
          "text": [
            "<ipython-input-24-07a6f0543b04>:1: SettingWithCopyWarning: \n",
            "A value is trying to be set on a copy of a slice from a DataFrame\n",
            "\n",
            "See the caveats in the documentation: https://pandas.pydata.org/pandas-docs/stable/user_guide/indexing.html#returning-a-view-versus-a-copy\n",
            "  data_cleaned.drop(['City'],axis=1,inplace = True)\n",
            "<ipython-input-24-07a6f0543b04>:2: SettingWithCopyWarning: \n",
            "A value is trying to be set on a copy of a slice from a DataFrame\n",
            "\n",
            "See the caveats in the documentation: https://pandas.pydata.org/pandas-docs/stable/user_guide/indexing.html#returning-a-view-versus-a-copy\n",
            "  data_cleaned.drop(['State/Province'],axis=1,inplace=True)\n"
          ]
        }
      ]
    },
    {
      "cell_type": "code",
      "source": [
        "data_cleaned.head()"
      ],
      "metadata": {
        "colab": {
          "base_uri": "https://localhost:8080/",
          "height": 307
        },
        "id": "D5KEJyhWJTwe",
        "outputId": "0988871d-a901-4d47-c562-4207b1a7afb0"
      },
      "execution_count": null,
      "outputs": [
        {
          "output_type": "execute_result",
          "data": {
            "text/plain": [
              "       Station Name  MAC Address    Start Date      End Date  Energy (kWh)  \\\n",
              "78948             7           22  1.470029e+09  1.470029e+09      4.464626   \n",
              "78949             8           24  1.470031e+09  1.470031e+09      7.501231   \n",
              "78950             7           22  1.470031e+09  1.470031e+09     10.891753   \n",
              "78951            13           23  1.470032e+09  1.470032e+09      6.968250   \n",
              "78952            14           17  1.470032e+09  1.470032e+09     17.938757   \n",
              "\n",
              "       GHG Savings (kg)  Gasoline Savings (gallons)  Port Type  Port Number  \\\n",
              "78948             1.875                       0.560          1            1   \n",
              "78949             3.151                       0.941          1            1   \n",
              "78950             4.575                       1.367          1            2   \n",
              "78951             2.927                       0.875          1            1   \n",
              "78952             7.534                       2.251          1            1   \n",
              "\n",
              "       Plug Type  ...   Longitude  Fee  Ended By  Plug In Event Id  \\\n",
              "78948          0  ... -122.146065  0.0         8              1665   \n",
              "78949          0  ... -122.146065  0.0         8              1771   \n",
              "78950          0  ... -122.146065  0.0         8              1666   \n",
              "78951          0  ... -122.159904  0.0         8              2093   \n",
              "78952          0  ... -122.162849  0.0         8              3112   \n",
              "\n",
              "       Driver Postal Code  User ID    System S/N  Model Number  \\\n",
              "78948             94587.0   523487  1.427410e+11             6   \n",
              "78949             95030.0   141845  1.428410e+11             6   \n",
              "78950             80525.0   203603  1.427410e+11             6   \n",
              "78951             94539.0   126575  1.427410e+11             6   \n",
              "78952             94024.0   191743  1.422410e+11             6   \n",
              "\n",
              "       Total_time_hours  Charging_time_hours  \n",
              "78948          1.466111             1.423889  \n",
              "78949          4.940833             2.517778  \n",
              "78950          3.204722             3.188333  \n",
              "78951          2.740278             2.430278  \n",
              "78952          3.323333             3.320833  \n",
              "\n",
              "[5 rows x 25 columns]"
            ],
            "text/html": [
              "\n",
              "  <div id=\"df-76093e16-0af5-44a5-a914-f9edacd1ac4c\" class=\"colab-df-container\">\n",
              "    <div>\n",
              "<style scoped>\n",
              "    .dataframe tbody tr th:only-of-type {\n",
              "        vertical-align: middle;\n",
              "    }\n",
              "\n",
              "    .dataframe tbody tr th {\n",
              "        vertical-align: top;\n",
              "    }\n",
              "\n",
              "    .dataframe thead th {\n",
              "        text-align: right;\n",
              "    }\n",
              "</style>\n",
              "<table border=\"1\" class=\"dataframe\">\n",
              "  <thead>\n",
              "    <tr style=\"text-align: right;\">\n",
              "      <th></th>\n",
              "      <th>Station Name</th>\n",
              "      <th>MAC Address</th>\n",
              "      <th>Start Date</th>\n",
              "      <th>End Date</th>\n",
              "      <th>Energy (kWh)</th>\n",
              "      <th>GHG Savings (kg)</th>\n",
              "      <th>Gasoline Savings (gallons)</th>\n",
              "      <th>Port Type</th>\n",
              "      <th>Port Number</th>\n",
              "      <th>Plug Type</th>\n",
              "      <th>...</th>\n",
              "      <th>Longitude</th>\n",
              "      <th>Fee</th>\n",
              "      <th>Ended By</th>\n",
              "      <th>Plug In Event Id</th>\n",
              "      <th>Driver Postal Code</th>\n",
              "      <th>User ID</th>\n",
              "      <th>System S/N</th>\n",
              "      <th>Model Number</th>\n",
              "      <th>Total_time_hours</th>\n",
              "      <th>Charging_time_hours</th>\n",
              "    </tr>\n",
              "  </thead>\n",
              "  <tbody>\n",
              "    <tr>\n",
              "      <th>78948</th>\n",
              "      <td>7</td>\n",
              "      <td>22</td>\n",
              "      <td>1.470029e+09</td>\n",
              "      <td>1.470029e+09</td>\n",
              "      <td>4.464626</td>\n",
              "      <td>1.875</td>\n",
              "      <td>0.560</td>\n",
              "      <td>1</td>\n",
              "      <td>1</td>\n",
              "      <td>0</td>\n",
              "      <td>...</td>\n",
              "      <td>-122.146065</td>\n",
              "      <td>0.0</td>\n",
              "      <td>8</td>\n",
              "      <td>1665</td>\n",
              "      <td>94587.0</td>\n",
              "      <td>523487</td>\n",
              "      <td>1.427410e+11</td>\n",
              "      <td>6</td>\n",
              "      <td>1.466111</td>\n",
              "      <td>1.423889</td>\n",
              "    </tr>\n",
              "    <tr>\n",
              "      <th>78949</th>\n",
              "      <td>8</td>\n",
              "      <td>24</td>\n",
              "      <td>1.470031e+09</td>\n",
              "      <td>1.470031e+09</td>\n",
              "      <td>7.501231</td>\n",
              "      <td>3.151</td>\n",
              "      <td>0.941</td>\n",
              "      <td>1</td>\n",
              "      <td>1</td>\n",
              "      <td>0</td>\n",
              "      <td>...</td>\n",
              "      <td>-122.146065</td>\n",
              "      <td>0.0</td>\n",
              "      <td>8</td>\n",
              "      <td>1771</td>\n",
              "      <td>95030.0</td>\n",
              "      <td>141845</td>\n",
              "      <td>1.428410e+11</td>\n",
              "      <td>6</td>\n",
              "      <td>4.940833</td>\n",
              "      <td>2.517778</td>\n",
              "    </tr>\n",
              "    <tr>\n",
              "      <th>78950</th>\n",
              "      <td>7</td>\n",
              "      <td>22</td>\n",
              "      <td>1.470031e+09</td>\n",
              "      <td>1.470031e+09</td>\n",
              "      <td>10.891753</td>\n",
              "      <td>4.575</td>\n",
              "      <td>1.367</td>\n",
              "      <td>1</td>\n",
              "      <td>2</td>\n",
              "      <td>0</td>\n",
              "      <td>...</td>\n",
              "      <td>-122.146065</td>\n",
              "      <td>0.0</td>\n",
              "      <td>8</td>\n",
              "      <td>1666</td>\n",
              "      <td>80525.0</td>\n",
              "      <td>203603</td>\n",
              "      <td>1.427410e+11</td>\n",
              "      <td>6</td>\n",
              "      <td>3.204722</td>\n",
              "      <td>3.188333</td>\n",
              "    </tr>\n",
              "    <tr>\n",
              "      <th>78951</th>\n",
              "      <td>13</td>\n",
              "      <td>23</td>\n",
              "      <td>1.470032e+09</td>\n",
              "      <td>1.470032e+09</td>\n",
              "      <td>6.968250</td>\n",
              "      <td>2.927</td>\n",
              "      <td>0.875</td>\n",
              "      <td>1</td>\n",
              "      <td>1</td>\n",
              "      <td>0</td>\n",
              "      <td>...</td>\n",
              "      <td>-122.159904</td>\n",
              "      <td>0.0</td>\n",
              "      <td>8</td>\n",
              "      <td>2093</td>\n",
              "      <td>94539.0</td>\n",
              "      <td>126575</td>\n",
              "      <td>1.427410e+11</td>\n",
              "      <td>6</td>\n",
              "      <td>2.740278</td>\n",
              "      <td>2.430278</td>\n",
              "    </tr>\n",
              "    <tr>\n",
              "      <th>78952</th>\n",
              "      <td>14</td>\n",
              "      <td>17</td>\n",
              "      <td>1.470032e+09</td>\n",
              "      <td>1.470032e+09</td>\n",
              "      <td>17.938757</td>\n",
              "      <td>7.534</td>\n",
              "      <td>2.251</td>\n",
              "      <td>1</td>\n",
              "      <td>1</td>\n",
              "      <td>0</td>\n",
              "      <td>...</td>\n",
              "      <td>-122.162849</td>\n",
              "      <td>0.0</td>\n",
              "      <td>8</td>\n",
              "      <td>3112</td>\n",
              "      <td>94024.0</td>\n",
              "      <td>191743</td>\n",
              "      <td>1.422410e+11</td>\n",
              "      <td>6</td>\n",
              "      <td>3.323333</td>\n",
              "      <td>3.320833</td>\n",
              "    </tr>\n",
              "  </tbody>\n",
              "</table>\n",
              "<p>5 rows × 25 columns</p>\n",
              "</div>\n",
              "    <div class=\"colab-df-buttons\">\n",
              "\n",
              "  <div class=\"colab-df-container\">\n",
              "    <button class=\"colab-df-convert\" onclick=\"convertToInteractive('df-76093e16-0af5-44a5-a914-f9edacd1ac4c')\"\n",
              "            title=\"Convert this dataframe to an interactive table.\"\n",
              "            style=\"display:none;\">\n",
              "\n",
              "  <svg xmlns=\"http://www.w3.org/2000/svg\" height=\"24px\" viewBox=\"0 -960 960 960\">\n",
              "    <path d=\"M120-120v-720h720v720H120Zm60-500h600v-160H180v160Zm220 220h160v-160H400v160Zm0 220h160v-160H400v160ZM180-400h160v-160H180v160Zm440 0h160v-160H620v160ZM180-180h160v-160H180v160Zm440 0h160v-160H620v160Z\"/>\n",
              "  </svg>\n",
              "    </button>\n",
              "\n",
              "  <style>\n",
              "    .colab-df-container {\n",
              "      display:flex;\n",
              "      gap: 12px;\n",
              "    }\n",
              "\n",
              "    .colab-df-convert {\n",
              "      background-color: #E8F0FE;\n",
              "      border: none;\n",
              "      border-radius: 50%;\n",
              "      cursor: pointer;\n",
              "      display: none;\n",
              "      fill: #1967D2;\n",
              "      height: 32px;\n",
              "      padding: 0 0 0 0;\n",
              "      width: 32px;\n",
              "    }\n",
              "\n",
              "    .colab-df-convert:hover {\n",
              "      background-color: #E2EBFA;\n",
              "      box-shadow: 0px 1px 2px rgba(60, 64, 67, 0.3), 0px 1px 3px 1px rgba(60, 64, 67, 0.15);\n",
              "      fill: #174EA6;\n",
              "    }\n",
              "\n",
              "    .colab-df-buttons div {\n",
              "      margin-bottom: 4px;\n",
              "    }\n",
              "\n",
              "    [theme=dark] .colab-df-convert {\n",
              "      background-color: #3B4455;\n",
              "      fill: #D2E3FC;\n",
              "    }\n",
              "\n",
              "    [theme=dark] .colab-df-convert:hover {\n",
              "      background-color: #434B5C;\n",
              "      box-shadow: 0px 1px 3px 1px rgba(0, 0, 0, 0.15);\n",
              "      filter: drop-shadow(0px 1px 2px rgba(0, 0, 0, 0.3));\n",
              "      fill: #FFFFFF;\n",
              "    }\n",
              "  </style>\n",
              "\n",
              "    <script>\n",
              "      const buttonEl =\n",
              "        document.querySelector('#df-76093e16-0af5-44a5-a914-f9edacd1ac4c button.colab-df-convert');\n",
              "      buttonEl.style.display =\n",
              "        google.colab.kernel.accessAllowed ? 'block' : 'none';\n",
              "\n",
              "      async function convertToInteractive(key) {\n",
              "        const element = document.querySelector('#df-76093e16-0af5-44a5-a914-f9edacd1ac4c');\n",
              "        const dataTable =\n",
              "          await google.colab.kernel.invokeFunction('convertToInteractive',\n",
              "                                                    [key], {});\n",
              "        if (!dataTable) return;\n",
              "\n",
              "        const docLinkHtml = 'Like what you see? Visit the ' +\n",
              "          '<a target=\"_blank\" href=https://colab.research.google.com/notebooks/data_table.ipynb>data table notebook</a>'\n",
              "          + ' to learn more about interactive tables.';\n",
              "        element.innerHTML = '';\n",
              "        dataTable['output_type'] = 'display_data';\n",
              "        await google.colab.output.renderOutput(dataTable, element);\n",
              "        const docLink = document.createElement('div');\n",
              "        docLink.innerHTML = docLinkHtml;\n",
              "        element.appendChild(docLink);\n",
              "      }\n",
              "    </script>\n",
              "  </div>\n",
              "\n",
              "\n",
              "<div id=\"df-4411d0c5-13d7-4a43-a457-6982d925a270\">\n",
              "  <button class=\"colab-df-quickchart\" onclick=\"quickchart('df-4411d0c5-13d7-4a43-a457-6982d925a270')\"\n",
              "            title=\"Suggest charts.\"\n",
              "            style=\"display:none;\">\n",
              "\n",
              "<svg xmlns=\"http://www.w3.org/2000/svg\" height=\"24px\"viewBox=\"0 0 24 24\"\n",
              "     width=\"24px\">\n",
              "    <g>\n",
              "        <path d=\"M19 3H5c-1.1 0-2 .9-2 2v14c0 1.1.9 2 2 2h14c1.1 0 2-.9 2-2V5c0-1.1-.9-2-2-2zM9 17H7v-7h2v7zm4 0h-2V7h2v10zm4 0h-2v-4h2v4z\"/>\n",
              "    </g>\n",
              "</svg>\n",
              "  </button>\n",
              "\n",
              "<style>\n",
              "  .colab-df-quickchart {\n",
              "      --bg-color: #E8F0FE;\n",
              "      --fill-color: #1967D2;\n",
              "      --hover-bg-color: #E2EBFA;\n",
              "      --hover-fill-color: #174EA6;\n",
              "      --disabled-fill-color: #AAA;\n",
              "      --disabled-bg-color: #DDD;\n",
              "  }\n",
              "\n",
              "  [theme=dark] .colab-df-quickchart {\n",
              "      --bg-color: #3B4455;\n",
              "      --fill-color: #D2E3FC;\n",
              "      --hover-bg-color: #434B5C;\n",
              "      --hover-fill-color: #FFFFFF;\n",
              "      --disabled-bg-color: #3B4455;\n",
              "      --disabled-fill-color: #666;\n",
              "  }\n",
              "\n",
              "  .colab-df-quickchart {\n",
              "    background-color: var(--bg-color);\n",
              "    border: none;\n",
              "    border-radius: 50%;\n",
              "    cursor: pointer;\n",
              "    display: none;\n",
              "    fill: var(--fill-color);\n",
              "    height: 32px;\n",
              "    padding: 0;\n",
              "    width: 32px;\n",
              "  }\n",
              "\n",
              "  .colab-df-quickchart:hover {\n",
              "    background-color: var(--hover-bg-color);\n",
              "    box-shadow: 0 1px 2px rgba(60, 64, 67, 0.3), 0 1px 3px 1px rgba(60, 64, 67, 0.15);\n",
              "    fill: var(--button-hover-fill-color);\n",
              "  }\n",
              "\n",
              "  .colab-df-quickchart-complete:disabled,\n",
              "  .colab-df-quickchart-complete:disabled:hover {\n",
              "    background-color: var(--disabled-bg-color);\n",
              "    fill: var(--disabled-fill-color);\n",
              "    box-shadow: none;\n",
              "  }\n",
              "\n",
              "  .colab-df-spinner {\n",
              "    border: 2px solid var(--fill-color);\n",
              "    border-color: transparent;\n",
              "    border-bottom-color: var(--fill-color);\n",
              "    animation:\n",
              "      spin 1s steps(1) infinite;\n",
              "  }\n",
              "\n",
              "  @keyframes spin {\n",
              "    0% {\n",
              "      border-color: transparent;\n",
              "      border-bottom-color: var(--fill-color);\n",
              "      border-left-color: var(--fill-color);\n",
              "    }\n",
              "    20% {\n",
              "      border-color: transparent;\n",
              "      border-left-color: var(--fill-color);\n",
              "      border-top-color: var(--fill-color);\n",
              "    }\n",
              "    30% {\n",
              "      border-color: transparent;\n",
              "      border-left-color: var(--fill-color);\n",
              "      border-top-color: var(--fill-color);\n",
              "      border-right-color: var(--fill-color);\n",
              "    }\n",
              "    40% {\n",
              "      border-color: transparent;\n",
              "      border-right-color: var(--fill-color);\n",
              "      border-top-color: var(--fill-color);\n",
              "    }\n",
              "    60% {\n",
              "      border-color: transparent;\n",
              "      border-right-color: var(--fill-color);\n",
              "    }\n",
              "    80% {\n",
              "      border-color: transparent;\n",
              "      border-right-color: var(--fill-color);\n",
              "      border-bottom-color: var(--fill-color);\n",
              "    }\n",
              "    90% {\n",
              "      border-color: transparent;\n",
              "      border-bottom-color: var(--fill-color);\n",
              "    }\n",
              "  }\n",
              "</style>\n",
              "\n",
              "  <script>\n",
              "    async function quickchart(key) {\n",
              "      const quickchartButtonEl =\n",
              "        document.querySelector('#' + key + ' button');\n",
              "      quickchartButtonEl.disabled = true;  // To prevent multiple clicks.\n",
              "      quickchartButtonEl.classList.add('colab-df-spinner');\n",
              "      try {\n",
              "        const charts = await google.colab.kernel.invokeFunction(\n",
              "            'suggestCharts', [key], {});\n",
              "      } catch (error) {\n",
              "        console.error('Error during call to suggestCharts:', error);\n",
              "      }\n",
              "      quickchartButtonEl.classList.remove('colab-df-spinner');\n",
              "      quickchartButtonEl.classList.add('colab-df-quickchart-complete');\n",
              "    }\n",
              "    (() => {\n",
              "      let quickchartButtonEl =\n",
              "        document.querySelector('#df-4411d0c5-13d7-4a43-a457-6982d925a270 button');\n",
              "      quickchartButtonEl.style.display =\n",
              "        google.colab.kernel.accessAllowed ? 'block' : 'none';\n",
              "    })();\n",
              "  </script>\n",
              "</div>\n",
              "    </div>\n",
              "  </div>\n"
            ]
          },
          "metadata": {},
          "execution_count": 64
        }
      ]
    },
    {
      "cell_type": "markdown",
      "source": [
        "# **Save CSV to google drive**"
      ],
      "metadata": {
        "id": "H_0CvvnacDyC"
      }
    },
    {
      "cell_type": "code",
      "source": [
        "path = '/content/drive/MyDrive/Data_Mining/data_cleaned.csv'\n",
        "\n",
        "data_cleaned.to_csv(path,index=False)"
      ],
      "metadata": {
        "id": "yBRk8fK5TCPv"
      },
      "execution_count": null,
      "outputs": []
    },
    {
      "cell_type": "code",
      "source": [
        "path = '/content/drive/MyDrive/Data_Mining/data_cleaned_energy_included.csv'\n",
        "\n",
        "data_cleaned.to_csv(path,index=False)"
      ],
      "metadata": {
        "id": "LcIoHrV7sEdX"
      },
      "execution_count": null,
      "outputs": []
    },
    {
      "cell_type": "code",
      "source": [
        "data_cleaned.columns"
      ],
      "metadata": {
        "colab": {
          "base_uri": "https://localhost:8080/"
        },
        "id": "_uPbTTyuIqaD",
        "outputId": "6950f3af-363f-42ad-cc76-24f78b1bf63e"
      },
      "execution_count": null,
      "outputs": [
        {
          "output_type": "execute_result",
          "data": {
            "text/plain": [
              "Index(['Station Name', 'MAC Address', 'Start Date', 'End Date', 'Energy (kWh)',\n",
              "       'GHG Savings (kg)', 'Gasoline Savings (gallons)', 'Port Type',\n",
              "       'Port Number', 'Plug Type', 'EVSE ID', 'Address 1', 'Postal Code',\n",
              "       'Country', 'Latitude', 'Longitude', 'Fee', 'Ended By',\n",
              "       'Plug In Event Id', 'Driver Postal Code', 'User ID', 'System S/N',\n",
              "       'Model Number', 'Total_time_hours', 'Charging_time_hours'],\n",
              "      dtype='object')"
            ]
          },
          "metadata": {},
          "execution_count": 25
        }
      ]
    },
    {
      "cell_type": "code",
      "source": [
        "data_cleaned['Charging Efficiency'] = data_cleaned['Energy (kWh)'] / data_cleaned['Total_time_hours']"
      ],
      "metadata": {
        "id": "Mswk-WG2IlUA",
        "colab": {
          "base_uri": "https://localhost:8080/"
        },
        "outputId": "fb97ed97-e984-4b4b-c551-78249512b0aa"
      },
      "execution_count": null,
      "outputs": [
        {
          "output_type": "stream",
          "name": "stderr",
          "text": [
            "<ipython-input-26-945d5ea7d8d7>:1: SettingWithCopyWarning: \n",
            "A value is trying to be set on a copy of a slice from a DataFrame.\n",
            "Try using .loc[row_indexer,col_indexer] = value instead\n",
            "\n",
            "See the caveats in the documentation: https://pandas.pydata.org/pandas-docs/stable/user_guide/indexing.html#returning-a-view-versus-a-copy\n",
            "  data_cleaned['Charging Efficiency'] = data_cleaned['Energy (kWh)'] / data_cleaned['Total_time_hours']\n"
          ]
        }
      ]
    },
    {
      "cell_type": "code",
      "source": [
        "data_cleaned.drop(['Energy (kWh)', 'Total_time_hours'],axis=1,inplace=True)"
      ],
      "metadata": {
        "id": "ZQBn_ZYQJcQo",
        "colab": {
          "base_uri": "https://localhost:8080/"
        },
        "outputId": "c464a2b9-77b0-4567-f323-5e344d853b71"
      },
      "execution_count": null,
      "outputs": [
        {
          "output_type": "stream",
          "name": "stderr",
          "text": [
            "<ipython-input-27-41e5a4b664f1>:1: SettingWithCopyWarning: \n",
            "A value is trying to be set on a copy of a slice from a DataFrame\n",
            "\n",
            "See the caveats in the documentation: https://pandas.pydata.org/pandas-docs/stable/user_guide/indexing.html#returning-a-view-versus-a-copy\n",
            "  data_cleaned.drop(['Energy (kWh)', 'Total_time_hours'],axis=1,inplace=True)\n"
          ]
        }
      ]
    },
    {
      "cell_type": "code",
      "source": [
        "path = '/content/drive/MyDrive/Data_Mining/data_cleaned_energy_efficiency_replace_mod.csv'\n",
        "\n",
        "data_cleaned.to_csv(path,index=False)"
      ],
      "metadata": {
        "id": "13i_wV5tIK2j"
      },
      "execution_count": null,
      "outputs": []
    },
    {
      "cell_type": "code",
      "source": [
        "data_cleaned = pd.read_csv('/content/drive/MyDrive/Data_Mining/data_cleaned.csv')"
      ],
      "metadata": {
        "id": "IaqIk6bKUPTj"
      },
      "execution_count": null,
      "outputs": []
    },
    {
      "cell_type": "markdown",
      "source": [
        "# **Regression**"
      ],
      "metadata": {
        "id": "j4_L2ynCxrvG"
      }
    },
    {
      "cell_type": "code",
      "source": [
        "data_cleaned = pd.read_csv('/content/drive/MyDrive/Data_Mining/data_cleaned_energy_included.csv')"
      ],
      "metadata": {
        "id": "kPJZnm_FdrCZ"
      },
      "execution_count": null,
      "outputs": []
    },
    {
      "cell_type": "code",
      "source": [
        "data_cleaned.drop(['User ID'],axis=1,inplace=True)"
      ],
      "metadata": {
        "colab": {
          "base_uri": "https://localhost:8080/"
        },
        "id": "0Yh0sbm4M4CZ",
        "outputId": "77012225-2148-48b6-c12a-3e12617ae3fd"
      },
      "execution_count": null,
      "outputs": [
        {
          "output_type": "stream",
          "name": "stderr",
          "text": [
            "<ipython-input-33-e95a44ce70f6>:1: SettingWithCopyWarning: \n",
            "A value is trying to be set on a copy of a slice from a DataFrame\n",
            "\n",
            "See the caveats in the documentation: https://pandas.pydata.org/pandas-docs/stable/user_guide/indexing.html#returning-a-view-versus-a-copy\n",
            "  data_cleaned.drop(['User ID'],axis=1,inplace=True)\n"
          ]
        }
      ]
    },
    {
      "cell_type": "code",
      "source": [
        "data_df = data_cleaned.drop(['Charging Efficiency'],axis=1)"
      ],
      "metadata": {
        "id": "j9Xr7tERJzfZ"
      },
      "execution_count": null,
      "outputs": []
    },
    {
      "cell_type": "code",
      "execution_count": null,
      "metadata": {
        "id": "1QWRLhnw1ZlY"
      },
      "outputs": [],
      "source": [
        "from sklearn.model_selection import train_test_split, cross_validate, cross_val_score, GridSearchCV\n",
        "from sklearn import preprocessing"
      ]
    },
    {
      "cell_type": "code",
      "execution_count": null,
      "metadata": {
        "id": "p3wlZypUzHIj"
      },
      "outputs": [],
      "source": [
        "X_train, X_test, y_train, y_test = train_test_split(data_df, data_cleaned['Charging Efficiency'], random_state=42, test_size=0.20)"
      ]
    },
    {
      "cell_type": "code",
      "execution_count": null,
      "metadata": {
        "colab": {
          "base_uri": "https://localhost:8080/"
        },
        "id": "1cuT_F7Ny-aB",
        "outputId": "50367bea-1b79-4236-9bec-671197fcec32"
      },
      "outputs": [
        {
          "output_type": "execute_result",
          "data": {
            "text/plain": [
              "((207500, 22), (51875, 22))"
            ]
          },
          "metadata": {},
          "execution_count": 37
        }
      ],
      "source": [
        "size_scaler = preprocessing.StandardScaler().fit(X_train)\n",
        "X_train_scaled = size_scaler.transform(X_train)\n",
        "X_test_scaled = size_scaler.transform(X_test)\n",
        "X_train_scaled.shape, X_test_scaled.shape"
      ]
    },
    {
      "cell_type": "code",
      "execution_count": null,
      "metadata": {
        "id": "ZONdMxAcJTsS"
      },
      "outputs": [],
      "source": [
        "from sklearn.metrics import mean_squared_error, mean_absolute_error, r2_score\n",
        "from sklearn.model_selection import cross_val_score\n",
        "\n",
        "from sklearn.linear_model import LinearRegression\n",
        "from sklearn.preprocessing import PolynomialFeatures\n",
        "from sklearn.linear_model import SGDRegressor\n",
        "from sklearn.ensemble import RandomForestRegressor\n",
        "from sklearn.ensemble import GradientBoostingRegressor\n",
        "\n",
        "# from sklearn.ensemble import RandomForestRegressor\n",
        "# from sklearn.ensemble import GradientBoostingRegressor\n",
        "# from xgboost import XGBRegressor"
      ]
    },
    {
      "cell_type": "markdown",
      "source": [
        "# **Linear Regression**"
      ],
      "metadata": {
        "id": "lO3lbyL3MWsC"
      }
    },
    {
      "cell_type": "code",
      "source": [
        "model_linear_regression = LinearRegression()\n",
        "\n",
        "model_linear_regression.fit(X_train_scaled, y_train)\n",
        "\n",
        "predicted_values_linear_reg = model_linear_regression.predict(X_test_scaled)\n",
        "\n",
        "print(\"Coefficients of liner regression:\", model_linear_regression.coef_)\n",
        "print(\"Intercept of liner regression:\", model_linear_regression.intercept_)\n",
        "\n",
        "linear_mse = mean_squared_error(y_test, predicted_values_linear_reg)\n",
        "linear_mae = mean_absolute_error(y_test, predicted_values_linear_reg)\n",
        "linear_r2 = r2_score(y_test, predicted_values_linear_reg)\n",
        "\n",
        "print(\"Linear Regression MSE:\", linear_mse)\n",
        "print(\"Linear Regression MAE:\", linear_mae)\n",
        "print(\"Linear Regression R-squared:\", linear_r2)"
      ],
      "metadata": {
        "colab": {
          "base_uri": "https://localhost:8080/"
        },
        "id": "DhVw1QjpLSN3",
        "outputId": "c1186548-bf27-405a-e2a3-63cb4b9b6dae"
      },
      "execution_count": null,
      "outputs": [
        {
          "output_type": "stream",
          "name": "stdout",
          "text": [
            "Coefficients of liner regression: [-1.65948456e-02 -5.43992976e-02  1.43950175e-01  1.43950175e-01\n",
            " -4.13028277e+00  6.43410078e+00 -1.70021687e-02  1.02332642e-02\n",
            " -1.53348471e-02  7.63270570e-03  9.78459562e-03 -6.38771903e-02\n",
            "  2.02171613e-13  2.48044277e-03  4.64168469e-02 -2.27895513e-01\n",
            " -5.73217691e-02 -1.19239278e-03 -1.17482535e-02  8.93141333e-02\n",
            " -1.24630563e-02 -1.87896952e+00]\n",
            "Intercept of liner regression: 3.812554594016515\n",
            "Linear Regression MSE: 1.4436299836732087\n",
            "Linear Regression MAE: 0.9079978327413211\n",
            "Linear Regression R-squared: 0.46037238663101576\n"
          ]
        }
      ]
    },
    {
      "cell_type": "markdown",
      "source": [
        "## **Cross Fold Validation**"
      ],
      "metadata": {
        "id": "6RDZJekVYeMg"
      }
    },
    {
      "cell_type": "code",
      "source": [
        "X = data_df\n",
        "y = data_cleaned['Charging_time_hours']\n",
        "\n",
        "size_scaler = preprocessing.StandardScaler().fit(X)\n",
        "X_train_scaled_cross = size_scaler.transform(X)"
      ],
      "metadata": {
        "id": "xNXeEf5NYyhk"
      },
      "execution_count": null,
      "outputs": []
    },
    {
      "cell_type": "code",
      "source": [
        "model = LinearRegression()\n",
        "\n",
        "# Perform cross-validation (e.g., 5-fold cross-validation)\n",
        "scores = cross_val_score(model, X_train_scaled_cross, y, cv=10, scoring='neg_mean_squared_error')\n",
        "\n",
        "# Convert the scores to positive values (MSE is negative by default)\n",
        "mse_scores = -scores\n",
        "\n",
        "# Calculate the mean and standard deviation of the MSE scores\n",
        "mean_mse = np.mean(mse_scores)\n",
        "std_mse = np.std(mse_scores)\n",
        "\n",
        "print(f'mean_mse : {mean_mse}')\n",
        "print(f'std_mse : {std_mse}')"
      ],
      "metadata": {
        "colab": {
          "base_uri": "https://localhost:8080/"
        },
        "id": "kWCiLOrxYdoz",
        "outputId": "a8f2dd07-ea6e-4e3e-88e2-94b8a27a727c"
      },
      "execution_count": null,
      "outputs": [
        {
          "output_type": "stream",
          "name": "stdout",
          "text": [
            "mean_mse : 0.2671929179323744\n",
            "std_mse : 0.05295095767318773\n"
          ]
        }
      ]
    },
    {
      "cell_type": "markdown",
      "source": [
        "# **SGDRegression**"
      ],
      "metadata": {
        "id": "PMLA4lRzOESM"
      }
    },
    {
      "cell_type": "code",
      "source": [
        "model_sgdregression = SGDRegressor(max_iter=100000, learning_rate='constant', eta0=0.0001, random_state=42)\n",
        "\n",
        "model_sgdregression.fit(X_train_scaled, y_train)\n",
        "\n",
        "predicted_values_sgd_regression = model_sgdregression.predict(X_test_scaled)\n",
        "\n",
        "print(\"Coefficients of sdg regression:\", model_sgdregression.coef_)\n",
        "print(\"Intercept of sdg regression:\", model_sgdregression.intercept_)\n",
        "\n",
        "sgd_mse = mean_squared_error(y_test, predicted_values_sgd_regression)\n",
        "sgd_mae = mean_absolute_error(y_test, predicted_values_sgd_regression)\n",
        "sgd_r2 = r2_score(y_test, predicted_values_sgd_regression)\n",
        "\n",
        "print(\"SGD Regression MSE:\", sgd_mse)\n",
        "print(\"SGD Regression MAE:\", sgd_mae)\n",
        "print(\"SGD Regression R-squared:\", sgd_r2)"
      ],
      "metadata": {
        "colab": {
          "base_uri": "https://localhost:8080/"
        },
        "id": "wZIWc7AHLpmK",
        "outputId": "72e195d5-a4d3-480f-e700-8c130bb817f8"
      },
      "execution_count": null,
      "outputs": [
        {
          "output_type": "stream",
          "name": "stdout",
          "text": [
            "Coefficients of sdg regression: [-1.37167429e-02 -6.15580619e-02  1.45756204e-01  1.45756204e-01\n",
            "  1.15566603e+00  1.15574411e+00  5.46040332e-03  9.63942886e-03\n",
            " -7.18068468e-03  1.75726610e-02  1.81790846e-02 -6.09420000e-02\n",
            "  0.00000000e+00 -4.24129194e-04  4.58401629e-02 -2.25520051e-01\n",
            " -6.22167753e-02  6.72207724e-03 -1.80333587e-02  9.32161483e-02\n",
            " -1.78203602e-02 -1.89724145e+00]\n",
            "Intercept of sdg regression: [3.80927645]\n",
            "SGD Regression MSE: 1.445380758655631\n",
            "SGD Regression MAE: 0.9087906957567352\n",
            "SGD Regression R-squared: 0.4597179484882814\n"
          ]
        }
      ]
    },
    {
      "cell_type": "markdown",
      "source": [
        "## **Cross fold validation**"
      ],
      "metadata": {
        "id": "JcJYPtdaaD-i"
      }
    },
    {
      "cell_type": "code",
      "source": [
        "model_sgdregression = SGDRegressor(max_iter=100000, learning_rate='constant', eta0=0.0001, random_state=42)\n",
        "\n",
        "# Perform cross-validation (e.g., 5-fold cross-validation)\n",
        "scores = cross_val_score(model_sgdregression, X_train_scaled_cross, y, cv=20, scoring='neg_mean_squared_error')\n",
        "\n",
        "# Convert the scores to positive values (MSE is negative by default)\n",
        "mse_scores = -scores\n",
        "\n",
        "# Calculate the mean and standard deviation of the MSE scores\n",
        "mean_mse = np.mean(mse_scores)\n",
        "std_mse = np.std(mse_scores)\n",
        "\n",
        "print(f'mean_mse : {mean_mse}')\n",
        "print(f'std_mse : {std_mse}')"
      ],
      "metadata": {
        "id": "InC89VYkZuvG"
      },
      "execution_count": null,
      "outputs": []
    },
    {
      "cell_type": "markdown",
      "source": [
        "# **Polynomial Regression**"
      ],
      "metadata": {
        "id": "oKRii0sYPKR6"
      }
    },
    {
      "cell_type": "code",
      "source": [
        "poly = PolynomialFeatures(degree=2)\n",
        "X_poly = poly.fit_transform(X_train_scaled)\n",
        "X_test_poly = poly.fit_transform(X_test_scaled)\n",
        "\n",
        "# Create a Linear Regression model\n",
        "model = LinearRegression()\n",
        "\n",
        "# Fit the model to the polynomial features\n",
        "model.fit(X_poly, y_train)\n",
        "\n",
        "# Predict using the trained model\n",
        "predicted_values_poly = model.predict(X_test_poly)\n",
        "\n",
        "poly_mse = mean_squared_error(y_test, predicted_values_poly)\n",
        "poly_mae = mean_absolute_error(y_test, predicted_values_poly)\n",
        "poly_r2 = r2_score(y_test, predicted_values_poly)\n",
        "\n",
        "print(\"SGD Regression MSE:\", poly_mse)\n",
        "print(\"SGD Regression MAE:\", poly_mae)\n",
        "print(\"SGD Regression R-squared:\", poly_r2)"
      ],
      "metadata": {
        "colab": {
          "base_uri": "https://localhost:8080/"
        },
        "id": "FNttUOvJPIgm",
        "outputId": "8d149713-6410-449b-c75e-1c3ff0a89c5a"
      },
      "execution_count": null,
      "outputs": [
        {
          "output_type": "stream",
          "name": "stdout",
          "text": [
            "SGD Regression MSE: 1.0262349547393097\n",
            "SGD Regression MAE: 0.7307703812049828\n",
            "SGD Regression R-squared: 0.6163942799437171\n"
          ]
        }
      ]
    }
  ]
}