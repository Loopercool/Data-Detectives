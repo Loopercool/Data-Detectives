{
  "nbformat": 4,
  "nbformat_minor": 0,
  "metadata": {
    "colab": {
      "provenance": [],
      "include_colab_link": true
    },
    "kernelspec": {
      "name": "python3",
      "display_name": "Python 3"
    },
    "language_info": {
      "name": "python"
    }
  },
  "cells": [
    {
      "cell_type": "markdown",
      "metadata": {
        "id": "view-in-github",
        "colab_type": "text"
      },
      "source": [
        "<a href=\"https://colab.research.google.com/github/Loopercool/Data-Detectives/blob/main/Pratham_202101102.ipynb\" target=\"_parent\"><img src=\"https://colab.research.google.com/assets/colab-badge.svg\" alt=\"Open In Colab\"/></a>"
      ]
    },
    {
      "cell_type": "markdown",
      "source": [
        "# **Import**"
      ],
      "metadata": {
        "id": "34eiRuYybj8f"
      }
    },
    {
      "cell_type": "code",
      "execution_count": null,
      "metadata": {
        "id": "aMaOeSvBTWUN"
      },
      "outputs": [],
      "source": [
        "import math\n",
        "import numpy as np\n",
        "import pandas as pd\n",
        "import pandas as pd\n",
        "\n",
        "from sklearn.model_selection import train_test_split\n",
        "from sklearn.preprocessing import LabelEncoder\n",
        "from sklearn.linear_model import LinearRegression\n",
        "from sklearn.metrics import mean_squared_error\n",
        "import matplotlib.pyplot as plt\n",
        "import seaborn as sns"
      ]
    },
    {
      "cell_type": "code",
      "source": [
        "!unzip /content/drive/MyDrive/Data_Mining/archive__1.zip -d /content/drive/MyDrive/Data_Mining/"
      ],
      "metadata": {
        "colab": {
          "base_uri": "https://localhost:8080/"
        },
        "id": "9PQlZvaaUI8-",
        "outputId": "ec1414ba-235b-4398-8973-aaf11d4f555e"
      },
      "execution_count": null,
      "outputs": [
        {
          "output_type": "stream",
          "name": "stdout",
          "text": [
            "Archive:  /content/drive/MyDrive/Data_Mining/archive__1.zip\n",
            "  inflating: /content/drive/MyDrive/Data_Mining/EVChargingStationUsage.csv  \n"
          ]
        }
      ]
    },
    {
      "cell_type": "code",
      "source": [
        "df_main = pd.read_csv(\"/content/drive/MyDrive/Data_Mining/EVChargingStationUsage.csv\")"
      ],
      "metadata": {
        "colab": {
          "base_uri": "https://localhost:8080/"
        },
        "id": "bjpw66LBURO_",
        "outputId": "b89f2869-fc27-4b9c-a5f2-86244b74e615"
      },
      "execution_count": null,
      "outputs": [
        {
          "output_type": "stream",
          "name": "stderr",
          "text": [
            "<ipython-input-4-041004de04d7>:1: DtypeWarning: Columns (29,30,32) have mixed types. Specify dtype option on import or set low_memory=False.\n",
            "  df_main = pd.read_csv(\"/content/drive/MyDrive/Data_Mining/EVChargingStationUsage.csv\")\n"
          ]
        }
      ]
    },
    {
      "cell_type": "code",
      "source": [
        "columns_to_drop=['GHG Savings (kg)','Gasoline Savings (gallons)','Currency','Country','Org Name','Plug Type','Port Type','Port Number']\n",
        "df_main.drop(columns=columns_to_drop, inplace=True)"
      ],
      "metadata": {
        "id": "Fm5rWY-DUXex"
      },
      "execution_count": null,
      "outputs": []
    },
    {
      "cell_type": "markdown",
      "source": [
        "# **Remove Entries having nan value**"
      ],
      "metadata": {
        "id": "EyvExzfXbnta"
      }
    },
    {
      "cell_type": "code",
      "source": [
        "data_cleaned = df_main.dropna()"
      ],
      "metadata": {
        "id": "Tnq7EGW_U4TE"
      },
      "execution_count": null,
      "outputs": []
    },
    {
      "cell_type": "code",
      "source": [
        "data_cleaned.isnull().sum()"
      ],
      "metadata": {
        "colab": {
          "base_uri": "https://localhost:8080/"
        },
        "id": "2NqotGjPVIeU",
        "outputId": "1c0ba5a6-60cb-4de4-b183-7fb0b214c878"
      },
      "execution_count": null,
      "outputs": [
        {
          "output_type": "execute_result",
          "data": {
            "text/plain": [
              "Station Name                       0\n",
              "MAC Address                        0\n",
              "Start Date                         0\n",
              "Start Time Zone                    0\n",
              "End Date                           0\n",
              "End Time Zone                      0\n",
              "Transaction Date (Pacific Time)    0\n",
              "Total Duration (hh:mm:ss)          0\n",
              "Charging Time (hh:mm:ss)           0\n",
              "Energy (kWh)                       0\n",
              "EVSE ID                            0\n",
              "Address 1                          0\n",
              "City                               0\n",
              "State/Province                     0\n",
              "Postal Code                        0\n",
              "Latitude                           0\n",
              "Longitude                          0\n",
              "Fee                                0\n",
              "Ended By                           0\n",
              "Plug In Event Id                   0\n",
              "Driver Postal Code                 0\n",
              "User ID                            0\n",
              "County                             0\n",
              "System S/N                         0\n",
              "Model Number                       0\n",
              "dtype: int64"
            ]
          },
          "metadata": {},
          "execution_count": 7
        }
      ]
    },
    {
      "cell_type": "code",
      "source": [
        "data_cleaned.shape"
      ],
      "metadata": {
        "colab": {
          "base_uri": "https://localhost:8080/"
        },
        "id": "b0X-lcPsVSOD",
        "outputId": "27b6dbe9-5317-4da4-f367-dac2cc87f64f"
      },
      "execution_count": null,
      "outputs": [
        {
          "output_type": "execute_result",
          "data": {
            "text/plain": [
              "(169446, 25)"
            ]
          },
          "metadata": {},
          "execution_count": 8
        }
      ]
    },
    {
      "cell_type": "markdown",
      "source": [
        "# **Converting *START DATE, Start time Zone* to numeric**"
      ],
      "metadata": {
        "id": "Ze8xzWkobtvK"
      }
    },
    {
      "cell_type": "code",
      "source": [
        "selected_columns = [\"Start Date\", \"Start Time Zone\"]\n",
        "\n",
        "# Create a new DataFrame with the selected columns\n",
        "dfa = data_cleaned[selected_columns]"
      ],
      "metadata": {
        "id": "DkmIuQiBVWCB"
      },
      "execution_count": null,
      "outputs": []
    },
    {
      "cell_type": "code",
      "source": [
        "import pandas as pd\n",
        "import pytz\n",
        "from datetime import datetime\n",
        "\n",
        "# Define time zones\n",
        "pst = pytz.timezone('US/Pacific')\n",
        "pdt = pytz.timezone('US/Pacific')\n",
        "\n",
        "# Function to convert PST to PDT\n",
        "def convert_pst_to_pdt(date_str):\n",
        "    dt_object = datetime.strptime(date_str, \"%m/%d/%Y %H:%M\")\n",
        "    dt_object = pst.localize(dt_object)\n",
        "    dt_object_pdt = dt_object.astimezone(pdt)\n",
        "\n",
        "    return dt_object_pdt\n",
        "\n",
        "# Function to convert date and time to numeric value\n",
        "def convert_to_numeric(date_str):\n",
        "    dt_object = datetime.strptime(date_str, \"%m/%d/%Y %H:%M\")\n",
        "    numeric_value = dt_object.timestamp()\n",
        "\n",
        "    return numeric_value\n",
        "\n",
        "# Convert PST to PDT and apply numeric conversion\n",
        "converted_date_times = []\n",
        "numeric_values = []\n",
        "\n",
        "for index, row in dfa.iterrows():\n",
        "    if row[\"Start Time Zone\"] == \"PST\":\n",
        "        converted_dt = convert_pst_to_pdt(row[\"Start Date\"])\n",
        "    else:\n",
        "        converted_dt = datetime.strptime(row[\"Start Date\"], \"%m/%d/%Y %H:%M\")\n",
        "\n",
        "    converted_date_times.append(converted_dt)\n",
        "    numeric_value = convert_to_numeric(row[\"Start Date\"])\n",
        "    numeric_values.append(numeric_value)\n",
        "\n",
        "dfa[\"ConvertedDateTime\"] = converted_date_times\n",
        "dfa[\"NumericValue\"] = numeric_values\n",
        "\n",
        "print(dfa)\n",
        "\n",
        "data_cleaned[\"Start Date\"] = dfa[\"NumericValue\"]"
      ],
      "metadata": {
        "colab": {
          "base_uri": "https://localhost:8080/"
        },
        "id": "7LpaN14qVa3F",
        "outputId": "52874a71-4e5e-4ac3-b974-2fc5bdf1d64d"
      },
      "execution_count": null,
      "outputs": [
        {
          "output_type": "stream",
          "name": "stdout",
          "text": [
            "              Start Date Start Time Zone          ConvertedDateTime  \\\n",
            "78948      8/1/2016 5:21             PDT        2016-08-01 05:21:00   \n",
            "78949      8/1/2016 6:01             PDT        2016-08-01 06:01:00   \n",
            "78950      8/1/2016 6:03             PDT        2016-08-01 06:03:00   \n",
            "78951      8/1/2016 6:10             PDT        2016-08-01 06:10:00   \n",
            "78952      8/1/2016 6:13             PDT        2016-08-01 06:13:00   \n",
            "...                  ...             ...                        ...   \n",
            "259409  12/31/2020 15:51             PST  2020-12-31 15:51:00-08:00   \n",
            "259411  12/31/2020 16:48             PST  2020-12-31 16:48:00-08:00   \n",
            "259412  12/31/2020 17:28             PST  2020-12-31 17:28:00-08:00   \n",
            "259413  12/31/2020 17:49             PST  2020-12-31 17:49:00-08:00   \n",
            "259414  12/31/2020 18:19             PST  2020-12-31 18:19:00-08:00   \n",
            "\n",
            "        NumericValue  \n",
            "78948   1.470029e+09  \n",
            "78949   1.470031e+09  \n",
            "78950   1.470031e+09  \n",
            "78951   1.470032e+09  \n",
            "78952   1.470032e+09  \n",
            "...              ...  \n",
            "259409  1.609430e+09  \n",
            "259411  1.609433e+09  \n",
            "259412  1.609436e+09  \n",
            "259413  1.609437e+09  \n",
            "259414  1.609439e+09  \n",
            "\n",
            "[169446 rows x 4 columns]\n"
          ]
        },
        {
          "output_type": "stream",
          "name": "stderr",
          "text": [
            "<ipython-input-10-5fe1e3c85d9c>:38: SettingWithCopyWarning: \n",
            "A value is trying to be set on a copy of a slice from a DataFrame.\n",
            "Try using .loc[row_indexer,col_indexer] = value instead\n",
            "\n",
            "See the caveats in the documentation: https://pandas.pydata.org/pandas-docs/stable/user_guide/indexing.html#returning-a-view-versus-a-copy\n",
            "  dfa[\"ConvertedDateTime\"] = converted_date_times\n",
            "<ipython-input-10-5fe1e3c85d9c>:39: SettingWithCopyWarning: \n",
            "A value is trying to be set on a copy of a slice from a DataFrame.\n",
            "Try using .loc[row_indexer,col_indexer] = value instead\n",
            "\n",
            "See the caveats in the documentation: https://pandas.pydata.org/pandas-docs/stable/user_guide/indexing.html#returning-a-view-versus-a-copy\n",
            "  dfa[\"NumericValue\"] = numeric_values\n",
            "<ipython-input-10-5fe1e3c85d9c>:43: SettingWithCopyWarning: \n",
            "A value is trying to be set on a copy of a slice from a DataFrame.\n",
            "Try using .loc[row_indexer,col_indexer] = value instead\n",
            "\n",
            "See the caveats in the documentation: https://pandas.pydata.org/pandas-docs/stable/user_guide/indexing.html#returning-a-view-versus-a-copy\n",
            "  data_cleaned[\"Start Date\"] = dfa[\"NumericValue\"]\n"
          ]
        }
      ]
    },
    {
      "cell_type": "code",
      "source": [
        "print(\"Original dataset:\")\n",
        "print(data_cleaned)\n",
        "\n",
        "# Function to check if a value is a valid date and time format\n",
        "def is_valid_datetime(value):\n",
        "    try:\n",
        "        datetime.strptime(value, '%m/%d/%Y %H:%M')\n",
        "        return True\n",
        "    except ValueError:\n",
        "        return False\n",
        "\n",
        "# Filter out rows with invalid date and time values\n",
        "data_cleaned = data_cleaned[df_main['End Date'].apply(is_valid_datetime)]\n",
        "\n",
        "# Print the dataset after dropping invalid rows\n",
        "# print(\"\\nDataset after dropping invalid rows:\")\n",
        "# print(df_main)"
      ],
      "metadata": {
        "colab": {
          "base_uri": "https://localhost:8080/"
        },
        "id": "hjTu45qwVj60",
        "outputId": "2777c25f-8313-4981-9d0e-a971ec55db98"
      },
      "execution_count": null,
      "outputs": [
        {
          "output_type": "stream",
          "name": "stdout",
          "text": [
            "Original dataset:\n",
            "                       Station Name          MAC Address    Start Date  \\\n",
            "78948   PALO ALTO CA / CAMBRIDGE #1  0024:B100:0002:1329  1.470029e+09   \n",
            "78949   PALO ALTO CA / CAMBRIDGE #2  0024:B100:0002:13B7  1.470031e+09   \n",
            "78950   PALO ALTO CA / CAMBRIDGE #1  0024:B100:0002:1329  1.470031e+09   \n",
            "78951    PALO ALTO CA / HAMILTON #2  0024:B100:0002:1331  1.470032e+09   \n",
            "78952        PALO ALTO CA / HIGH #1  0024:B100:0002:10FE  1.470032e+09   \n",
            "...                             ...                  ...           ...   \n",
            "259409  PALO ALTO CA / CAMBRIDGE #5  0024:B100:0002:9B7F  1.609430e+09   \n",
            "259411    PALO ALTO CA / WEBSTER #1  0024:B100:0002:4233  1.609433e+09   \n",
            "259412        PALO ALTO CA / MPL #4  0024:B100:0003:CD37  1.609436e+09   \n",
            "259413    PALO ALTO CA / WEBSTER #1  0024:B100:0002:4233  1.609437e+09   \n",
            "259414  PALO ALTO CA / CAMBRIDGE #4  0024:B100:0003:3A0A  1.609439e+09   \n",
            "\n",
            "       Start Time Zone          End Date End Time Zone  \\\n",
            "78948              PDT     8/1/2016 6:49           PDT   \n",
            "78949              PDT    8/1/2016 10:58           PDT   \n",
            "78950              PDT     8/1/2016 9:15           PDT   \n",
            "78951              PDT     8/1/2016 8:54           PDT   \n",
            "78952              PDT     8/1/2016 9:33           PDT   \n",
            "...                ...               ...           ...   \n",
            "259409             PST  12/31/2020 17:30           PST   \n",
            "259411             PST  12/31/2020 20:31           PST   \n",
            "259412             PST    1/1/2021 10:56           PST   \n",
            "259413             PST  12/31/2020 21:55           PST   \n",
            "259414             PST  12/31/2020 19:01           PST   \n",
            "\n",
            "       Transaction Date (Pacific Time) Total Duration (hh:mm:ss)  \\\n",
            "78948                    8/1/2016 6:49                   1:27:58   \n",
            "78949                   8/1/2016 10:58                   4:56:27   \n",
            "78950                    8/1/2016 9:15                   3:12:17   \n",
            "78951                    8/1/2016 8:54                   2:44:25   \n",
            "78952                    8/1/2016 9:33                   3:19:24   \n",
            "...                                ...                       ...   \n",
            "259409                12/31/2020 17:31                   1:38:27   \n",
            "259411                12/31/2020 20:32                   3:43:01   \n",
            "259412                  1/1/2021 10:57                  17:28:14   \n",
            "259413                12/31/2020 21:56                   4:05:34   \n",
            "259414                12/31/2020 19:02                   0:42:07   \n",
            "\n",
            "       Charging Time (hh:mm:ss)  Energy (kWh)  ...   Latitude   Longitude  \\\n",
            "78948                   1:25:26      4.464626  ...  37.426155 -122.146065   \n",
            "78949                   2:31:04      7.501231  ...  37.426182 -122.146065   \n",
            "78950                   3:11:18     10.891753  ...  37.426155 -122.146065   \n",
            "78951                   2:25:49      6.968250  ...  37.444359 -122.159904   \n",
            "78952                   3:19:15     17.938757  ...  37.443558 -122.162849   \n",
            "...                         ...           ...  ...        ...         ...   \n",
            "259409                  1:21:36      2.535000  ...  37.426228 -122.145981   \n",
            "259411                  2:14:04     12.744000  ...  37.448284 -122.158272   \n",
            "259412                  5:08:12     29.665000  ...  37.422104 -122.113510   \n",
            "259413                  3:53:42     11.976000  ...  37.448284 -122.158272   \n",
            "259414                  0:41:44      1.571000  ...  37.426178 -122.146034   \n",
            "\n",
            "         Fee             Ended By  Plug In Event Id  Driver Postal Code  \\\n",
            "78948   0.00  Plug Out at Vehicle              1665             94587.0   \n",
            "78949   0.00  Plug Out at Vehicle              1771             95030.0   \n",
            "78950   0.00  Plug Out at Vehicle              1666             80525.0   \n",
            "78951   0.00  Plug Out at Vehicle              2093             94539.0   \n",
            "78952   0.00  Plug Out at Vehicle              3112             94024.0   \n",
            "...      ...                  ...               ...                 ...   \n",
            "259409  0.58  Plug Out at Vehicle              4672             94303.0   \n",
            "259411  4.69  Plug Out at Vehicle              7255             94541.0   \n",
            "259412  6.82  Plug Out at Vehicle               455             94306.0   \n",
            "259413  2.75  Plug Out at Vehicle              7256             94552.0   \n",
            "259414  0.36  Plug Out at Vehicle              2302             94305.0   \n",
            "\n",
            "        User ID              County    System S/N  Model Number  \n",
            "78948    523487  Santa Clara County  1.427410e+11  CT4020-HD-GW  \n",
            "78949    141845  Santa Clara County  1.428410e+11  CT4020-HD-GW  \n",
            "78950    203603  Santa Clara County  1.427410e+11  CT4020-HD-GW  \n",
            "78951    126575  Santa Clara County  1.427410e+11  CT4020-HD-GW  \n",
            "78952    191743  Santa Clara County  1.422410e+11  CT4020-HD-GW  \n",
            "...         ...                 ...           ...           ...  \n",
            "259409  2652881  Santa Clara County  1.742410e+11     CT4020-HD  \n",
            "259411   242661  Santa Clara County  1.336410e+11  CT4020-HD-GW  \n",
            "259412   449995  Santa Clara County  2.002410e+11  CT4010-HD-GW  \n",
            "259413   804075  Santa Clara County  1.336410e+11  CT4020-HD-GW  \n",
            "259414  2022651  Santa Clara County  1.852410e+11  CT4020-HD-GW  \n",
            "\n",
            "[169446 rows x 25 columns]\n"
          ]
        },
        {
          "output_type": "stream",
          "name": "stderr",
          "text": [
            "<ipython-input-11-80ddd35c4a75>:13: UserWarning: Boolean Series key will be reindexed to match DataFrame index.\n",
            "  data_cleaned = data_cleaned[df_main['End Date'].apply(is_valid_datetime)]\n"
          ]
        }
      ]
    },
    {
      "cell_type": "code",
      "source": [
        "selected_columns = ['End Date', 'End Time Zone']\n",
        "\n",
        "# Create a new DataFrame with the selected columns\n",
        "dfb = data_cleaned[selected_columns]"
      ],
      "metadata": {
        "id": "ZlIHdb1KVhpw"
      },
      "execution_count": null,
      "outputs": []
    },
    {
      "cell_type": "code",
      "source": [
        "import pandas as pd\n",
        "import pytz\n",
        "from datetime import datetime\n",
        "\n",
        "# Define time zones\n",
        "pst = pytz.timezone('US/Pacific')\n",
        "pdt = pytz.timezone('US/Pacific')\n",
        "\n",
        "# Function to convert PST to PDT\n",
        "def convert_pst_to_pdt(date_str):\n",
        "    dt_object = datetime.strptime(date_str, \"%m/%d/%Y %H:%M\")\n",
        "    dt_object = pst.localize(dt_object)\n",
        "    dt_object_pdt = dt_object.astimezone(pdt)\n",
        "\n",
        "    return dt_object_pdt\n",
        "\n",
        "# Function to convert date and time to numeric value\n",
        "def convert_to_numeric(date_str):\n",
        "    dt_object = datetime.strptime(date_str, \"%m/%d/%Y %H:%M\")\n",
        "    numeric_value = dt_object.timestamp()\n",
        "\n",
        "    return numeric_value\n",
        "\n",
        "# Convert PST to PDT and apply numeric conversion\n",
        "converted_date_times = []\n",
        "numeric_values = []\n",
        "\n",
        "for index, row in dfb.iterrows():\n",
        "    if row[\"End Time Zone\"] == \"PST\":\n",
        "        converted_dt = convert_pst_to_pdt(row[\"End Date\"])\n",
        "    else:\n",
        "        converted_dt = datetime.strptime(row[\"End Date\"], \"%m/%d/%Y %H:%M\")\n",
        "\n",
        "    converted_date_times.append(converted_dt)\n",
        "    numeric_value = convert_to_numeric(row[\"End Date\"])\n",
        "    numeric_values.append(numeric_value)\n",
        "\n",
        "dfb[\"ConvertedDateTime\"] = converted_date_times\n",
        "dfb[\"NumericValue\"] = numeric_values\n",
        "\n",
        "print(dfb)\n",
        "\n",
        "data_cleaned[\"End Date\"] = dfa[\"NumericValue\"]"
      ],
      "metadata": {
        "colab": {
          "base_uri": "https://localhost:8080/"
        },
        "id": "4DzoQWt2Vjgd",
        "outputId": "7ff7b705-b005-4030-c289-a88ce96f8cd2"
      },
      "execution_count": null,
      "outputs": [
        {
          "output_type": "stream",
          "name": "stdout",
          "text": [
            "                End Date End Time Zone          ConvertedDateTime  \\\n",
            "78948      8/1/2016 6:49           PDT        2016-08-01 06:49:00   \n",
            "78949     8/1/2016 10:58           PDT        2016-08-01 10:58:00   \n",
            "78950      8/1/2016 9:15           PDT        2016-08-01 09:15:00   \n",
            "78951      8/1/2016 8:54           PDT        2016-08-01 08:54:00   \n",
            "78952      8/1/2016 9:33           PDT        2016-08-01 09:33:00   \n",
            "...                  ...           ...                        ...   \n",
            "259409  12/31/2020 17:30           PST  2020-12-31 17:30:00-08:00   \n",
            "259411  12/31/2020 20:31           PST  2020-12-31 20:31:00-08:00   \n",
            "259412    1/1/2021 10:56           PST  2021-01-01 10:56:00-08:00   \n",
            "259413  12/31/2020 21:55           PST  2020-12-31 21:55:00-08:00   \n",
            "259414  12/31/2020 19:01           PST  2020-12-31 19:01:00-08:00   \n",
            "\n",
            "        NumericValue  \n",
            "78948   1.470034e+09  \n",
            "78949   1.470049e+09  \n",
            "78950   1.470043e+09  \n",
            "78951   1.470042e+09  \n",
            "78952   1.470044e+09  \n",
            "...              ...  \n",
            "259409  1.609436e+09  \n",
            "259411  1.609447e+09  \n",
            "259412  1.609499e+09  \n",
            "259413  1.609452e+09  \n",
            "259414  1.609441e+09  \n",
            "\n",
            "[169408 rows x 4 columns]\n"
          ]
        },
        {
          "output_type": "stream",
          "name": "stderr",
          "text": [
            "<ipython-input-13-89e9d7c67890>:38: SettingWithCopyWarning: \n",
            "A value is trying to be set on a copy of a slice from a DataFrame.\n",
            "Try using .loc[row_indexer,col_indexer] = value instead\n",
            "\n",
            "See the caveats in the documentation: https://pandas.pydata.org/pandas-docs/stable/user_guide/indexing.html#returning-a-view-versus-a-copy\n",
            "  dfb[\"ConvertedDateTime\"] = converted_date_times\n",
            "<ipython-input-13-89e9d7c67890>:39: SettingWithCopyWarning: \n",
            "A value is trying to be set on a copy of a slice from a DataFrame.\n",
            "Try using .loc[row_indexer,col_indexer] = value instead\n",
            "\n",
            "See the caveats in the documentation: https://pandas.pydata.org/pandas-docs/stable/user_guide/indexing.html#returning-a-view-versus-a-copy\n",
            "  dfb[\"NumericValue\"] = numeric_values\n"
          ]
        }
      ]
    },
    {
      "cell_type": "code",
      "source": [
        "data_cleaned.columns"
      ],
      "metadata": {
        "colab": {
          "base_uri": "https://localhost:8080/"
        },
        "id": "hZY7kGoDdNdC",
        "outputId": "ccdf0f4d-87a7-4f3a-c994-a83b8c300bbf"
      },
      "execution_count": null,
      "outputs": [
        {
          "output_type": "execute_result",
          "data": {
            "text/plain": [
              "Index(['Station Name', 'MAC Address', 'Start Date', 'Start Time Zone',\n",
              "       'End Date', 'End Time Zone', 'Transaction Date (Pacific Time)',\n",
              "       'Total Duration (hh:mm:ss)', 'Charging Time (hh:mm:ss)', 'Energy (kWh)',\n",
              "       'EVSE ID', 'Address 1', 'City', 'State/Province', 'Postal Code',\n",
              "       'Latitude', 'Longitude', 'Fee', 'Ended By', 'Plug In Event Id',\n",
              "       'Driver Postal Code', 'User ID', 'County', 'System S/N',\n",
              "       'Model Number'],\n",
              "      dtype='object')"
            ]
          },
          "metadata": {},
          "execution_count": 14
        }
      ]
    },
    {
      "cell_type": "code",
      "source": [
        "columns_to_drop=['Start Time Zone','End Time Zone','Transaction Date (Pacific Time)']\n",
        "data_cleaned.drop(columns=columns_to_drop, inplace=True)"
      ],
      "metadata": {
        "id": "5WrHoacoV6CJ"
      },
      "execution_count": null,
      "outputs": []
    },
    {
      "cell_type": "code",
      "source": [
        "def time_to_numeric(time_str):\n",
        "    hours, minutes, seconds = map(int, time_str.split(':'))\n",
        "    total_hours = hours + minutes / 60 + seconds / 3600\n",
        "    return total_hours\n",
        "\n",
        "data_cleaned['Total_time_hours'] = data_cleaned['Total Duration (hh:mm:ss)'].apply(time_to_numeric)\n",
        "\n",
        "data_cleaned['Charging_time_hours'] = data_cleaned['Charging Time (hh:mm:ss)'].apply(time_to_numeric)"
      ],
      "metadata": {
        "id": "qsvwR9KfWa-J"
      },
      "execution_count": null,
      "outputs": []
    },
    {
      "cell_type": "code",
      "source": [
        "columns_to_drop=['Total Duration (hh:mm:ss)','Charging Time (hh:mm:ss)']\n",
        "data_cleaned.drop(columns=columns_to_drop, inplace=True)"
      ],
      "metadata": {
        "id": "r3dRoA61Wb-S"
      },
      "execution_count": null,
      "outputs": []
    },
    {
      "cell_type": "code",
      "source": [
        "data_cleaned.columns"
      ],
      "metadata": {
        "colab": {
          "base_uri": "https://localhost:8080/"
        },
        "id": "GHd7AdvZFSB8",
        "outputId": "691d3064-fe6e-4872-e2cd-439627905c0b"
      },
      "execution_count": null,
      "outputs": [
        {
          "output_type": "execute_result",
          "data": {
            "text/plain": [
              "Index(['Station Name', 'MAC Address', 'Start Date', 'End Date', 'Energy (kWh)',\n",
              "       'EVSE ID', 'Address 1', 'City', 'State/Province', 'Postal Code',\n",
              "       'Latitude', 'Longitude', 'Fee', 'Ended By', 'Plug In Event Id',\n",
              "       'Driver Postal Code', 'User ID', 'County', 'System S/N', 'Model Number',\n",
              "       'Total_time_hours', 'Charging_time_hours'],\n",
              "      dtype='object')"
            ]
          },
          "metadata": {},
          "execution_count": 18
        }
      ]
    },
    {
      "cell_type": "code",
      "source": [
        "data_cleaned.head()"
      ],
      "metadata": {
        "colab": {
          "base_uri": "https://localhost:8080/",
          "height": 550
        },
        "id": "aKW_mebpFaH8",
        "outputId": "74c3b2a7-bfcf-4d5f-febc-d3842ee8e0bb"
      },
      "execution_count": null,
      "outputs": [
        {
          "output_type": "execute_result",
          "data": {
            "text/plain": [
              "                      Station Name          MAC Address    Start Date  \\\n",
              "78948  PALO ALTO CA / CAMBRIDGE #1  0024:B100:0002:1329  1.470029e+09   \n",
              "78949  PALO ALTO CA / CAMBRIDGE #2  0024:B100:0002:13B7  1.470031e+09   \n",
              "78950  PALO ALTO CA / CAMBRIDGE #1  0024:B100:0002:1329  1.470031e+09   \n",
              "78951   PALO ALTO CA / HAMILTON #2  0024:B100:0002:1331  1.470032e+09   \n",
              "78952       PALO ALTO CA / HIGH #1  0024:B100:0002:10FE  1.470032e+09   \n",
              "\n",
              "           End Date  Energy (kWh)   EVSE ID          Address 1       City  \\\n",
              "78948  1.470029e+09      4.464626  109701.0  400 Cambridge Ave  Palo Alto   \n",
              "78949  1.470031e+09      7.501231  107427.0  400 Cambridge Ave  Palo Alto   \n",
              "78950  1.470031e+09     10.891753  109701.0  400 Cambridge Ave  Palo Alto   \n",
              "78951  1.470032e+09      6.968250  109785.0   250 Hamilton Ave  Palo Alto   \n",
              "78952  1.470032e+09     17.938757  104339.0        528 High St  Palo Alto   \n",
              "\n",
              "      State/Province  Postal Code  ...  Fee             Ended By  \\\n",
              "78948     California        94306  ...  0.0  Plug Out at Vehicle   \n",
              "78949     California        94306  ...  0.0  Plug Out at Vehicle   \n",
              "78950     California        94306  ...  0.0  Plug Out at Vehicle   \n",
              "78951     California        94301  ...  0.0  Plug Out at Vehicle   \n",
              "78952     California        94301  ...  0.0  Plug Out at Vehicle   \n",
              "\n",
              "       Plug In Event Id Driver Postal Code  User ID              County  \\\n",
              "78948              1665            94587.0   523487  Santa Clara County   \n",
              "78949              1771            95030.0   141845  Santa Clara County   \n",
              "78950              1666            80525.0   203603  Santa Clara County   \n",
              "78951              2093            94539.0   126575  Santa Clara County   \n",
              "78952              3112            94024.0   191743  Santa Clara County   \n",
              "\n",
              "         System S/N  Model Number  Total_time_hours Charging_time_hours  \n",
              "78948  1.427410e+11  CT4020-HD-GW          1.466111            1.423889  \n",
              "78949  1.428410e+11  CT4020-HD-GW          4.940833            2.517778  \n",
              "78950  1.427410e+11  CT4020-HD-GW          3.204722            3.188333  \n",
              "78951  1.427410e+11  CT4020-HD-GW          2.740278            2.430278  \n",
              "78952  1.422410e+11  CT4020-HD-GW          3.323333            3.320833  \n",
              "\n",
              "[5 rows x 22 columns]"
            ],
            "text/html": [
              "\n",
              "  <div id=\"df-b52d5a23-c4d2-4847-92e1-6634500ed21a\" class=\"colab-df-container\">\n",
              "    <div>\n",
              "<style scoped>\n",
              "    .dataframe tbody tr th:only-of-type {\n",
              "        vertical-align: middle;\n",
              "    }\n",
              "\n",
              "    .dataframe tbody tr th {\n",
              "        vertical-align: top;\n",
              "    }\n",
              "\n",
              "    .dataframe thead th {\n",
              "        text-align: right;\n",
              "    }\n",
              "</style>\n",
              "<table border=\"1\" class=\"dataframe\">\n",
              "  <thead>\n",
              "    <tr style=\"text-align: right;\">\n",
              "      <th></th>\n",
              "      <th>Station Name</th>\n",
              "      <th>MAC Address</th>\n",
              "      <th>Start Date</th>\n",
              "      <th>End Date</th>\n",
              "      <th>Energy (kWh)</th>\n",
              "      <th>EVSE ID</th>\n",
              "      <th>Address 1</th>\n",
              "      <th>City</th>\n",
              "      <th>State/Province</th>\n",
              "      <th>Postal Code</th>\n",
              "      <th>...</th>\n",
              "      <th>Fee</th>\n",
              "      <th>Ended By</th>\n",
              "      <th>Plug In Event Id</th>\n",
              "      <th>Driver Postal Code</th>\n",
              "      <th>User ID</th>\n",
              "      <th>County</th>\n",
              "      <th>System S/N</th>\n",
              "      <th>Model Number</th>\n",
              "      <th>Total_time_hours</th>\n",
              "      <th>Charging_time_hours</th>\n",
              "    </tr>\n",
              "  </thead>\n",
              "  <tbody>\n",
              "    <tr>\n",
              "      <th>78948</th>\n",
              "      <td>PALO ALTO CA / CAMBRIDGE #1</td>\n",
              "      <td>0024:B100:0002:1329</td>\n",
              "      <td>1.470029e+09</td>\n",
              "      <td>1.470029e+09</td>\n",
              "      <td>4.464626</td>\n",
              "      <td>109701.0</td>\n",
              "      <td>400 Cambridge Ave</td>\n",
              "      <td>Palo Alto</td>\n",
              "      <td>California</td>\n",
              "      <td>94306</td>\n",
              "      <td>...</td>\n",
              "      <td>0.0</td>\n",
              "      <td>Plug Out at Vehicle</td>\n",
              "      <td>1665</td>\n",
              "      <td>94587.0</td>\n",
              "      <td>523487</td>\n",
              "      <td>Santa Clara County</td>\n",
              "      <td>1.427410e+11</td>\n",
              "      <td>CT4020-HD-GW</td>\n",
              "      <td>1.466111</td>\n",
              "      <td>1.423889</td>\n",
              "    </tr>\n",
              "    <tr>\n",
              "      <th>78949</th>\n",
              "      <td>PALO ALTO CA / CAMBRIDGE #2</td>\n",
              "      <td>0024:B100:0002:13B7</td>\n",
              "      <td>1.470031e+09</td>\n",
              "      <td>1.470031e+09</td>\n",
              "      <td>7.501231</td>\n",
              "      <td>107427.0</td>\n",
              "      <td>400 Cambridge Ave</td>\n",
              "      <td>Palo Alto</td>\n",
              "      <td>California</td>\n",
              "      <td>94306</td>\n",
              "      <td>...</td>\n",
              "      <td>0.0</td>\n",
              "      <td>Plug Out at Vehicle</td>\n",
              "      <td>1771</td>\n",
              "      <td>95030.0</td>\n",
              "      <td>141845</td>\n",
              "      <td>Santa Clara County</td>\n",
              "      <td>1.428410e+11</td>\n",
              "      <td>CT4020-HD-GW</td>\n",
              "      <td>4.940833</td>\n",
              "      <td>2.517778</td>\n",
              "    </tr>\n",
              "    <tr>\n",
              "      <th>78950</th>\n",
              "      <td>PALO ALTO CA / CAMBRIDGE #1</td>\n",
              "      <td>0024:B100:0002:1329</td>\n",
              "      <td>1.470031e+09</td>\n",
              "      <td>1.470031e+09</td>\n",
              "      <td>10.891753</td>\n",
              "      <td>109701.0</td>\n",
              "      <td>400 Cambridge Ave</td>\n",
              "      <td>Palo Alto</td>\n",
              "      <td>California</td>\n",
              "      <td>94306</td>\n",
              "      <td>...</td>\n",
              "      <td>0.0</td>\n",
              "      <td>Plug Out at Vehicle</td>\n",
              "      <td>1666</td>\n",
              "      <td>80525.0</td>\n",
              "      <td>203603</td>\n",
              "      <td>Santa Clara County</td>\n",
              "      <td>1.427410e+11</td>\n",
              "      <td>CT4020-HD-GW</td>\n",
              "      <td>3.204722</td>\n",
              "      <td>3.188333</td>\n",
              "    </tr>\n",
              "    <tr>\n",
              "      <th>78951</th>\n",
              "      <td>PALO ALTO CA / HAMILTON #2</td>\n",
              "      <td>0024:B100:0002:1331</td>\n",
              "      <td>1.470032e+09</td>\n",
              "      <td>1.470032e+09</td>\n",
              "      <td>6.968250</td>\n",
              "      <td>109785.0</td>\n",
              "      <td>250 Hamilton Ave</td>\n",
              "      <td>Palo Alto</td>\n",
              "      <td>California</td>\n",
              "      <td>94301</td>\n",
              "      <td>...</td>\n",
              "      <td>0.0</td>\n",
              "      <td>Plug Out at Vehicle</td>\n",
              "      <td>2093</td>\n",
              "      <td>94539.0</td>\n",
              "      <td>126575</td>\n",
              "      <td>Santa Clara County</td>\n",
              "      <td>1.427410e+11</td>\n",
              "      <td>CT4020-HD-GW</td>\n",
              "      <td>2.740278</td>\n",
              "      <td>2.430278</td>\n",
              "    </tr>\n",
              "    <tr>\n",
              "      <th>78952</th>\n",
              "      <td>PALO ALTO CA / HIGH #1</td>\n",
              "      <td>0024:B100:0002:10FE</td>\n",
              "      <td>1.470032e+09</td>\n",
              "      <td>1.470032e+09</td>\n",
              "      <td>17.938757</td>\n",
              "      <td>104339.0</td>\n",
              "      <td>528 High St</td>\n",
              "      <td>Palo Alto</td>\n",
              "      <td>California</td>\n",
              "      <td>94301</td>\n",
              "      <td>...</td>\n",
              "      <td>0.0</td>\n",
              "      <td>Plug Out at Vehicle</td>\n",
              "      <td>3112</td>\n",
              "      <td>94024.0</td>\n",
              "      <td>191743</td>\n",
              "      <td>Santa Clara County</td>\n",
              "      <td>1.422410e+11</td>\n",
              "      <td>CT4020-HD-GW</td>\n",
              "      <td>3.323333</td>\n",
              "      <td>3.320833</td>\n",
              "    </tr>\n",
              "  </tbody>\n",
              "</table>\n",
              "<p>5 rows × 22 columns</p>\n",
              "</div>\n",
              "    <div class=\"colab-df-buttons\">\n",
              "\n",
              "  <div class=\"colab-df-container\">\n",
              "    <button class=\"colab-df-convert\" onclick=\"convertToInteractive('df-b52d5a23-c4d2-4847-92e1-6634500ed21a')\"\n",
              "            title=\"Convert this dataframe to an interactive table.\"\n",
              "            style=\"display:none;\">\n",
              "\n",
              "  <svg xmlns=\"http://www.w3.org/2000/svg\" height=\"24px\" viewBox=\"0 -960 960 960\">\n",
              "    <path d=\"M120-120v-720h720v720H120Zm60-500h600v-160H180v160Zm220 220h160v-160H400v160Zm0 220h160v-160H400v160ZM180-400h160v-160H180v160Zm440 0h160v-160H620v160ZM180-180h160v-160H180v160Zm440 0h160v-160H620v160Z\"/>\n",
              "  </svg>\n",
              "    </button>\n",
              "\n",
              "  <style>\n",
              "    .colab-df-container {\n",
              "      display:flex;\n",
              "      gap: 12px;\n",
              "    }\n",
              "\n",
              "    .colab-df-convert {\n",
              "      background-color: #E8F0FE;\n",
              "      border: none;\n",
              "      border-radius: 50%;\n",
              "      cursor: pointer;\n",
              "      display: none;\n",
              "      fill: #1967D2;\n",
              "      height: 32px;\n",
              "      padding: 0 0 0 0;\n",
              "      width: 32px;\n",
              "    }\n",
              "\n",
              "    .colab-df-convert:hover {\n",
              "      background-color: #E2EBFA;\n",
              "      box-shadow: 0px 1px 2px rgba(60, 64, 67, 0.3), 0px 1px 3px 1px rgba(60, 64, 67, 0.15);\n",
              "      fill: #174EA6;\n",
              "    }\n",
              "\n",
              "    .colab-df-buttons div {\n",
              "      margin-bottom: 4px;\n",
              "    }\n",
              "\n",
              "    [theme=dark] .colab-df-convert {\n",
              "      background-color: #3B4455;\n",
              "      fill: #D2E3FC;\n",
              "    }\n",
              "\n",
              "    [theme=dark] .colab-df-convert:hover {\n",
              "      background-color: #434B5C;\n",
              "      box-shadow: 0px 1px 3px 1px rgba(0, 0, 0, 0.15);\n",
              "      filter: drop-shadow(0px 1px 2px rgba(0, 0, 0, 0.3));\n",
              "      fill: #FFFFFF;\n",
              "    }\n",
              "  </style>\n",
              "\n",
              "    <script>\n",
              "      const buttonEl =\n",
              "        document.querySelector('#df-b52d5a23-c4d2-4847-92e1-6634500ed21a button.colab-df-convert');\n",
              "      buttonEl.style.display =\n",
              "        google.colab.kernel.accessAllowed ? 'block' : 'none';\n",
              "\n",
              "      async function convertToInteractive(key) {\n",
              "        const element = document.querySelector('#df-b52d5a23-c4d2-4847-92e1-6634500ed21a');\n",
              "        const dataTable =\n",
              "          await google.colab.kernel.invokeFunction('convertToInteractive',\n",
              "                                                    [key], {});\n",
              "        if (!dataTable) return;\n",
              "\n",
              "        const docLinkHtml = 'Like what you see? Visit the ' +\n",
              "          '<a target=\"_blank\" href=https://colab.research.google.com/notebooks/data_table.ipynb>data table notebook</a>'\n",
              "          + ' to learn more about interactive tables.';\n",
              "        element.innerHTML = '';\n",
              "        dataTable['output_type'] = 'display_data';\n",
              "        await google.colab.output.renderOutput(dataTable, element);\n",
              "        const docLink = document.createElement('div');\n",
              "        docLink.innerHTML = docLinkHtml;\n",
              "        element.appendChild(docLink);\n",
              "      }\n",
              "    </script>\n",
              "  </div>\n",
              "\n",
              "\n",
              "<div id=\"df-e2c2b172-b546-409d-99f4-552073c7f036\">\n",
              "  <button class=\"colab-df-quickchart\" onclick=\"quickchart('df-e2c2b172-b546-409d-99f4-552073c7f036')\"\n",
              "            title=\"Suggest charts.\"\n",
              "            style=\"display:none;\">\n",
              "\n",
              "<svg xmlns=\"http://www.w3.org/2000/svg\" height=\"24px\"viewBox=\"0 0 24 24\"\n",
              "     width=\"24px\">\n",
              "    <g>\n",
              "        <path d=\"M19 3H5c-1.1 0-2 .9-2 2v14c0 1.1.9 2 2 2h14c1.1 0 2-.9 2-2V5c0-1.1-.9-2-2-2zM9 17H7v-7h2v7zm4 0h-2V7h2v10zm4 0h-2v-4h2v4z\"/>\n",
              "    </g>\n",
              "</svg>\n",
              "  </button>\n",
              "\n",
              "<style>\n",
              "  .colab-df-quickchart {\n",
              "      --bg-color: #E8F0FE;\n",
              "      --fill-color: #1967D2;\n",
              "      --hover-bg-color: #E2EBFA;\n",
              "      --hover-fill-color: #174EA6;\n",
              "      --disabled-fill-color: #AAA;\n",
              "      --disabled-bg-color: #DDD;\n",
              "  }\n",
              "\n",
              "  [theme=dark] .colab-df-quickchart {\n",
              "      --bg-color: #3B4455;\n",
              "      --fill-color: #D2E3FC;\n",
              "      --hover-bg-color: #434B5C;\n",
              "      --hover-fill-color: #FFFFFF;\n",
              "      --disabled-bg-color: #3B4455;\n",
              "      --disabled-fill-color: #666;\n",
              "  }\n",
              "\n",
              "  .colab-df-quickchart {\n",
              "    background-color: var(--bg-color);\n",
              "    border: none;\n",
              "    border-radius: 50%;\n",
              "    cursor: pointer;\n",
              "    display: none;\n",
              "    fill: var(--fill-color);\n",
              "    height: 32px;\n",
              "    padding: 0;\n",
              "    width: 32px;\n",
              "  }\n",
              "\n",
              "  .colab-df-quickchart:hover {\n",
              "    background-color: var(--hover-bg-color);\n",
              "    box-shadow: 0 1px 2px rgba(60, 64, 67, 0.3), 0 1px 3px 1px rgba(60, 64, 67, 0.15);\n",
              "    fill: var(--button-hover-fill-color);\n",
              "  }\n",
              "\n",
              "  .colab-df-quickchart-complete:disabled,\n",
              "  .colab-df-quickchart-complete:disabled:hover {\n",
              "    background-color: var(--disabled-bg-color);\n",
              "    fill: var(--disabled-fill-color);\n",
              "    box-shadow: none;\n",
              "  }\n",
              "\n",
              "  .colab-df-spinner {\n",
              "    border: 2px solid var(--fill-color);\n",
              "    border-color: transparent;\n",
              "    border-bottom-color: var(--fill-color);\n",
              "    animation:\n",
              "      spin 1s steps(1) infinite;\n",
              "  }\n",
              "\n",
              "  @keyframes spin {\n",
              "    0% {\n",
              "      border-color: transparent;\n",
              "      border-bottom-color: var(--fill-color);\n",
              "      border-left-color: var(--fill-color);\n",
              "    }\n",
              "    20% {\n",
              "      border-color: transparent;\n",
              "      border-left-color: var(--fill-color);\n",
              "      border-top-color: var(--fill-color);\n",
              "    }\n",
              "    30% {\n",
              "      border-color: transparent;\n",
              "      border-left-color: var(--fill-color);\n",
              "      border-top-color: var(--fill-color);\n",
              "      border-right-color: var(--fill-color);\n",
              "    }\n",
              "    40% {\n",
              "      border-color: transparent;\n",
              "      border-right-color: var(--fill-color);\n",
              "      border-top-color: var(--fill-color);\n",
              "    }\n",
              "    60% {\n",
              "      border-color: transparent;\n",
              "      border-right-color: var(--fill-color);\n",
              "    }\n",
              "    80% {\n",
              "      border-color: transparent;\n",
              "      border-right-color: var(--fill-color);\n",
              "      border-bottom-color: var(--fill-color);\n",
              "    }\n",
              "    90% {\n",
              "      border-color: transparent;\n",
              "      border-bottom-color: var(--fill-color);\n",
              "    }\n",
              "  }\n",
              "</style>\n",
              "\n",
              "  <script>\n",
              "    async function quickchart(key) {\n",
              "      const quickchartButtonEl =\n",
              "        document.querySelector('#' + key + ' button');\n",
              "      quickchartButtonEl.disabled = true;  // To prevent multiple clicks.\n",
              "      quickchartButtonEl.classList.add('colab-df-spinner');\n",
              "      try {\n",
              "        const charts = await google.colab.kernel.invokeFunction(\n",
              "            'suggestCharts', [key], {});\n",
              "      } catch (error) {\n",
              "        console.error('Error during call to suggestCharts:', error);\n",
              "      }\n",
              "      quickchartButtonEl.classList.remove('colab-df-spinner');\n",
              "      quickchartButtonEl.classList.add('colab-df-quickchart-complete');\n",
              "    }\n",
              "    (() => {\n",
              "      let quickchartButtonEl =\n",
              "        document.querySelector('#df-e2c2b172-b546-409d-99f4-552073c7f036 button');\n",
              "      quickchartButtonEl.style.display =\n",
              "        google.colab.kernel.accessAllowed ? 'block' : 'none';\n",
              "    })();\n",
              "  </script>\n",
              "</div>\n",
              "    </div>\n",
              "  </div>\n"
            ]
          },
          "metadata": {},
          "execution_count": 19
        }
      ]
    },
    {
      "cell_type": "markdown",
      "source": [
        "# **Label Encode categorical columns**"
      ],
      "metadata": {
        "id": "kstvF61tb3Z1"
      }
    },
    {
      "cell_type": "code",
      "source": [
        "categorical_columns = data_cleaned.select_dtypes(include=['object', 'category']).columns\n",
        "\n",
        "# Print the list of categorical columns\n",
        "print(\"Categorical columns:\", categorical_columns)"
      ],
      "metadata": {
        "colab": {
          "base_uri": "https://localhost:8080/"
        },
        "id": "M_91n3sjF1gb",
        "outputId": "4ce69b40-11af-4e4e-ea30-7978c1744671"
      },
      "execution_count": null,
      "outputs": [
        {
          "output_type": "stream",
          "name": "stdout",
          "text": [
            "Categorical columns: Index(['Station Name', 'MAC Address', 'Address 1', 'City', 'State/Province',\n",
            "       'Ended By', 'User ID', 'County', 'Model Number'],\n",
            "      dtype='object')\n"
          ]
        }
      ]
    },
    {
      "cell_type": "code",
      "source": [
        "categorical_columns = [col for col in categorical_columns if col != 'User ID']"
      ],
      "metadata": {
        "id": "ByNNcsESSVDk"
      },
      "execution_count": null,
      "outputs": []
    },
    {
      "cell_type": "code",
      "source": [
        "print(categorical_columns)"
      ],
      "metadata": {
        "colab": {
          "base_uri": "https://localhost:8080/"
        },
        "id": "ruVnLWmyS1T7",
        "outputId": "e5395ad1-e587-4e50-e628-90a2da5632e0"
      },
      "execution_count": null,
      "outputs": [
        {
          "output_type": "stream",
          "name": "stdout",
          "text": [
            "['Station Name', 'MAC Address', 'Address 1', 'City', 'State/Province', 'Ended By', 'County', 'Model Number']\n"
          ]
        }
      ]
    },
    {
      "cell_type": "code",
      "source": [
        "categorical_columns_1  = ['County', 'Model Number']"
      ],
      "metadata": {
        "id": "DGIh6PuSI0Qv"
      },
      "execution_count": null,
      "outputs": []
    },
    {
      "cell_type": "code",
      "source": [
        "from sklearn.preprocessing import LabelEncoder\n",
        "\n",
        "label_encoders = {}\n",
        "\n",
        "for column in categorical_columns:\n",
        "  le = LabelEncoder()\n",
        "  data_cleaned[column] = le.fit_transform(data_cleaned[column])\n",
        "  label_encoders[column] = le\n",
        "\n",
        "print(data_cleaned)"
      ],
      "metadata": {
        "colab": {
          "base_uri": "https://localhost:8080/"
        },
        "id": "xIhLJNVyGQug",
        "outputId": "b976482b-4da9-47f6-ecf4-d797b22509fc"
      },
      "execution_count": null,
      "outputs": [
        {
          "output_type": "stream",
          "name": "stdout",
          "text": [
            "        Station Name  MAC Address    Start Date      End Date  Energy (kWh)  \\\n",
            "78948              7           22  1.470029e+09  1.470029e+09      4.464626   \n",
            "78949              8           24  1.470031e+09  1.470031e+09      7.501231   \n",
            "78950              7           22  1.470031e+09  1.470031e+09     10.891753   \n",
            "78951             13           23  1.470032e+09  1.470032e+09      6.968250   \n",
            "78952             14           17  1.470032e+09  1.470032e+09     17.938757   \n",
            "...              ...          ...           ...           ...           ...   \n",
            "259409            11           36  1.609430e+09  1.609430e+09      2.535000   \n",
            "259411            42           27  1.609433e+09  1.609433e+09     12.744000   \n",
            "259412            21           57  1.609436e+09  1.609436e+09     29.665000   \n",
            "259413            42           27  1.609437e+09  1.609437e+09     11.976000   \n",
            "259414            10           40  1.609439e+09  1.609439e+09      1.571000   \n",
            "\n",
            "          EVSE ID  Address 1  City  State/Province  Postal Code  ...   Fee  \\\n",
            "78948    109701.0          6     0               0        94306  ...  0.00   \n",
            "78949    107427.0          6     0               0        94306  ...  0.00   \n",
            "78950    109701.0          6     0               0        94306  ...  0.00   \n",
            "78951    109785.0          1     0               0        94301  ...  0.00   \n",
            "78952    104339.0         11     0               0        94301  ...  0.00   \n",
            "...           ...        ...   ...             ...          ...  ...   ...   \n",
            "259409   318651.0          8     0               0        94306  ...  0.58   \n",
            "259411   104427.0         10     0               0        94301  ...  4.69   \n",
            "259412  2884001.0          5     0               0        94303  ...  6.82   \n",
            "259413   104427.0         10     0               0        94301  ...  2.75   \n",
            "259414   337571.0          8     0               0        94306  ...  0.36   \n",
            "\n",
            "        Ended By  Plug In Event Id  Driver Postal Code  User ID  County  \\\n",
            "78948          8              1665             94587.0   523487       1   \n",
            "78949          8              1771             95030.0   141845       1   \n",
            "78950          8              1666             80525.0   203603       1   \n",
            "78951          8              2093             94539.0   126575       1   \n",
            "78952          8              3112             94024.0   191743       1   \n",
            "...          ...               ...                 ...      ...     ...   \n",
            "259409         8              4672             94303.0  2652881       1   \n",
            "259411         8              7255             94541.0   242661       1   \n",
            "259412         8               455             94306.0   449995       1   \n",
            "259413         8              7256             94552.0   804075       1   \n",
            "259414         8              2302             94305.0  2022651       1   \n",
            "\n",
            "          System S/N  Model Number  Total_time_hours  Charging_time_hours  \n",
            "78948   1.427410e+11             6          1.466111             1.423889  \n",
            "78949   1.428410e+11             6          4.940833             2.517778  \n",
            "78950   1.427410e+11             6          3.204722             3.188333  \n",
            "78951   1.427410e+11             6          2.740278             2.430278  \n",
            "78952   1.422410e+11             6          3.323333             3.320833  \n",
            "...              ...           ...               ...                  ...  \n",
            "259409  1.742410e+11             5          1.640833             1.360000  \n",
            "259411  1.336410e+11             6          3.716944             2.234444  \n",
            "259412  2.002410e+11             4         17.470556             5.136667  \n",
            "259413  1.336410e+11             6          4.092778             3.895000  \n",
            "259414  1.852410e+11             6          0.701944             0.695556  \n",
            "\n",
            "[169408 rows x 22 columns]\n"
          ]
        }
      ]
    },
    {
      "cell_type": "code",
      "source": [
        "data_cleaned.drop(['City'],axis=1,inplace = True)\n",
        "data_cleaned.drop(['State/Province'],axis=1,inplace=True)"
      ],
      "metadata": {
        "id": "Ey791MXf3x1N"
      },
      "execution_count": null,
      "outputs": []
    },
    {
      "cell_type": "code",
      "source": [
        "data_cleaned.head()"
      ],
      "metadata": {
        "colab": {
          "base_uri": "https://localhost:8080/",
          "height": 278
        },
        "id": "D5KEJyhWJTwe",
        "outputId": "bdf076dd-47df-438f-ab36-33542f719db0"
      },
      "execution_count": null,
      "outputs": [
        {
          "output_type": "execute_result",
          "data": {
            "text/plain": [
              "       Station Name  MAC Address    Start Date      End Date  Energy (kWh)  \\\n",
              "78948             7           22  1.470029e+09  1.470029e+09      4.464626   \n",
              "78949             8           24  1.470031e+09  1.470031e+09      7.501231   \n",
              "78950             7           22  1.470031e+09  1.470031e+09     10.891753   \n",
              "78951            13           23  1.470032e+09  1.470032e+09      6.968250   \n",
              "78952            14           17  1.470032e+09  1.470032e+09     17.938757   \n",
              "\n",
              "        EVSE ID  Address 1  Postal Code   Latitude   Longitude  Fee  Ended By  \\\n",
              "78948  109701.0          6        94306  37.426155 -122.146065  0.0         8   \n",
              "78949  107427.0          6        94306  37.426182 -122.146065  0.0         8   \n",
              "78950  109701.0          6        94306  37.426155 -122.146065  0.0         8   \n",
              "78951  109785.0          1        94301  37.444359 -122.159904  0.0         8   \n",
              "78952  104339.0         11        94301  37.443558 -122.162849  0.0         8   \n",
              "\n",
              "       Plug In Event Id  Driver Postal Code User ID  County    System S/N  \\\n",
              "78948              1665             94587.0  523487       1  1.427410e+11   \n",
              "78949              1771             95030.0  141845       1  1.428410e+11   \n",
              "78950              1666             80525.0  203603       1  1.427410e+11   \n",
              "78951              2093             94539.0  126575       1  1.427410e+11   \n",
              "78952              3112             94024.0  191743       1  1.422410e+11   \n",
              "\n",
              "       Model Number  Total_time_hours  Charging_time_hours  \n",
              "78948             6          1.466111             1.423889  \n",
              "78949             6          4.940833             2.517778  \n",
              "78950             6          3.204722             3.188333  \n",
              "78951             6          2.740278             2.430278  \n",
              "78952             6          3.323333             3.320833  "
            ],
            "text/html": [
              "\n",
              "  <div id=\"df-4f34e1df-60d1-42c9-8aa6-14b713d17260\" class=\"colab-df-container\">\n",
              "    <div>\n",
              "<style scoped>\n",
              "    .dataframe tbody tr th:only-of-type {\n",
              "        vertical-align: middle;\n",
              "    }\n",
              "\n",
              "    .dataframe tbody tr th {\n",
              "        vertical-align: top;\n",
              "    }\n",
              "\n",
              "    .dataframe thead th {\n",
              "        text-align: right;\n",
              "    }\n",
              "</style>\n",
              "<table border=\"1\" class=\"dataframe\">\n",
              "  <thead>\n",
              "    <tr style=\"text-align: right;\">\n",
              "      <th></th>\n",
              "      <th>Station Name</th>\n",
              "      <th>MAC Address</th>\n",
              "      <th>Start Date</th>\n",
              "      <th>End Date</th>\n",
              "      <th>Energy (kWh)</th>\n",
              "      <th>EVSE ID</th>\n",
              "      <th>Address 1</th>\n",
              "      <th>Postal Code</th>\n",
              "      <th>Latitude</th>\n",
              "      <th>Longitude</th>\n",
              "      <th>Fee</th>\n",
              "      <th>Ended By</th>\n",
              "      <th>Plug In Event Id</th>\n",
              "      <th>Driver Postal Code</th>\n",
              "      <th>User ID</th>\n",
              "      <th>County</th>\n",
              "      <th>System S/N</th>\n",
              "      <th>Model Number</th>\n",
              "      <th>Total_time_hours</th>\n",
              "      <th>Charging_time_hours</th>\n",
              "    </tr>\n",
              "  </thead>\n",
              "  <tbody>\n",
              "    <tr>\n",
              "      <th>78948</th>\n",
              "      <td>7</td>\n",
              "      <td>22</td>\n",
              "      <td>1.470029e+09</td>\n",
              "      <td>1.470029e+09</td>\n",
              "      <td>4.464626</td>\n",
              "      <td>109701.0</td>\n",
              "      <td>6</td>\n",
              "      <td>94306</td>\n",
              "      <td>37.426155</td>\n",
              "      <td>-122.146065</td>\n",
              "      <td>0.0</td>\n",
              "      <td>8</td>\n",
              "      <td>1665</td>\n",
              "      <td>94587.0</td>\n",
              "      <td>523487</td>\n",
              "      <td>1</td>\n",
              "      <td>1.427410e+11</td>\n",
              "      <td>6</td>\n",
              "      <td>1.466111</td>\n",
              "      <td>1.423889</td>\n",
              "    </tr>\n",
              "    <tr>\n",
              "      <th>78949</th>\n",
              "      <td>8</td>\n",
              "      <td>24</td>\n",
              "      <td>1.470031e+09</td>\n",
              "      <td>1.470031e+09</td>\n",
              "      <td>7.501231</td>\n",
              "      <td>107427.0</td>\n",
              "      <td>6</td>\n",
              "      <td>94306</td>\n",
              "      <td>37.426182</td>\n",
              "      <td>-122.146065</td>\n",
              "      <td>0.0</td>\n",
              "      <td>8</td>\n",
              "      <td>1771</td>\n",
              "      <td>95030.0</td>\n",
              "      <td>141845</td>\n",
              "      <td>1</td>\n",
              "      <td>1.428410e+11</td>\n",
              "      <td>6</td>\n",
              "      <td>4.940833</td>\n",
              "      <td>2.517778</td>\n",
              "    </tr>\n",
              "    <tr>\n",
              "      <th>78950</th>\n",
              "      <td>7</td>\n",
              "      <td>22</td>\n",
              "      <td>1.470031e+09</td>\n",
              "      <td>1.470031e+09</td>\n",
              "      <td>10.891753</td>\n",
              "      <td>109701.0</td>\n",
              "      <td>6</td>\n",
              "      <td>94306</td>\n",
              "      <td>37.426155</td>\n",
              "      <td>-122.146065</td>\n",
              "      <td>0.0</td>\n",
              "      <td>8</td>\n",
              "      <td>1666</td>\n",
              "      <td>80525.0</td>\n",
              "      <td>203603</td>\n",
              "      <td>1</td>\n",
              "      <td>1.427410e+11</td>\n",
              "      <td>6</td>\n",
              "      <td>3.204722</td>\n",
              "      <td>3.188333</td>\n",
              "    </tr>\n",
              "    <tr>\n",
              "      <th>78951</th>\n",
              "      <td>13</td>\n",
              "      <td>23</td>\n",
              "      <td>1.470032e+09</td>\n",
              "      <td>1.470032e+09</td>\n",
              "      <td>6.968250</td>\n",
              "      <td>109785.0</td>\n",
              "      <td>1</td>\n",
              "      <td>94301</td>\n",
              "      <td>37.444359</td>\n",
              "      <td>-122.159904</td>\n",
              "      <td>0.0</td>\n",
              "      <td>8</td>\n",
              "      <td>2093</td>\n",
              "      <td>94539.0</td>\n",
              "      <td>126575</td>\n",
              "      <td>1</td>\n",
              "      <td>1.427410e+11</td>\n",
              "      <td>6</td>\n",
              "      <td>2.740278</td>\n",
              "      <td>2.430278</td>\n",
              "    </tr>\n",
              "    <tr>\n",
              "      <th>78952</th>\n",
              "      <td>14</td>\n",
              "      <td>17</td>\n",
              "      <td>1.470032e+09</td>\n",
              "      <td>1.470032e+09</td>\n",
              "      <td>17.938757</td>\n",
              "      <td>104339.0</td>\n",
              "      <td>11</td>\n",
              "      <td>94301</td>\n",
              "      <td>37.443558</td>\n",
              "      <td>-122.162849</td>\n",
              "      <td>0.0</td>\n",
              "      <td>8</td>\n",
              "      <td>3112</td>\n",
              "      <td>94024.0</td>\n",
              "      <td>191743</td>\n",
              "      <td>1</td>\n",
              "      <td>1.422410e+11</td>\n",
              "      <td>6</td>\n",
              "      <td>3.323333</td>\n",
              "      <td>3.320833</td>\n",
              "    </tr>\n",
              "  </tbody>\n",
              "</table>\n",
              "</div>\n",
              "    <div class=\"colab-df-buttons\">\n",
              "\n",
              "  <div class=\"colab-df-container\">\n",
              "    <button class=\"colab-df-convert\" onclick=\"convertToInteractive('df-4f34e1df-60d1-42c9-8aa6-14b713d17260')\"\n",
              "            title=\"Convert this dataframe to an interactive table.\"\n",
              "            style=\"display:none;\">\n",
              "\n",
              "  <svg xmlns=\"http://www.w3.org/2000/svg\" height=\"24px\" viewBox=\"0 -960 960 960\">\n",
              "    <path d=\"M120-120v-720h720v720H120Zm60-500h600v-160H180v160Zm220 220h160v-160H400v160Zm0 220h160v-160H400v160ZM180-400h160v-160H180v160Zm440 0h160v-160H620v160ZM180-180h160v-160H180v160Zm440 0h160v-160H620v160Z\"/>\n",
              "  </svg>\n",
              "    </button>\n",
              "\n",
              "  <style>\n",
              "    .colab-df-container {\n",
              "      display:flex;\n",
              "      gap: 12px;\n",
              "    }\n",
              "\n",
              "    .colab-df-convert {\n",
              "      background-color: #E8F0FE;\n",
              "      border: none;\n",
              "      border-radius: 50%;\n",
              "      cursor: pointer;\n",
              "      display: none;\n",
              "      fill: #1967D2;\n",
              "      height: 32px;\n",
              "      padding: 0 0 0 0;\n",
              "      width: 32px;\n",
              "    }\n",
              "\n",
              "    .colab-df-convert:hover {\n",
              "      background-color: #E2EBFA;\n",
              "      box-shadow: 0px 1px 2px rgba(60, 64, 67, 0.3), 0px 1px 3px 1px rgba(60, 64, 67, 0.15);\n",
              "      fill: #174EA6;\n",
              "    }\n",
              "\n",
              "    .colab-df-buttons div {\n",
              "      margin-bottom: 4px;\n",
              "    }\n",
              "\n",
              "    [theme=dark] .colab-df-convert {\n",
              "      background-color: #3B4455;\n",
              "      fill: #D2E3FC;\n",
              "    }\n",
              "\n",
              "    [theme=dark] .colab-df-convert:hover {\n",
              "      background-color: #434B5C;\n",
              "      box-shadow: 0px 1px 3px 1px rgba(0, 0, 0, 0.15);\n",
              "      filter: drop-shadow(0px 1px 2px rgba(0, 0, 0, 0.3));\n",
              "      fill: #FFFFFF;\n",
              "    }\n",
              "  </style>\n",
              "\n",
              "    <script>\n",
              "      const buttonEl =\n",
              "        document.querySelector('#df-4f34e1df-60d1-42c9-8aa6-14b713d17260 button.colab-df-convert');\n",
              "      buttonEl.style.display =\n",
              "        google.colab.kernel.accessAllowed ? 'block' : 'none';\n",
              "\n",
              "      async function convertToInteractive(key) {\n",
              "        const element = document.querySelector('#df-4f34e1df-60d1-42c9-8aa6-14b713d17260');\n",
              "        const dataTable =\n",
              "          await google.colab.kernel.invokeFunction('convertToInteractive',\n",
              "                                                    [key], {});\n",
              "        if (!dataTable) return;\n",
              "\n",
              "        const docLinkHtml = 'Like what you see? Visit the ' +\n",
              "          '<a target=\"_blank\" href=https://colab.research.google.com/notebooks/data_table.ipynb>data table notebook</a>'\n",
              "          + ' to learn more about interactive tables.';\n",
              "        element.innerHTML = '';\n",
              "        dataTable['output_type'] = 'display_data';\n",
              "        await google.colab.output.renderOutput(dataTable, element);\n",
              "        const docLink = document.createElement('div');\n",
              "        docLink.innerHTML = docLinkHtml;\n",
              "        element.appendChild(docLink);\n",
              "      }\n",
              "    </script>\n",
              "  </div>\n",
              "\n",
              "\n",
              "<div id=\"df-c6ba4813-c51b-47b8-9f6c-7007480a332c\">\n",
              "  <button class=\"colab-df-quickchart\" onclick=\"quickchart('df-c6ba4813-c51b-47b8-9f6c-7007480a332c')\"\n",
              "            title=\"Suggest charts.\"\n",
              "            style=\"display:none;\">\n",
              "\n",
              "<svg xmlns=\"http://www.w3.org/2000/svg\" height=\"24px\"viewBox=\"0 0 24 24\"\n",
              "     width=\"24px\">\n",
              "    <g>\n",
              "        <path d=\"M19 3H5c-1.1 0-2 .9-2 2v14c0 1.1.9 2 2 2h14c1.1 0 2-.9 2-2V5c0-1.1-.9-2-2-2zM9 17H7v-7h2v7zm4 0h-2V7h2v10zm4 0h-2v-4h2v4z\"/>\n",
              "    </g>\n",
              "</svg>\n",
              "  </button>\n",
              "\n",
              "<style>\n",
              "  .colab-df-quickchart {\n",
              "      --bg-color: #E8F0FE;\n",
              "      --fill-color: #1967D2;\n",
              "      --hover-bg-color: #E2EBFA;\n",
              "      --hover-fill-color: #174EA6;\n",
              "      --disabled-fill-color: #AAA;\n",
              "      --disabled-bg-color: #DDD;\n",
              "  }\n",
              "\n",
              "  [theme=dark] .colab-df-quickchart {\n",
              "      --bg-color: #3B4455;\n",
              "      --fill-color: #D2E3FC;\n",
              "      --hover-bg-color: #434B5C;\n",
              "      --hover-fill-color: #FFFFFF;\n",
              "      --disabled-bg-color: #3B4455;\n",
              "      --disabled-fill-color: #666;\n",
              "  }\n",
              "\n",
              "  .colab-df-quickchart {\n",
              "    background-color: var(--bg-color);\n",
              "    border: none;\n",
              "    border-radius: 50%;\n",
              "    cursor: pointer;\n",
              "    display: none;\n",
              "    fill: var(--fill-color);\n",
              "    height: 32px;\n",
              "    padding: 0;\n",
              "    width: 32px;\n",
              "  }\n",
              "\n",
              "  .colab-df-quickchart:hover {\n",
              "    background-color: var(--hover-bg-color);\n",
              "    box-shadow: 0 1px 2px rgba(60, 64, 67, 0.3), 0 1px 3px 1px rgba(60, 64, 67, 0.15);\n",
              "    fill: var(--button-hover-fill-color);\n",
              "  }\n",
              "\n",
              "  .colab-df-quickchart-complete:disabled,\n",
              "  .colab-df-quickchart-complete:disabled:hover {\n",
              "    background-color: var(--disabled-bg-color);\n",
              "    fill: var(--disabled-fill-color);\n",
              "    box-shadow: none;\n",
              "  }\n",
              "\n",
              "  .colab-df-spinner {\n",
              "    border: 2px solid var(--fill-color);\n",
              "    border-color: transparent;\n",
              "    border-bottom-color: var(--fill-color);\n",
              "    animation:\n",
              "      spin 1s steps(1) infinite;\n",
              "  }\n",
              "\n",
              "  @keyframes spin {\n",
              "    0% {\n",
              "      border-color: transparent;\n",
              "      border-bottom-color: var(--fill-color);\n",
              "      border-left-color: var(--fill-color);\n",
              "    }\n",
              "    20% {\n",
              "      border-color: transparent;\n",
              "      border-left-color: var(--fill-color);\n",
              "      border-top-color: var(--fill-color);\n",
              "    }\n",
              "    30% {\n",
              "      border-color: transparent;\n",
              "      border-left-color: var(--fill-color);\n",
              "      border-top-color: var(--fill-color);\n",
              "      border-right-color: var(--fill-color);\n",
              "    }\n",
              "    40% {\n",
              "      border-color: transparent;\n",
              "      border-right-color: var(--fill-color);\n",
              "      border-top-color: var(--fill-color);\n",
              "    }\n",
              "    60% {\n",
              "      border-color: transparent;\n",
              "      border-right-color: var(--fill-color);\n",
              "    }\n",
              "    80% {\n",
              "      border-color: transparent;\n",
              "      border-right-color: var(--fill-color);\n",
              "      border-bottom-color: var(--fill-color);\n",
              "    }\n",
              "    90% {\n",
              "      border-color: transparent;\n",
              "      border-bottom-color: var(--fill-color);\n",
              "    }\n",
              "  }\n",
              "</style>\n",
              "\n",
              "  <script>\n",
              "    async function quickchart(key) {\n",
              "      const quickchartButtonEl =\n",
              "        document.querySelector('#' + key + ' button');\n",
              "      quickchartButtonEl.disabled = true;  // To prevent multiple clicks.\n",
              "      quickchartButtonEl.classList.add('colab-df-spinner');\n",
              "      try {\n",
              "        const charts = await google.colab.kernel.invokeFunction(\n",
              "            'suggestCharts', [key], {});\n",
              "      } catch (error) {\n",
              "        console.error('Error during call to suggestCharts:', error);\n",
              "      }\n",
              "      quickchartButtonEl.classList.remove('colab-df-spinner');\n",
              "      quickchartButtonEl.classList.add('colab-df-quickchart-complete');\n",
              "    }\n",
              "    (() => {\n",
              "      let quickchartButtonEl =\n",
              "        document.querySelector('#df-c6ba4813-c51b-47b8-9f6c-7007480a332c button');\n",
              "      quickchartButtonEl.style.display =\n",
              "        google.colab.kernel.accessAllowed ? 'block' : 'none';\n",
              "    })();\n",
              "  </script>\n",
              "</div>\n",
              "    </div>\n",
              "  </div>\n"
            ]
          },
          "metadata": {},
          "execution_count": 26
        }
      ]
    },
    {
      "cell_type": "markdown",
      "source": [
        "# **Save CSV to google drive**"
      ],
      "metadata": {
        "id": "H_0CvvnacDyC"
      }
    },
    {
      "cell_type": "code",
      "source": [
        "path = '/content/drive/MyDrive/Data_Mining/data_cleaned.csv'\n",
        "\n",
        "data_cleaned.to_csv(path,index=False)"
      ],
      "metadata": {
        "id": "yBRk8fK5TCPv"
      },
      "execution_count": null,
      "outputs": []
    },
    {
      "cell_type": "code",
      "source": [
        "path = '/content/drive/MyDrive/Data_Mining/data_cleaned_energy_included.csv'\n",
        "\n",
        "data_cleaned.to_csv(path,index=False)"
      ],
      "metadata": {
        "id": "LcIoHrV7sEdX"
      },
      "execution_count": null,
      "outputs": []
    },
    {
      "cell_type": "code",
      "source": [
        "data_cleaned = pd.read_csv('/content/drive/MyDrive/Data_Mining/data_cleaned.csv')"
      ],
      "metadata": {
        "id": "IaqIk6bKUPTj"
      },
      "execution_count": null,
      "outputs": []
    },
    {
      "cell_type": "markdown",
      "source": [
        "# **Regression**"
      ],
      "metadata": {
        "id": "j4_L2ynCxrvG"
      }
    },
    {
      "cell_type": "code",
      "source": [
        "data_df = data_cleaned.drop(['Charging_time_hours'],axis=1)"
      ],
      "metadata": {
        "id": "j9Xr7tERJzfZ"
      },
      "execution_count": null,
      "outputs": []
    },
    {
      "cell_type": "code",
      "execution_count": null,
      "metadata": {
        "id": "1QWRLhnw1ZlY"
      },
      "outputs": [],
      "source": [
        "from sklearn.model_selection import train_test_split, cross_validate, cross_val_score, GridSearchCV\n",
        "from sklearn import preprocessing"
      ]
    },
    {
      "cell_type": "code",
      "execution_count": null,
      "metadata": {
        "id": "p3wlZypUzHIj"
      },
      "outputs": [],
      "source": [
        "X_train, X_test, y_train, y_test = train_test_split(data_df, data_cleaned['Charging_time_hours'], random_state=42, test_size=0.20)"
      ]
    },
    {
      "cell_type": "code",
      "execution_count": null,
      "metadata": {
        "colab": {
          "base_uri": "https://localhost:8080/"
        },
        "id": "1cuT_F7Ny-aB",
        "outputId": "c9ede84b-5a7a-4c48-847f-c2d667489e8c"
      },
      "outputs": [
        {
          "output_type": "execute_result",
          "data": {
            "text/plain": [
              "((135526, 19), (33882, 19))"
            ]
          },
          "metadata": {},
          "execution_count": 31
        }
      ],
      "source": [
        "size_scaler = preprocessing.StandardScaler().fit(X_train)\n",
        "X_train_scaled = size_scaler.transform(X_train)\n",
        "X_test_scaled = size_scaler.transform(X_test)\n",
        "X_train_scaled.shape, X_test_scaled.shape"
      ]
    },
    {
      "cell_type": "code",
      "execution_count": null,
      "metadata": {
        "id": "ZONdMxAcJTsS"
      },
      "outputs": [],
      "source": [
        "from sklearn.metrics import mean_squared_error, mean_absolute_error, r2_score\n",
        "from sklearn.model_selection import cross_val_score\n",
        "\n",
        "from sklearn.linear_model import LinearRegression\n",
        "from sklearn.preprocessing import PolynomialFeatures\n",
        "from sklearn.linear_model import SGDRegressor\n",
        "from sklearn.ensemble import RandomForestRegressor\n",
        "\n",
        "# from sklearn.ensemble import RandomForestRegressor\n",
        "# from sklearn.ensemble import GradientBoostingRegressor\n",
        "# from xgboost import XGBRegressor"
      ]
    },
    {
      "cell_type": "markdown",
      "source": [
        "# **Linear Regression**"
      ],
      "metadata": {
        "id": "lO3lbyL3MWsC"
      }
    },
    {
      "cell_type": "code",
      "source": [
        "model_linear_regression = LinearRegression()\n",
        "\n",
        "model_linear_regression.fit(X_train_scaled, y_train)\n",
        "\n",
        "predicted_values_linear_reg = model_linear_regression.predict(X_test_scaled)\n",
        "\n",
        "print(\"Coefficients of liner regression:\", model_linear_regression.coef_)\n",
        "print(\"Intercept of liner regression:\", model_linear_regression.intercept_)\n",
        "\n",
        "linear_mse = mean_squared_error(y_test, predicted_values_linear_reg)\n",
        "linear_mae = mean_absolute_error(y_test, predicted_values_linear_reg)\n",
        "linear_r2 = r2_score(y_test, predicted_values_linear_reg)\n",
        "\n",
        "print(\"Linear Regression MSE:\", linear_mse)\n",
        "print(\"Linear Regression MAE:\", linear_mae)\n",
        "print(\"Linear Regression R-squared:\", linear_r2)"
      ],
      "metadata": {
        "colab": {
          "base_uri": "https://localhost:8080/"
        },
        "id": "DhVw1QjpLSN3",
        "outputId": "fb7db0e9-147a-4dbe-a18a-a87333183d42"
      },
      "execution_count": null,
      "outputs": [
        {
          "output_type": "stream",
          "name": "stdout",
          "text": [
            "Coefficients of liner regression: [-0.01125326  0.09586783 -0.01049904 -0.01049904  1.00058334 -0.0245372\n",
            " -0.04252808  0.03055208  0.01257465  0.01167461 -0.07173291 -0.00714017\n",
            "  0.00298375  0.01552216 -0.01108705  0.07561871 -0.09337022 -0.00953799\n",
            "  0.39572436]\n",
            "Intercept of liner regression: 1.96468608729439\n",
            "Linear Regression MSE: 0.2500244027715469\n",
            "Linear Regression MAE: 0.37457871015782024\n",
            "Linear Regression R-squared: 0.8655376625160813\n"
          ]
        }
      ]
    },
    {
      "cell_type": "markdown",
      "source": [
        "## **Cross Fold Validation**"
      ],
      "metadata": {
        "id": "6RDZJekVYeMg"
      }
    },
    {
      "cell_type": "code",
      "source": [
        "X = data_df\n",
        "y = data_cleaned['Charging_time_hours']\n",
        "\n",
        "size_scaler = preprocessing.StandardScaler().fit(X)\n",
        "X_train_scaled_cross = size_scaler.transform(X)"
      ],
      "metadata": {
        "id": "xNXeEf5NYyhk"
      },
      "execution_count": null,
      "outputs": []
    },
    {
      "cell_type": "code",
      "source": [
        "model = LinearRegression()\n",
        "\n",
        "# Perform cross-validation (e.g., 5-fold cross-validation)\n",
        "scores = cross_val_score(model, X_train_scaled_cross, y, cv=10, scoring='neg_mean_squared_error')\n",
        "\n",
        "# Convert the scores to positive values (MSE is negative by default)\n",
        "mse_scores = -scores\n",
        "\n",
        "# Calculate the mean and standard deviation of the MSE scores\n",
        "mean_mse = np.mean(mse_scores)\n",
        "std_mse = np.std(mse_scores)\n",
        "\n",
        "print(f'mean_mse : {mean_mse}')\n",
        "print(f'std_mse : {std_mse}')"
      ],
      "metadata": {
        "colab": {
          "base_uri": "https://localhost:8080/"
        },
        "id": "kWCiLOrxYdoz",
        "outputId": "a8f2dd07-ea6e-4e3e-88e2-94b8a27a727c"
      },
      "execution_count": null,
      "outputs": [
        {
          "output_type": "stream",
          "name": "stdout",
          "text": [
            "mean_mse : 0.2671929179323744\n",
            "std_mse : 0.05295095767318773\n"
          ]
        }
      ]
    },
    {
      "cell_type": "markdown",
      "source": [
        "# **SGDRegression**"
      ],
      "metadata": {
        "id": "PMLA4lRzOESM"
      }
    },
    {
      "cell_type": "code",
      "source": [
        "model_sgdregression = SGDRegressor(max_iter=100000, learning_rate='constant', eta0=0.0001, random_state=42)\n",
        "\n",
        "model_sgdregression.fit(X_train_scaled, y_train)\n",
        "\n",
        "predicted_values_sgd_regression = model_sgdregression.predict(X_test_scaled)\n",
        "\n",
        "print(\"Coefficients of sdg regression:\", model_sgdregression.coef_)\n",
        "print(\"Intercept of sdg regression:\", model_sgdregression.intercept_)\n",
        "\n",
        "sgd_mse = mean_squared_error(y_test, predicted_values_sgd_regression)\n",
        "sgd_mae = mean_absolute_error(y_test, predicted_values_sgd_regression)\n",
        "sgd_r2 = r2_score(y_test, predicted_values_sgd_regression)\n",
        "\n",
        "print(\"SGD Regression MSE:\", sgd_mse)\n",
        "print(\"SGD Regression MAE:\", sgd_mae)\n",
        "print(\"SGD Regression R-squared:\", sgd_r2)"
      ],
      "metadata": {
        "colab": {
          "base_uri": "https://localhost:8080/"
        },
        "id": "wZIWc7AHLpmK",
        "outputId": "ebdaad13-769f-460d-b0d3-73f545dd407b"
      },
      "execution_count": null,
      "outputs": [
        {
          "output_type": "stream",
          "name": "stdout",
          "text": [
            "Coefficients of sdg regression: [-0.00949933  0.09055095 -0.0131234  -0.0131234   1.00999657 -0.02114983\n",
            " -0.04669521  0.02982999  0.01025199  0.00519987 -0.07485407 -0.0074524\n",
            "  0.00237312  0.0143155  -0.01352669  0.07659481 -0.09090635 -0.0057149\n",
            "  0.39098086]\n",
            "Intercept of sdg regression: [1.96337166]\n",
            "SGD Regression MSE: 0.25055285639463104\n",
            "SGD Regression MAE: 0.3748570130196398\n",
            "SGD Regression R-squared: 0.8652534618195731\n"
          ]
        }
      ]
    },
    {
      "cell_type": "markdown",
      "source": [
        "## **Cross fold validation**"
      ],
      "metadata": {
        "id": "JcJYPtdaaD-i"
      }
    },
    {
      "cell_type": "code",
      "source": [
        "model_sgdregression = SGDRegressor(max_iter=100000, learning_rate='constant', eta0=0.0001, random_state=42)\n",
        "\n",
        "# Perform cross-validation (e.g., 5-fold cross-validation)\n",
        "scores = cross_val_score(model_sgdregression, X_train_scaled_cross, y, cv=20, scoring='neg_mean_squared_error')\n",
        "\n",
        "# Convert the scores to positive values (MSE is negative by default)\n",
        "mse_scores = -scores\n",
        "\n",
        "# Calculate the mean and standard deviation of the MSE scores\n",
        "mean_mse = np.mean(mse_scores)\n",
        "std_mse = np.std(mse_scores)\n",
        "\n",
        "print(f'mean_mse : {mean_mse}')\n",
        "print(f'std_mse : {std_mse}')"
      ],
      "metadata": {
        "colab": {
          "base_uri": "https://localhost:8080/"
        },
        "id": "InC89VYkZuvG",
        "outputId": "be238c1b-7d6b-4845-d81c-f08ad41d3dc0"
      },
      "execution_count": null,
      "outputs": [
        {
          "output_type": "stream",
          "name": "stdout",
          "text": [
            "mean_mse : 0.2635245064084825\n",
            "std_mse : 0.07482219283737619\n"
          ]
        }
      ]
    },
    {
      "cell_type": "markdown",
      "source": [
        "# **Polynomial Regression**"
      ],
      "metadata": {
        "id": "oKRii0sYPKR6"
      }
    },
    {
      "cell_type": "code",
      "source": [
        "poly = PolynomialFeatures(degree=2)\n",
        "X_poly = poly.fit_transform(X_train_scaled)\n",
        "X_test_poly = poly.fit_transform(X_test_scaled)\n",
        "\n",
        "# Create a Linear Regression model\n",
        "model = LinearRegression()\n",
        "\n",
        "# Fit the model to the polynomial features\n",
        "model.fit(X_poly, y_train)\n",
        "\n",
        "# Predict using the trained model\n",
        "predicted_values_poly = model.predict(X_test_poly)\n",
        "\n",
        "poly_mse = mean_squared_error(y_test, predicted_values_poly)\n",
        "poly_mae = mean_absolute_error(y_test, predicted_values_poly)\n",
        "poly_r2 = r2_score(y_test, predicted_values_poly)\n",
        "\n",
        "print(\"SGD Regression MSE:\", poly_mse)\n",
        "print(\"SGD Regression MAE:\", poly_mae)\n",
        "print(\"SGD Regression R-squared:\", poly_r2)"
      ],
      "metadata": {
        "colab": {
          "base_uri": "https://localhost:8080/"
        },
        "id": "FNttUOvJPIgm",
        "outputId": "650415d2-2e0b-4c3b-c676-86190f0d7a7b"
      },
      "execution_count": null,
      "outputs": [
        {
          "output_type": "stream",
          "name": "stdout",
          "text": [
            "SGD Regression MSE: 0.17080498089039448\n",
            "SGD Regression MAE: 0.2704693797078527\n",
            "SGD Regression R-squared: 0.9081416184587238\n"
          ]
        }
      ]
    },
    {
      "cell_type": "markdown",
      "source": [
        "# **Random Forest Regression**"
      ],
      "metadata": {
        "id": "7nnVp7BgU8DW"
      }
    },
    {
      "cell_type": "code",
      "source": [
        "rf_regressor = RandomForestRegressor(n_estimators=100, random_state=42)\n",
        "\n",
        "# Fit the model to the training data\n",
        "rf_regressor.fit(X_train_scaled, y_train)\n",
        "\n",
        "# Make predictions on the test data\n",
        "y_pred_rf = rf_regressor.predict(X_test_scaled)\n",
        "\n",
        "rf_mse = mean_squared_error(y_test, y_pred_rf)\n",
        "rf_mae = mean_absolute_error(y_test, y_pred_rf)\n",
        "rf_r2 = r2_score(y_test, y_pred_rf)"
      ],
      "metadata": {
        "id": "P_CsgsBBUfV9"
      },
      "execution_count": null,
      "outputs": []
    },
    {
      "cell_type": "markdown",
      "source": [
        "# **n_estimators = 100**"
      ],
      "metadata": {
        "id": "Ep6Mp4IJWdp-"
      }
    },
    {
      "cell_type": "code",
      "source": [
        "print(\"RF Regression MSE:\", rf_mse)\n",
        "print(\"RF Regression MAE:\", rf_mae)\n",
        "print(\"RF Regression R-squared:\", rf_r2)"
      ],
      "metadata": {
        "colab": {
          "base_uri": "https://localhost:8080/"
        },
        "id": "jcxsXpxiWVba",
        "outputId": "5ef544e2-08a7-40fd-b6f7-61975290d9fb"
      },
      "execution_count": null,
      "outputs": [
        {
          "output_type": "stream",
          "name": "stdout",
          "text": [
            "RF Regression MSE: 0.05925196098898543\n",
            "RF Regression MAE: 0.0936961212607153\n",
            "RF Regression R-squared: 0.9681344817275107\n"
          ]
        }
      ]
    },
    {
      "cell_type": "code",
      "source": [
        "rf_regressor = RandomForestRegressor(n_estimators=100, random_state=42)\n",
        "\n",
        "# Perform cross-validation (e.g., 5-fold cross-validation)\n",
        "scores = cross_val_score(rf_regressor, X_train_scaled_cross, y, cv=5, scoring='neg_mean_squared_error')\n",
        "\n",
        "# Convert the scores to positive values (MSE is negative by default)\n",
        "mse_scores = -scores\n",
        "\n",
        "# Calculate the mean and standard deviation of the MSE scores\n",
        "mean_mse_rf = np.mean(mse_scores)\n",
        "std_mse_rf = np.std(mse_scores)\n",
        "\n",
        "print(f'mean_mse : {mean_mse_rf}')\n",
        "print(f'std_mse : {std_mse_rf}')"
      ],
      "metadata": {
        "colab": {
          "base_uri": "https://localhost:8080/"
        },
        "id": "K58PKv0qaeB_",
        "outputId": "dcbfbb91-2bc8-480f-b11a-adad5797037e"
      },
      "execution_count": null,
      "outputs": [
        {
          "output_type": "stream",
          "name": "stdout",
          "text": [
            "mean_mse : 0.2836670997857023\n",
            "std_mse : 0.1426071629791682\n"
          ]
        }
      ]
    }
  ]
}