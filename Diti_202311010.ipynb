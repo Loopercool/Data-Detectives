{
  "nbformat": 4,
  "nbformat_minor": 0,
  "metadata": {
    "colab": {
      "provenance": [],
      "include_colab_link": true
    },
    "kernelspec": {
      "name": "python3",
      "display_name": "Python 3"
    },
    "language_info": {
      "name": "python"
    }
  },
  "cells": [
    {
      "cell_type": "markdown",
      "metadata": {
        "id": "view-in-github",
        "colab_type": "text"
      },
      "source": [
        "<a href=\"https://colab.research.google.com/github/Loopercool/Data-Detectives/blob/main/Diti_202311010.ipynb\" target=\"_parent\"><img src=\"https://colab.research.google.com/assets/colab-badge.svg\" alt=\"Open In Colab\"/></a>"
      ]
    },
    {
      "cell_type": "code",
      "source": [
        "#In this file I(Diti Soni) worked on dataset in which i replaced null values with Mode of thier resp column\n",
        "#Firstly I droped columns according to my domain knowledge and some by experimenting\n",
        "#Then resplayed some data visualizations\n",
        "#For preprocessing Firstly I convert START and END time to numeric value according to thier time zone given\n",
        "#Outlier were removed\n",
        "#Then label encoding was done to convert categorical values to numeric\n",
        "#Then regression was applied and result is as follow:\n",
        "from IPython.display import Image\n",
        "image_path = '/content/drive/MyDrive/EvCharge/Screenshot 2023-09-17 221753.png'\n",
        "Image(filename=image_path)"
      ],
      "metadata": {
        "colab": {
          "base_uri": "https://localhost:8080/",
          "height": 213
        },
        "id": "FpIgdkZg_SuM",
        "outputId": "f60a3df5-f9db-4484-cd6b-b6b6b7856767"
      },
      "execution_count": null,
      "outputs": [
        {
          "output_type": "execute_result",
          "data": {
            "image/png": "[encoded data removed]",
            "text/plain": [
              "<IPython.core.display.Image object>"
            ]
          },
          "metadata": {},
          "execution_count": 14
        }
      ]
    },
    {
      "cell_type": "markdown",
      "source": [
        "# **Import**"
      ],
      "metadata": {
        "id": "34eiRuYybj8f"
      }
    },
    {
      "cell_type": "code",
      "execution_count": null,
      "metadata": {
        "id": "aMaOeSvBTWUN"
      },
      "outputs": [],
      "source": [
        "#importing necessary files\n",
        "import math\n",
        "import numpy as np\n",
        "import pandas as pd\n",
        "import pandas as pd\n",
        "\n",
        "from sklearn.model_selection import train_test_split\n",
        "from sklearn.preprocessing import LabelEncoder\n",
        "from sklearn.linear_model import LinearRegression\n",
        "from sklearn.metrics import mean_squared_error\n",
        "import matplotlib.pyplot as plt\n",
        "import seaborn as sns\n",
        "\n",
        "import pytz\n",
        "from datetime import datetime"
      ]
    },
    {
      "cell_type": "code",
      "source": [
        "#mounting drive\n",
        "from google.colab import drive\n",
        "drive.mount('/content/drive')"
      ],
      "metadata": {
        "colab": {
          "base_uri": "https://localhost:8080/"
        },
        "id": "LHad4NK64pAi",
        "outputId": "e78ee1d4-f3e3-46d0-9947-ca6b3fa83b04"
      },
      "execution_count": null,
      "outputs": [
        {
          "output_type": "stream",
          "name": "stdout",
          "text": [
            "Mounted at /content/drive\n"
          ]
        }
      ]
    },
    {
      "cell_type": "code",
      "source": [
        "#importing dataset from drive\n",
        "df_main = pd.read_csv(\"/content/drive/MyDrive/EvCharge/EVChargingStationUsage.csv\")"
      ],
      "metadata": {
        "colab": {
          "base_uri": "https://localhost:8080/"
        },
        "id": "bjpw66LBURO_",
        "outputId": "6f3ffe16-d26e-4830-c305-916a9b058057"
      },
      "execution_count": null,
      "outputs": [
        {
          "output_type": "stream",
          "name": "stderr",
          "text": [
            "<ipython-input-3-201d37592435>:2: DtypeWarning: Columns (29,30,32) have mixed types. Specify dtype option on import or set low_memory=False.\n",
            "  df_main = pd.read_csv(\"/content/drive/MyDrive/EvCharge/EVChargingStationUsage.csv\")\n"
          ]
        }
      ]
    },
    {
      "cell_type": "code",
      "source": [
        "#droping columns according to domain knowledge(a little domain knowledge)\n",
        "columns_to_drop=['GHG Savings (kg)','Gasoline Savings (gallons)','Currency','Country','Org Name','Plug Type','Port Type','Port Number','User ID']\n",
        "df_main.drop(columns=columns_to_drop, inplace=True)"
      ],
      "metadata": {
        "id": "Fm5rWY-DUXex"
      },
      "execution_count": null,
      "outputs": []
    },
    {
      "cell_type": "code",
      "source": [
        "df_main.columns"
      ],
      "metadata": {
        "colab": {
          "base_uri": "https://localhost:8080/"
        },
        "id": "9WNn7gi_A2aW",
        "outputId": "2737a59f-d06b-4a7e-9627-febcc338ef7f"
      },
      "execution_count": null,
      "outputs": [
        {
          "output_type": "execute_result",
          "data": {
            "text/plain": [
              "Index(['Station Name', 'MAC Address', 'Start Date', 'Start Time Zone',\n",
              "       'End Date', 'End Time Zone', 'Transaction Date (Pacific Time)',\n",
              "       'Total Duration (hh:mm:ss)', 'Charging Time (hh:mm:ss)', 'Energy (kWh)',\n",
              "       'EVSE ID', 'Address 1', 'City', 'State/Province', 'Postal Code',\n",
              "       'Latitude', 'Longitude', 'Fee', 'Ended By', 'Plug In Event Id',\n",
              "       'Driver Postal Code', 'County', 'System S/N', 'Model Number'],\n",
              "      dtype='object')"
            ]
          },
          "metadata": {},
          "execution_count": 9
        }
      ]
    },
    {
      "cell_type": "markdown",
      "source": [
        "# **Remove Entries having nan value**"
      ],
      "metadata": {
        "id": "EyvExzfXbnta"
      }
    },
    {
      "cell_type": "code",
      "source": [
        "#replacing with mode\n",
        "for column in df_main.columns:\n",
        "    mode_value = df_main[column].mode().iloc[0]\n",
        "    df_main[column].fillna(mode_value, inplace=True)"
      ],
      "metadata": {
        "id": "Tnq7EGW_U4TE"
      },
      "execution_count": null,
      "outputs": []
    },
    {
      "cell_type": "code",
      "source": [
        "data_cleaned = df_main"
      ],
      "metadata": {
        "id": "s0AUSd9A96-o"
      },
      "execution_count": null,
      "outputs": []
    },
    {
      "cell_type": "code",
      "source": [
        "#priting number of null values in each column\n",
        "data_cleaned.isnull().sum()"
      ],
      "metadata": {
        "colab": {
          "base_uri": "https://localhost:8080/"
        },
        "id": "2NqotGjPVIeU",
        "outputId": "71fc6a96-a5d0-4ac7-cc1d-39cd237bc6a5"
      },
      "execution_count": null,
      "outputs": [
        {
          "output_type": "execute_result",
          "data": {
            "text/plain": [
              "Station Name                       0\n",
              "MAC Address                        0\n",
              "Start Date                         0\n",
              "Start Time Zone                    0\n",
              "End Date                           0\n",
              "End Time Zone                      0\n",
              "Transaction Date (Pacific Time)    0\n",
              "Total Duration (hh:mm:ss)          0\n",
              "Charging Time (hh:mm:ss)           0\n",
              "Energy (kWh)                       0\n",
              "EVSE ID                            0\n",
              "Address 1                          0\n",
              "City                               0\n",
              "State/Province                     0\n",
              "Postal Code                        0\n",
              "Latitude                           0\n",
              "Longitude                          0\n",
              "Fee                                0\n",
              "Ended By                           0\n",
              "Plug In Event Id                   0\n",
              "Driver Postal Code                 0\n",
              "County                             0\n",
              "System S/N                         0\n",
              "Model Number                       0\n",
              "dtype: int64"
            ]
          },
          "metadata": {},
          "execution_count": 7
        }
      ]
    },
    {
      "cell_type": "code",
      "source": [],
      "metadata": {
        "id": "RL87Cscfa0L3"
      },
      "execution_count": null,
      "outputs": []
    },
    {
      "cell_type": "code",
      "source": [
        "data_cleaned.shape"
      ],
      "metadata": {
        "colab": {
          "base_uri": "https://localhost:8080/"
        },
        "id": "b0X-lcPsVSOD",
        "outputId": "bd476819-c5b1-436d-8231-12e9f9f5eee2"
      },
      "execution_count": null,
      "outputs": [
        {
          "output_type": "execute_result",
          "data": {
            "text/plain": [
              "(259415, 24)"
            ]
          },
          "metadata": {},
          "execution_count": 8
        }
      ]
    },
    {
      "cell_type": "markdown",
      "source": [
        "# **Converting *START DATE, Start time Zone* to numeric**"
      ],
      "metadata": {
        "id": "Ze8xzWkobtvK"
      }
    },
    {
      "cell_type": "code",
      "source": [
        "#For converting PST to PDT and apply numeric conversion\n",
        "selected_columns = [\"Start Date\", \"Start Time Zone\"]\n",
        "\n",
        "dfa = data_cleaned[selected_columns]"
      ],
      "metadata": {
        "id": "DkmIuQiBVWCB"
      },
      "execution_count": null,
      "outputs": []
    },
    {
      "cell_type": "code",
      "source": [
        "# Define time zones\n",
        "pst = pytz.timezone('US/Pacific')\n",
        "pdt = pytz.timezone('US/Pacific')\n",
        "\n",
        "# Function to convert PST to PDT\n",
        "def convert_pst_to_pdt(date_str):\n",
        "    dt_object = datetime.strptime(date_str, \"%m/%d/%Y %H:%M\")\n",
        "    dt_object = pst.localize(dt_object)\n",
        "    dt_object_pdt = dt_object.astimezone(pdt)\n",
        "\n",
        "    return dt_object_pdt\n",
        "\n",
        "def convert_to_numeric(date_str):\n",
        "    dt_object = datetime.strptime(date_str, \"%m/%d/%Y %H:%M\")\n",
        "    numeric_value = dt_object.timestamp()\n",
        "\n",
        "    return numeric_value\n",
        "\n",
        "converted_date_times = []\n",
        "numeric_values = []\n",
        "\n",
        "for index, row in dfa.iterrows():\n",
        "    if row[\"Start Time Zone\"] == \"PST\":\n",
        "        converted_dt = convert_pst_to_pdt(row[\"Start Date\"])\n",
        "    else:\n",
        "        converted_dt = datetime.strptime(row[\"Start Date\"], \"%m/%d/%Y %H:%M\")\n",
        "\n",
        "    converted_date_times.append(converted_dt)\n",
        "    numeric_value = convert_to_numeric(row[\"Start Date\"])\n",
        "    numeric_values.append(numeric_value)\n",
        "\n",
        "dfa[\"ConvertedDateTime\"] = converted_date_times\n",
        "dfa[\"NumericValue\"] = numeric_values\n",
        "\n",
        "print(dfa)\n",
        "\n",
        "data_cleaned[\"Start Date\"] = dfa[\"NumericValue\"]"
      ],
      "metadata": {
        "colab": {
          "base_uri": "https://localhost:8080/"
        },
        "id": "7LpaN14qVa3F",
        "outputId": "98c8367e-18b4-4b2a-8419-fdd4316a8cb0"
      },
      "execution_count": null,
      "outputs": [
        {
          "output_type": "stream",
          "name": "stdout",
          "text": [
            "              Start Date Start Time Zone          ConvertedDateTime  \\\n",
            "0        7/29/2011 20:17             PDT        2011-07-29 20:17:00   \n",
            "1         7/30/2011 0:00             PDT        2011-07-30 00:00:00   \n",
            "2         7/30/2011 8:16             PDT        2011-07-30 08:16:00   \n",
            "3        7/30/2011 14:51             PDT        2011-07-30 14:51:00   \n",
            "4        7/30/2011 18:51             PDT        2011-07-30 18:51:00   \n",
            "...                  ...             ...                        ...   \n",
            "259410  12/31/2020 16:39             PST  2020-12-31 16:39:00-08:00   \n",
            "259411  12/31/2020 16:48             PST  2020-12-31 16:48:00-08:00   \n",
            "259412  12/31/2020 17:28             PST  2020-12-31 17:28:00-08:00   \n",
            "259413  12/31/2020 17:49             PST  2020-12-31 17:49:00-08:00   \n",
            "259414  12/31/2020 18:19             PST  2020-12-31 18:19:00-08:00   \n",
            "\n",
            "        NumericValue  \n",
            "0       1.311971e+09  \n",
            "1       1.311984e+09  \n",
            "2       1.312014e+09  \n",
            "3       1.312037e+09  \n",
            "4       1.312052e+09  \n",
            "...              ...  \n",
            "259410  1.609433e+09  \n",
            "259411  1.609433e+09  \n",
            "259412  1.609436e+09  \n",
            "259413  1.609437e+09  \n",
            "259414  1.609439e+09  \n",
            "\n",
            "[259415 rows x 4 columns]\n"
          ]
        },
        {
          "output_type": "stream",
          "name": "stderr",
          "text": [
            "<ipython-input-10-f029ae051f8b>:37: SettingWithCopyWarning: \n",
            "A value is trying to be set on a copy of a slice from a DataFrame.\n",
            "Try using .loc[row_indexer,col_indexer] = value instead\n",
            "\n",
            "See the caveats in the documentation: https://pandas.pydata.org/pandas-docs/stable/user_guide/indexing.html#returning-a-view-versus-a-copy\n",
            "  dfa[\"ConvertedDateTime\"] = converted_date_times\n",
            "<ipython-input-10-f029ae051f8b>:38: SettingWithCopyWarning: \n",
            "A value is trying to be set on a copy of a slice from a DataFrame.\n",
            "Try using .loc[row_indexer,col_indexer] = value instead\n",
            "\n",
            "See the caveats in the documentation: https://pandas.pydata.org/pandas-docs/stable/user_guide/indexing.html#returning-a-view-versus-a-copy\n",
            "  dfa[\"NumericValue\"] = numeric_values\n"
          ]
        }
      ]
    },
    {
      "cell_type": "code",
      "source": [
        "#As there were values which were not in datetime format and was making it hard for time-numeric convertion so we choose to remove them\n",
        "# Filter out rows with invalid date and time values\n",
        "\n",
        "print(\"Original dataset:\")\n",
        "print(data_cleaned)\n",
        "\n",
        "# Function to check if a value is a valid date and time format\n",
        "def is_valid_datetime(value):\n",
        "    try:\n",
        "        datetime.strptime(value, '%m/%d/%Y %H:%M')\n",
        "        return True\n",
        "    except ValueError:\n",
        "        return False\n",
        "\n",
        "data_cleaned = data_cleaned[df_main['End Date'].apply(is_valid_datetime)]"
      ],
      "metadata": {
        "colab": {
          "base_uri": "https://localhost:8080/"
        },
        "id": "hjTu45qwVj60",
        "outputId": "955c54e8-fc54-4a42-9d6d-86b259b77077"
      },
      "execution_count": null,
      "outputs": [
        {
          "output_type": "stream",
          "name": "stdout",
          "text": [
            "Original dataset:\n",
            "                          Station Name          MAC Address    Start Date  \\\n",
            "0           PALO ALTO CA / HAMILTON #1  000D:6F00:015A:9D76  1.311971e+09   \n",
            "1           PALO ALTO CA / HAMILTON #1  000D:6F00:015A:9D76  1.311984e+09   \n",
            "2           PALO ALTO CA / HAMILTON #1  000D:6F00:015A:9D76  1.312014e+09   \n",
            "3           PALO ALTO CA / HAMILTON #1  000D:6F00:015A:9D76  1.312037e+09   \n",
            "4           PALO ALTO CA / HAMILTON #1  000D:6F00:015A:9D76  1.312052e+09   \n",
            "...                                ...                  ...           ...   \n",
            "259410  PALO ALTO CA / TED THOMPSON #3  0024:B100:0002:9F81  1.609433e+09   \n",
            "259411       PALO ALTO CA / WEBSTER #1  0024:B100:0002:4233  1.609433e+09   \n",
            "259412           PALO ALTO CA / MPL #4  0024:B100:0003:CD37  1.609436e+09   \n",
            "259413       PALO ALTO CA / WEBSTER #1  0024:B100:0002:4233  1.609437e+09   \n",
            "259414     PALO ALTO CA / CAMBRIDGE #4  0024:B100:0003:3A0A  1.609439e+09   \n",
            "\n",
            "       Start Time Zone          End Date End Time Zone  \\\n",
            "0                  PDT   7/29/2011 23:20           PDT   \n",
            "1                  PDT    7/30/2011 0:02           PDT   \n",
            "2                  PDT   7/30/2011 12:34           PDT   \n",
            "3                  PDT   7/30/2011 16:55           PDT   \n",
            "4                  PDT   7/30/2011 20:03           PDT   \n",
            "...                ...               ...           ...   \n",
            "259410             PST  12/31/2020 17:14           PST   \n",
            "259411             PST  12/31/2020 20:31           PST   \n",
            "259412             PST    1/1/2021 10:56           PST   \n",
            "259413             PST  12/31/2020 21:55           PST   \n",
            "259414             PST  12/31/2020 19:01           PST   \n",
            "\n",
            "       Transaction Date (Pacific Time) Total Duration (hh:mm:ss)  \\\n",
            "0                      7/29/2011 23:20                   3:03:32   \n",
            "1                       7/30/2011 0:02                   0:02:06   \n",
            "2                      7/30/2011 12:34                   4:17:32   \n",
            "3                      7/30/2011 16:55                   2:03:24   \n",
            "4                      7/30/2011 20:03                   1:11:24   \n",
            "...                                ...                       ...   \n",
            "259410                12/31/2020 17:16                   0:35:44   \n",
            "259411                12/31/2020 20:32                   3:43:01   \n",
            "259412                  1/1/2021 10:57                  17:28:14   \n",
            "259413                12/31/2020 21:56                   4:05:34   \n",
            "259414                12/31/2020 19:02                   0:42:07   \n",
            "\n",
            "       Charging Time (hh:mm:ss)  Energy (kWh)  ...  Postal Code   Latitude  \\\n",
            "0                       1:54:03      6.249457  ...        94301  37.444572   \n",
            "1                       0:01:54      0.106588  ...        94301  37.444572   \n",
            "2                       4:17:28     14.951777  ...        94301  37.444572   \n",
            "3                       2:02:58      7.159643  ...        94301  37.444572   \n",
            "4                       0:43:54      1.957765  ...        94301  37.444572   \n",
            "...                         ...           ...  ...          ...        ...   \n",
            "259410                  0:35:18      1.841000  ...        94306  37.428623   \n",
            "259411                  2:14:04     12.744000  ...        94301  37.448284   \n",
            "259412                  5:08:12     29.665000  ...        94303  37.422104   \n",
            "259413                  3:53:42     11.976000  ...        94301  37.448284   \n",
            "259414                  0:41:44      1.571000  ...        94306  37.426178   \n",
            "\n",
            "         Longitude   Fee             Ended By  Plug In Event Id  \\\n",
            "0      -122.160309  0.00  Plug Out at Vehicle                 3   \n",
            "1      -122.160309  0.00             Customer                 4   \n",
            "2      -122.160309  0.00  Plug Out at Vehicle                 5   \n",
            "3      -122.160309  0.00             Customer                 6   \n",
            "4      -122.160309  0.00  Plug Out at Vehicle                 7   \n",
            "...            ...   ...                  ...               ...   \n",
            "259410 -122.144043  0.42  Plug Out at Vehicle              2369   \n",
            "259411 -122.158272  4.69  Plug Out at Vehicle              7255   \n",
            "259412 -122.113510  6.82  Plug Out at Vehicle               455   \n",
            "259413 -122.158272  2.75  Plug Out at Vehicle              7256   \n",
            "259414 -122.146034  0.36  Plug Out at Vehicle              2302   \n",
            "\n",
            "        Driver Postal Code              County    System S/N  Model Number  \n",
            "0                  95124.0  Santa Clara County  1.427410e+11  CT4020-HD-GW  \n",
            "1                  94301.0  Santa Clara County  1.427410e+11  CT4020-HD-GW  \n",
            "2                  94301.0  Santa Clara County  1.427410e+11  CT4020-HD-GW  \n",
            "3                  94302.0  Santa Clara County  1.427410e+11  CT4020-HD-GW  \n",
            "4                  94043.0  Santa Clara County  1.427410e+11  CT4020-HD-GW  \n",
            "...                    ...                 ...           ...           ...  \n",
            "259410             94301.0  Santa Clara County  1.745410e+11  CT4020-HD-GW  \n",
            "259411             94541.0  Santa Clara County  1.336410e+11  CT4020-HD-GW  \n",
            "259412             94306.0  Santa Clara County  2.002410e+11  CT4010-HD-GW  \n",
            "259413             94552.0  Santa Clara County  1.336410e+11  CT4020-HD-GW  \n",
            "259414             94305.0  Santa Clara County  1.852410e+11  CT4020-HD-GW  \n",
            "\n",
            "[259415 rows x 24 columns]\n"
          ]
        }
      ]
    },
    {
      "cell_type": "code",
      "source": [
        "#For converting PST to PDT and apply numeric conversion\n",
        "selected_columns = ['End Date', 'End Time Zone']\n",
        "\n",
        "dfb = data_cleaned[selected_columns]"
      ],
      "metadata": {
        "id": "ZlIHdb1KVhpw"
      },
      "execution_count": null,
      "outputs": []
    },
    {
      "cell_type": "code",
      "source": [
        "# Define time zones\n",
        "pst = pytz.timezone('US/Pacific')\n",
        "pdt = pytz.timezone('US/Pacific')\n",
        "\n",
        "# Function to convert PST to PDT\n",
        "def convert_pst_to_pdt(date_str):\n",
        "    dt_object = datetime.strptime(date_str, \"%m/%d/%Y %H:%M\")\n",
        "    dt_object = pst.localize(dt_object)\n",
        "    dt_object_pdt = dt_object.astimezone(pdt)\n",
        "\n",
        "    return dt_object_pdt\n",
        "\n",
        "def convert_to_numeric(date_str):\n",
        "    dt_object = datetime.strptime(date_str, \"%m/%d/%Y %H:%M\")\n",
        "    numeric_value = dt_object.timestamp()\n",
        "\n",
        "    return numeric_value\n",
        "\n",
        "converted_date_times = []\n",
        "numeric_values = []\n",
        "\n",
        "for index, row in dfb.iterrows():\n",
        "    if row[\"End Time Zone\"] == \"PST\":\n",
        "        converted_dt = convert_pst_to_pdt(row[\"End Date\"])\n",
        "    else:\n",
        "        converted_dt = datetime.strptime(row[\"End Date\"], \"%m/%d/%Y %H:%M\")\n",
        "\n",
        "    converted_date_times.append(converted_dt)\n",
        "    numeric_value = convert_to_numeric(row[\"End Date\"])\n",
        "    numeric_values.append(numeric_value)\n",
        "\n",
        "dfb[\"ConvertedDateTime\"] = converted_date_times\n",
        "dfb[\"NumericValue\"] = numeric_values\n",
        "\n",
        "print(dfb)\n",
        "\n",
        "data_cleaned[\"End Date\"] = dfa[\"NumericValue\"]"
      ],
      "metadata": {
        "colab": {
          "base_uri": "https://localhost:8080/"
        },
        "id": "4DzoQWt2Vjgd",
        "outputId": "40c83177-a2b0-4726-ad26-766df9a57bb4"
      },
      "execution_count": null,
      "outputs": [
        {
          "output_type": "stream",
          "name": "stdout",
          "text": [
            "                End Date End Time Zone          ConvertedDateTime  \\\n",
            "0        7/29/2011 23:20           PDT        2011-07-29 23:20:00   \n",
            "1         7/30/2011 0:02           PDT        2011-07-30 00:02:00   \n",
            "2        7/30/2011 12:34           PDT        2011-07-30 12:34:00   \n",
            "3        7/30/2011 16:55           PDT        2011-07-30 16:55:00   \n",
            "4        7/30/2011 20:03           PDT        2011-07-30 20:03:00   \n",
            "...                  ...           ...                        ...   \n",
            "259410  12/31/2020 17:14           PST  2020-12-31 17:14:00-08:00   \n",
            "259411  12/31/2020 20:31           PST  2020-12-31 20:31:00-08:00   \n",
            "259412    1/1/2021 10:56           PST  2021-01-01 10:56:00-08:00   \n",
            "259413  12/31/2020 21:55           PST  2020-12-31 21:55:00-08:00   \n",
            "259414  12/31/2020 19:01           PST  2020-12-31 19:01:00-08:00   \n",
            "\n",
            "        NumericValue  \n",
            "0       1.311982e+09  \n",
            "1       1.311984e+09  \n",
            "2       1.312029e+09  \n",
            "3       1.312045e+09  \n",
            "4       1.312056e+09  \n",
            "...              ...  \n",
            "259410  1.609435e+09  \n",
            "259411  1.609447e+09  \n",
            "259412  1.609499e+09  \n",
            "259413  1.609452e+09  \n",
            "259414  1.609441e+09  \n",
            "\n",
            "[259375 rows x 4 columns]\n"
          ]
        },
        {
          "output_type": "stream",
          "name": "stderr",
          "text": [
            "<ipython-input-13-75c889c56781>:37: SettingWithCopyWarning: \n",
            "A value is trying to be set on a copy of a slice from a DataFrame.\n",
            "Try using .loc[row_indexer,col_indexer] = value instead\n",
            "\n",
            "See the caveats in the documentation: https://pandas.pydata.org/pandas-docs/stable/user_guide/indexing.html#returning-a-view-versus-a-copy\n",
            "  dfb[\"ConvertedDateTime\"] = converted_date_times\n",
            "<ipython-input-13-75c889c56781>:38: SettingWithCopyWarning: \n",
            "A value is trying to be set on a copy of a slice from a DataFrame.\n",
            "Try using .loc[row_indexer,col_indexer] = value instead\n",
            "\n",
            "See the caveats in the documentation: https://pandas.pydata.org/pandas-docs/stable/user_guide/indexing.html#returning-a-view-versus-a-copy\n",
            "  dfb[\"NumericValue\"] = numeric_values\n",
            "<ipython-input-13-75c889c56781>:42: SettingWithCopyWarning: \n",
            "A value is trying to be set on a copy of a slice from a DataFrame.\n",
            "Try using .loc[row_indexer,col_indexer] = value instead\n",
            "\n",
            "See the caveats in the documentation: https://pandas.pydata.org/pandas-docs/stable/user_guide/indexing.html#returning-a-view-versus-a-copy\n",
            "  data_cleaned[\"End Date\"] = dfa[\"NumericValue\"]\n"
          ]
        }
      ]
    },
    {
      "cell_type": "code",
      "source": [
        "data_cleaned.columns"
      ],
      "metadata": {
        "colab": {
          "base_uri": "https://localhost:8080/"
        },
        "id": "hZY7kGoDdNdC",
        "outputId": "0bbd8521-94d5-4130-b1e9-ca6454ffe6fc"
      },
      "execution_count": null,
      "outputs": [
        {
          "output_type": "execute_result",
          "data": {
            "text/plain": [
              "Index(['Station Name', 'MAC Address', 'Start Date', 'Start Time Zone',\n",
              "       'End Date', 'End Time Zone', 'Transaction Date (Pacific Time)',\n",
              "       'Total Duration (hh:mm:ss)', 'Charging Time (hh:mm:ss)', 'Energy (kWh)',\n",
              "       'EVSE ID', 'Address 1', 'City', 'State/Province', 'Postal Code',\n",
              "       'Latitude', 'Longitude', 'Fee', 'Ended By', 'Plug In Event Id',\n",
              "       'Driver Postal Code', 'County', 'System S/N', 'Model Number'],\n",
              "      dtype='object')"
            ]
          },
          "metadata": {},
          "execution_count": 14
        }
      ]
    },
    {
      "cell_type": "code",
      "source": [
        "#Droping original columns\n",
        "\n",
        "columns_to_drop=['Start Time Zone','End Time Zone','Transaction Date (Pacific Time)']\n",
        "data_cleaned.drop(columns=columns_to_drop, inplace=True)"
      ],
      "metadata": {
        "id": "5WrHoacoV6CJ",
        "colab": {
          "base_uri": "https://localhost:8080/"
        },
        "outputId": "7e7a2abe-4705-49fb-dc83-63c6e280a2ea"
      },
      "execution_count": null,
      "outputs": [
        {
          "output_type": "stream",
          "name": "stderr",
          "text": [
            "<ipython-input-15-73ab62866251>:2: SettingWithCopyWarning: \n",
            "A value is trying to be set on a copy of a slice from a DataFrame\n",
            "\n",
            "See the caveats in the documentation: https://pandas.pydata.org/pandas-docs/stable/user_guide/indexing.html#returning-a-view-versus-a-copy\n",
            "  data_cleaned.drop(columns=columns_to_drop, inplace=True)\n"
          ]
        }
      ]
    },
    {
      "cell_type": "code",
      "source": [
        "#Function for numeric\n",
        "def time_to_numeric(time_str):\n",
        "    hours, minutes, seconds = map(int, time_str.split(':'))\n",
        "    total_hours = hours + minutes / 60 + seconds / 3600\n",
        "    return total_hours\n",
        "\n",
        "data_cleaned['Total_time_hours'] = data_cleaned['Total Duration (hh:mm:ss)'].apply(time_to_numeric)\n",
        "\n",
        "data_cleaned['Charging_time_hours'] = data_cleaned['Charging Time (hh:mm:ss)'].apply(time_to_numeric)"
      ],
      "metadata": {
        "id": "qsvwR9KfWa-J",
        "colab": {
          "base_uri": "https://localhost:8080/"
        },
        "outputId": "845d72e8-b16e-47db-8d7c-24e6b944eb85"
      },
      "execution_count": null,
      "outputs": [
        {
          "output_type": "stream",
          "name": "stderr",
          "text": [
            "<ipython-input-16-26a9c2ee930d>:6: SettingWithCopyWarning: \n",
            "A value is trying to be set on a copy of a slice from a DataFrame.\n",
            "Try using .loc[row_indexer,col_indexer] = value instead\n",
            "\n",
            "See the caveats in the documentation: https://pandas.pydata.org/pandas-docs/stable/user_guide/indexing.html#returning-a-view-versus-a-copy\n",
            "  data_cleaned['Total_time_hours'] = data_cleaned['Total Duration (hh:mm:ss)'].apply(time_to_numeric)\n",
            "<ipython-input-16-26a9c2ee930d>:8: SettingWithCopyWarning: \n",
            "A value is trying to be set on a copy of a slice from a DataFrame.\n",
            "Try using .loc[row_indexer,col_indexer] = value instead\n",
            "\n",
            "See the caveats in the documentation: https://pandas.pydata.org/pandas-docs/stable/user_guide/indexing.html#returning-a-view-versus-a-copy\n",
            "  data_cleaned['Charging_time_hours'] = data_cleaned['Charging Time (hh:mm:ss)'].apply(time_to_numeric)\n"
          ]
        }
      ]
    },
    {
      "cell_type": "code",
      "source": [
        "#dropping original column\n",
        "columns_to_drop=['Total Duration (hh:mm:ss)','Charging Time (hh:mm:ss)']\n",
        "data_cleaned.drop(columns=columns_to_drop, inplace=True)"
      ],
      "metadata": {
        "id": "r3dRoA61Wb-S",
        "colab": {
          "base_uri": "https://localhost:8080/"
        },
        "outputId": "e512bb73-4952-4c57-837c-62a7f9e1acbf"
      },
      "execution_count": null,
      "outputs": [
        {
          "output_type": "stream",
          "name": "stderr",
          "text": [
            "<ipython-input-17-bbadedf6f900>:2: SettingWithCopyWarning: \n",
            "A value is trying to be set on a copy of a slice from a DataFrame\n",
            "\n",
            "See the caveats in the documentation: https://pandas.pydata.org/pandas-docs/stable/user_guide/indexing.html#returning-a-view-versus-a-copy\n",
            "  data_cleaned.drop(columns=columns_to_drop, inplace=True)\n"
          ]
        }
      ]
    },
    {
      "cell_type": "code",
      "source": [
        "sns.heatmap(data=df_main.corr(), lw = 1)"
      ],
      "metadata": {
        "colab": {
          "base_uri": "https://localhost:8080/",
          "height": 639
        },
        "id": "GcvFqu4uCKA0",
        "outputId": "cf020d3c-9559-4466-f5ca-9c9234d79f18"
      },
      "execution_count": null,
      "outputs": [
        {
          "output_type": "stream",
          "name": "stderr",
          "text": [
            "<ipython-input-11-bfca263b2c9b>:1: FutureWarning: The default value of numeric_only in DataFrame.corr is deprecated. In a future version, it will default to False. Select only valid columns or specify the value of numeric_only to silence this warning.\n",
            "  sns.heatmap(data=df_main.corr(), lw = 1)\n"
          ]
        },
        {
          "output_type": "execute_result",
          "data": {
            "text/plain": [
              "<Axes: >"
            ]
          },
          "metadata": {},
          "execution_count": 11
        },
        {
          "output_type": "display_data",
          "data": {
            "text/plain": [
              "<Figure size 640x480 with 2 Axes>"
            ],
            "image/png": "[encoded data removed]"
          },
          "metadata": {}
        }
      ]
    },
    {
      "cell_type": "code",
      "source": [
        "# @title Removing outlier\n",
        "data_cleaned.columns"
      ],
      "metadata": {
        "colab": {
          "base_uri": "https://localhost:8080/"
        },
        "id": "GHd7AdvZFSB8",
        "outputId": "a630b8d8-702d-432f-8905-a182a22560da"
      },
      "execution_count": null,
      "outputs": [
        {
          "output_type": "execute_result",
          "data": {
            "text/plain": [
              "Index(['Station Name', 'MAC Address', 'Start Date', 'End Date', 'Energy (kWh)',\n",
              "       'EVSE ID', 'Address 1', 'City', 'State/Province', 'Postal Code',\n",
              "       'Latitude', 'Longitude', 'Fee', 'Ended By', 'Plug In Event Id',\n",
              "       'Driver Postal Code', 'County', 'System S/N', 'Model Number',\n",
              "       'Total_time_hours', 'Charging_time_hours'],\n",
              "      dtype='object')"
            ]
          },
          "metadata": {},
          "execution_count": 18
        }
      ]
    },
    {
      "cell_type": "code",
      "source": [
        "#displaying head\n",
        "data_cleaned.head()"
      ],
      "metadata": {
        "colab": {
          "base_uri": "https://localhost:8080/",
          "height": 568
        },
        "id": "aKW_mebpFaH8",
        "outputId": "5fb623a2-60ce-4901-b685-884dd4a47724"
      },
      "execution_count": null,
      "outputs": [
        {
          "output_type": "execute_result",
          "data": {
            "text/plain": [
              "                 Station Name          MAC Address    Start Date  \\\n",
              "0  PALO ALTO CA / HAMILTON #1  000D:6F00:015A:9D76  1.311971e+09   \n",
              "1  PALO ALTO CA / HAMILTON #1  000D:6F00:015A:9D76  1.311984e+09   \n",
              "2  PALO ALTO CA / HAMILTON #1  000D:6F00:015A:9D76  1.312014e+09   \n",
              "3  PALO ALTO CA / HAMILTON #1  000D:6F00:015A:9D76  1.312037e+09   \n",
              "4  PALO ALTO CA / HAMILTON #1  000D:6F00:015A:9D76  1.312052e+09   \n",
              "\n",
              "       End Date  Energy (kWh)   EVSE ID         Address 1       City  \\\n",
              "0  1.311971e+09      6.249457  109785.0  250 Hamilton Ave  Palo Alto   \n",
              "1  1.311984e+09      0.106588  109785.0  250 Hamilton Ave  Palo Alto   \n",
              "2  1.312014e+09     14.951777  109785.0  250 Hamilton Ave  Palo Alto   \n",
              "3  1.312037e+09      7.159643  109785.0  250 Hamilton Ave  Palo Alto   \n",
              "4  1.312052e+09      1.957765  109785.0  250 Hamilton Ave  Palo Alto   \n",
              "\n",
              "  State/Province  Postal Code  ...   Longitude  Fee             Ended By  \\\n",
              "0     California        94301  ... -122.160309  0.0  Plug Out at Vehicle   \n",
              "1     California        94301  ... -122.160309  0.0             Customer   \n",
              "2     California        94301  ... -122.160309  0.0  Plug Out at Vehicle   \n",
              "3     California        94301  ... -122.160309  0.0             Customer   \n",
              "4     California        94301  ... -122.160309  0.0  Plug Out at Vehicle   \n",
              "\n",
              "  Plug In Event Id  Driver Postal Code              County    System S/N  \\\n",
              "0                3             95124.0  Santa Clara County  1.427410e+11   \n",
              "1                4             94301.0  Santa Clara County  1.427410e+11   \n",
              "2                5             94301.0  Santa Clara County  1.427410e+11   \n",
              "3                6             94302.0  Santa Clara County  1.427410e+11   \n",
              "4                7             94043.0  Santa Clara County  1.427410e+11   \n",
              "\n",
              "   Model Number Total_time_hours  Charging_time_hours  \n",
              "0  CT4020-HD-GW         3.058889             1.900833  \n",
              "1  CT4020-HD-GW         0.035000             0.031667  \n",
              "2  CT4020-HD-GW         4.292222             4.291111  \n",
              "3  CT4020-HD-GW         2.056667             2.049444  \n",
              "4  CT4020-HD-GW         1.190000             0.731667  \n",
              "\n",
              "[5 rows x 21 columns]"
            ],
            "text/html": [
              "\n",
              "  <div id=\"df-4846c8f1-f9a1-4791-b9be-9db7c95e6b10\" class=\"colab-df-container\">\n",
              "    <div>\n",
              "<style scoped>\n",
              "    .dataframe tbody tr th:only-of-type {\n",
              "        vertical-align: middle;\n",
              "    }\n",
              "\n",
              "    .dataframe tbody tr th {\n",
              "        vertical-align: top;\n",
              "    }\n",
              "\n",
              "    .dataframe thead th {\n",
              "        text-align: right;\n",
              "    }\n",
              "</style>\n",
              "<table border=\"1\" class=\"dataframe\">\n",
              "  <thead>\n",
              "    <tr style=\"text-align: right;\">\n",
              "      <th></th>\n",
              "      <th>Station Name</th>\n",
              "      <th>MAC Address</th>\n",
              "      <th>Start Date</th>\n",
              "      <th>End Date</th>\n",
              "      <th>Energy (kWh)</th>\n",
              "      <th>EVSE ID</th>\n",
              "      <th>Address 1</th>\n",
              "      <th>City</th>\n",
              "      <th>State/Province</th>\n",
              "      <th>Postal Code</th>\n",
              "      <th>...</th>\n",
              "      <th>Longitude</th>\n",
              "      <th>Fee</th>\n",
              "      <th>Ended By</th>\n",
              "      <th>Plug In Event Id</th>\n",
              "      <th>Driver Postal Code</th>\n",
              "      <th>County</th>\n",
              "      <th>System S/N</th>\n",
              "      <th>Model Number</th>\n",
              "      <th>Total_time_hours</th>\n",
              "      <th>Charging_time_hours</th>\n",
              "    </tr>\n",
              "  </thead>\n",
              "  <tbody>\n",
              "    <tr>\n",
              "      <th>0</th>\n",
              "      <td>PALO ALTO CA / HAMILTON #1</td>\n",
              "      <td>000D:6F00:015A:9D76</td>\n",
              "      <td>1.311971e+09</td>\n",
              "      <td>1.311971e+09</td>\n",
              "      <td>6.249457</td>\n",
              "      <td>109785.0</td>\n",
              "      <td>250 Hamilton Ave</td>\n",
              "      <td>Palo Alto</td>\n",
              "      <td>California</td>\n",
              "      <td>94301</td>\n",
              "      <td>...</td>\n",
              "      <td>-122.160309</td>\n",
              "      <td>0.0</td>\n",
              "      <td>Plug Out at Vehicle</td>\n",
              "      <td>3</td>\n",
              "      <td>95124.0</td>\n",
              "      <td>Santa Clara County</td>\n",
              "      <td>1.427410e+11</td>\n",
              "      <td>CT4020-HD-GW</td>\n",
              "      <td>3.058889</td>\n",
              "      <td>1.900833</td>\n",
              "    </tr>\n",
              "    <tr>\n",
              "      <th>1</th>\n",
              "      <td>PALO ALTO CA / HAMILTON #1</td>\n",
              "      <td>000D:6F00:015A:9D76</td>\n",
              "      <td>1.311984e+09</td>\n",
              "      <td>1.311984e+09</td>\n",
              "      <td>0.106588</td>\n",
              "      <td>109785.0</td>\n",
              "      <td>250 Hamilton Ave</td>\n",
              "      <td>Palo Alto</td>\n",
              "      <td>California</td>\n",
              "      <td>94301</td>\n",
              "      <td>...</td>\n",
              "      <td>-122.160309</td>\n",
              "      <td>0.0</td>\n",
              "      <td>Customer</td>\n",
              "      <td>4</td>\n",
              "      <td>94301.0</td>\n",
              "      <td>Santa Clara County</td>\n",
              "      <td>1.427410e+11</td>\n",
              "      <td>CT4020-HD-GW</td>\n",
              "      <td>0.035000</td>\n",
              "      <td>0.031667</td>\n",
              "    </tr>\n",
              "    <tr>\n",
              "      <th>2</th>\n",
              "      <td>PALO ALTO CA / HAMILTON #1</td>\n",
              "      <td>000D:6F00:015A:9D76</td>\n",
              "      <td>1.312014e+09</td>\n",
              "      <td>1.312014e+09</td>\n",
              "      <td>14.951777</td>\n",
              "      <td>109785.0</td>\n",
              "      <td>250 Hamilton Ave</td>\n",
              "      <td>Palo Alto</td>\n",
              "      <td>California</td>\n",
              "      <td>94301</td>\n",
              "      <td>...</td>\n",
              "      <td>-122.160309</td>\n",
              "      <td>0.0</td>\n",
              "      <td>Plug Out at Vehicle</td>\n",
              "      <td>5</td>\n",
              "      <td>94301.0</td>\n",
              "      <td>Santa Clara County</td>\n",
              "      <td>1.427410e+11</td>\n",
              "      <td>CT4020-HD-GW</td>\n",
              "      <td>4.292222</td>\n",
              "      <td>4.291111</td>\n",
              "    </tr>\n",
              "    <tr>\n",
              "      <th>3</th>\n",
              "      <td>PALO ALTO CA / HAMILTON #1</td>\n",
              "      <td>000D:6F00:015A:9D76</td>\n",
              "      <td>1.312037e+09</td>\n",
              "      <td>1.312037e+09</td>\n",
              "      <td>7.159643</td>\n",
              "      <td>109785.0</td>\n",
              "      <td>250 Hamilton Ave</td>\n",
              "      <td>Palo Alto</td>\n",
              "      <td>California</td>\n",
              "      <td>94301</td>\n",
              "      <td>...</td>\n",
              "      <td>-122.160309</td>\n",
              "      <td>0.0</td>\n",
              "      <td>Customer</td>\n",
              "      <td>6</td>\n",
              "      <td>94302.0</td>\n",
              "      <td>Santa Clara County</td>\n",
              "      <td>1.427410e+11</td>\n",
              "      <td>CT4020-HD-GW</td>\n",
              "      <td>2.056667</td>\n",
              "      <td>2.049444</td>\n",
              "    </tr>\n",
              "    <tr>\n",
              "      <th>4</th>\n",
              "      <td>PALO ALTO CA / HAMILTON #1</td>\n",
              "      <td>000D:6F00:015A:9D76</td>\n",
              "      <td>1.312052e+09</td>\n",
              "      <td>1.312052e+09</td>\n",
              "      <td>1.957765</td>\n",
              "      <td>109785.0</td>\n",
              "      <td>250 Hamilton Ave</td>\n",
              "      <td>Palo Alto</td>\n",
              "      <td>California</td>\n",
              "      <td>94301</td>\n",
              "      <td>...</td>\n",
              "      <td>-122.160309</td>\n",
              "      <td>0.0</td>\n",
              "      <td>Plug Out at Vehicle</td>\n",
              "      <td>7</td>\n",
              "      <td>94043.0</td>\n",
              "      <td>Santa Clara County</td>\n",
              "      <td>1.427410e+11</td>\n",
              "      <td>CT4020-HD-GW</td>\n",
              "      <td>1.190000</td>\n",
              "      <td>0.731667</td>\n",
              "    </tr>\n",
              "  </tbody>\n",
              "</table>\n",
              "<p>5 rows × 21 columns</p>\n",
              "</div>\n",
              "    <div class=\"colab-df-buttons\">\n",
              "\n",
              "  <div class=\"colab-df-container\">\n",
              "    <button class=\"colab-df-convert\" onclick=\"convertToInteractive('df-4846c8f1-f9a1-4791-b9be-9db7c95e6b10')\"\n",
              "            title=\"Convert this dataframe to an interactive table.\"\n",
              "            style=\"display:none;\">\n",
              "\n",
              "  <svg xmlns=\"http://www.w3.org/2000/svg\" height=\"24px\" viewBox=\"0 -960 960 960\">\n",
              "    <path d=\"M120-120v-720h720v720H120Zm60-500h600v-160H180v160Zm220 220h160v-160H400v160Zm0 220h160v-160H400v160ZM180-400h160v-160H180v160Zm440 0h160v-160H620v160ZM180-180h160v-160H180v160Zm440 0h160v-160H620v160Z\"/>\n",
              "  </svg>\n",
              "    </button>\n",
              "\n",
              "  <style>\n",
              "    .colab-df-container {\n",
              "      display:flex;\n",
              "      gap: 12px;\n",
              "    }\n",
              "\n",
              "    .colab-df-convert {\n",
              "      background-color: #E8F0FE;\n",
              "      border: none;\n",
              "      border-radius: 50%;\n",
              "      cursor: pointer;\n",
              "      display: none;\n",
              "      fill: #1967D2;\n",
              "      height: 32px;\n",
              "      padding: 0 0 0 0;\n",
              "      width: 32px;\n",
              "    }\n",
              "\n",
              "    .colab-df-convert:hover {\n",
              "      background-color: #E2EBFA;\n",
              "      box-shadow: 0px 1px 2px rgba(60, 64, 67, 0.3), 0px 1px 3px 1px rgba(60, 64, 67, 0.15);\n",
              "      fill: #174EA6;\n",
              "    }\n",
              "\n",
              "    .colab-df-buttons div {\n",
              "      margin-bottom: 4px;\n",
              "    }\n",
              "\n",
              "    [theme=dark] .colab-df-convert {\n",
              "      background-color: #3B4455;\n",
              "      fill: #D2E3FC;\n",
              "    }\n",
              "\n",
              "    [theme=dark] .colab-df-convert:hover {\n",
              "      background-color: #434B5C;\n",
              "      box-shadow: 0px 1px 3px 1px rgba(0, 0, 0, 0.15);\n",
              "      filter: drop-shadow(0px 1px 2px rgba(0, 0, 0, 0.3));\n",
              "      fill: #FFFFFF;\n",
              "    }\n",
              "  </style>\n",
              "\n",
              "    <script>\n",
              "      const buttonEl =\n",
              "        document.querySelector('#df-4846c8f1-f9a1-4791-b9be-9db7c95e6b10 button.colab-df-convert');\n",
              "      buttonEl.style.display =\n",
              "        google.colab.kernel.accessAllowed ? 'block' : 'none';\n",
              "\n",
              "      async function convertToInteractive(key) {\n",
              "        const element = document.querySelector('#df-4846c8f1-f9a1-4791-b9be-9db7c95e6b10');\n",
              "        const dataTable =\n",
              "          await google.colab.kernel.invokeFunction('convertToInteractive',\n",
              "                                                    [key], {});\n",
              "        if (!dataTable) return;\n",
              "\n",
              "        const docLinkHtml = 'Like what you see? Visit the ' +\n",
              "          '<a target=\"_blank\" href=https://colab.research.google.com/notebooks/data_table.ipynb>data table notebook</a>'\n",
              "          + ' to learn more about interactive tables.';\n",
              "        element.innerHTML = '';\n",
              "        dataTable['output_type'] = 'display_data';\n",
              "        await google.colab.output.renderOutput(dataTable, element);\n",
              "        const docLink = document.createElement('div');\n",
              "        docLink.innerHTML = docLinkHtml;\n",
              "        element.appendChild(docLink);\n",
              "      }\n",
              "    </script>\n",
              "  </div>\n",
              "\n",
              "\n",
              "<div id=\"df-0642d90d-fa61-4fa8-968b-d18517b9e773\">\n",
              "  <button class=\"colab-df-quickchart\" onclick=\"quickchart('df-0642d90d-fa61-4fa8-968b-d18517b9e773')\"\n",
              "            title=\"Suggest charts.\"\n",
              "            style=\"display:none;\">\n",
              "\n",
              "<svg xmlns=\"http://www.w3.org/2000/svg\" height=\"24px\"viewBox=\"0 0 24 24\"\n",
              "     width=\"24px\">\n",
              "    <g>\n",
              "        <path d=\"M19 3H5c-1.1 0-2 .9-2 2v14c0 1.1.9 2 2 2h14c1.1 0 2-.9 2-2V5c0-1.1-.9-2-2-2zM9 17H7v-7h2v7zm4 0h-2V7h2v10zm4 0h-2v-4h2v4z\"/>\n",
              "    </g>\n",
              "</svg>\n",
              "  </button>\n",
              "\n",
              "<style>\n",
              "  .colab-df-quickchart {\n",
              "      --bg-color: #E8F0FE;\n",
              "      --fill-color: #1967D2;\n",
              "      --hover-bg-color: #E2EBFA;\n",
              "      --hover-fill-color: #174EA6;\n",
              "      --disabled-fill-color: #AAA;\n",
              "      --disabled-bg-color: #DDD;\n",
              "  }\n",
              "\n",
              "  [theme=dark] .colab-df-quickchart {\n",
              "      --bg-color: #3B4455;\n",
              "      --fill-color: #D2E3FC;\n",
              "      --hover-bg-color: #434B5C;\n",
              "      --hover-fill-color: #FFFFFF;\n",
              "      --disabled-bg-color: #3B4455;\n",
              "      --disabled-fill-color: #666;\n",
              "  }\n",
              "\n",
              "  .colab-df-quickchart {\n",
              "    background-color: var(--bg-color);\n",
              "    border: none;\n",
              "    border-radius: 50%;\n",
              "    cursor: pointer;\n",
              "    display: none;\n",
              "    fill: var(--fill-color);\n",
              "    height: 32px;\n",
              "    padding: 0;\n",
              "    width: 32px;\n",
              "  }\n",
              "\n",
              "  .colab-df-quickchart:hover {\n",
              "    background-color: var(--hover-bg-color);\n",
              "    box-shadow: 0 1px 2px rgba(60, 64, 67, 0.3), 0 1px 3px 1px rgba(60, 64, 67, 0.15);\n",
              "    fill: var(--button-hover-fill-color);\n",
              "  }\n",
              "\n",
              "  .colab-df-quickchart-complete:disabled,\n",
              "  .colab-df-quickchart-complete:disabled:hover {\n",
              "    background-color: var(--disabled-bg-color);\n",
              "    fill: var(--disabled-fill-color);\n",
              "    box-shadow: none;\n",
              "  }\n",
              "\n",
              "  .colab-df-spinner {\n",
              "    border: 2px solid var(--fill-color);\n",
              "    border-color: transparent;\n",
              "    border-bottom-color: var(--fill-color);\n",
              "    animation:\n",
              "      spin 1s steps(1) infinite;\n",
              "  }\n",
              "\n",
              "  @keyframes spin {\n",
              "    0% {\n",
              "      border-color: transparent;\n",
              "      border-bottom-color: var(--fill-color);\n",
              "      border-left-color: var(--fill-color);\n",
              "    }\n",
              "    20% {\n",
              "      border-color: transparent;\n",
              "      border-left-color: var(--fill-color);\n",
              "      border-top-color: var(--fill-color);\n",
              "    }\n",
              "    30% {\n",
              "      border-color: transparent;\n",
              "      border-left-color: var(--fill-color);\n",
              "      border-top-color: var(--fill-color);\n",
              "      border-right-color: var(--fill-color);\n",
              "    }\n",
              "    40% {\n",
              "      border-color: transparent;\n",
              "      border-right-color: var(--fill-color);\n",
              "      border-top-color: var(--fill-color);\n",
              "    }\n",
              "    60% {\n",
              "      border-color: transparent;\n",
              "      border-right-color: var(--fill-color);\n",
              "    }\n",
              "    80% {\n",
              "      border-color: transparent;\n",
              "      border-right-color: var(--fill-color);\n",
              "      border-bottom-color: var(--fill-color);\n",
              "    }\n",
              "    90% {\n",
              "      border-color: transparent;\n",
              "      border-bottom-color: var(--fill-color);\n",
              "    }\n",
              "  }\n",
              "</style>\n",
              "\n",
              "  <script>\n",
              "    async function quickchart(key) {\n",
              "      const quickchartButtonEl =\n",
              "        document.querySelector('#' + key + ' button');\n",
              "      quickchartButtonEl.disabled = true;  // To prevent multiple clicks.\n",
              "      quickchartButtonEl.classList.add('colab-df-spinner');\n",
              "      try {\n",
              "        const charts = await google.colab.kernel.invokeFunction(\n",
              "            'suggestCharts', [key], {});\n",
              "      } catch (error) {\n",
              "        console.error('Error during call to suggestCharts:', error);\n",
              "      }\n",
              "      quickchartButtonEl.classList.remove('colab-df-spinner');\n",
              "      quickchartButtonEl.classList.add('colab-df-quickchart-complete');\n",
              "    }\n",
              "    (() => {\n",
              "      let quickchartButtonEl =\n",
              "        document.querySelector('#df-0642d90d-fa61-4fa8-968b-d18517b9e773 button');\n",
              "      quickchartButtonEl.style.display =\n",
              "        google.colab.kernel.accessAllowed ? 'block' : 'none';\n",
              "    })();\n",
              "  </script>\n",
              "</div>\n",
              "    </div>\n",
              "  </div>\n"
            ]
          },
          "metadata": {},
          "execution_count": 19
        }
      ]
    },
    {
      "cell_type": "code",
      "source": [
        "per25 = df_cleaned['Driver Postal Code'].quantile(0.25)\n",
        "per75 = df_cleaned['Driver Postal Code'].quantile(0.75)"
      ],
      "metadata": {
        "id": "Iupf-5hSFsiT"
      },
      "execution_count": null,
      "outputs": []
    },
    {
      "cell_type": "code",
      "source": [
        "iqr = per75 - per25"
      ],
      "metadata": {
        "id": "BJRkbroRF1cQ"
      },
      "execution_count": null,
      "outputs": []
    },
    {
      "cell_type": "code",
      "source": [
        "columns_to_handle = ['Driver Postal Code', 'Plug In Event Id', 'Fee','Postal Code', 'Latitude',\n",
        "       'Longitude','Start Date', 'End Date','System S/N',\n",
        "       'Total_time_hours', 'Charging_time_hours']\n",
        "\n",
        "# Define a function to handle outliers using IQR\n",
        "def handle_outliers_iqr(df, column):\n",
        "    Q1 = df[column].quantile(0.25)\n",
        "    Q3 = df[column].quantile(0.75)\n",
        "    IQR = Q3 - Q1\n",
        "    lower_bound = Q1 - 1.5 * IQR\n",
        "    upper_bound = Q3 + 1.5 * IQR\n",
        "    df_cleaned[column] = df_cleaned[column].apply(lambda x: upper_bound if x > upper_bound else lower_bound if x < lower_bound else x)\n",
        "    return df\n",
        "\n",
        "# Apply the IQR-based outlier handling to each column\n",
        "for col in columns_to_handle:\n",
        "    df_cleaned = handle_outliers_iqr(df_cleaned, col)\n",
        "\n",
        "# Print the DataFrame after handling outliers\n",
        "print(df_cleaned)"
      ],
      "metadata": {
        "id": "6fOycbeQGD1F"
      },
      "execution_count": null,
      "outputs": []
    },
    {
      "cell_type": "markdown",
      "source": [
        "# **Label Encode categorical columns**"
      ],
      "metadata": {
        "id": "kstvF61tb3Z1"
      }
    },
    {
      "cell_type": "code",
      "source": [
        "categorical_columns = data_cleaned.select_dtypes(include=['object', 'category']).columns\n",
        "\n",
        "# Print the list of categorical columns\n",
        "print(\"Categorical columns:\", categorical_columns)"
      ],
      "metadata": {
        "colab": {
          "base_uri": "https://localhost:8080/"
        },
        "id": "M_91n3sjF1gb",
        "outputId": "d23a31d6-0de7-47cd-ddef-d9212d64827b"
      },
      "execution_count": null,
      "outputs": [
        {
          "output_type": "stream",
          "name": "stdout",
          "text": [
            "Categorical columns: Index(['Station Name', 'MAC Address', 'Address 1', 'City', 'State/Province',\n",
            "       'Ended By', 'County', 'Model Number'],\n",
            "      dtype='object')\n"
          ]
        }
      ]
    },
    {
      "cell_type": "code",
      "source": [
        "categorical_columns = [col for col in categorical_columns if col != 'User ID']"
      ],
      "metadata": {
        "id": "ByNNcsESSVDk"
      },
      "execution_count": null,
      "outputs": []
    },
    {
      "cell_type": "code",
      "source": [
        "print(categorical_columns)"
      ],
      "metadata": {
        "colab": {
          "base_uri": "https://localhost:8080/"
        },
        "id": "ruVnLWmyS1T7",
        "outputId": "5277e314-9a13-4273-8218-881c3a7407a2"
      },
      "execution_count": null,
      "outputs": [
        {
          "output_type": "stream",
          "name": "stdout",
          "text": [
            "['Station Name', 'MAC Address', 'Address 1', 'City', 'State/Province', 'Ended By', 'County', 'Model Number']\n"
          ]
        }
      ]
    },
    {
      "cell_type": "code",
      "source": [
        "categorical_columns_1  = ['County', 'Model Number']"
      ],
      "metadata": {
        "id": "DGIh6PuSI0Qv"
      },
      "execution_count": null,
      "outputs": []
    },
    {
      "cell_type": "code",
      "source": [
        "#label encding for categorical columns\n",
        "from sklearn.preprocessing import LabelEncoder\n",
        "\n",
        "label_encoders = {}\n",
        "\n",
        "for column in categorical_columns:\n",
        "  le = LabelEncoder()\n",
        "  data_cleaned[column] = le.fit_transform(data_cleaned[column])\n",
        "  label_encoders[column] = le\n",
        "\n",
        "print(data_cleaned)"
      ],
      "metadata": {
        "colab": {
          "base_uri": "https://localhost:8080/"
        },
        "id": "xIhLJNVyGQug",
        "outputId": "05e36eb8-fb73-4374-a88f-8a36d990985f"
      },
      "execution_count": null,
      "outputs": [
        {
          "output_type": "stream",
          "name": "stderr",
          "text": [
            "<ipython-input-24-a404cdbf93ab>:7: SettingWithCopyWarning: \n",
            "A value is trying to be set on a copy of a slice from a DataFrame.\n",
            "Try using .loc[row_indexer,col_indexer] = value instead\n",
            "\n",
            "See the caveats in the documentation: https://pandas.pydata.org/pandas-docs/stable/user_guide/indexing.html#returning-a-view-versus-a-copy\n",
            "  data_cleaned[column] = le.fit_transform(data_cleaned[column])\n",
            "<ipython-input-24-a404cdbf93ab>:7: SettingWithCopyWarning: \n",
            "A value is trying to be set on a copy of a slice from a DataFrame.\n",
            "Try using .loc[row_indexer,col_indexer] = value instead\n",
            "\n",
            "See the caveats in the documentation: https://pandas.pydata.org/pandas-docs/stable/user_guide/indexing.html#returning-a-view-versus-a-copy\n",
            "  data_cleaned[column] = le.fit_transform(data_cleaned[column])\n",
            "<ipython-input-24-a404cdbf93ab>:7: SettingWithCopyWarning: \n",
            "A value is trying to be set on a copy of a slice from a DataFrame.\n",
            "Try using .loc[row_indexer,col_indexer] = value instead\n",
            "\n",
            "See the caveats in the documentation: https://pandas.pydata.org/pandas-docs/stable/user_guide/indexing.html#returning-a-view-versus-a-copy\n",
            "  data_cleaned[column] = le.fit_transform(data_cleaned[column])\n",
            "<ipython-input-24-a404cdbf93ab>:7: SettingWithCopyWarning: \n",
            "A value is trying to be set on a copy of a slice from a DataFrame.\n",
            "Try using .loc[row_indexer,col_indexer] = value instead\n",
            "\n",
            "See the caveats in the documentation: https://pandas.pydata.org/pandas-docs/stable/user_guide/indexing.html#returning-a-view-versus-a-copy\n",
            "  data_cleaned[column] = le.fit_transform(data_cleaned[column])\n",
            "<ipython-input-24-a404cdbf93ab>:7: SettingWithCopyWarning: \n",
            "A value is trying to be set on a copy of a slice from a DataFrame.\n",
            "Try using .loc[row_indexer,col_indexer] = value instead\n",
            "\n",
            "See the caveats in the documentation: https://pandas.pydata.org/pandas-docs/stable/user_guide/indexing.html#returning-a-view-versus-a-copy\n",
            "  data_cleaned[column] = le.fit_transform(data_cleaned[column])\n",
            "<ipython-input-24-a404cdbf93ab>:7: SettingWithCopyWarning: \n",
            "A value is trying to be set on a copy of a slice from a DataFrame.\n",
            "Try using .loc[row_indexer,col_indexer] = value instead\n",
            "\n",
            "See the caveats in the documentation: https://pandas.pydata.org/pandas-docs/stable/user_guide/indexing.html#returning-a-view-versus-a-copy\n",
            "  data_cleaned[column] = le.fit_transform(data_cleaned[column])\n",
            "<ipython-input-24-a404cdbf93ab>:7: SettingWithCopyWarning: \n",
            "A value is trying to be set on a copy of a slice from a DataFrame.\n",
            "Try using .loc[row_indexer,col_indexer] = value instead\n",
            "\n",
            "See the caveats in the documentation: https://pandas.pydata.org/pandas-docs/stable/user_guide/indexing.html#returning-a-view-versus-a-copy\n",
            "  data_cleaned[column] = le.fit_transform(data_cleaned[column])\n",
            "<ipython-input-24-a404cdbf93ab>:7: SettingWithCopyWarning: \n",
            "A value is trying to be set on a copy of a slice from a DataFrame.\n",
            "Try using .loc[row_indexer,col_indexer] = value instead\n",
            "\n",
            "See the caveats in the documentation: https://pandas.pydata.org/pandas-docs/stable/user_guide/indexing.html#returning-a-view-versus-a-copy\n",
            "  data_cleaned[column] = le.fit_transform(data_cleaned[column])\n"
          ]
        },
        {
          "output_type": "stream",
          "name": "stdout",
          "text": [
            "        Station Name  MAC Address    Start Date      End Date  Energy (kWh)  \\\n",
            "0                 12           25  1.311971e+09  1.311971e+09      6.249457   \n",
            "1                 12           25  1.311984e+09  1.311984e+09      0.106588   \n",
            "2                 12           25  1.312014e+09  1.312014e+09     14.951777   \n",
            "3                 12           25  1.312037e+09  1.312037e+09      7.159643   \n",
            "4                 12           25  1.312052e+09  1.312052e+09      1.957765   \n",
            "...              ...          ...           ...           ...           ...   \n",
            "259410            42           58  1.609433e+09  1.609433e+09      1.841000   \n",
            "259411            44           44  1.609433e+09  1.609433e+09     12.744000   \n",
            "259412            21           78  1.609436e+09  1.609436e+09     29.665000   \n",
            "259413            44           44  1.609437e+09  1.609437e+09     11.976000   \n",
            "259414            10           61  1.609439e+09  1.609439e+09      1.571000   \n",
            "\n",
            "          EVSE ID  Address 1  City  State/Province  Postal Code  ...  \\\n",
            "0        109785.0          3     0               0        94301  ...   \n",
            "1        109785.0          3     0               0        94301  ...   \n",
            "2        109785.0          3     0               0        94301  ...   \n",
            "3        109785.0          3     0               0        94301  ...   \n",
            "4        109785.0          3     0               0        94301  ...   \n",
            "...           ...        ...   ...             ...          ...  ...   \n",
            "259410   344261.0          4     0               0        94306  ...   \n",
            "259411   104427.0         13     0               0        94301  ...   \n",
            "259412  2884001.0          7     0               0        94303  ...   \n",
            "259413   104427.0         13     0               0        94301  ...   \n",
            "259414   337571.0         10     0               0        94306  ...   \n",
            "\n",
            "         Longitude   Fee  Ended By  Plug In Event Id  Driver Postal Code  \\\n",
            "0      -122.160309  0.00        11                 3             95124.0   \n",
            "1      -122.160309  0.00         1                 4             94301.0   \n",
            "2      -122.160309  0.00        11                 5             94301.0   \n",
            "3      -122.160309  0.00         1                 6             94302.0   \n",
            "4      -122.160309  0.00        11                 7             94043.0   \n",
            "...            ...   ...       ...               ...                 ...   \n",
            "259410 -122.144043  0.42        11              2369             94301.0   \n",
            "259411 -122.158272  4.69        11              7255             94541.0   \n",
            "259412 -122.113510  6.82        11               455             94306.0   \n",
            "259413 -122.158272  2.75        11              7256             94552.0   \n",
            "259414 -122.146034  0.36        11              2302             94305.0   \n",
            "\n",
            "        County    System S/N  Model Number  Total_time_hours  \\\n",
            "0            1  1.427410e+11             6          3.058889   \n",
            "1            1  1.427410e+11             6          0.035000   \n",
            "2            1  1.427410e+11             6          4.292222   \n",
            "3            1  1.427410e+11             6          2.056667   \n",
            "4            1  1.427410e+11             6          1.190000   \n",
            "...        ...           ...           ...               ...   \n",
            "259410       1  1.745410e+11             6          0.595556   \n",
            "259411       1  1.336410e+11             6          3.716944   \n",
            "259412       1  2.002410e+11             4         17.470556   \n",
            "259413       1  1.336410e+11             6          4.092778   \n",
            "259414       1  1.852410e+11             6          0.701944   \n",
            "\n",
            "        Charging_time_hours  \n",
            "0                  1.900833  \n",
            "1                  0.031667  \n",
            "2                  4.291111  \n",
            "3                  2.049444  \n",
            "4                  0.731667  \n",
            "...                     ...  \n",
            "259410             0.588333  \n",
            "259411             2.234444  \n",
            "259412             5.136667  \n",
            "259413             3.895000  \n",
            "259414             0.695556  \n",
            "\n",
            "[259375 rows x 21 columns]\n"
          ]
        }
      ]
    },
    {
      "cell_type": "code",
      "source": [
        "#droping City and state as they are same for all rows\n",
        "data_cleaned.drop(['City'],axis=1,inplace = True)\n",
        "data_cleaned.drop(['State/Province'],axis=1,inplace=True)"
      ],
      "metadata": {
        "id": "Ey791MXf3x1N",
        "colab": {
          "base_uri": "https://localhost:8080/"
        },
        "outputId": "588c6c33-a7b3-4225-f196-7a18b9d9e26b"
      },
      "execution_count": null,
      "outputs": [
        {
          "output_type": "stream",
          "name": "stderr",
          "text": [
            "<ipython-input-25-07a6f0543b04>:1: SettingWithCopyWarning: \n",
            "A value is trying to be set on a copy of a slice from a DataFrame\n",
            "\n",
            "See the caveats in the documentation: https://pandas.pydata.org/pandas-docs/stable/user_guide/indexing.html#returning-a-view-versus-a-copy\n",
            "  data_cleaned.drop(['City'],axis=1,inplace = True)\n",
            "<ipython-input-25-07a6f0543b04>:2: SettingWithCopyWarning: \n",
            "A value is trying to be set on a copy of a slice from a DataFrame\n",
            "\n",
            "See the caveats in the documentation: https://pandas.pydata.org/pandas-docs/stable/user_guide/indexing.html#returning-a-view-versus-a-copy\n",
            "  data_cleaned.drop(['State/Province'],axis=1,inplace=True)\n"
          ]
        }
      ]
    },
    {
      "cell_type": "code",
      "source": [
        "data_cleaned.head()"
      ],
      "metadata": {
        "colab": {
          "base_uri": "https://localhost:8080/",
          "height": 278
        },
        "id": "D5KEJyhWJTwe",
        "outputId": "0146b817-18f8-4f40-bd50-b52e3f67f0a6"
      },
      "execution_count": null,
      "outputs": [
        {
          "output_type": "execute_result",
          "data": {
            "text/plain": [
              "   Station Name  MAC Address    Start Date      End Date  Energy (kWh)  \\\n",
              "0            12           25  1.311971e+09  1.311971e+09      6.249457   \n",
              "1            12           25  1.311984e+09  1.311984e+09      0.106588   \n",
              "2            12           25  1.312014e+09  1.312014e+09     14.951777   \n",
              "3            12           25  1.312037e+09  1.312037e+09      7.159643   \n",
              "4            12           25  1.312052e+09  1.312052e+09      1.957765   \n",
              "\n",
              "    EVSE ID  Address 1  Postal Code   Latitude   Longitude  Fee  Ended By  \\\n",
              "0  109785.0          3        94301  37.444572 -122.160309  0.0        11   \n",
              "1  109785.0          3        94301  37.444572 -122.160309  0.0         1   \n",
              "2  109785.0          3        94301  37.444572 -122.160309  0.0        11   \n",
              "3  109785.0          3        94301  37.444572 -122.160309  0.0         1   \n",
              "4  109785.0          3        94301  37.444572 -122.160309  0.0        11   \n",
              "\n",
              "   Plug In Event Id  Driver Postal Code  County    System S/N  Model Number  \\\n",
              "0                 3             95124.0       1  1.427410e+11             6   \n",
              "1                 4             94301.0       1  1.427410e+11             6   \n",
              "2                 5             94301.0       1  1.427410e+11             6   \n",
              "3                 6             94302.0       1  1.427410e+11             6   \n",
              "4                 7             94043.0       1  1.427410e+11             6   \n",
              "\n",
              "   Total_time_hours  Charging_time_hours  \n",
              "0          3.058889             1.900833  \n",
              "1          0.035000             0.031667  \n",
              "2          4.292222             4.291111  \n",
              "3          2.056667             2.049444  \n",
              "4          1.190000             0.731667  "
            ],
            "text/html": [
              "\n",
              "  <div id=\"df-2aa952fe-32ca-40fc-ad04-8fcf56f73fe7\" class=\"colab-df-container\">\n",
              "    <div>\n",
              "<style scoped>\n",
              "    .dataframe tbody tr th:only-of-type {\n",
              "        vertical-align: middle;\n",
              "    }\n",
              "\n",
              "    .dataframe tbody tr th {\n",
              "        vertical-align: top;\n",
              "    }\n",
              "\n",
              "    .dataframe thead th {\n",
              "        text-align: right;\n",
              "    }\n",
              "</style>\n",
              "<table border=\"1\" class=\"dataframe\">\n",
              "  <thead>\n",
              "    <tr style=\"text-align: right;\">\n",
              "      <th></th>\n",
              "      <th>Station Name</th>\n",
              "      <th>MAC Address</th>\n",
              "      <th>Start Date</th>\n",
              "      <th>End Date</th>\n",
              "      <th>Energy (kWh)</th>\n",
              "      <th>EVSE ID</th>\n",
              "      <th>Address 1</th>\n",
              "      <th>Postal Code</th>\n",
              "      <th>Latitude</th>\n",
              "      <th>Longitude</th>\n",
              "      <th>Fee</th>\n",
              "      <th>Ended By</th>\n",
              "      <th>Plug In Event Id</th>\n",
              "      <th>Driver Postal Code</th>\n",
              "      <th>County</th>\n",
              "      <th>System S/N</th>\n",
              "      <th>Model Number</th>\n",
              "      <th>Total_time_hours</th>\n",
              "      <th>Charging_time_hours</th>\n",
              "    </tr>\n",
              "  </thead>\n",
              "  <tbody>\n",
              "    <tr>\n",
              "      <th>0</th>\n",
              "      <td>12</td>\n",
              "      <td>25</td>\n",
              "      <td>1.311971e+09</td>\n",
              "      <td>1.311971e+09</td>\n",
              "      <td>6.249457</td>\n",
              "      <td>109785.0</td>\n",
              "      <td>3</td>\n",
              "      <td>94301</td>\n",
              "      <td>37.444572</td>\n",
              "      <td>-122.160309</td>\n",
              "      <td>0.0</td>\n",
              "      <td>11</td>\n",
              "      <td>3</td>\n",
              "      <td>95124.0</td>\n",
              "      <td>1</td>\n",
              "      <td>1.427410e+11</td>\n",
              "      <td>6</td>\n",
              "      <td>3.058889</td>\n",
              "      <td>1.900833</td>\n",
              "    </tr>\n",
              "    <tr>\n",
              "      <th>1</th>\n",
              "      <td>12</td>\n",
              "      <td>25</td>\n",
              "      <td>1.311984e+09</td>\n",
              "      <td>1.311984e+09</td>\n",
              "      <td>0.106588</td>\n",
              "      <td>109785.0</td>\n",
              "      <td>3</td>\n",
              "      <td>94301</td>\n",
              "      <td>37.444572</td>\n",
              "      <td>-122.160309</td>\n",
              "      <td>0.0</td>\n",
              "      <td>1</td>\n",
              "      <td>4</td>\n",
              "      <td>94301.0</td>\n",
              "      <td>1</td>\n",
              "      <td>1.427410e+11</td>\n",
              "      <td>6</td>\n",
              "      <td>0.035000</td>\n",
              "      <td>0.031667</td>\n",
              "    </tr>\n",
              "    <tr>\n",
              "      <th>2</th>\n",
              "      <td>12</td>\n",
              "      <td>25</td>\n",
              "      <td>1.312014e+09</td>\n",
              "      <td>1.312014e+09</td>\n",
              "      <td>14.951777</td>\n",
              "      <td>109785.0</td>\n",
              "      <td>3</td>\n",
              "      <td>94301</td>\n",
              "      <td>37.444572</td>\n",
              "      <td>-122.160309</td>\n",
              "      <td>0.0</td>\n",
              "      <td>11</td>\n",
              "      <td>5</td>\n",
              "      <td>94301.0</td>\n",
              "      <td>1</td>\n",
              "      <td>1.427410e+11</td>\n",
              "      <td>6</td>\n",
              "      <td>4.292222</td>\n",
              "      <td>4.291111</td>\n",
              "    </tr>\n",
              "    <tr>\n",
              "      <th>3</th>\n",
              "      <td>12</td>\n",
              "      <td>25</td>\n",
              "      <td>1.312037e+09</td>\n",
              "      <td>1.312037e+09</td>\n",
              "      <td>7.159643</td>\n",
              "      <td>109785.0</td>\n",
              "      <td>3</td>\n",
              "      <td>94301</td>\n",
              "      <td>37.444572</td>\n",
              "      <td>-122.160309</td>\n",
              "      <td>0.0</td>\n",
              "      <td>1</td>\n",
              "      <td>6</td>\n",
              "      <td>94302.0</td>\n",
              "      <td>1</td>\n",
              "      <td>1.427410e+11</td>\n",
              "      <td>6</td>\n",
              "      <td>2.056667</td>\n",
              "      <td>2.049444</td>\n",
              "    </tr>\n",
              "    <tr>\n",
              "      <th>4</th>\n",
              "      <td>12</td>\n",
              "      <td>25</td>\n",
              "      <td>1.312052e+09</td>\n",
              "      <td>1.312052e+09</td>\n",
              "      <td>1.957765</td>\n",
              "      <td>109785.0</td>\n",
              "      <td>3</td>\n",
              "      <td>94301</td>\n",
              "      <td>37.444572</td>\n",
              "      <td>-122.160309</td>\n",
              "      <td>0.0</td>\n",
              "      <td>11</td>\n",
              "      <td>7</td>\n",
              "      <td>94043.0</td>\n",
              "      <td>1</td>\n",
              "      <td>1.427410e+11</td>\n",
              "      <td>6</td>\n",
              "      <td>1.190000</td>\n",
              "      <td>0.731667</td>\n",
              "    </tr>\n",
              "  </tbody>\n",
              "</table>\n",
              "</div>\n",
              "    <div class=\"colab-df-buttons\">\n",
              "\n",
              "  <div class=\"colab-df-container\">\n",
              "    <button class=\"colab-df-convert\" onclick=\"convertToInteractive('df-2aa952fe-32ca-40fc-ad04-8fcf56f73fe7')\"\n",
              "            title=\"Convert this dataframe to an interactive table.\"\n",
              "            style=\"display:none;\">\n",
              "\n",
              "  <svg xmlns=\"http://www.w3.org/2000/svg\" height=\"24px\" viewBox=\"0 -960 960 960\">\n",
              "    <path d=\"M120-120v-720h720v720H120Zm60-500h600v-160H180v160Zm220 220h160v-160H400v160Zm0 220h160v-160H400v160ZM180-400h160v-160H180v160Zm440 0h160v-160H620v160ZM180-180h160v-160H180v160Zm440 0h160v-160H620v160Z\"/>\n",
              "  </svg>\n",
              "    </button>\n",
              "\n",
              "  <style>\n",
              "    .colab-df-container {\n",
              "      display:flex;\n",
              "      gap: 12px;\n",
              "    }\n",
              "\n",
              "    .colab-df-convert {\n",
              "      background-color: #E8F0FE;\n",
              "      border: none;\n",
              "      border-radius: 50%;\n",
              "      cursor: pointer;\n",
              "      display: none;\n",
              "      fill: #1967D2;\n",
              "      height: 32px;\n",
              "      padding: 0 0 0 0;\n",
              "      width: 32px;\n",
              "    }\n",
              "\n",
              "    .colab-df-convert:hover {\n",
              "      background-color: #E2EBFA;\n",
              "      box-shadow: 0px 1px 2px rgba(60, 64, 67, 0.3), 0px 1px 3px 1px rgba(60, 64, 67, 0.15);\n",
              "      fill: #174EA6;\n",
              "    }\n",
              "\n",
              "    .colab-df-buttons div {\n",
              "      margin-bottom: 4px;\n",
              "    }\n",
              "\n",
              "    [theme=dark] .colab-df-convert {\n",
              "      background-color: #3B4455;\n",
              "      fill: #D2E3FC;\n",
              "    }\n",
              "\n",
              "    [theme=dark] .colab-df-convert:hover {\n",
              "      background-color: #434B5C;\n",
              "      box-shadow: 0px 1px 3px 1px rgba(0, 0, 0, 0.15);\n",
              "      filter: drop-shadow(0px 1px 2px rgba(0, 0, 0, 0.3));\n",
              "      fill: #FFFFFF;\n",
              "    }\n",
              "  </style>\n",
              "\n",
              "    <script>\n",
              "      const buttonEl =\n",
              "        document.querySelector('#df-2aa952fe-32ca-40fc-ad04-8fcf56f73fe7 button.colab-df-convert');\n",
              "      buttonEl.style.display =\n",
              "        google.colab.kernel.accessAllowed ? 'block' : 'none';\n",
              "\n",
              "      async function convertToInteractive(key) {\n",
              "        const element = document.querySelector('#df-2aa952fe-32ca-40fc-ad04-8fcf56f73fe7');\n",
              "        const dataTable =\n",
              "          await google.colab.kernel.invokeFunction('convertToInteractive',\n",
              "                                                    [key], {});\n",
              "        if (!dataTable) return;\n",
              "\n",
              "        const docLinkHtml = 'Like what you see? Visit the ' +\n",
              "          '<a target=\"_blank\" href=https://colab.research.google.com/notebooks/data_table.ipynb>data table notebook</a>'\n",
              "          + ' to learn more about interactive tables.';\n",
              "        element.innerHTML = '';\n",
              "        dataTable['output_type'] = 'display_data';\n",
              "        await google.colab.output.renderOutput(dataTable, element);\n",
              "        const docLink = document.createElement('div');\n",
              "        docLink.innerHTML = docLinkHtml;\n",
              "        element.appendChild(docLink);\n",
              "      }\n",
              "    </script>\n",
              "  </div>\n",
              "\n",
              "\n",
              "<div id=\"df-f65ed3c6-59e5-44a8-9353-06fbed82ce69\">\n",
              "  <button class=\"colab-df-quickchart\" onclick=\"quickchart('df-f65ed3c6-59e5-44a8-9353-06fbed82ce69')\"\n",
              "            title=\"Suggest charts.\"\n",
              "            style=\"display:none;\">\n",
              "\n",
              "<svg xmlns=\"http://www.w3.org/2000/svg\" height=\"24px\"viewBox=\"0 0 24 24\"\n",
              "     width=\"24px\">\n",
              "    <g>\n",
              "        <path d=\"M19 3H5c-1.1 0-2 .9-2 2v14c0 1.1.9 2 2 2h14c1.1 0 2-.9 2-2V5c0-1.1-.9-2-2-2zM9 17H7v-7h2v7zm4 0h-2V7h2v10zm4 0h-2v-4h2v4z\"/>\n",
              "    </g>\n",
              "</svg>\n",
              "  </button>\n",
              "\n",
              "<style>\n",
              "  .colab-df-quickchart {\n",
              "      --bg-color: #E8F0FE;\n",
              "      --fill-color: #1967D2;\n",
              "      --hover-bg-color: #E2EBFA;\n",
              "      --hover-fill-color: #174EA6;\n",
              "      --disabled-fill-color: #AAA;\n",
              "      --disabled-bg-color: #DDD;\n",
              "  }\n",
              "\n",
              "  [theme=dark] .colab-df-quickchart {\n",
              "      --bg-color: #3B4455;\n",
              "      --fill-color: #D2E3FC;\n",
              "      --hover-bg-color: #434B5C;\n",
              "      --hover-fill-color: #FFFFFF;\n",
              "      --disabled-bg-color: #3B4455;\n",
              "      --disabled-fill-color: #666;\n",
              "  }\n",
              "\n",
              "  .colab-df-quickchart {\n",
              "    background-color: var(--bg-color);\n",
              "    border: none;\n",
              "    border-radius: 50%;\n",
              "    cursor: pointer;\n",
              "    display: none;\n",
              "    fill: var(--fill-color);\n",
              "    height: 32px;\n",
              "    padding: 0;\n",
              "    width: 32px;\n",
              "  }\n",
              "\n",
              "  .colab-df-quickchart:hover {\n",
              "    background-color: var(--hover-bg-color);\n",
              "    box-shadow: 0 1px 2px rgba(60, 64, 67, 0.3), 0 1px 3px 1px rgba(60, 64, 67, 0.15);\n",
              "    fill: var(--button-hover-fill-color);\n",
              "  }\n",
              "\n",
              "  .colab-df-quickchart-complete:disabled,\n",
              "  .colab-df-quickchart-complete:disabled:hover {\n",
              "    background-color: var(--disabled-bg-color);\n",
              "    fill: var(--disabled-fill-color);\n",
              "    box-shadow: none;\n",
              "  }\n",
              "\n",
              "  .colab-df-spinner {\n",
              "    border: 2px solid var(--fill-color);\n",
              "    border-color: transparent;\n",
              "    border-bottom-color: var(--fill-color);\n",
              "    animation:\n",
              "      spin 1s steps(1) infinite;\n",
              "  }\n",
              "\n",
              "  @keyframes spin {\n",
              "    0% {\n",
              "      border-color: transparent;\n",
              "      border-bottom-color: var(--fill-color);\n",
              "      border-left-color: var(--fill-color);\n",
              "    }\n",
              "    20% {\n",
              "      border-color: transparent;\n",
              "      border-left-color: var(--fill-color);\n",
              "      border-top-color: var(--fill-color);\n",
              "    }\n",
              "    30% {\n",
              "      border-color: transparent;\n",
              "      border-left-color: var(--fill-color);\n",
              "      border-top-color: var(--fill-color);\n",
              "      border-right-color: var(--fill-color);\n",
              "    }\n",
              "    40% {\n",
              "      border-color: transparent;\n",
              "      border-right-color: var(--fill-color);\n",
              "      border-top-color: var(--fill-color);\n",
              "    }\n",
              "    60% {\n",
              "      border-color: transparent;\n",
              "      border-right-color: var(--fill-color);\n",
              "    }\n",
              "    80% {\n",
              "      border-color: transparent;\n",
              "      border-right-color: var(--fill-color);\n",
              "      border-bottom-color: var(--fill-color);\n",
              "    }\n",
              "    90% {\n",
              "      border-color: transparent;\n",
              "      border-bottom-color: var(--fill-color);\n",
              "    }\n",
              "  }\n",
              "</style>\n",
              "\n",
              "  <script>\n",
              "    async function quickchart(key) {\n",
              "      const quickchartButtonEl =\n",
              "        document.querySelector('#' + key + ' button');\n",
              "      quickchartButtonEl.disabled = true;  // To prevent multiple clicks.\n",
              "      quickchartButtonEl.classList.add('colab-df-spinner');\n",
              "      try {\n",
              "        const charts = await google.colab.kernel.invokeFunction(\n",
              "            'suggestCharts', [key], {});\n",
              "      } catch (error) {\n",
              "        console.error('Error during call to suggestCharts:', error);\n",
              "      }\n",
              "      quickchartButtonEl.classList.remove('colab-df-spinner');\n",
              "      quickchartButtonEl.classList.add('colab-df-quickchart-complete');\n",
              "    }\n",
              "    (() => {\n",
              "      let quickchartButtonEl =\n",
              "        document.querySelector('#df-f65ed3c6-59e5-44a8-9353-06fbed82ce69 button');\n",
              "      quickchartButtonEl.style.display =\n",
              "        google.colab.kernel.accessAllowed ? 'block' : 'none';\n",
              "    })();\n",
              "  </script>\n",
              "</div>\n",
              "    </div>\n",
              "  </div>\n"
            ]
          },
          "metadata": {},
          "execution_count": 26
        }
      ]
    },
    {
      "cell_type": "markdown",
      "source": [
        "# **Save CSV to google drive**"
      ],
      "metadata": {
        "id": "H_0CvvnacDyC"
      }
    },
    {
      "cell_type": "code",
      "source": [
        "#Saving preprocessed data\n",
        "path = '/content/drive/MyDrive/Data_Mining/data_cleaned.csv'\n",
        "\n",
        "data_cleaned.to_csv(path,index=False)"
      ],
      "metadata": {
        "id": "yBRk8fK5TCPv"
      },
      "execution_count": null,
      "outputs": []
    },
    {
      "cell_type": "code",
      "source": [
        "#Extracting preprossesd data\n",
        "data_cleaned = pd.read_csv('/content/drive/MyDrive/Data_Mining/data_cleaned.csv')"
      ],
      "metadata": {
        "id": "IaqIk6bKUPTj"
      },
      "execution_count": null,
      "outputs": []
    },
    {
      "cell_type": "markdown",
      "source": [
        "# **Regression**"
      ],
      "metadata": {
        "id": "j4_L2ynCxrvG"
      }
    },
    {
      "cell_type": "code",
      "source": [
        "data_df = data_cleaned.drop(['Charging_time_hours'],axis=1)"
      ],
      "metadata": {
        "id": "j9Xr7tERJzfZ"
      },
      "execution_count": null,
      "outputs": []
    },
    {
      "cell_type": "code",
      "execution_count": null,
      "metadata": {
        "id": "1QWRLhnw1ZlY"
      },
      "outputs": [],
      "source": [
        "#importing libraries\n",
        "from sklearn.model_selection import train_test_split, cross_validate, cross_val_score, GridSearchCV\n",
        "from sklearn import preprocessing\n",
        "\n",
        "from sklearn.metrics import mean_squared_error, mean_absolute_error, r2_score\n",
        "from sklearn.model_selection import cross_val_score\n",
        "\n",
        "from sklearn.linear_model import LinearRegression\n",
        "from sklearn.preprocessing import PolynomialFeatures\n",
        "from sklearn.linear_model import SGDRegressor\n",
        "from sklearn.ensemble import RandomForestRegressor"
      ]
    },
    {
      "cell_type": "code",
      "execution_count": null,
      "metadata": {
        "id": "p3wlZypUzHIj"
      },
      "outputs": [],
      "source": [
        "#test train spliting\n",
        "X_train, X_test, y_train, y_test = train_test_split(data_df, data_cleaned['Charging_time_hours'], random_state=42, test_size=0.20)"
      ]
    },
    {
      "cell_type": "code",
      "execution_count": null,
      "metadata": {
        "colab": {
          "base_uri": "https://localhost:8080/"
        },
        "id": "1cuT_F7Ny-aB",
        "outputId": "d56e5ca9-0cb1-4634-867e-ecbe27a1e8b6"
      },
      "outputs": [
        {
          "output_type": "execute_result",
          "data": {
            "text/plain": [
              "((207500, 18), (51875, 18))"
            ]
          },
          "metadata": {},
          "execution_count": 30
        }
      ],
      "source": [
        "#scaling of dataset\n",
        "size_scaler = preprocessing.StandardScaler().fit(X_train)\n",
        "X_train_scaled = size_scaler.transform(X_train)\n",
        "X_test_scaled = size_scaler.transform(X_test)\n",
        "X_train_scaled.shape, X_test_scaled.shape"
      ]
    },
    {
      "cell_type": "markdown",
      "source": [
        "# **Polynomial Regression**"
      ],
      "metadata": {
        "id": "oKRii0sYPKR6"
      }
    },
    {
      "cell_type": "code",
      "source": [
        "poly = PolynomialFeatures(degree=2)\n",
        "X_poly = poly.fit_transform(X_train_scaled)\n",
        "X_test_poly = poly.fit_transform(X_test_scaled)\n",
        "model = LinearRegression()\n",
        "\n",
        "# Fit the model to the polynomial features\n",
        "model.fit(X_poly, y_train)\n",
        "\n",
        "# Predict using the trained model\n",
        "predicted_values_poly = model.predict(X_test_poly)\n",
        "\n",
        "poly_mse = mean_squared_error(y_test, predicted_values_poly)\n",
        "poly_mae = mean_absolute_error(y_test, predicted_values_poly)\n",
        "poly_r2 = r2_score(y_test, predicted_values_poly)\n",
        "\n",
        "print(\"SGD Regression MSE:\", poly_mse)\n",
        "print(\"SGD Regression MAE:\", poly_mae)\n",
        "print(\"SGD Regression R-squared:\", poly_r2)"
      ],
      "metadata": {
        "colab": {
          "base_uri": "https://localhost:8080/"
        },
        "id": "FNttUOvJPIgm",
        "outputId": "20d88ff5-6319-479b-f210-81fee398f002"
      },
      "execution_count": null,
      "outputs": [
        {
          "output_type": "stream",
          "name": "stdout",
          "text": [
            "SGD Regression MSE: 0.25572904597339996\n",
            "SGD Regression MAE: 0.3197276401375227\n",
            "SGD Regression R-squared: 0.8660495392487817\n"
          ]
        }
      ]
    },
    {
      "cell_type": "markdown",
      "source": [
        "# **Random Forest Regression**"
      ],
      "metadata": {
        "id": "7nnVp7BgU8DW"
      }
    },
    {
      "cell_type": "code",
      "source": [
        "rf_regressor = RandomForestRegressor(n_estimators=100, random_state=42)\n",
        "\n",
        "# Fit the model to the training data\n",
        "rf_regressor.fit(X_train_scaled, y_train)\n",
        "\n",
        "# Make predictions on the test data\n",
        "y_pred_rf = rf_regressor.predict(X_test_scaled)\n",
        "\n",
        "rf_mse = mean_squared_error(y_test, y_pred_rf)\n",
        "rf_mae = mean_absolute_error(y_test, y_pred_rf)\n",
        "rf_r2 = r2_score(y_test, y_pred_rf)"
      ],
      "metadata": {
        "id": "P_CsgsBBUfV9"
      },
      "execution_count": null,
      "outputs": []
    },
    {
      "cell_type": "markdown",
      "source": [
        "# **n_estimators = 100**"
      ],
      "metadata": {
        "id": "Ep6Mp4IJWdp-"
      }
    },
    {
      "cell_type": "code",
      "source": [
        "print(\"RF Regression MSE:\", rf_mse)\n",
        "print(\"RF Regression MAE:\", rf_mae)\n",
        "print(\"RF Regression R-squared:\", rf_r2)"
      ],
      "metadata": {
        "colab": {
          "base_uri": "https://localhost:8080/"
        },
        "id": "jcxsXpxiWVba",
        "outputId": "3c94e4ce-3075-4376-a3d0-908a36223651"
      },
      "execution_count": null,
      "outputs": [
        {
          "output_type": "stream",
          "name": "stdout",
          "text": [
            "RF Regression MSE: 0.09891829047525524\n",
            "RF Regression MAE: 0.11497767148594377\n",
            "RF Regression R-squared: 0.9481867594060414\n"
          ]
        }
      ]
    },
    {
      "cell_type": "code",
      "source": [
        "rf_regressor = RandomForestRegressor(n_estimators=100, random_state=42)\n",
        "\n",
        "# Perform cross-validation\n",
        "scores = cross_val_score(rf_regressor, X_train_scaled_cross, y, cv=5, scoring='neg_mean_squared_error')\n",
        "\n",
        "# Convert the scores to positive valuesx\n",
        "mse_scores = -scores\n",
        "\n",
        "# Calculate the mean and standard deviation of the MSE scores\n",
        "mean_mse_rf = np.mean(mse_scores)\n",
        "std_mse_rf = np.std(mse_scores)\n",
        "\n",
        "print(f'mean_mse : {mean_mse_rf}')\n",
        "print(f'std_mse : {std_mse_rf}')"
      ],
      "metadata": {
        "colab": {
          "base_uri": "https://localhost:8080/"
        },
        "id": "K58PKv0qaeB_",
        "outputId": "af047977-ad08-457f-e85b-15a792074e80"
      },
      "execution_count": null,
      "outputs": [
        {
          "output_type": "stream",
          "name": "stdout",
          "text": [
            "mean_mse : 0.1350020717592546\n",
            "std_mse : 0.08959015654669855\n"
          ]
        }
      ]
    }
  ]
}